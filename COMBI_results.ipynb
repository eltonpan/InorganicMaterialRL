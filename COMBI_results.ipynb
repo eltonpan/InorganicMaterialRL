{
 "cells": [
  {
   "cell_type": "code",
   "execution_count": 1,
   "metadata": {},
   "outputs": [
    {
     "name": "stderr",
     "output_type": "stream",
     "text": [
      "/home/synthesisproject/anaconda3/envs/dqn_roost_EMD/lib/python3.7/site-packages/sklearn/base.py:315: UserWarning: Trying to unpickle estimator DecisionTreeRegressor from version 0.23.2 when using version 0.24.2. This might lead to breaking code or invalid results. Use at your own risk.\n",
      "  UserWarning)\n",
      "/home/synthesisproject/anaconda3/envs/dqn_roost_EMD/lib/python3.7/site-packages/sklearn/base.py:315: UserWarning: Trying to unpickle estimator RandomForestRegressor from version 0.23.2 when using version 0.24.2. This might lead to breaking code or invalid results. Use at your own risk.\n",
      "  UserWarning)\n"
     ]
    },
    {
     "name": "stdout",
     "output_type": "stream",
     "text": [
      "True\n"
     ]
    }
   ],
   "source": [
    "# Env: dqn_roost as of 15/1/2022 (after addition of ROOST)\n",
    "import numpy as np\n",
    "import pickle5 as pickle\n",
    "import torch\n",
    "from torch import nn\n",
    "import collections\n",
    "from model import DQN_pytorch, DCN_pytorch\n",
    "import time\n",
    "from one_hot import featurize_target, onehot_target, element_set, comp_set, one_hot_to_element, element_to_one_hot, one_hot_to_comp, comp_to_one_hot, step_to_one_hot, one_hot_to_step\n",
    "import seaborn as sns\n",
    "import random\n",
    "import matplotlib.pyplot as plt\n",
    "import os\n",
    "from env_constrained import generate_random_act, ConstrainedMaterialEnvironment, extract_data_from_ep, generate_random_ep, predict_sinter\n",
    "import collections\n",
    "from sklearn.preprocessing import StandardScaler\n",
    "from tqdm import tqdm \n",
    "from sklearn.manifold import TSNE\n",
    "from numpy.linalg import svd\n",
    "import imageio\n",
    "from pymatgen.core import Composition\n",
    "from constraints.checkers import check_neutrality, check_neutrality, check_neutrality_multiple, check_electronegativity_multiple, check_both_multiple\n",
    "from matminer.featurizers.base import MultipleFeaturizer\n",
    "import matminer.featurizers.composition as cf\n",
    "from sklearn.ensemble import RandomForestRegressor\n",
    "import joblib\n",
    "from roost_models.roost_model import predict_formation_energy, predict_bulk_mod, predict_shear_mod, predict_band_gap\n",
    "import json\n",
    "from configs import configs\n",
    "os.environ[\"CUDA_VISIBLE_DEVICES\"]=\"1\"\n",
    "print(torch.cuda.is_available())\n",
    "from metrics import similarity_to_nearest_neighbor\n",
    "import pandas as pd\n",
    "from matplotlib import gridspec\n",
    "import matplotlib"
   ]
  },
  {
   "cell_type": "markdown",
   "metadata": {},
   "source": [
    "# Formation energy task"
   ]
  },
  {
   "cell_type": "code",
   "execution_count": 2,
   "metadata": {},
   "outputs": [
    {
     "ename": "KeyboardInterrupt",
     "evalue": "",
     "output_type": "error",
     "traceback": [
      "\u001b[0;31m---------------------------------------------------------------------------\u001b[0m",
      "\u001b[0;31mKeyboardInterrupt\u001b[0m                         Traceback (most recent call last)",
      "\u001b[0;32m/tmp/ipykernel_2223933/4165608921.py\u001b[0m in \u001b[0;36m<module>\u001b[0;34m\u001b[0m\n\u001b[1;32m     11\u001b[0m \u001b[0mform_e_trained\u001b[0m \u001b[0;34m=\u001b[0m \u001b[0;34m[\u001b[0m\u001b[0;34m]\u001b[0m\u001b[0;34m\u001b[0m\u001b[0;34m\u001b[0m\u001b[0m\n\u001b[1;32m     12\u001b[0m \u001b[0;32mfor\u001b[0m \u001b[0mcompound\u001b[0m \u001b[0;32min\u001b[0m \u001b[0mrandom_oxides\u001b[0m\u001b[0;34m:\u001b[0m\u001b[0;34m\u001b[0m\u001b[0;34m\u001b[0m\u001b[0m\n\u001b[0;32m---> 13\u001b[0;31m     \u001b[0mform_e_random\u001b[0m\u001b[0;34m.\u001b[0m\u001b[0mappend\u001b[0m\u001b[0;34m(\u001b[0m\u001b[0mpredict_formation_energy\u001b[0m\u001b[0;34m(\u001b[0m\u001b[0mcompound\u001b[0m\u001b[0;34m)\u001b[0m\u001b[0;34m)\u001b[0m\u001b[0;34m\u001b[0m\u001b[0;34m\u001b[0m\u001b[0m\n\u001b[0m\u001b[1;32m     14\u001b[0m \u001b[0;32mfor\u001b[0m \u001b[0mcompound\u001b[0m \u001b[0;32min\u001b[0m \u001b[0mfinal_compounds\u001b[0m\u001b[0;34m:\u001b[0m\u001b[0;34m\u001b[0m\u001b[0;34m\u001b[0m\u001b[0m\n\u001b[1;32m     15\u001b[0m     \u001b[0mform_e_trained\u001b[0m\u001b[0;34m.\u001b[0m\u001b[0mappend\u001b[0m\u001b[0;34m(\u001b[0m\u001b[0mpredict_formation_energy\u001b[0m\u001b[0;34m(\u001b[0m\u001b[0mcompound\u001b[0m\u001b[0;34m)\u001b[0m\u001b[0;34m)\u001b[0m\u001b[0;34m\u001b[0m\u001b[0;34m\u001b[0m\u001b[0m\n",
      "\u001b[0;32m/home/jupyter/Elton/RL/DQN/roost_models/roost_model.py\u001b[0m in \u001b[0;36mpredict_formation_energy\u001b[0;34m(material)\u001b[0m\n\u001b[1;32m    178\u001b[0m                     \u001b[0mdevice\u001b[0m\u001b[0;34m=\u001b[0m\u001b[0mtorch\u001b[0m\u001b[0;34m.\u001b[0m\u001b[0mdevice\u001b[0m\u001b[0;34m(\u001b[0m\u001b[0;34m\"cuda\"\u001b[0m\u001b[0;34m)\u001b[0m \u001b[0;32mif\u001b[0m \u001b[0mtorch\u001b[0m\u001b[0;34m.\u001b[0m\u001b[0mcuda\u001b[0m\u001b[0;34m.\u001b[0m\u001b[0mis_available\u001b[0m\u001b[0;34m(\u001b[0m\u001b[0;34m)\u001b[0m \u001b[0;32melse\u001b[0m \u001b[0mtorch\u001b[0m\u001b[0;34m.\u001b[0m\u001b[0mdevice\u001b[0m\u001b[0;34m(\u001b[0m\u001b[0;34m\"cpu\"\u001b[0m\u001b[0;34m)\u001b[0m\u001b[0;34m,\u001b[0m\u001b[0;34m\u001b[0m\u001b[0;34m\u001b[0m\u001b[0m\n\u001b[1;32m    179\u001b[0m                     \u001b[0meval_type\u001b[0m\u001b[0;34m=\u001b[0m\u001b[0;34m\"checkpoint\"\u001b[0m\u001b[0;34m,\u001b[0m\u001b[0;34m\u001b[0m\u001b[0;34m\u001b[0m\u001b[0m\n\u001b[0;32m--> 180\u001b[0;31m                     \u001b[0mmodel_file\u001b[0m \u001b[0;34m=\u001b[0m \u001b[0;34m'oqmd-form-enthalpy.tar'\u001b[0m\u001b[0;34m\u001b[0m\u001b[0;34m\u001b[0m\u001b[0m\n\u001b[0m\u001b[1;32m    181\u001b[0m                 )\n\u001b[1;32m    182\u001b[0m     \u001b[0;32mreturn\u001b[0m \u001b[0mform_e_pred\u001b[0m\u001b[0;34m\u001b[0m\u001b[0;34m\u001b[0m\u001b[0m\n",
      "\u001b[0;32m~/anaconda3/envs/dqn_roost_EMD/lib/python3.7/site-packages/torch/autograd/grad_mode.py\u001b[0m in \u001b[0;36mdecorate_context\u001b[0;34m(*args, **kwargs)\u001b[0m\n\u001b[1;32m     26\u001b[0m         \u001b[0;32mdef\u001b[0m \u001b[0mdecorate_context\u001b[0m\u001b[0;34m(\u001b[0m\u001b[0;34m*\u001b[0m\u001b[0margs\u001b[0m\u001b[0;34m,\u001b[0m \u001b[0;34m**\u001b[0m\u001b[0mkwargs\u001b[0m\u001b[0;34m)\u001b[0m\u001b[0;34m:\u001b[0m\u001b[0;34m\u001b[0m\u001b[0;34m\u001b[0m\u001b[0m\n\u001b[1;32m     27\u001b[0m             \u001b[0;32mwith\u001b[0m \u001b[0mself\u001b[0m\u001b[0;34m.\u001b[0m\u001b[0m__class__\u001b[0m\u001b[0;34m(\u001b[0m\u001b[0;34m)\u001b[0m\u001b[0;34m:\u001b[0m\u001b[0;34m\u001b[0m\u001b[0;34m\u001b[0m\u001b[0m\n\u001b[0;32m---> 28\u001b[0;31m                 \u001b[0;32mreturn\u001b[0m \u001b[0mfunc\u001b[0m\u001b[0;34m(\u001b[0m\u001b[0;34m*\u001b[0m\u001b[0margs\u001b[0m\u001b[0;34m,\u001b[0m \u001b[0;34m**\u001b[0m\u001b[0mkwargs\u001b[0m\u001b[0;34m)\u001b[0m\u001b[0;34m\u001b[0m\u001b[0;34m\u001b[0m\u001b[0m\n\u001b[0m\u001b[1;32m     29\u001b[0m         \u001b[0;32mreturn\u001b[0m \u001b[0mcast\u001b[0m\u001b[0;34m(\u001b[0m\u001b[0mF\u001b[0m\u001b[0;34m,\u001b[0m \u001b[0mdecorate_context\u001b[0m\u001b[0;34m)\u001b[0m\u001b[0;34m\u001b[0m\u001b[0;34m\u001b[0m\u001b[0m\n\u001b[1;32m     30\u001b[0m \u001b[0;34m\u001b[0m\u001b[0m\n",
      "\u001b[0;32m/home/jupyter/Elton/RL/DQN/roost_models/roost_model.py\u001b[0m in \u001b[0;36mresults_multitask\u001b[0;34m(model_class, model_name, run_id, ensemble_folds, test_set, data_params, robust, task_dict, device, model_file, eval_type, print_results, save_results)\u001b[0m\n\u001b[1;32m     85\u001b[0m         \u001b[0;31m# ), f\"task_dict of checkpoint '{resume}' does not match current task_dict\"\u001b[0m\u001b[0;34m\u001b[0m\u001b[0;34m\u001b[0m\u001b[0;34m\u001b[0m\u001b[0m\n\u001b[1;32m     86\u001b[0m \u001b[0;34m\u001b[0m\u001b[0m\n\u001b[0;32m---> 87\u001b[0;31m         \u001b[0mmodel\u001b[0m \u001b[0;34m=\u001b[0m \u001b[0mmodel_class\u001b[0m\u001b[0;34m(\u001b[0m\u001b[0;34m**\u001b[0m\u001b[0mcheckpoint\u001b[0m\u001b[0;34m[\u001b[0m\u001b[0;34m\"model_params\"\u001b[0m\u001b[0;34m]\u001b[0m\u001b[0;34m,\u001b[0m \u001b[0mdevice\u001b[0m\u001b[0;34m=\u001b[0m\u001b[0mdevice\u001b[0m\u001b[0;34m)\u001b[0m\u001b[0;34m\u001b[0m\u001b[0;34m\u001b[0m\u001b[0m\n\u001b[0m\u001b[1;32m     88\u001b[0m         \u001b[0mmodel\u001b[0m\u001b[0;34m.\u001b[0m\u001b[0mto\u001b[0m\u001b[0;34m(\u001b[0m\u001b[0mdevice\u001b[0m\u001b[0;34m)\u001b[0m\u001b[0;34m\u001b[0m\u001b[0;34m\u001b[0m\u001b[0m\n\u001b[1;32m     89\u001b[0m         \u001b[0mmodel\u001b[0m\u001b[0;34m.\u001b[0m\u001b[0mload_state_dict\u001b[0m\u001b[0;34m(\u001b[0m\u001b[0mcheckpoint\u001b[0m\u001b[0;34m[\u001b[0m\u001b[0;34m\"state_dict\"\u001b[0m\u001b[0;34m]\u001b[0m\u001b[0;34m)\u001b[0m\u001b[0;34m\u001b[0m\u001b[0;34m\u001b[0m\u001b[0m\n",
      "\u001b[0;32m/home/jupyter/Elton/RL/DQN/roost_models/roost/roost/model.py\u001b[0m in \u001b[0;36m__init__\u001b[0;34m(self, robust, n_targets, elem_emb_len, elem_fea_len, n_graph, elem_heads, elem_gate, elem_msg, cry_heads, cry_gate, cry_msg, trunk_hidden, out_hidden, **kwargs)\u001b[0m\n\u001b[1;32m     60\u001b[0m         }\n\u001b[1;32m     61\u001b[0m \u001b[0;34m\u001b[0m\u001b[0m\n\u001b[0;32m---> 62\u001b[0;31m         \u001b[0mself\u001b[0m\u001b[0;34m.\u001b[0m\u001b[0mmaterial_nn\u001b[0m \u001b[0;34m=\u001b[0m \u001b[0mDescriptorNetwork\u001b[0m\u001b[0;34m(\u001b[0m\u001b[0;34m**\u001b[0m\u001b[0mdesc_dict\u001b[0m\u001b[0;34m)\u001b[0m\u001b[0;34m\u001b[0m\u001b[0;34m\u001b[0m\u001b[0m\n\u001b[0m\u001b[1;32m     63\u001b[0m \u001b[0;34m\u001b[0m\u001b[0m\n\u001b[1;32m     64\u001b[0m         self.model_params.update(\n",
      "\u001b[0;32m/home/jupyter/Elton/RL/DQN/roost_models/roost/roost/model.py\u001b[0m in \u001b[0;36m__init__\u001b[0;34m(self, elem_emb_len, elem_fea_len, n_graph, elem_heads, elem_gate, elem_msg, cry_heads, cry_gate, cry_msg)\u001b[0m\n\u001b[1;32m    135\u001b[0m                     \u001b[0melem_msg\u001b[0m\u001b[0;34m=\u001b[0m\u001b[0melem_msg\u001b[0m\u001b[0;34m,\u001b[0m\u001b[0;34m\u001b[0m\u001b[0;34m\u001b[0m\u001b[0m\n\u001b[1;32m    136\u001b[0m                 )\n\u001b[0;32m--> 137\u001b[0;31m                 \u001b[0;32mfor\u001b[0m \u001b[0mi\u001b[0m \u001b[0;32min\u001b[0m \u001b[0mrange\u001b[0m\u001b[0;34m(\u001b[0m\u001b[0mn_graph\u001b[0m\u001b[0;34m)\u001b[0m\u001b[0;34m\u001b[0m\u001b[0;34m\u001b[0m\u001b[0m\n\u001b[0m\u001b[1;32m    138\u001b[0m             ]\n\u001b[1;32m    139\u001b[0m         )\n",
      "\u001b[0;32m/home/jupyter/Elton/RL/DQN/roost_models/roost/roost/model.py\u001b[0m in \u001b[0;36m<listcomp>\u001b[0;34m(.0)\u001b[0m\n\u001b[1;32m    135\u001b[0m                     \u001b[0melem_msg\u001b[0m\u001b[0;34m=\u001b[0m\u001b[0melem_msg\u001b[0m\u001b[0;34m,\u001b[0m\u001b[0;34m\u001b[0m\u001b[0;34m\u001b[0m\u001b[0m\n\u001b[1;32m    136\u001b[0m                 )\n\u001b[0;32m--> 137\u001b[0;31m                 \u001b[0;32mfor\u001b[0m \u001b[0mi\u001b[0m \u001b[0;32min\u001b[0m \u001b[0mrange\u001b[0m\u001b[0;34m(\u001b[0m\u001b[0mn_graph\u001b[0m\u001b[0;34m)\u001b[0m\u001b[0;34m\u001b[0m\u001b[0;34m\u001b[0m\u001b[0m\n\u001b[0m\u001b[1;32m    138\u001b[0m             ]\n\u001b[1;32m    139\u001b[0m         )\n",
      "\u001b[0;32m/home/jupyter/Elton/RL/DQN/roost_models/roost/roost/model.py\u001b[0m in \u001b[0;36m__init__\u001b[0;34m(self, elem_fea_len, elem_heads, elem_gate, elem_msg)\u001b[0m\n\u001b[1;32m    225\u001b[0m                     \u001b[0mmessage_nn\u001b[0m\u001b[0;34m=\u001b[0m\u001b[0mSimpleNetwork\u001b[0m\u001b[0;34m(\u001b[0m\u001b[0;36m2\u001b[0m \u001b[0;34m*\u001b[0m \u001b[0melem_fea_len\u001b[0m\u001b[0;34m,\u001b[0m \u001b[0melem_fea_len\u001b[0m\u001b[0;34m,\u001b[0m \u001b[0melem_msg\u001b[0m\u001b[0;34m)\u001b[0m\u001b[0;34m,\u001b[0m\u001b[0;34m\u001b[0m\u001b[0;34m\u001b[0m\u001b[0m\n\u001b[1;32m    226\u001b[0m                 )\n\u001b[0;32m--> 227\u001b[0;31m                 \u001b[0;32mfor\u001b[0m \u001b[0m_\u001b[0m \u001b[0;32min\u001b[0m \u001b[0mrange\u001b[0m\u001b[0;34m(\u001b[0m\u001b[0melem_heads\u001b[0m\u001b[0;34m)\u001b[0m\u001b[0;34m\u001b[0m\u001b[0;34m\u001b[0m\u001b[0m\n\u001b[0m\u001b[1;32m    228\u001b[0m             ]\n\u001b[1;32m    229\u001b[0m         )\n",
      "\u001b[0;32m/home/jupyter/Elton/RL/DQN/roost_models/roost/roost/model.py\u001b[0m in \u001b[0;36m<listcomp>\u001b[0;34m(.0)\u001b[0m\n\u001b[1;32m    225\u001b[0m                     \u001b[0mmessage_nn\u001b[0m\u001b[0;34m=\u001b[0m\u001b[0mSimpleNetwork\u001b[0m\u001b[0;34m(\u001b[0m\u001b[0;36m2\u001b[0m \u001b[0;34m*\u001b[0m \u001b[0melem_fea_len\u001b[0m\u001b[0;34m,\u001b[0m \u001b[0melem_fea_len\u001b[0m\u001b[0;34m,\u001b[0m \u001b[0melem_msg\u001b[0m\u001b[0;34m)\u001b[0m\u001b[0;34m,\u001b[0m\u001b[0;34m\u001b[0m\u001b[0;34m\u001b[0m\u001b[0m\n\u001b[1;32m    226\u001b[0m                 )\n\u001b[0;32m--> 227\u001b[0;31m                 \u001b[0;32mfor\u001b[0m \u001b[0m_\u001b[0m \u001b[0;32min\u001b[0m \u001b[0mrange\u001b[0m\u001b[0;34m(\u001b[0m\u001b[0melem_heads\u001b[0m\u001b[0;34m)\u001b[0m\u001b[0;34m\u001b[0m\u001b[0;34m\u001b[0m\u001b[0m\n\u001b[0m\u001b[1;32m    228\u001b[0m             ]\n\u001b[1;32m    229\u001b[0m         )\n",
      "\u001b[0;32m/home/jupyter/Elton/RL/DQN/roost_models/roost/segments.py\u001b[0m in \u001b[0;36m__init__\u001b[0;34m(self, input_dim, output_dim, hidden_layer_dims, activation, batchnorm)\u001b[0m\n\u001b[1;32m    196\u001b[0m         \u001b[0mself\u001b[0m\u001b[0;34m.\u001b[0m\u001b[0macts\u001b[0m \u001b[0;34m=\u001b[0m \u001b[0mnn\u001b[0m\u001b[0;34m.\u001b[0m\u001b[0mModuleList\u001b[0m\u001b[0;34m(\u001b[0m\u001b[0;34m[\u001b[0m\u001b[0mactivation\u001b[0m\u001b[0;34m(\u001b[0m\u001b[0;34m)\u001b[0m \u001b[0;32mfor\u001b[0m \u001b[0m_\u001b[0m \u001b[0;32min\u001b[0m \u001b[0mrange\u001b[0m\u001b[0;34m(\u001b[0m\u001b[0mlen\u001b[0m\u001b[0;34m(\u001b[0m\u001b[0mdims\u001b[0m\u001b[0;34m)\u001b[0m \u001b[0;34m-\u001b[0m \u001b[0;36m1\u001b[0m\u001b[0;34m)\u001b[0m\u001b[0;34m]\u001b[0m\u001b[0;34m)\u001b[0m\u001b[0;34m\u001b[0m\u001b[0;34m\u001b[0m\u001b[0m\n\u001b[1;32m    197\u001b[0m \u001b[0;34m\u001b[0m\u001b[0m\n\u001b[0;32m--> 198\u001b[0;31m         \u001b[0mself\u001b[0m\u001b[0;34m.\u001b[0m\u001b[0mfc_out\u001b[0m \u001b[0;34m=\u001b[0m \u001b[0mnn\u001b[0m\u001b[0;34m.\u001b[0m\u001b[0mLinear\u001b[0m\u001b[0;34m(\u001b[0m\u001b[0mdims\u001b[0m\u001b[0;34m[\u001b[0m\u001b[0;34m-\u001b[0m\u001b[0;36m1\u001b[0m\u001b[0;34m]\u001b[0m\u001b[0;34m,\u001b[0m \u001b[0moutput_dim\u001b[0m\u001b[0;34m)\u001b[0m\u001b[0;34m\u001b[0m\u001b[0;34m\u001b[0m\u001b[0m\n\u001b[0m\u001b[1;32m    199\u001b[0m \u001b[0;34m\u001b[0m\u001b[0m\n\u001b[1;32m    200\u001b[0m     \u001b[0;32mdef\u001b[0m \u001b[0mforward\u001b[0m\u001b[0;34m(\u001b[0m\u001b[0mself\u001b[0m\u001b[0;34m,\u001b[0m \u001b[0mx\u001b[0m\u001b[0;34m)\u001b[0m\u001b[0;34m:\u001b[0m\u001b[0;34m\u001b[0m\u001b[0;34m\u001b[0m\u001b[0m\n",
      "\u001b[0;32m~/anaconda3/envs/dqn_roost_EMD/lib/python3.7/site-packages/torch/nn/modules/linear.py\u001b[0m in \u001b[0;36m__init__\u001b[0;34m(self, in_features, out_features, bias, device, dtype)\u001b[0m\n\u001b[1;32m     76\u001b[0m                  device=None, dtype=None) -> None:\n\u001b[1;32m     77\u001b[0m         \u001b[0mfactory_kwargs\u001b[0m \u001b[0;34m=\u001b[0m \u001b[0;34m{\u001b[0m\u001b[0;34m'device'\u001b[0m\u001b[0;34m:\u001b[0m \u001b[0mdevice\u001b[0m\u001b[0;34m,\u001b[0m \u001b[0;34m'dtype'\u001b[0m\u001b[0;34m:\u001b[0m \u001b[0mdtype\u001b[0m\u001b[0;34m}\u001b[0m\u001b[0;34m\u001b[0m\u001b[0;34m\u001b[0m\u001b[0m\n\u001b[0;32m---> 78\u001b[0;31m         \u001b[0msuper\u001b[0m\u001b[0;34m(\u001b[0m\u001b[0mLinear\u001b[0m\u001b[0;34m,\u001b[0m \u001b[0mself\u001b[0m\u001b[0;34m)\u001b[0m\u001b[0;34m.\u001b[0m\u001b[0m__init__\u001b[0m\u001b[0;34m(\u001b[0m\u001b[0;34m)\u001b[0m\u001b[0;34m\u001b[0m\u001b[0;34m\u001b[0m\u001b[0m\n\u001b[0m\u001b[1;32m     79\u001b[0m         \u001b[0mself\u001b[0m\u001b[0;34m.\u001b[0m\u001b[0min_features\u001b[0m \u001b[0;34m=\u001b[0m \u001b[0min_features\u001b[0m\u001b[0;34m\u001b[0m\u001b[0;34m\u001b[0m\u001b[0m\n\u001b[1;32m     80\u001b[0m         \u001b[0mself\u001b[0m\u001b[0;34m.\u001b[0m\u001b[0mout_features\u001b[0m \u001b[0;34m=\u001b[0m \u001b[0mout_features\u001b[0m\u001b[0;34m\u001b[0m\u001b[0;34m\u001b[0m\u001b[0m\n",
      "\u001b[0;32m~/anaconda3/envs/dqn_roost_EMD/lib/python3.7/site-packages/torch/nn/modules/module.py\u001b[0m in \u001b[0;36m__init__\u001b[0;34m(self)\u001b[0m\n\u001b[1;32m    257\u001b[0m         \u001b[0mself\u001b[0m\u001b[0;34m.\u001b[0m\u001b[0m_parameters\u001b[0m \u001b[0;34m=\u001b[0m \u001b[0mOrderedDict\u001b[0m\u001b[0;34m(\u001b[0m\u001b[0;34m)\u001b[0m\u001b[0;34m\u001b[0m\u001b[0;34m\u001b[0m\u001b[0m\n\u001b[1;32m    258\u001b[0m         \u001b[0mself\u001b[0m\u001b[0;34m.\u001b[0m\u001b[0m_buffers\u001b[0m \u001b[0;34m=\u001b[0m \u001b[0mOrderedDict\u001b[0m\u001b[0;34m(\u001b[0m\u001b[0;34m)\u001b[0m\u001b[0;34m\u001b[0m\u001b[0;34m\u001b[0m\u001b[0m\n\u001b[0;32m--> 259\u001b[0;31m         \u001b[0mself\u001b[0m\u001b[0;34m.\u001b[0m\u001b[0m_non_persistent_buffers_set\u001b[0m \u001b[0;34m=\u001b[0m \u001b[0mset\u001b[0m\u001b[0;34m(\u001b[0m\u001b[0;34m)\u001b[0m\u001b[0;34m\u001b[0m\u001b[0;34m\u001b[0m\u001b[0m\n\u001b[0m\u001b[1;32m    260\u001b[0m         \u001b[0mself\u001b[0m\u001b[0;34m.\u001b[0m\u001b[0m_backward_hooks\u001b[0m \u001b[0;34m=\u001b[0m \u001b[0mOrderedDict\u001b[0m\u001b[0;34m(\u001b[0m\u001b[0;34m)\u001b[0m\u001b[0;34m\u001b[0m\u001b[0;34m\u001b[0m\u001b[0m\n\u001b[1;32m    261\u001b[0m         \u001b[0mself\u001b[0m\u001b[0;34m.\u001b[0m\u001b[0m_is_full_backward_hook\u001b[0m \u001b[0;34m=\u001b[0m \u001b[0;32mNone\u001b[0m\u001b[0;34m\u001b[0m\u001b[0;34m\u001b[0m\u001b[0m\n",
      "\u001b[0;31mKeyboardInterrupt\u001b[0m: "
     ]
    }
   ],
   "source": [
    "# # Load random oxides\n",
    "with open('./training_data/random_oxides.pkl', 'rb') as f: \n",
    "    random_oxides = pickle.load(f)\n",
    "\n",
    "# Load compounds\n",
    "with open('./training_data/oxides_form_e/final_compounds_roost_constrained.pkl', 'rb') as handle:\n",
    "    final_compounds = pickle.load(handle)\n",
    "\n",
    "# Formation Energy\n",
    "form_e_random = []\n",
    "form_e_trained = []\n",
    "for compound in random_oxides:\n",
    "    form_e_random.append(predict_formation_energy(compound))\n",
    "for compound in final_compounds:\n",
    "    form_e_trained.append(predict_formation_energy(compound))\n",
    "\n",
    "# Charge neutrality and electronegativity\n",
    "cn_random_good, cn_random_bad = check_neutrality_multiple(random_oxides)\n",
    "en_random_good, en_random_bad = check_electronegativity_multiple(random_oxides)\n",
    "cn_trained_good, cn_trained_bad = check_neutrality_multiple(final_compounds)\n",
    "en_trained_good, en_trained_bad = check_electronegativity_multiple(final_compounds)\n",
    "\n",
    "# Uniqueness\n",
    "random_oxides_unique = list(set(random_oxides))\n",
    "final_compounds_unique = list(set(final_compounds))\n",
    "\n",
    "# EMD\n",
    "random_oxides_EMD_mean, random_oxides_EMD_std = similarity_to_nearest_neighbor(random_oxides)\n",
    "final_compounds_EMD_mean, final_compounds_EMD_std = similarity_to_nearest_neighbor(final_compounds)\n",
    "\n",
    "results = {}\n",
    "results['form_e_random_mean'] = np.mean(form_e_random)\n",
    "results['form_e_random_std'] = np.std(form_e_random)\n",
    "results['form_e_trained_mean'] = np.mean(form_e_trained)\n",
    "results['form_e_trained_std'] = np.std(form_e_trained)\n",
    "results['charge_neutral_random'] = len(cn_random_good)/(len(cn_random_good)+len(cn_random_bad))\n",
    "results['electronegativity_balanced_random'] = len(en_random_good)/(len(en_random_good)+len(en_random_bad))\n",
    "results['charge_neutral_trained'] = len(cn_trained_good)/(len(cn_trained_good)+len(cn_trained_bad))\n",
    "results['electronegativity_balanced_trained'] = len(en_trained_good)/(len(en_trained_good)+len(en_trained_bad))\n",
    "results['unique_random'] = len(random_oxides_unique)/len(random_oxides)\n",
    "results['unique_trained'] = len(final_compounds_unique)/len(final_compounds)\n",
    "results['random_oxides_EMD_mean'], results['random_oxides_EMD_std'] = random_oxides_EMD_mean, random_oxides_EMD_std\n",
    "results['final_compounds_EMD_mean'], results['final_compounds_EMD_std'] = final_compounds_EMD_mean, final_compounds_EMD_std\n",
    "results"
   ]
  },
  {
   "cell_type": "markdown",
   "metadata": {},
   "source": [
    "# Bulk modulus task"
   ]
  },
  {
   "cell_type": "code",
   "execution_count": 3,
   "metadata": {},
   "outputs": [
    {
     "name": "stderr",
     "output_type": "stream",
     "text": [
      "100%|██████████| 1000/1000 [00:00<00:00, 10399.03it/s]\n"
     ]
    },
    {
     "name": "stdout",
     "output_type": "stream",
     "text": [
      "Fitting mod_petti kernel matrix\n",
      "Constructing distances\n",
      "Parsing Formula\n"
     ]
    },
    {
     "name": "stderr",
     "output_type": "stream",
     "text": [
      "100%|██████████| 1000/1000 [00:00<00:00, 10640.20it/s]\n"
     ]
    },
    {
     "name": "stdout",
     "output_type": "stream",
     "text": [
      "Constructing joint compositional pairings\n"
     ]
    },
    {
     "name": "stderr",
     "output_type": "stream",
     "text": [
      "100%|██████████| 999/999 [00:00<00:00, 21227.57it/s]"
     ]
    },
    {
     "name": "stdout",
     "output_type": "stream",
     "text": [
      "Creating Process Pool\n",
      "Scattering compositions between processes and computing distances\n"
     ]
    },
    {
     "name": "stderr",
     "output_type": "stream",
     "text": [
      "\n"
     ]
    },
    {
     "data": {
      "application/vnd.jupyter.widget-view+json": {
       "model_id": "449b1c709bd040b59bd13d60fe7e9f37",
       "version_major": 2,
       "version_minor": 0
      },
      "text/plain": [
       "  0%|          | 0/999 [00:00<?, ?it/s]"
      ]
     },
     "metadata": {},
     "output_type": "display_data"
    },
    {
     "name": "stdout",
     "output_type": "stream",
     "text": [
      "Distances computed closing processes\n",
      "Flattening sublists\n"
     ]
    },
    {
     "name": "stderr",
     "output_type": "stream",
     "text": [
      "100%|██████████| 1000/1000 [00:00<00:00, 9255.37it/s]\n"
     ]
    },
    {
     "name": "stdout",
     "output_type": "stream",
     "text": [
      "Average Element Mover's distance: 20.1286\n",
      "Std Element Mover's distance: 9.8238\n"
     ]
    },
    {
     "name": "stderr",
     "output_type": "stream",
     "text": [
      "100%|██████████| 1000/1000 [00:00<00:00, 10307.47it/s]\n"
     ]
    },
    {
     "name": "stdout",
     "output_type": "stream",
     "text": [
      "Fitting mod_petti kernel matrix\n",
      "Constructing distances\n",
      "Parsing Formula\n"
     ]
    },
    {
     "name": "stderr",
     "output_type": "stream",
     "text": [
      "100%|██████████| 1000/1000 [00:00<00:00, 11365.38it/s]\n"
     ]
    },
    {
     "name": "stdout",
     "output_type": "stream",
     "text": [
      "Constructing joint compositional pairings\n"
     ]
    },
    {
     "name": "stderr",
     "output_type": "stream",
     "text": [
      "100%|██████████| 999/999 [00:00<00:00, 20665.26it/s]"
     ]
    },
    {
     "name": "stdout",
     "output_type": "stream",
     "text": [
      "Creating Process Pool\n",
      "Scattering compositions between processes and computing distances\n"
     ]
    },
    {
     "name": "stderr",
     "output_type": "stream",
     "text": [
      "\n"
     ]
    },
    {
     "data": {
      "application/vnd.jupyter.widget-view+json": {
       "model_id": "092e5303ddd94712a5a554ce3692f4cd",
       "version_major": 2,
       "version_minor": 0
      },
      "text/plain": [
       "  0%|          | 0/999 [00:00<?, ?it/s]"
      ]
     },
     "metadata": {},
     "output_type": "display_data"
    },
    {
     "name": "stdout",
     "output_type": "stream",
     "text": [
      "Distances computed closing processes\n",
      "Flattening sublists\n"
     ]
    },
    {
     "name": "stderr",
     "output_type": "stream",
     "text": [
      "100%|██████████| 1000/1000 [00:00<00:00, 9277.20it/s]"
     ]
    },
    {
     "name": "stdout",
     "output_type": "stream",
     "text": [
      "Average Element Mover's distance: 7.5943\n",
      "Std Element Mover's distance: 4.0024\n"
     ]
    },
    {
     "name": "stderr",
     "output_type": "stream",
     "text": [
      "\n"
     ]
    },
    {
     "data": {
      "text/plain": [
       "{'form_e_random_mean': -1.3723867772072553,\n",
       " 'form_e_random_std': 0.7347616385105727,\n",
       " 'form_e_trained_mean': -0.5865680969462265,\n",
       " 'form_e_trained_std': 0.43989970302957976,\n",
       " 'bulk_mod_random_mean': 4.29139886379242,\n",
       " 'bulk_mod_random_std': 0.6012997229802703,\n",
       " 'bulk_mod_trained_mean': 5.358326883792877,\n",
       " 'bulk_mod_trained_std': 0.21379967833644037,\n",
       " 'charge_neutral_random': 0.599,\n",
       " 'electronegativity_balanced_random': 0.428,\n",
       " 'charge_neutral_trained': 0.853,\n",
       " 'electronegativity_balanced_trained': 0.658,\n",
       " 'unique_random': 1.0,\n",
       " 'unique_trained': 1.0,\n",
       " 'random_oxides_EMD_mean': 20.128644743593593,\n",
       " 'random_oxides_EMD_std': 9.82379022238823,\n",
       " 'final_compounds_EMD_mean': 7.594290557421418,\n",
       " 'final_compounds_EMD_std': 4.002392501670763}"
      ]
     },
     "execution_count": 3,
     "metadata": {},
     "output_type": "execute_result"
    }
   ],
   "source": [
    "# # Load random oxides\n",
    "with open('./training_data/random_oxides.pkl', 'rb') as f: \n",
    "    random_oxides = pickle.load(f)\n",
    "\n",
    "# Load compounds\n",
    "with open('./training_data/oxides_bulk_mod/final_compounds_roost_constrained.pkl', 'rb') as handle:\n",
    "    final_compounds = pickle.load(handle)\n",
    "\n",
    "# Formation Energy\n",
    "form_e_random = []\n",
    "form_e_trained = []\n",
    "for compound in random_oxides:\n",
    "    form_e_random.append(predict_formation_energy(compound))\n",
    "for compound in final_compounds:\n",
    "    form_e_trained.append(predict_formation_energy(compound))\n",
    "\n",
    "# Bulk modulus\n",
    "bulk_mod_random = []\n",
    "bulk_mod_trained = []\n",
    "for compound in random_oxides:\n",
    "    bulk_mod_random.append(predict_bulk_mod(compound))\n",
    "for compound in final_compounds:\n",
    "    bulk_mod_trained.append(predict_bulk_mod(compound))\n",
    "\n",
    "# Charge neutrality and electronegativity\n",
    "cn_random_good, cn_random_bad = check_neutrality_multiple(random_oxides)\n",
    "en_random_good, en_random_bad = check_electronegativity_multiple(random_oxides)\n",
    "cn_trained_good, cn_trained_bad = check_neutrality_multiple(final_compounds)\n",
    "en_trained_good, en_trained_bad = check_electronegativity_multiple(final_compounds)\n",
    "\n",
    "# Uniqueness\n",
    "random_oxides_unique = list(set(random_oxides))\n",
    "final_compounds_unique = list(set(final_compounds))\n",
    "\n",
    "# EMD\n",
    "random_oxides_EMD_mean, random_oxides_EMD_std = similarity_to_nearest_neighbor(random_oxides)\n",
    "final_compounds_EMD_mean, final_compounds_EMD_std = similarity_to_nearest_neighbor(final_compounds)\n",
    "\n",
    "results = {}\n",
    "results['form_e_random_mean'] = np.mean(form_e_random)\n",
    "results['form_e_random_std'] = np.std(form_e_random)\n",
    "results['form_e_trained_mean'] = np.mean(form_e_trained)\n",
    "results['form_e_trained_std'] = np.std(form_e_trained)\n",
    "results['bulk_mod_random_mean'] = np.mean(bulk_mod_random)\n",
    "results['bulk_mod_random_std'] = np.std(bulk_mod_random)\n",
    "results['bulk_mod_trained_mean'] = np.mean(bulk_mod_trained)\n",
    "results['bulk_mod_trained_std'] = np.std(bulk_mod_trained)\n",
    "results['charge_neutral_random'] = len(cn_random_good)/(len(cn_random_good)+len(cn_random_bad))\n",
    "results['electronegativity_balanced_random'] = len(en_random_good)/(len(en_random_good)+len(en_random_bad))\n",
    "results['charge_neutral_trained'] = len(cn_trained_good)/(len(cn_trained_good)+len(cn_trained_bad))\n",
    "results['electronegativity_balanced_trained'] = len(en_trained_good)/(len(en_trained_good)+len(en_trained_bad))\n",
    "results['unique_random'] = len(random_oxides_unique)/len(random_oxides)\n",
    "results['unique_trained'] = len(final_compounds_unique)/len(final_compounds)\n",
    "results['random_oxides_EMD_mean'], results['random_oxides_EMD_std'] = random_oxides_EMD_mean, random_oxides_EMD_std\n",
    "results['final_compounds_EMD_mean'], results['final_compounds_EMD_std'] = final_compounds_EMD_mean, final_compounds_EMD_std\n",
    "results"
   ]
  },
  {
   "cell_type": "markdown",
   "metadata": {},
   "source": [
    "# Shear modulus task"
   ]
  },
  {
   "cell_type": "code",
   "execution_count": 4,
   "metadata": {},
   "outputs": [
    {
     "name": "stderr",
     "output_type": "stream",
     "text": [
      "100%|██████████| 1000/1000 [00:00<00:00, 10276.58it/s]\n"
     ]
    },
    {
     "name": "stdout",
     "output_type": "stream",
     "text": [
      "Fitting mod_petti kernel matrix\n",
      "Constructing distances\n",
      "Parsing Formula\n"
     ]
    },
    {
     "name": "stderr",
     "output_type": "stream",
     "text": [
      "100%|██████████| 1000/1000 [00:00<00:00, 10472.17it/s]\n"
     ]
    },
    {
     "name": "stdout",
     "output_type": "stream",
     "text": [
      "Constructing joint compositional pairings\n"
     ]
    },
    {
     "name": "stderr",
     "output_type": "stream",
     "text": [
      "100%|██████████| 999/999 [00:00<00:00, 21341.74it/s]"
     ]
    },
    {
     "name": "stdout",
     "output_type": "stream",
     "text": [
      "Creating Process Pool\n",
      "Scattering compositions between processes and computing distances\n"
     ]
    },
    {
     "name": "stderr",
     "output_type": "stream",
     "text": [
      "\n"
     ]
    },
    {
     "data": {
      "application/vnd.jupyter.widget-view+json": {
       "model_id": "326470155c994f93ba3842c20ee14fc3",
       "version_major": 2,
       "version_minor": 0
      },
      "text/plain": [
       "  0%|          | 0/999 [00:00<?, ?it/s]"
      ]
     },
     "metadata": {},
     "output_type": "display_data"
    },
    {
     "name": "stdout",
     "output_type": "stream",
     "text": [
      "Distances computed closing processes\n",
      "Flattening sublists\n"
     ]
    },
    {
     "name": "stderr",
     "output_type": "stream",
     "text": [
      "100%|██████████| 1000/1000 [00:00<00:00, 9051.33it/s]\n"
     ]
    },
    {
     "name": "stdout",
     "output_type": "stream",
     "text": [
      "Average Element Mover's distance: 20.1286\n",
      "Std Element Mover's distance: 9.8238\n"
     ]
    },
    {
     "name": "stderr",
     "output_type": "stream",
     "text": [
      "100%|██████████| 1000/1000 [00:00<00:00, 10122.54it/s]\n"
     ]
    },
    {
     "name": "stdout",
     "output_type": "stream",
     "text": [
      "Fitting mod_petti kernel matrix\n",
      "Constructing distances\n",
      "Parsing Formula\n"
     ]
    },
    {
     "name": "stderr",
     "output_type": "stream",
     "text": [
      "100%|██████████| 1000/1000 [00:00<00:00, 10606.35it/s]\n"
     ]
    },
    {
     "name": "stdout",
     "output_type": "stream",
     "text": [
      "Constructing joint compositional pairings\n"
     ]
    },
    {
     "name": "stderr",
     "output_type": "stream",
     "text": [
      "100%|██████████| 999/999 [00:00<00:00, 20710.72it/s]"
     ]
    },
    {
     "name": "stdout",
     "output_type": "stream",
     "text": [
      "Creating Process Pool\n",
      "Scattering compositions between processes and computing distances\n"
     ]
    },
    {
     "name": "stderr",
     "output_type": "stream",
     "text": [
      "\n"
     ]
    },
    {
     "data": {
      "application/vnd.jupyter.widget-view+json": {
       "model_id": "bfbe6ccf423545f0a4bf13a2e9ca3d95",
       "version_major": 2,
       "version_minor": 0
      },
      "text/plain": [
       "  0%|          | 0/999 [00:00<?, ?it/s]"
      ]
     },
     "metadata": {},
     "output_type": "display_data"
    },
    {
     "name": "stdout",
     "output_type": "stream",
     "text": [
      "Distances computed closing processes\n",
      "Flattening sublists\n"
     ]
    },
    {
     "name": "stderr",
     "output_type": "stream",
     "text": [
      "100%|██████████| 1000/1000 [00:00<00:00, 9388.00it/s]"
     ]
    },
    {
     "name": "stdout",
     "output_type": "stream",
     "text": [
      "Average Element Mover's distance: 11.0803\n",
      "Std Element Mover's distance: 5.09\n"
     ]
    },
    {
     "name": "stderr",
     "output_type": "stream",
     "text": [
      "\n"
     ]
    },
    {
     "data": {
      "text/plain": [
       "{'form_e_random_mean': -1.3723867765516042,\n",
       " 'form_e_random_std': 0.7347616392281606,\n",
       " 'form_e_trained_mean': -1.0089453325352515,\n",
       " 'form_e_trained_std': 0.5557614357089498,\n",
       " 'shear_mod_random_mean': 3.6573499751091005,\n",
       " 'shear_mod_random_std': 0.7215814376106682,\n",
       " 'shear_mod_trained_mean': 4.462840408086777,\n",
       " 'shear_mod_trained_std': 0.4064563218900934,\n",
       " 'charge_neutral_random': 0.599,\n",
       " 'electronegativity_balanced_random': 0.428,\n",
       " 'charge_neutral_trained': 0.828,\n",
       " 'electronegativity_balanced_trained': 0.692,\n",
       " 'unique_random': 1.0,\n",
       " 'unique_trained': 1.0,\n",
       " 'random_oxides_EMD_mean': 20.128644743593593,\n",
       " 'random_oxides_EMD_std': 9.82379022238823,\n",
       " 'final_compounds_EMD_mean': 11.080325785915916,\n",
       " 'final_compounds_EMD_std': 5.090006029103403}"
      ]
     },
     "execution_count": 4,
     "metadata": {},
     "output_type": "execute_result"
    }
   ],
   "source": [
    "# # Load random oxides\n",
    "with open('./training_data/random_oxides.pkl', 'rb') as f: \n",
    "    random_oxides = pickle.load(f)\n",
    "\n",
    "# Load compounds\n",
    "with open('./training_data/oxides_shear_mod/final_compounds_roost_constrained.pkl', 'rb') as handle:\n",
    "    final_compounds = pickle.load(handle)\n",
    "\n",
    "# Formation Energy\n",
    "form_e_random = []\n",
    "form_e_trained = []\n",
    "for compound in random_oxides:\n",
    "    form_e_random.append(predict_formation_energy(compound))\n",
    "for compound in final_compounds:\n",
    "    form_e_trained.append(predict_formation_energy(compound))\n",
    "\n",
    "# Shear modulus\n",
    "shear_mod_random = []\n",
    "shear_mod_trained = []\n",
    "for compound in random_oxides:\n",
    "    shear_mod_random.append(predict_shear_mod(compound))\n",
    "for compound in final_compounds:\n",
    "    shear_mod_trained.append(predict_shear_mod(compound))\n",
    "\n",
    "# Charge neutrality and electronegativity\n",
    "cn_random_good, cn_random_bad = check_neutrality_multiple(random_oxides)\n",
    "en_random_good, en_random_bad = check_electronegativity_multiple(random_oxides)\n",
    "cn_trained_good, cn_trained_bad = check_neutrality_multiple(final_compounds)\n",
    "en_trained_good, en_trained_bad = check_electronegativity_multiple(final_compounds)\n",
    "\n",
    "# Uniqueness\n",
    "random_oxides_unique = list(set(random_oxides))\n",
    "final_compounds_unique = list(set(final_compounds))\n",
    "\n",
    "# EMD\n",
    "random_oxides_EMD_mean, random_oxides_EMD_std = similarity_to_nearest_neighbor(random_oxides)\n",
    "final_compounds_EMD_mean, final_compounds_EMD_std = similarity_to_nearest_neighbor(final_compounds)\n",
    "\n",
    "results = {}\n",
    "results['form_e_random_mean'] = np.mean(form_e_random)\n",
    "results['form_e_random_std'] = np.std(form_e_random)\n",
    "results['form_e_trained_mean'] = np.mean(form_e_trained)\n",
    "results['form_e_trained_std'] = np.std(form_e_trained)\n",
    "results['shear_mod_random_mean'] = np.mean(shear_mod_random)\n",
    "results['shear_mod_random_std'] = np.std(shear_mod_random)\n",
    "results['shear_mod_trained_mean'] = np.mean(shear_mod_trained)\n",
    "results['shear_mod_trained_std'] = np.std(shear_mod_trained)\n",
    "results['charge_neutral_random'] = len(cn_random_good)/(len(cn_random_good)+len(cn_random_bad))\n",
    "results['electronegativity_balanced_random'] = len(en_random_good)/(len(en_random_good)+len(en_random_bad))\n",
    "results['charge_neutral_trained'] = len(cn_trained_good)/(len(cn_trained_good)+len(cn_trained_bad))\n",
    "results['electronegativity_balanced_trained'] = len(en_trained_good)/(len(en_trained_good)+len(en_trained_bad))\n",
    "results['unique_random'] = len(random_oxides_unique)/len(random_oxides)\n",
    "results['unique_trained'] = len(final_compounds_unique)/len(final_compounds)\n",
    "results['random_oxides_EMD_mean'], results['random_oxides_EMD_std'] = random_oxides_EMD_mean, random_oxides_EMD_std\n",
    "results['final_compounds_EMD_mean'], results['final_compounds_EMD_std'] = final_compounds_EMD_mean, final_compounds_EMD_std\n",
    "results"
   ]
  },
  {
   "cell_type": "markdown",
   "metadata": {},
   "source": [
    "# Sintering temp task"
   ]
  },
  {
   "cell_type": "code",
   "execution_count": 5,
   "metadata": {},
   "outputs": [
    {
     "name": "stderr",
     "output_type": "stream",
     "text": [
      "100%|██████████| 1000/1000 [00:00<00:00, 9887.17it/s]\n"
     ]
    },
    {
     "name": "stdout",
     "output_type": "stream",
     "text": [
      "Fitting mod_petti kernel matrix\n",
      "Constructing distances\n",
      "Parsing Formula\n"
     ]
    },
    {
     "name": "stderr",
     "output_type": "stream",
     "text": [
      "100%|██████████| 1000/1000 [00:00<00:00, 10606.78it/s]\n"
     ]
    },
    {
     "name": "stdout",
     "output_type": "stream",
     "text": [
      "Constructing joint compositional pairings\n"
     ]
    },
    {
     "name": "stderr",
     "output_type": "stream",
     "text": [
      "100%|██████████| 999/999 [00:00<00:00, 21045.67it/s]"
     ]
    },
    {
     "name": "stdout",
     "output_type": "stream",
     "text": [
      "Creating Process Pool\n",
      "Scattering compositions between processes and computing distances\n"
     ]
    },
    {
     "name": "stderr",
     "output_type": "stream",
     "text": [
      "\n"
     ]
    },
    {
     "data": {
      "application/vnd.jupyter.widget-view+json": {
       "model_id": "1b6438771b0449a4a475bf65167b4ede",
       "version_major": 2,
       "version_minor": 0
      },
      "text/plain": [
       "  0%|          | 0/999 [00:00<?, ?it/s]"
      ]
     },
     "metadata": {},
     "output_type": "display_data"
    },
    {
     "name": "stdout",
     "output_type": "stream",
     "text": [
      "Distances computed closing processes\n",
      "Flattening sublists\n"
     ]
    },
    {
     "name": "stderr",
     "output_type": "stream",
     "text": [
      "100%|██████████| 1000/1000 [00:00<00:00, 9141.52it/s]"
     ]
    },
    {
     "name": "stdout",
     "output_type": "stream",
     "text": [
      "Average Element Mover's distance: 20.1286\n",
      "Std Element Mover's distance: 9.8238\n"
     ]
    },
    {
     "name": "stderr",
     "output_type": "stream",
     "text": [
      "\n",
      "100%|██████████| 1000/1000 [00:00<00:00, 9773.77it/s]\n"
     ]
    },
    {
     "name": "stdout",
     "output_type": "stream",
     "text": [
      "Fitting mod_petti kernel matrix\n",
      "Constructing distances\n",
      "Parsing Formula\n"
     ]
    },
    {
     "name": "stderr",
     "output_type": "stream",
     "text": [
      "100%|██████████| 999/999 [00:00<00:00, 10839.82it/s]\n"
     ]
    },
    {
     "name": "stdout",
     "output_type": "stream",
     "text": [
      "Constructing joint compositional pairings\n"
     ]
    },
    {
     "name": "stderr",
     "output_type": "stream",
     "text": [
      "100%|██████████| 998/998 [00:00<00:00, 20194.30it/s]"
     ]
    },
    {
     "name": "stdout",
     "output_type": "stream",
     "text": [
      "Creating Process Pool\n",
      "Scattering compositions between processes and computing distances\n"
     ]
    },
    {
     "name": "stderr",
     "output_type": "stream",
     "text": [
      "\n"
     ]
    },
    {
     "data": {
      "application/vnd.jupyter.widget-view+json": {
       "model_id": "b7af4ba6c0b94dd7b6c400c3d0dba603",
       "version_major": 2,
       "version_minor": 0
      },
      "text/plain": [
       "  0%|          | 0/998 [00:00<?, ?it/s]"
      ]
     },
     "metadata": {},
     "output_type": "display_data"
    },
    {
     "name": "stdout",
     "output_type": "stream",
     "text": [
      "Distances computed closing processes\n",
      "Flattening sublists\n"
     ]
    },
    {
     "name": "stderr",
     "output_type": "stream",
     "text": [
      "100%|██████████| 999/999 [00:00<00:00, 9266.89it/s]"
     ]
    },
    {
     "name": "stdout",
     "output_type": "stream",
     "text": [
      "Average Element Mover's distance: 12.1065\n",
      "Std Element Mover's distance: 7.4308\n"
     ]
    },
    {
     "name": "stderr",
     "output_type": "stream",
     "text": [
      "\n"
     ]
    },
    {
     "data": {
      "text/plain": [
       "{'form_e_random_mean': -1.3723867757171393,\n",
       " 'form_e_random_std': 0.7347616402849283,\n",
       " 'form_e_trained_mean': -1.0209875418955925,\n",
       " 'form_e_trained_std': 0.5078395340291537,\n",
       " 'sintering_random_mean': 1011.1405443517411,\n",
       " 'sintering_random_std': 131.0925303880326,\n",
       " 'sintering_trained_mean': 827.3537152992774,\n",
       " 'sintering_trained_std': 98.18427515077079,\n",
       " 'charge_neutral_random': 0.599,\n",
       " 'electronegativity_balanced_random': 0.428,\n",
       " 'charge_neutral_trained': 0.857,\n",
       " 'electronegativity_balanced_trained': 0.647,\n",
       " 'unique_random': 1.0,\n",
       " 'unique_trained': 1.0,\n",
       " 'random_oxides_EMD_mean': 20.128644743593593,\n",
       " 'random_oxides_EMD_std': 9.82379022238823,\n",
       " 'final_compounds_EMD_mean': 12.106459439126505,\n",
       " 'final_compounds_EMD_std': 7.430761712579701}"
      ]
     },
     "execution_count": 5,
     "metadata": {},
     "output_type": "execute_result"
    }
   ],
   "source": [
    "# # Load random oxides\n",
    "with open('./training_data/random_oxides.pkl', 'rb') as f: \n",
    "    random_oxides = pickle.load(f)\n",
    "\n",
    "# Load compounds\n",
    "with open('./training_data/oxides_sinter/final_compounds_RF_constrained.pkl', 'rb') as handle:\n",
    "    final_compounds = pickle.load(handle)\n",
    "\n",
    "# Formation Energy\n",
    "form_e_random = []\n",
    "form_e_trained = []\n",
    "for compound in random_oxides:\n",
    "    form_e_random.append(predict_formation_energy(compound))\n",
    "for compound in final_compounds:\n",
    "    form_e_trained.append(predict_formation_energy(compound))\n",
    "\n",
    "# Sintering temp\n",
    "sintering_random = []\n",
    "sintering_trained = []\n",
    "for compound in random_oxides:\n",
    "    sintering_random.append(predict_sinter(compound))\n",
    "for compound in final_compounds:\n",
    "    sintering_trained.append(predict_sinter(compound))\n",
    "\n",
    "# Charge neutrality and electronegativity\n",
    "cn_random_good, cn_random_bad = check_neutrality_multiple(random_oxides)\n",
    "en_random_good, en_random_bad = check_electronegativity_multiple(random_oxides)\n",
    "cn_trained_good, cn_trained_bad = check_neutrality_multiple(final_compounds)\n",
    "en_trained_good, en_trained_bad = check_electronegativity_multiple(final_compounds)\n",
    "\n",
    "# Uniqueness\n",
    "random_oxides_unique = list(set(random_oxides))\n",
    "final_compounds_unique = list(set(final_compounds))\n",
    "\n",
    "# EMD\n",
    "random_oxides_EMD_mean, random_oxides_EMD_std = similarity_to_nearest_neighbor(random_oxides)\n",
    "final_compounds_EMD_mean, final_compounds_EMD_std = similarity_to_nearest_neighbor(final_compounds)\n",
    "\n",
    "results = {}\n",
    "results['form_e_random_mean'] = np.mean(form_e_random)\n",
    "results['form_e_random_std'] = np.std(form_e_random)\n",
    "results['form_e_trained_mean'] = np.mean(form_e_trained)\n",
    "results['form_e_trained_std'] = np.std(form_e_trained)\n",
    "results['sintering_random_mean'] = np.mean(sintering_random)\n",
    "results['sintering_random_std'] = np.std(sintering_random)\n",
    "results['sintering_trained_mean'] = np.mean(sintering_trained)\n",
    "results['sintering_trained_std'] = np.std(sintering_trained)\n",
    "results['charge_neutral_random'] = len(cn_random_good)/(len(cn_random_good)+len(cn_random_bad))\n",
    "results['electronegativity_balanced_random'] = len(en_random_good)/(len(en_random_good)+len(en_random_bad))\n",
    "results['charge_neutral_trained'] = len(cn_trained_good)/(len(cn_trained_good)+len(cn_trained_bad))\n",
    "results['electronegativity_balanced_trained'] = len(en_trained_good)/(len(en_trained_good)+len(en_trained_bad))\n",
    "results['unique_random'] = len(random_oxides_unique)/len(random_oxides)\n",
    "results['unique_trained'] = len(final_compounds_unique)/len(final_compounds)\n",
    "results['random_oxides_EMD_mean'], results['random_oxides_EMD_std'] = random_oxides_EMD_mean, random_oxides_EMD_std\n",
    "results['final_compounds_EMD_mean'], results['final_compounds_EMD_std'] = final_compounds_EMD_mean, final_compounds_EMD_std\n",
    "results"
   ]
  },
  {
   "cell_type": "markdown",
   "metadata": {},
   "source": [
    "# Formation energy + Bulk modulus (1:1)"
   ]
  },
  {
   "cell_type": "code",
   "execution_count": 6,
   "metadata": {},
   "outputs": [
    {
     "name": "stderr",
     "output_type": "stream",
     "text": [
      "100%|██████████| 1000/1000 [00:00<00:00, 10310.94it/s]\n"
     ]
    },
    {
     "name": "stdout",
     "output_type": "stream",
     "text": [
      "Fitting mod_petti kernel matrix\n",
      "Constructing distances\n",
      "Parsing Formula\n"
     ]
    },
    {
     "name": "stderr",
     "output_type": "stream",
     "text": [
      "100%|██████████| 1000/1000 [00:00<00:00, 11057.31it/s]\n"
     ]
    },
    {
     "name": "stdout",
     "output_type": "stream",
     "text": [
      "Constructing joint compositional pairings\n"
     ]
    },
    {
     "name": "stderr",
     "output_type": "stream",
     "text": [
      "100%|██████████| 999/999 [00:00<00:00, 21282.66it/s]"
     ]
    },
    {
     "name": "stdout",
     "output_type": "stream",
     "text": [
      "Creating Process Pool\n",
      "Scattering compositions between processes and computing distances\n"
     ]
    },
    {
     "name": "stderr",
     "output_type": "stream",
     "text": [
      "\n"
     ]
    },
    {
     "data": {
      "application/vnd.jupyter.widget-view+json": {
       "model_id": "881fa8139ac94dde9cecfb25e389c5fe",
       "version_major": 2,
       "version_minor": 0
      },
      "text/plain": [
       "  0%|          | 0/999 [00:00<?, ?it/s]"
      ]
     },
     "metadata": {},
     "output_type": "display_data"
    },
    {
     "name": "stdout",
     "output_type": "stream",
     "text": [
      "Distances computed closing processes\n",
      "Flattening sublists\n"
     ]
    },
    {
     "name": "stderr",
     "output_type": "stream",
     "text": [
      "100%|██████████| 1000/1000 [00:00<00:00, 9327.87it/s]\n"
     ]
    },
    {
     "name": "stdout",
     "output_type": "stream",
     "text": [
      "Average Element Mover's distance: 20.1286\n",
      "Std Element Mover's distance: 9.8238\n"
     ]
    },
    {
     "name": "stderr",
     "output_type": "stream",
     "text": [
      "100%|██████████| 1000/1000 [00:00<00:00, 10622.15it/s]\n"
     ]
    },
    {
     "name": "stdout",
     "output_type": "stream",
     "text": [
      "Fitting mod_petti kernel matrix\n",
      "Constructing distances\n",
      "Parsing Formula\n"
     ]
    },
    {
     "name": "stderr",
     "output_type": "stream",
     "text": [
      "100%|██████████| 1000/1000 [00:00<00:00, 10622.61it/s]\n"
     ]
    },
    {
     "name": "stdout",
     "output_type": "stream",
     "text": [
      "Constructing joint compositional pairings\n"
     ]
    },
    {
     "name": "stderr",
     "output_type": "stream",
     "text": [
      "100%|██████████| 999/999 [00:00<00:00, 20614.53it/s]"
     ]
    },
    {
     "name": "stdout",
     "output_type": "stream",
     "text": [
      "Creating Process Pool\n",
      "Scattering compositions between processes and computing distances\n"
     ]
    },
    {
     "name": "stderr",
     "output_type": "stream",
     "text": [
      "\n"
     ]
    },
    {
     "data": {
      "application/vnd.jupyter.widget-view+json": {
       "model_id": "5670d87208a148859a2e1aea38a0a6d0",
       "version_major": 2,
       "version_minor": 0
      },
      "text/plain": [
       "  0%|          | 0/999 [00:00<?, ?it/s]"
      ]
     },
     "metadata": {},
     "output_type": "display_data"
    },
    {
     "name": "stdout",
     "output_type": "stream",
     "text": [
      "Distances computed closing processes\n",
      "Flattening sublists\n"
     ]
    },
    {
     "name": "stderr",
     "output_type": "stream",
     "text": [
      "100%|██████████| 1000/1000 [00:00<00:00, 9068.39it/s]"
     ]
    },
    {
     "name": "stdout",
     "output_type": "stream",
     "text": [
      "Average Element Mover's distance: 15.4826\n",
      "Std Element Mover's distance: 6.8594\n"
     ]
    },
    {
     "name": "stderr",
     "output_type": "stream",
     "text": [
      "\n"
     ]
    },
    {
     "data": {
      "text/plain": [
       "{'form_e_random_mean': -1.3723867772072553,\n",
       " 'form_e_random_std': 0.7347616385105727,\n",
       " 'form_e_trained_mean': -2.0647728165872397,\n",
       " 'form_e_trained_std': 0.8399860098276903,\n",
       " 'bulk_mod_random_mean': 4.29139886379242,\n",
       " 'bulk_mod_random_std': 0.6012997229802703,\n",
       " 'bulk_mod_trained_mean': 4.605049775362015,\n",
       " 'bulk_mod_trained_std': 0.4755187870794003,\n",
       " 'charge_neutral_random': 0.599,\n",
       " 'electronegativity_balanced_random': 0.428,\n",
       " 'charge_neutral_trained': 0.653,\n",
       " 'electronegativity_balanced_trained': 0.602,\n",
       " 'unique_random': 1.0,\n",
       " 'unique_trained': 1.0,\n",
       " 'random_oxides_EMD_mean': 20.128644743593593,\n",
       " 'random_oxides_EMD_std': 9.82379022238823,\n",
       " 'final_compounds_EMD_mean': 15.482586450380376,\n",
       " 'final_compounds_EMD_std': 6.859355433358803}"
      ]
     },
     "execution_count": 6,
     "metadata": {},
     "output_type": "execute_result"
    }
   ],
   "source": [
    "# Load random oxides\n",
    "with open('./training_data/random_oxides.pkl', 'rb') as f: \n",
    "    random_oxides = pickle.load(f)\n",
    "\n",
    "# Load compounds\n",
    "with open('./training_data/oxides_form_e_bulk_mod/final_compounds_roost_constrained.pkl', 'rb') as handle:\n",
    "    final_compounds = pickle.load(handle)\n",
    "\n",
    "# Formation Energy\n",
    "form_e_random = []\n",
    "form_e_trained = []\n",
    "for compound in random_oxides:\n",
    "    form_e_random.append(predict_formation_energy(compound))\n",
    "for compound in final_compounds:\n",
    "    form_e_trained.append(predict_formation_energy(compound))\n",
    "\n",
    "# Bulk modulus\n",
    "bulk_mod_random = []\n",
    "bulk_mod_trained = []\n",
    "for compound in random_oxides:\n",
    "    bulk_mod_random.append(predict_bulk_mod(compound))\n",
    "for compound in final_compounds:\n",
    "    bulk_mod_trained.append(predict_bulk_mod(compound))\n",
    "\n",
    "# Charge neutrality and electronegativity\n",
    "cn_random_good, cn_random_bad = check_neutrality_multiple(random_oxides)\n",
    "en_random_good, en_random_bad = check_electronegativity_multiple(random_oxides)\n",
    "cn_trained_good, cn_trained_bad = check_neutrality_multiple(final_compounds)\n",
    "en_trained_good, en_trained_bad = check_electronegativity_multiple(final_compounds)\n",
    "\n",
    "# Uniqueness\n",
    "random_oxides_unique = list(set(random_oxides))\n",
    "final_compounds_unique = list(set(final_compounds))\n",
    "\n",
    "# EMD\n",
    "random_oxides_EMD_mean, random_oxides_EMD_std = similarity_to_nearest_neighbor(random_oxides)\n",
    "final_compounds_EMD_mean, final_compounds_EMD_std = similarity_to_nearest_neighbor(final_compounds)\n",
    "\n",
    "results = {}\n",
    "results['form_e_random_mean'] = np.mean(form_e_random)\n",
    "results['form_e_random_std'] = np.std(form_e_random)\n",
    "results['form_e_trained_mean'] = np.mean(form_e_trained)\n",
    "results['form_e_trained_std'] = np.std(form_e_trained)\n",
    "results['bulk_mod_random_mean'] = np.mean(bulk_mod_random)\n",
    "results['bulk_mod_random_std'] = np.std(bulk_mod_random)\n",
    "results['bulk_mod_trained_mean'] = np.mean(bulk_mod_trained)\n",
    "results['bulk_mod_trained_std'] = np.std(bulk_mod_trained)\n",
    "results['charge_neutral_random'] = len(cn_random_good)/(len(cn_random_good)+len(cn_random_bad))\n",
    "results['electronegativity_balanced_random'] = len(en_random_good)/(len(en_random_good)+len(en_random_bad))\n",
    "results['charge_neutral_trained'] = len(cn_trained_good)/(len(cn_trained_good)+len(cn_trained_bad))\n",
    "results['electronegativity_balanced_trained'] = len(en_trained_good)/(len(en_trained_good)+len(en_trained_bad))\n",
    "results['unique_random'] = len(random_oxides_unique)/len(random_oxides)\n",
    "results['unique_trained'] = len(final_compounds_unique)/len(final_compounds)\n",
    "results['random_oxides_EMD_mean'], results['random_oxides_EMD_std'] = random_oxides_EMD_mean, random_oxides_EMD_std\n",
    "results['final_compounds_EMD_mean'], results['final_compounds_EMD_std'] = final_compounds_EMD_mean, final_compounds_EMD_std\n",
    "results"
   ]
  },
  {
   "cell_type": "markdown",
   "metadata": {},
   "source": [
    "# Formation energy + Bulk modulus (1:2)"
   ]
  },
  {
   "cell_type": "code",
   "execution_count": 7,
   "metadata": {},
   "outputs": [
    {
     "name": "stderr",
     "output_type": "stream",
     "text": [
      "100%|██████████| 1000/1000 [00:00<00:00, 10283.99it/s]\n"
     ]
    },
    {
     "name": "stdout",
     "output_type": "stream",
     "text": [
      "Fitting mod_petti kernel matrix\n",
      "Constructing distances\n",
      "Parsing Formula\n"
     ]
    },
    {
     "name": "stderr",
     "output_type": "stream",
     "text": [
      "100%|██████████| 1000/1000 [00:00<00:00, 10400.19it/s]\n"
     ]
    },
    {
     "name": "stdout",
     "output_type": "stream",
     "text": [
      "Constructing joint compositional pairings\n"
     ]
    },
    {
     "name": "stderr",
     "output_type": "stream",
     "text": [
      "100%|██████████| 999/999 [00:00<00:00, 20618.08it/s]"
     ]
    },
    {
     "name": "stdout",
     "output_type": "stream",
     "text": [
      "Creating Process Pool\n",
      "Scattering compositions between processes and computing distances\n"
     ]
    },
    {
     "name": "stderr",
     "output_type": "stream",
     "text": [
      "\n"
     ]
    },
    {
     "data": {
      "application/vnd.jupyter.widget-view+json": {
       "model_id": "e51d4d7937ac41a4b41fdd86b256e4bb",
       "version_major": 2,
       "version_minor": 0
      },
      "text/plain": [
       "  0%|          | 0/999 [00:00<?, ?it/s]"
      ]
     },
     "metadata": {},
     "output_type": "display_data"
    },
    {
     "name": "stdout",
     "output_type": "stream",
     "text": [
      "Distances computed closing processes\n",
      "Flattening sublists\n"
     ]
    },
    {
     "name": "stderr",
     "output_type": "stream",
     "text": [
      "100%|██████████| 1000/1000 [00:00<00:00, 9257.42it/s]\n"
     ]
    },
    {
     "name": "stdout",
     "output_type": "stream",
     "text": [
      "Average Element Mover's distance: 20.1286\n",
      "Std Element Mover's distance: 9.8238\n"
     ]
    },
    {
     "name": "stderr",
     "output_type": "stream",
     "text": [
      "100%|██████████| 1000/1000 [00:00<00:00, 10454.03it/s]\n"
     ]
    },
    {
     "name": "stdout",
     "output_type": "stream",
     "text": [
      "Fitting mod_petti kernel matrix\n",
      "Constructing distances\n",
      "Parsing Formula\n"
     ]
    },
    {
     "name": "stderr",
     "output_type": "stream",
     "text": [
      "100%|██████████| 1000/1000 [00:00<00:00, 10852.27it/s]\n"
     ]
    },
    {
     "name": "stdout",
     "output_type": "stream",
     "text": [
      "Constructing joint compositional pairings\n"
     ]
    },
    {
     "name": "stderr",
     "output_type": "stream",
     "text": [
      "100%|██████████| 999/999 [00:00<00:00, 20614.63it/s]"
     ]
    },
    {
     "name": "stdout",
     "output_type": "stream",
     "text": [
      "Creating Process Pool\n",
      "Scattering compositions between processes and computing distances\n"
     ]
    },
    {
     "name": "stderr",
     "output_type": "stream",
     "text": [
      "\n"
     ]
    },
    {
     "data": {
      "application/vnd.jupyter.widget-view+json": {
       "model_id": "523eb06387a8439cbd2b75030f094c9b",
       "version_major": 2,
       "version_minor": 0
      },
      "text/plain": [
       "  0%|          | 0/999 [00:00<?, ?it/s]"
      ]
     },
     "metadata": {},
     "output_type": "display_data"
    },
    {
     "name": "stdout",
     "output_type": "stream",
     "text": [
      "Distances computed closing processes\n",
      "Flattening sublists\n"
     ]
    },
    {
     "name": "stderr",
     "output_type": "stream",
     "text": [
      "100%|██████████| 1000/1000 [00:00<00:00, 9351.33it/s]"
     ]
    },
    {
     "name": "stdout",
     "output_type": "stream",
     "text": [
      "Average Element Mover's distance: 19.2648\n",
      "Std Element Mover's distance: 9.3601\n"
     ]
    },
    {
     "name": "stderr",
     "output_type": "stream",
     "text": [
      "\n"
     ]
    },
    {
     "data": {
      "text/plain": [
       "{'form_e_random_mean': -1.3723867765516042,\n",
       " 'form_e_random_std': 0.7347616392281606,\n",
       " 'form_e_trained_mean': -1.2955081553012133,\n",
       " 'form_e_trained_std': 0.7871812820430854,\n",
       " 'bulk_mod_random_mean': 4.29139886379242,\n",
       " 'bulk_mod_random_std': 0.6012997229802703,\n",
       " 'bulk_mod_trained_mean': 4.7102729897499085,\n",
       " 'bulk_mod_trained_std': 0.6149082531025668,\n",
       " 'charge_neutral_random': 0.599,\n",
       " 'electronegativity_balanced_random': 0.428,\n",
       " 'charge_neutral_trained': 0.785,\n",
       " 'electronegativity_balanced_trained': 0.667,\n",
       " 'unique_random': 1.0,\n",
       " 'unique_trained': 1.0,\n",
       " 'random_oxides_EMD_mean': 20.128644743593593,\n",
       " 'random_oxides_EMD_std': 9.82379022238823,\n",
       " 'final_compounds_EMD_mean': 19.264828293489487,\n",
       " 'final_compounds_EMD_std': 9.36010395686648}"
      ]
     },
     "execution_count": 7,
     "metadata": {},
     "output_type": "execute_result"
    }
   ],
   "source": [
    "# Load random oxides\n",
    "with open('./training_data/random_oxides.pkl', 'rb') as f: \n",
    "    random_oxides = pickle.load(f)\n",
    "\n",
    "# Load compounds\n",
    "with open('./training_data/oxides_form_e_bulk_mod_1-2/final_compounds_roost_constrained.pkl', 'rb') as handle:\n",
    "    final_compounds = pickle.load(handle)\n",
    "\n",
    "# Formation Energy\n",
    "form_e_random = []\n",
    "form_e_trained = []\n",
    "for compound in random_oxides:\n",
    "    form_e_random.append(predict_formation_energy(compound))\n",
    "for compound in final_compounds:\n",
    "    form_e_trained.append(predict_formation_energy(compound))\n",
    "\n",
    "# Bulk modulus\n",
    "bulk_mod_random = []\n",
    "bulk_mod_trained = []\n",
    "for compound in random_oxides:\n",
    "    bulk_mod_random.append(predict_bulk_mod(compound))\n",
    "for compound in final_compounds:\n",
    "    bulk_mod_trained.append(predict_bulk_mod(compound))\n",
    "\n",
    "# Charge neutrality and electronegativity\n",
    "cn_random_good, cn_random_bad = check_neutrality_multiple(random_oxides)\n",
    "en_random_good, en_random_bad = check_electronegativity_multiple(random_oxides)\n",
    "cn_trained_good, cn_trained_bad = check_neutrality_multiple(final_compounds)\n",
    "en_trained_good, en_trained_bad = check_electronegativity_multiple(final_compounds)\n",
    "\n",
    "# Uniqueness\n",
    "random_oxides_unique = list(set(random_oxides))\n",
    "final_compounds_unique = list(set(final_compounds))\n",
    "\n",
    "# EMD\n",
    "random_oxides_EMD_mean, random_oxides_EMD_std = similarity_to_nearest_neighbor(random_oxides)\n",
    "final_compounds_EMD_mean, final_compounds_EMD_std = similarity_to_nearest_neighbor(final_compounds)\n",
    "\n",
    "results = {}\n",
    "results['form_e_random_mean'] = np.mean(form_e_random)\n",
    "results['form_e_random_std'] = np.std(form_e_random)\n",
    "results['form_e_trained_mean'] = np.mean(form_e_trained)\n",
    "results['form_e_trained_std'] = np.std(form_e_trained)\n",
    "results['bulk_mod_random_mean'] = np.mean(bulk_mod_random)\n",
    "results['bulk_mod_random_std'] = np.std(bulk_mod_random)\n",
    "results['bulk_mod_trained_mean'] = np.mean(bulk_mod_trained)\n",
    "results['bulk_mod_trained_std'] = np.std(bulk_mod_trained)\n",
    "results['charge_neutral_random'] = len(cn_random_good)/(len(cn_random_good)+len(cn_random_bad))\n",
    "results['electronegativity_balanced_random'] = len(en_random_good)/(len(en_random_good)+len(en_random_bad))\n",
    "results['charge_neutral_trained'] = len(cn_trained_good)/(len(cn_trained_good)+len(cn_trained_bad))\n",
    "results['electronegativity_balanced_trained'] = len(en_trained_good)/(len(en_trained_good)+len(en_trained_bad))\n",
    "results['unique_random'] = len(random_oxides_unique)/len(random_oxides)\n",
    "results['unique_trained'] = len(final_compounds_unique)/len(final_compounds)\n",
    "results['random_oxides_EMD_mean'], results['random_oxides_EMD_std'] = random_oxides_EMD_mean, random_oxides_EMD_std\n",
    "results['final_compounds_EMD_mean'], results['final_compounds_EMD_std'] = final_compounds_EMD_mean, final_compounds_EMD_std\n",
    "results"
   ]
  },
  {
   "cell_type": "markdown",
   "metadata": {},
   "source": [
    "# Formation energy + Bulk modulus (1:3)"
   ]
  },
  {
   "cell_type": "code",
   "execution_count": 8,
   "metadata": {},
   "outputs": [
    {
     "name": "stderr",
     "output_type": "stream",
     "text": [
      "100%|██████████| 1000/1000 [00:00<00:00, 10063.86it/s]\n"
     ]
    },
    {
     "name": "stdout",
     "output_type": "stream",
     "text": [
      "Fitting mod_petti kernel matrix\n",
      "Constructing distances\n",
      "Parsing Formula\n"
     ]
    },
    {
     "name": "stderr",
     "output_type": "stream",
     "text": [
      "100%|██████████| 1000/1000 [00:00<00:00, 10340.48it/s]\n"
     ]
    },
    {
     "name": "stdout",
     "output_type": "stream",
     "text": [
      "Constructing joint compositional pairings\n"
     ]
    },
    {
     "name": "stderr",
     "output_type": "stream",
     "text": [
      "100%|██████████| 999/999 [00:00<00:00, 21073.19it/s]"
     ]
    },
    {
     "name": "stdout",
     "output_type": "stream",
     "text": [
      "Creating Process Pool\n",
      "Scattering compositions between processes and computing distances\n"
     ]
    },
    {
     "name": "stderr",
     "output_type": "stream",
     "text": [
      "\n"
     ]
    },
    {
     "data": {
      "application/vnd.jupyter.widget-view+json": {
       "model_id": "618bbc2373e647b6a6b8847b09604b51",
       "version_major": 2,
       "version_minor": 0
      },
      "text/plain": [
       "  0%|          | 0/999 [00:00<?, ?it/s]"
      ]
     },
     "metadata": {},
     "output_type": "display_data"
    },
    {
     "name": "stdout",
     "output_type": "stream",
     "text": [
      "Distances computed closing processes\n",
      "Flattening sublists\n"
     ]
    },
    {
     "name": "stderr",
     "output_type": "stream",
     "text": [
      "100%|██████████| 1000/1000 [00:00<00:00, 9142.54it/s]\n"
     ]
    },
    {
     "name": "stdout",
     "output_type": "stream",
     "text": [
      "Average Element Mover's distance: 20.1286\n",
      "Std Element Mover's distance: 9.8238\n"
     ]
    },
    {
     "name": "stderr",
     "output_type": "stream",
     "text": [
      "100%|██████████| 1000/1000 [00:00<00:00, 10211.06it/s]\n"
     ]
    },
    {
     "name": "stdout",
     "output_type": "stream",
     "text": [
      "Fitting mod_petti kernel matrix\n",
      "Constructing distances\n",
      "Parsing Formula\n"
     ]
    },
    {
     "name": "stderr",
     "output_type": "stream",
     "text": [
      "100%|██████████| 1000/1000 [00:00<00:00, 10830.80it/s]\n"
     ]
    },
    {
     "name": "stdout",
     "output_type": "stream",
     "text": [
      "Constructing joint compositional pairings\n"
     ]
    },
    {
     "name": "stderr",
     "output_type": "stream",
     "text": [
      "100%|██████████| 999/999 [00:00<00:00, 20863.24it/s]"
     ]
    },
    {
     "name": "stdout",
     "output_type": "stream",
     "text": [
      "Creating Process Pool\n",
      "Scattering compositions between processes and computing distances\n"
     ]
    },
    {
     "name": "stderr",
     "output_type": "stream",
     "text": [
      "\n"
     ]
    },
    {
     "data": {
      "application/vnd.jupyter.widget-view+json": {
       "model_id": "afa217c678844c86ba8aba1dc39e3fad",
       "version_major": 2,
       "version_minor": 0
      },
      "text/plain": [
       "  0%|          | 0/999 [00:00<?, ?it/s]"
      ]
     },
     "metadata": {},
     "output_type": "display_data"
    },
    {
     "name": "stdout",
     "output_type": "stream",
     "text": [
      "Distances computed closing processes\n",
      "Flattening sublists\n"
     ]
    },
    {
     "name": "stderr",
     "output_type": "stream",
     "text": [
      "100%|██████████| 1000/1000 [00:00<00:00, 9133.36it/s]"
     ]
    },
    {
     "name": "stdout",
     "output_type": "stream",
     "text": [
      "Average Element Mover's distance: 10.9479\n",
      "Std Element Mover's distance: 5.5133\n"
     ]
    },
    {
     "name": "stderr",
     "output_type": "stream",
     "text": [
      "\n"
     ]
    },
    {
     "data": {
      "text/plain": [
       "{'form_e_random_mean': -1.3723867772072553,\n",
       " 'form_e_random_std': 0.7347616385105727,\n",
       " 'form_e_trained_mean': -1.0311186917519664,\n",
       " 'form_e_trained_std': 0.5943204022273669,\n",
       " 'bulk_mod_random_mean': 4.291398881912231,\n",
       " 'bulk_mod_random_std': 0.6012997360124902,\n",
       " 'bulk_mod_trained_mean': 5.012083717107773,\n",
       " 'bulk_mod_trained_std': 0.5355028942943346,\n",
       " 'charge_neutral_random': 0.599,\n",
       " 'electronegativity_balanced_random': 0.428,\n",
       " 'charge_neutral_trained': 0.902,\n",
       " 'electronegativity_balanced_trained': 0.78,\n",
       " 'unique_random': 1.0,\n",
       " 'unique_trained': 1.0,\n",
       " 'random_oxides_EMD_mean': 20.128644743593593,\n",
       " 'random_oxides_EMD_std': 9.82379022238823,\n",
       " 'final_compounds_EMD_mean': 10.94794918809209,\n",
       " 'final_compounds_EMD_std': 5.513299101695085}"
      ]
     },
     "execution_count": 8,
     "metadata": {},
     "output_type": "execute_result"
    }
   ],
   "source": [
    "# Load random oxides\n",
    "with open('./training_data/random_oxides.pkl', 'rb') as f: \n",
    "    random_oxides = pickle.load(f)\n",
    "\n",
    "# Load compounds\n",
    "with open('./training_data/oxides_form_e_bulk_mod_1-3/final_compounds_roost_constrained.pkl', 'rb') as handle:\n",
    "    final_compounds = pickle.load(handle)\n",
    "\n",
    "# Formation Energy\n",
    "form_e_random = []\n",
    "form_e_trained = []\n",
    "for compound in random_oxides:\n",
    "    form_e_random.append(predict_formation_energy(compound))\n",
    "for compound in final_compounds:\n",
    "    form_e_trained.append(predict_formation_energy(compound))\n",
    "\n",
    "# Bulk modulus\n",
    "bulk_mod_random = []\n",
    "bulk_mod_trained = []\n",
    "for compound in random_oxides:\n",
    "    bulk_mod_random.append(predict_bulk_mod(compound))\n",
    "for compound in final_compounds:\n",
    "    bulk_mod_trained.append(predict_bulk_mod(compound))\n",
    "\n",
    "# Charge neutrality and electronegativity\n",
    "cn_random_good, cn_random_bad = check_neutrality_multiple(random_oxides)\n",
    "en_random_good, en_random_bad = check_electronegativity_multiple(random_oxides)\n",
    "cn_trained_good, cn_trained_bad = check_neutrality_multiple(final_compounds)\n",
    "en_trained_good, en_trained_bad = check_electronegativity_multiple(final_compounds)\n",
    "\n",
    "# Uniqueness\n",
    "random_oxides_unique = list(set(random_oxides))\n",
    "final_compounds_unique = list(set(final_compounds))\n",
    "\n",
    "# EMD\n",
    "random_oxides_EMD_mean, random_oxides_EMD_std = similarity_to_nearest_neighbor(random_oxides)\n",
    "final_compounds_EMD_mean, final_compounds_EMD_std = similarity_to_nearest_neighbor(final_compounds)\n",
    "\n",
    "results = {}\n",
    "results['form_e_random_mean'] = np.mean(form_e_random)\n",
    "results['form_e_random_std'] = np.std(form_e_random)\n",
    "results['form_e_trained_mean'] = np.mean(form_e_trained)\n",
    "results['form_e_trained_std'] = np.std(form_e_trained)\n",
    "results['bulk_mod_random_mean'] = np.mean(bulk_mod_random)\n",
    "results['bulk_mod_random_std'] = np.std(bulk_mod_random)\n",
    "results['bulk_mod_trained_mean'] = np.mean(bulk_mod_trained)\n",
    "results['bulk_mod_trained_std'] = np.std(bulk_mod_trained)\n",
    "results['charge_neutral_random'] = len(cn_random_good)/(len(cn_random_good)+len(cn_random_bad))\n",
    "results['electronegativity_balanced_random'] = len(en_random_good)/(len(en_random_good)+len(en_random_bad))\n",
    "results['charge_neutral_trained'] = len(cn_trained_good)/(len(cn_trained_good)+len(cn_trained_bad))\n",
    "results['electronegativity_balanced_trained'] = len(en_trained_good)/(len(en_trained_good)+len(en_trained_bad))\n",
    "results['unique_random'] = len(random_oxides_unique)/len(random_oxides)\n",
    "results['unique_trained'] = len(final_compounds_unique)/len(final_compounds)\n",
    "results['random_oxides_EMD_mean'], results['random_oxides_EMD_std'] = random_oxides_EMD_mean, random_oxides_EMD_std\n",
    "results['final_compounds_EMD_mean'], results['final_compounds_EMD_std'] = final_compounds_EMD_mean, final_compounds_EMD_std\n",
    "results"
   ]
  },
  {
   "cell_type": "markdown",
   "metadata": {},
   "source": [
    "# Sintering temperature + Bulk modulus (1:62.5)"
   ]
  },
  {
   "cell_type": "code",
   "execution_count": 9,
   "metadata": {},
   "outputs": [
    {
     "name": "stderr",
     "output_type": "stream",
     "text": [
      "100%|██████████| 1000/1000 [00:00<00:00, 10288.53it/s]\n"
     ]
    },
    {
     "name": "stdout",
     "output_type": "stream",
     "text": [
      "Fitting mod_petti kernel matrix\n",
      "Constructing distances\n",
      "Parsing Formula\n"
     ]
    },
    {
     "name": "stderr",
     "output_type": "stream",
     "text": [
      "100%|██████████| 1000/1000 [00:00<00:00, 10365.78it/s]\n"
     ]
    },
    {
     "name": "stdout",
     "output_type": "stream",
     "text": [
      "Constructing joint compositional pairings\n"
     ]
    },
    {
     "name": "stderr",
     "output_type": "stream",
     "text": [
      "100%|██████████| 999/999 [00:00<00:00, 21193.53it/s]"
     ]
    },
    {
     "name": "stdout",
     "output_type": "stream",
     "text": [
      "Creating Process Pool\n",
      "Scattering compositions between processes and computing distances\n"
     ]
    },
    {
     "name": "stderr",
     "output_type": "stream",
     "text": [
      "\n"
     ]
    },
    {
     "data": {
      "application/vnd.jupyter.widget-view+json": {
       "model_id": "c43fd1513af14d91bfa741dd035d59b3",
       "version_major": 2,
       "version_minor": 0
      },
      "text/plain": [
       "  0%|          | 0/999 [00:00<?, ?it/s]"
      ]
     },
     "metadata": {},
     "output_type": "display_data"
    },
    {
     "name": "stdout",
     "output_type": "stream",
     "text": [
      "Distances computed closing processes\n",
      "Flattening sublists\n"
     ]
    },
    {
     "name": "stderr",
     "output_type": "stream",
     "text": [
      "100%|██████████| 1000/1000 [00:00<00:00, 8842.40it/s]\n"
     ]
    },
    {
     "name": "stdout",
     "output_type": "stream",
     "text": [
      "Average Element Mover's distance: 20.1286\n",
      "Std Element Mover's distance: 9.8238\n"
     ]
    },
    {
     "name": "stderr",
     "output_type": "stream",
     "text": [
      "100%|██████████| 1000/1000 [00:00<00:00, 9814.70it/s]\n"
     ]
    },
    {
     "name": "stdout",
     "output_type": "stream",
     "text": [
      "Fitting mod_petti kernel matrix\n",
      "Constructing distances\n",
      "Parsing Formula\n"
     ]
    },
    {
     "name": "stderr",
     "output_type": "stream",
     "text": [
      "100%|██████████| 1000/1000 [00:00<00:00, 10037.92it/s]\n"
     ]
    },
    {
     "name": "stdout",
     "output_type": "stream",
     "text": [
      "Constructing joint compositional pairings\n"
     ]
    },
    {
     "name": "stderr",
     "output_type": "stream",
     "text": [
      "100%|██████████| 999/999 [00:00<00:00, 20437.86it/s]"
     ]
    },
    {
     "name": "stdout",
     "output_type": "stream",
     "text": [
      "Creating Process Pool\n",
      "Scattering compositions between processes and computing distances\n"
     ]
    },
    {
     "name": "stderr",
     "output_type": "stream",
     "text": [
      "\n"
     ]
    },
    {
     "data": {
      "application/vnd.jupyter.widget-view+json": {
       "model_id": "c6a99cf8c89c49279fda539718ea2101",
       "version_major": 2,
       "version_minor": 0
      },
      "text/plain": [
       "  0%|          | 0/999 [00:00<?, ?it/s]"
      ]
     },
     "metadata": {},
     "output_type": "display_data"
    },
    {
     "name": "stdout",
     "output_type": "stream",
     "text": [
      "Distances computed closing processes\n",
      "Flattening sublists\n"
     ]
    },
    {
     "name": "stderr",
     "output_type": "stream",
     "text": [
      "100%|██████████| 1000/1000 [00:00<00:00, 9294.79it/s]"
     ]
    },
    {
     "name": "stdout",
     "output_type": "stream",
     "text": [
      "Average Element Mover's distance: 11.155\n",
      "Std Element Mover's distance: 6.2442\n"
     ]
    },
    {
     "name": "stderr",
     "output_type": "stream",
     "text": [
      "\n"
     ]
    },
    {
     "data": {
      "text/plain": [
       "{'form_e_random_mean': -1.3723867765516042,\n",
       " 'form_e_random_std': 0.7347616392281606,\n",
       " 'form_e_trained_mean': -0.861684630729258,\n",
       " 'form_e_trained_std': 0.48508761094613323,\n",
       " 'sintering_random_mean': 1011.1405443517411,\n",
       " 'sintering_random_std': 131.0925303880326,\n",
       " 'sintering_trained_mean': 826.7920277303912,\n",
       " 'sintering_trained_std': 103.82986867335417,\n",
       " 'bulk_mod_random_mean': 4.291398871898651,\n",
       " 'bulk_mod_random_std': 0.6012997253423198,\n",
       " 'bulk_mod_trained_mean': 4.243075564146042,\n",
       " 'bulk_mod_trained_std': 0.7744622749481933,\n",
       " 'charge_neutral_random': 0.599,\n",
       " 'electronegativity_balanced_random': 0.428,\n",
       " 'charge_neutral_trained': 0.859,\n",
       " 'electronegativity_balanced_trained': 0.616,\n",
       " 'unique_random': 1.0,\n",
       " 'unique_trained': 1.0,\n",
       " 'random_oxides_EMD_mean': 20.128644743593593,\n",
       " 'random_oxides_EMD_std': 9.82379022238823,\n",
       " 'final_compounds_EMD_mean': 11.15498477787988,\n",
       " 'final_compounds_EMD_std': 6.244239116801435}"
      ]
     },
     "execution_count": 9,
     "metadata": {},
     "output_type": "execute_result"
    }
   ],
   "source": [
    "# Load random oxides\n",
    "with open('./training_data/random_oxides.pkl', 'rb') as f: \n",
    "    random_oxides = pickle.load(f)\n",
    "\n",
    "# Load compounds\n",
    "with open('./training_data/oxides_sinter_bulk_mod_1-62/final_compounds_roost_constrained.pkl', 'rb') as handle:\n",
    "    final_compounds = pickle.load(handle)\n",
    "\n",
    "# Formation Energy\n",
    "form_e_random = []\n",
    "form_e_trained = []\n",
    "for compound in random_oxides:\n",
    "    form_e_random.append(predict_formation_energy(compound))\n",
    "for compound in final_compounds:\n",
    "    form_e_trained.append(predict_formation_energy(compound))\n",
    "\n",
    "# Sintering temp\n",
    "sintering_random = []\n",
    "sintering_trained = []\n",
    "for compound in random_oxides:\n",
    "    sintering_random.append(predict_sinter(compound))\n",
    "for compound in final_compounds:\n",
    "    sintering_trained.append(predict_sinter(compound))\n",
    "\n",
    "# Bulk modulus\n",
    "bulk_mod_random = []\n",
    "bulk_mod_trained = []\n",
    "for compound in random_oxides:\n",
    "    bulk_mod_random.append(predict_bulk_mod(compound))\n",
    "for compound in final_compounds:\n",
    "    bulk_mod_trained.append(predict_bulk_mod(compound))\n",
    "\n",
    "# Charge neutrality and electronegativity\n",
    "cn_random_good, cn_random_bad = check_neutrality_multiple(random_oxides)\n",
    "en_random_good, en_random_bad = check_electronegativity_multiple(random_oxides)\n",
    "cn_trained_good, cn_trained_bad = check_neutrality_multiple(final_compounds)\n",
    "en_trained_good, en_trained_bad = check_electronegativity_multiple(final_compounds)\n",
    "\n",
    "# Uniqueness\n",
    "random_oxides_unique = list(set(random_oxides))\n",
    "final_compounds_unique = list(set(final_compounds))\n",
    "\n",
    "# EMD\n",
    "random_oxides_EMD_mean, random_oxides_EMD_std = similarity_to_nearest_neighbor(random_oxides)\n",
    "final_compounds_EMD_mean, final_compounds_EMD_std = similarity_to_nearest_neighbor(final_compounds)\n",
    "\n",
    "results = {}\n",
    "results['form_e_random_mean'] = np.mean(form_e_random)\n",
    "results['form_e_random_std'] = np.std(form_e_random)\n",
    "results['form_e_trained_mean'] = np.mean(form_e_trained)\n",
    "results['form_e_trained_std'] = np.std(form_e_trained)\n",
    "\n",
    "results['sintering_random_mean'] = np.mean(sintering_random)\n",
    "results['sintering_random_std'] = np.std(sintering_random)\n",
    "results['sintering_trained_mean'] = np.mean(sintering_trained)\n",
    "results['sintering_trained_std'] = np.std(sintering_trained)\n",
    "\n",
    "results['bulk_mod_random_mean'] = np.mean(bulk_mod_random)\n",
    "results['bulk_mod_random_std'] = np.std(bulk_mod_random)\n",
    "results['bulk_mod_trained_mean'] = np.mean(bulk_mod_trained)\n",
    "results['bulk_mod_trained_std'] = np.std(bulk_mod_trained)\n",
    "\n",
    "results['charge_neutral_random'] = len(cn_random_good)/(len(cn_random_good)+len(cn_random_bad))\n",
    "results['electronegativity_balanced_random'] = len(en_random_good)/(len(en_random_good)+len(en_random_bad))\n",
    "results['charge_neutral_trained'] = len(cn_trained_good)/(len(cn_trained_good)+len(cn_trained_bad))\n",
    "results['electronegativity_balanced_trained'] = len(en_trained_good)/(len(en_trained_good)+len(en_trained_bad))\n",
    "results['unique_random'] = len(random_oxides_unique)/len(random_oxides)\n",
    "results['unique_trained'] = len(final_compounds_unique)/len(final_compounds)\n",
    "results['random_oxides_EMD_mean'], results['random_oxides_EMD_std'] = random_oxides_EMD_mean, random_oxides_EMD_std\n",
    "results['final_compounds_EMD_mean'], results['final_compounds_EMD_std'] = final_compounds_EMD_mean, final_compounds_EMD_std\n",
    "results"
   ]
  },
  {
   "cell_type": "markdown",
   "metadata": {},
   "source": [
    "# Sintering temperature + Bulk modulus (1:125)"
   ]
  },
  {
   "cell_type": "code",
   "execution_count": 10,
   "metadata": {},
   "outputs": [
    {
     "name": "stderr",
     "output_type": "stream",
     "text": [
      "100%|██████████| 1000/1000 [00:00<00:00, 10175.61it/s]\n"
     ]
    },
    {
     "name": "stdout",
     "output_type": "stream",
     "text": [
      "Fitting mod_petti kernel matrix\n",
      "Constructing distances\n",
      "Parsing Formula\n"
     ]
    },
    {
     "name": "stderr",
     "output_type": "stream",
     "text": [
      "100%|██████████| 1000/1000 [00:00<00:00, 10564.73it/s]\n"
     ]
    },
    {
     "name": "stdout",
     "output_type": "stream",
     "text": [
      "Constructing joint compositional pairings\n"
     ]
    },
    {
     "name": "stderr",
     "output_type": "stream",
     "text": [
      "100%|██████████| 999/999 [00:00<00:00, 21232.41it/s]"
     ]
    },
    {
     "name": "stdout",
     "output_type": "stream",
     "text": [
      "Creating Process Pool\n",
      "Scattering compositions between processes and computing distances\n"
     ]
    },
    {
     "name": "stderr",
     "output_type": "stream",
     "text": [
      "\n"
     ]
    },
    {
     "data": {
      "application/vnd.jupyter.widget-view+json": {
       "model_id": "7d46e04ba69c42d296246031c0885009",
       "version_major": 2,
       "version_minor": 0
      },
      "text/plain": [
       "  0%|          | 0/999 [00:00<?, ?it/s]"
      ]
     },
     "metadata": {},
     "output_type": "display_data"
    },
    {
     "name": "stdout",
     "output_type": "stream",
     "text": [
      "Distances computed closing processes\n",
      "Flattening sublists\n"
     ]
    },
    {
     "name": "stderr",
     "output_type": "stream",
     "text": [
      "100%|██████████| 1000/1000 [00:00<00:00, 9067.41it/s]\n"
     ]
    },
    {
     "name": "stdout",
     "output_type": "stream",
     "text": [
      "Average Element Mover's distance: 20.1286\n",
      "Std Element Mover's distance: 9.8238\n"
     ]
    },
    {
     "name": "stderr",
     "output_type": "stream",
     "text": [
      "100%|██████████| 1000/1000 [00:00<00:00, 10155.04it/s]\n"
     ]
    },
    {
     "name": "stdout",
     "output_type": "stream",
     "text": [
      "Fitting mod_petti kernel matrix\n",
      "Constructing distances\n",
      "Parsing Formula\n"
     ]
    },
    {
     "name": "stderr",
     "output_type": "stream",
     "text": [
      "100%|██████████| 999/999 [00:00<00:00, 10621.67it/s]\n"
     ]
    },
    {
     "name": "stdout",
     "output_type": "stream",
     "text": [
      "Constructing joint compositional pairings\n"
     ]
    },
    {
     "name": "stderr",
     "output_type": "stream",
     "text": [
      "100%|██████████| 998/998 [00:00<00:00, 20769.96it/s]"
     ]
    },
    {
     "name": "stdout",
     "output_type": "stream",
     "text": [
      "Creating Process Pool\n",
      "Scattering compositions between processes and computing distances\n"
     ]
    },
    {
     "name": "stderr",
     "output_type": "stream",
     "text": [
      "\n"
     ]
    },
    {
     "data": {
      "application/vnd.jupyter.widget-view+json": {
       "model_id": "15a3746480eb498c8a5141380c7828ca",
       "version_major": 2,
       "version_minor": 0
      },
      "text/plain": [
       "  0%|          | 0/998 [00:00<?, ?it/s]"
      ]
     },
     "metadata": {},
     "output_type": "display_data"
    },
    {
     "name": "stdout",
     "output_type": "stream",
     "text": [
      "Distances computed closing processes\n",
      "Flattening sublists\n"
     ]
    },
    {
     "name": "stderr",
     "output_type": "stream",
     "text": [
      "100%|██████████| 999/999 [00:00<00:00, 9387.58it/s]"
     ]
    },
    {
     "name": "stdout",
     "output_type": "stream",
     "text": [
      "Average Element Mover's distance: 10.1269\n",
      "Std Element Mover's distance: 5.0021\n"
     ]
    },
    {
     "name": "stderr",
     "output_type": "stream",
     "text": [
      "\n"
     ]
    },
    {
     "data": {
      "text/plain": [
       "{'form_e_random_mean': -1.3723867772072553,\n",
       " 'form_e_random_std': 0.7347616385105727,\n",
       " 'form_e_trained_mean': -0.7962676405527164,\n",
       " 'form_e_trained_std': 0.4577622202616426,\n",
       " 'sintering_random_mean': 1011.1405443517411,\n",
       " 'sintering_random_std': 131.0925303880326,\n",
       " 'sintering_trained_mean': 886.3413630313264,\n",
       " 'sintering_trained_std': 102.12414943661948,\n",
       " 'bulk_mod_random_mean': 4.29139886379242,\n",
       " 'bulk_mod_random_std': 0.6012997229802703,\n",
       " 'bulk_mod_trained_mean': 4.735590208292008,\n",
       " 'bulk_mod_trained_std': 0.6714195295146307,\n",
       " 'charge_neutral_random': 0.599,\n",
       " 'electronegativity_balanced_random': 0.428,\n",
       " 'charge_neutral_trained': 0.847,\n",
       " 'electronegativity_balanced_trained': 0.628,\n",
       " 'unique_random': 1.0,\n",
       " 'unique_trained': 1.0,\n",
       " 'random_oxides_EMD_mean': 20.128644743593593,\n",
       " 'random_oxides_EMD_std': 9.82379022238823,\n",
       " 'final_compounds_EMD_mean': 10.126934490973941,\n",
       " 'final_compounds_EMD_std': 5.00210909851853}"
      ]
     },
     "execution_count": 10,
     "metadata": {},
     "output_type": "execute_result"
    }
   ],
   "source": [
    "# Load random oxides\n",
    "with open('./training_data/random_oxides.pkl', 'rb') as f: \n",
    "    random_oxides = pickle.load(f)\n",
    "\n",
    "# Load compounds\n",
    "with open('./training_data/oxides_sinter_bulk_mod_1-125/final_compounds_roost_constrained.pkl', 'rb') as handle:\n",
    "    final_compounds = pickle.load(handle)\n",
    "\n",
    "# Formation Energy\n",
    "form_e_random = []\n",
    "form_e_trained = []\n",
    "for compound in random_oxides:\n",
    "    form_e_random.append(predict_formation_energy(compound))\n",
    "for compound in final_compounds:\n",
    "    form_e_trained.append(predict_formation_energy(compound))\n",
    "\n",
    "# Sintering temp\n",
    "sintering_random = []\n",
    "sintering_trained = []\n",
    "for compound in random_oxides:\n",
    "    sintering_random.append(predict_sinter(compound))\n",
    "for compound in final_compounds:\n",
    "    sintering_trained.append(predict_sinter(compound))\n",
    "\n",
    "# Bulk modulus\n",
    "bulk_mod_random = []\n",
    "bulk_mod_trained = []\n",
    "for compound in random_oxides:\n",
    "    bulk_mod_random.append(predict_bulk_mod(compound))\n",
    "for compound in final_compounds:\n",
    "    bulk_mod_trained.append(predict_bulk_mod(compound))\n",
    "\n",
    "# Charge neutrality and electronegativity\n",
    "cn_random_good, cn_random_bad = check_neutrality_multiple(random_oxides)\n",
    "en_random_good, en_random_bad = check_electronegativity_multiple(random_oxides)\n",
    "cn_trained_good, cn_trained_bad = check_neutrality_multiple(final_compounds)\n",
    "en_trained_good, en_trained_bad = check_electronegativity_multiple(final_compounds)\n",
    "\n",
    "# Uniqueness\n",
    "random_oxides_unique = list(set(random_oxides))\n",
    "final_compounds_unique = list(set(final_compounds))\n",
    "\n",
    "# EMD\n",
    "random_oxides_EMD_mean, random_oxides_EMD_std = similarity_to_nearest_neighbor(random_oxides)\n",
    "final_compounds_EMD_mean, final_compounds_EMD_std = similarity_to_nearest_neighbor(final_compounds)\n",
    "\n",
    "results = {}\n",
    "results['form_e_random_mean'] = np.mean(form_e_random)\n",
    "results['form_e_random_std'] = np.std(form_e_random)\n",
    "results['form_e_trained_mean'] = np.mean(form_e_trained)\n",
    "results['form_e_trained_std'] = np.std(form_e_trained)\n",
    "\n",
    "results['sintering_random_mean'] = np.mean(sintering_random)\n",
    "results['sintering_random_std'] = np.std(sintering_random)\n",
    "results['sintering_trained_mean'] = np.mean(sintering_trained)\n",
    "results['sintering_trained_std'] = np.std(sintering_trained)\n",
    "\n",
    "results['bulk_mod_random_mean'] = np.mean(bulk_mod_random)\n",
    "results['bulk_mod_random_std'] = np.std(bulk_mod_random)\n",
    "results['bulk_mod_trained_mean'] = np.mean(bulk_mod_trained)\n",
    "results['bulk_mod_trained_std'] = np.std(bulk_mod_trained)\n",
    "\n",
    "results['charge_neutral_random'] = len(cn_random_good)/(len(cn_random_good)+len(cn_random_bad))\n",
    "results['electronegativity_balanced_random'] = len(en_random_good)/(len(en_random_good)+len(en_random_bad))\n",
    "results['charge_neutral_trained'] = len(cn_trained_good)/(len(cn_trained_good)+len(cn_trained_bad))\n",
    "results['electronegativity_balanced_trained'] = len(en_trained_good)/(len(en_trained_good)+len(en_trained_bad))\n",
    "results['unique_random'] = len(random_oxides_unique)/len(random_oxides)\n",
    "results['unique_trained'] = len(final_compounds_unique)/len(final_compounds)\n",
    "results['random_oxides_EMD_mean'], results['random_oxides_EMD_std'] = random_oxides_EMD_mean, random_oxides_EMD_std\n",
    "results['final_compounds_EMD_mean'], results['final_compounds_EMD_std'] = final_compounds_EMD_mean, final_compounds_EMD_std\n",
    "results"
   ]
  },
  {
   "cell_type": "markdown",
   "metadata": {},
   "source": [
    "# Sintering temperature + Bulk modulus (1:250)"
   ]
  },
  {
   "cell_type": "code",
   "execution_count": 11,
   "metadata": {},
   "outputs": [
    {
     "name": "stderr",
     "output_type": "stream",
     "text": [
      "100%|██████████| 1000/1000 [00:00<00:00, 10312.31it/s]\n"
     ]
    },
    {
     "name": "stdout",
     "output_type": "stream",
     "text": [
      "Fitting mod_petti kernel matrix\n",
      "Constructing distances\n",
      "Parsing Formula\n"
     ]
    },
    {
     "name": "stderr",
     "output_type": "stream",
     "text": [
      "100%|██████████| 1000/1000 [00:00<00:00, 10133.54it/s]\n"
     ]
    },
    {
     "name": "stdout",
     "output_type": "stream",
     "text": [
      "Constructing joint compositional pairings\n"
     ]
    },
    {
     "name": "stderr",
     "output_type": "stream",
     "text": [
      "100%|██████████| 999/999 [00:00<00:00, 20795.31it/s]"
     ]
    },
    {
     "name": "stdout",
     "output_type": "stream",
     "text": [
      "Creating Process Pool\n",
      "Scattering compositions between processes and computing distances\n"
     ]
    },
    {
     "name": "stderr",
     "output_type": "stream",
     "text": [
      "\n"
     ]
    },
    {
     "data": {
      "application/vnd.jupyter.widget-view+json": {
       "model_id": "56e51aebffbd41b3afbe1a1c33c546b8",
       "version_major": 2,
       "version_minor": 0
      },
      "text/plain": [
       "  0%|          | 0/999 [00:00<?, ?it/s]"
      ]
     },
     "metadata": {},
     "output_type": "display_data"
    },
    {
     "name": "stdout",
     "output_type": "stream",
     "text": [
      "Distances computed closing processes\n",
      "Flattening sublists\n"
     ]
    },
    {
     "name": "stderr",
     "output_type": "stream",
     "text": [
      "100%|██████████| 1000/1000 [00:00<00:00, 9138.59it/s]\n"
     ]
    },
    {
     "name": "stdout",
     "output_type": "stream",
     "text": [
      "Average Element Mover's distance: 20.1286\n",
      "Std Element Mover's distance: 9.8238\n"
     ]
    },
    {
     "name": "stderr",
     "output_type": "stream",
     "text": [
      "100%|██████████| 1000/1000 [00:00<00:00, 10437.82it/s]\n"
     ]
    },
    {
     "name": "stdout",
     "output_type": "stream",
     "text": [
      "Fitting mod_petti kernel matrix\n",
      "Constructing distances\n",
      "Parsing Formula\n"
     ]
    },
    {
     "name": "stderr",
     "output_type": "stream",
     "text": [
      "100%|██████████| 997/997 [00:00<00:00, 10886.50it/s]\n"
     ]
    },
    {
     "name": "stdout",
     "output_type": "stream",
     "text": [
      "Constructing joint compositional pairings\n"
     ]
    },
    {
     "name": "stderr",
     "output_type": "stream",
     "text": [
      "100%|██████████| 996/996 [00:00<00:00, 20515.28it/s]"
     ]
    },
    {
     "name": "stdout",
     "output_type": "stream",
     "text": [
      "Creating Process Pool\n",
      "Scattering compositions between processes and computing distances\n"
     ]
    },
    {
     "name": "stderr",
     "output_type": "stream",
     "text": [
      "\n"
     ]
    },
    {
     "data": {
      "application/vnd.jupyter.widget-view+json": {
       "model_id": "286079e3d8a348caad0c72b4af07277b",
       "version_major": 2,
       "version_minor": 0
      },
      "text/plain": [
       "  0%|          | 0/996 [00:00<?, ?it/s]"
      ]
     },
     "metadata": {},
     "output_type": "display_data"
    },
    {
     "name": "stdout",
     "output_type": "stream",
     "text": [
      "Distances computed closing processes\n",
      "Flattening sublists\n"
     ]
    },
    {
     "name": "stderr",
     "output_type": "stream",
     "text": [
      "100%|██████████| 997/997 [00:00<00:00, 9439.85it/s]"
     ]
    },
    {
     "name": "stdout",
     "output_type": "stream",
     "text": [
      "Average Element Mover's distance: 8.878\n",
      "Std Element Mover's distance: 4.4907\n"
     ]
    },
    {
     "name": "stderr",
     "output_type": "stream",
     "text": [
      "\n"
     ]
    },
    {
     "data": {
      "text/plain": [
       "{'form_e_random_mean': -1.3723867765516042,\n",
       " 'form_e_random_std': 0.7347616392281606,\n",
       " 'form_e_trained_mean': -0.43416797831025905,\n",
       " 'form_e_trained_std': 0.35918108369723534,\n",
       " 'sintering_random_mean': 1011.1405443517411,\n",
       " 'sintering_random_std': 131.0925303880326,\n",
       " 'sintering_trained_mean': 935.1747791413529,\n",
       " 'sintering_trained_std': 64.0713517664827,\n",
       " 'bulk_mod_random_mean': 4.29139886379242,\n",
       " 'bulk_mod_random_std': 0.6012997229802703,\n",
       " 'bulk_mod_trained_mean': 5.226487160682678,\n",
       " 'bulk_mod_trained_std': 0.36209249095798707,\n",
       " 'charge_neutral_random': 0.599,\n",
       " 'electronegativity_balanced_random': 0.428,\n",
       " 'charge_neutral_trained': 0.926,\n",
       " 'electronegativity_balanced_trained': 0.639,\n",
       " 'unique_random': 1.0,\n",
       " 'unique_trained': 0.999,\n",
       " 'random_oxides_EMD_mean': 20.128644743593593,\n",
       " 'random_oxides_EMD_std': 9.82379022238823,\n",
       " 'final_compounds_EMD_mean': 8.878022898180483,\n",
       " 'final_compounds_EMD_std': 4.490652502172893}"
      ]
     },
     "execution_count": 11,
     "metadata": {},
     "output_type": "execute_result"
    }
   ],
   "source": [
    "# Load random oxides\n",
    "with open('./training_data/random_oxides.pkl', 'rb') as f: \n",
    "    random_oxides = pickle.load(f)\n",
    "\n",
    "# Load compounds\n",
    "with open('./training_data/oxides_sinter_bulk_mod_1-250/final_compounds_roost_constrained.pkl', 'rb') as handle:\n",
    "    final_compounds = pickle.load(handle)\n",
    "\n",
    "# Formation Energy\n",
    "form_e_random = []\n",
    "form_e_trained = []\n",
    "for compound in random_oxides:\n",
    "    form_e_random.append(predict_formation_energy(compound))\n",
    "for compound in final_compounds:\n",
    "    form_e_trained.append(predict_formation_energy(compound))\n",
    "\n",
    "# Sintering temp\n",
    "sintering_random = []\n",
    "sintering_trained = []\n",
    "for compound in random_oxides:\n",
    "    sintering_random.append(predict_sinter(compound))\n",
    "for compound in final_compounds:\n",
    "    sintering_trained.append(predict_sinter(compound))\n",
    "\n",
    "# Bulk modulus\n",
    "bulk_mod_random = []\n",
    "bulk_mod_trained = []\n",
    "for compound in random_oxides:\n",
    "    bulk_mod_random.append(predict_bulk_mod(compound))\n",
    "for compound in final_compounds:\n",
    "    bulk_mod_trained.append(predict_bulk_mod(compound))\n",
    "\n",
    "# Charge neutrality and electronegativity\n",
    "cn_random_good, cn_random_bad = check_neutrality_multiple(random_oxides)\n",
    "en_random_good, en_random_bad = check_electronegativity_multiple(random_oxides)\n",
    "cn_trained_good, cn_trained_bad = check_neutrality_multiple(final_compounds)\n",
    "en_trained_good, en_trained_bad = check_electronegativity_multiple(final_compounds)\n",
    "\n",
    "# Uniqueness\n",
    "random_oxides_unique = list(set(random_oxides))\n",
    "final_compounds_unique = list(set(final_compounds))\n",
    "\n",
    "# EMD\n",
    "random_oxides_EMD_mean, random_oxides_EMD_std = similarity_to_nearest_neighbor(random_oxides)\n",
    "final_compounds_EMD_mean, final_compounds_EMD_std = similarity_to_nearest_neighbor(final_compounds)\n",
    "\n",
    "results = {}\n",
    "results['form_e_random_mean'] = np.mean(form_e_random)\n",
    "results['form_e_random_std'] = np.std(form_e_random)\n",
    "results['form_e_trained_mean'] = np.mean(form_e_trained)\n",
    "results['form_e_trained_std'] = np.std(form_e_trained)\n",
    "\n",
    "results['sintering_random_mean'] = np.mean(sintering_random)\n",
    "results['sintering_random_std'] = np.std(sintering_random)\n",
    "results['sintering_trained_mean'] = np.mean(sintering_trained)\n",
    "results['sintering_trained_std'] = np.std(sintering_trained)\n",
    "\n",
    "results['bulk_mod_random_mean'] = np.mean(bulk_mod_random)\n",
    "results['bulk_mod_random_std'] = np.std(bulk_mod_random)\n",
    "results['bulk_mod_trained_mean'] = np.mean(bulk_mod_trained)\n",
    "results['bulk_mod_trained_std'] = np.std(bulk_mod_trained)\n",
    "\n",
    "results['charge_neutral_random'] = len(cn_random_good)/(len(cn_random_good)+len(cn_random_bad))\n",
    "results['electronegativity_balanced_random'] = len(en_random_good)/(len(en_random_good)+len(en_random_bad))\n",
    "results['charge_neutral_trained'] = len(cn_trained_good)/(len(cn_trained_good)+len(cn_trained_bad))\n",
    "results['electronegativity_balanced_trained'] = len(en_trained_good)/(len(en_trained_good)+len(en_trained_bad))\n",
    "results['unique_random'] = len(random_oxides_unique)/len(random_oxides)\n",
    "results['unique_trained'] = len(final_compounds_unique)/len(final_compounds)\n",
    "results['random_oxides_EMD_mean'], results['random_oxides_EMD_std'] = random_oxides_EMD_mean, random_oxides_EMD_std\n",
    "results['final_compounds_EMD_mean'], results['final_compounds_EMD_std'] = final_compounds_EMD_mean, final_compounds_EMD_std\n",
    "results"
   ]
  },
  {
   "cell_type": "code",
   "execution_count": 12,
   "metadata": {},
   "outputs": [
    {
     "data": {
      "text/plain": [
       "{'form_e_random_mean': -1.3723867765516042,\n",
       " 'form_e_random_std': 0.7347616392281606,\n",
       " 'form_e_trained_mean': -0.43416797831025905,\n",
       " 'form_e_trained_std': 0.35918108369723534,\n",
       " 'sintering_random_mean': 1011.1405443517411,\n",
       " 'sintering_random_std': 131.0925303880326,\n",
       " 'sintering_trained_mean': 935.1747791413529,\n",
       " 'sintering_trained_std': 64.0713517664827,\n",
       " 'bulk_mod_random_mean': 4.29139886379242,\n",
       " 'bulk_mod_random_std': 0.6012997229802703,\n",
       " 'bulk_mod_trained_mean': 5.226487160682678,\n",
       " 'bulk_mod_trained_std': 0.36209249095798707,\n",
       " 'charge_neutral_random': 0.599,\n",
       " 'electronegativity_balanced_random': 0.428,\n",
       " 'charge_neutral_trained': 0.926,\n",
       " 'electronegativity_balanced_trained': 0.639,\n",
       " 'unique_random': 1.0,\n",
       " 'unique_trained': 0.999,\n",
       " 'random_oxides_EMD_mean': 20.128644743593593,\n",
       " 'random_oxides_EMD_std': 9.82379022238823,\n",
       " 'final_compounds_EMD_mean': 8.878022898180483,\n",
       " 'final_compounds_EMD_std': 4.490652502172893}"
      ]
     },
     "execution_count": 12,
     "metadata": {},
     "output_type": "execute_result"
    }
   ],
   "source": [
    "results"
   ]
  },
  {
   "cell_type": "markdown",
   "metadata": {},
   "source": [
    "# Joint Optimization Figure"
   ]
  },
  {
   "cell_type": "code",
   "execution_count": 3,
   "metadata": {},
   "outputs": [],
   "source": [
    "# Load predicted formation energies of random oxides \n",
    "with open('./training_data/oxides_sinter_bulk_mod_1-62/sinter_random.pkl', 'rb') as f: \n",
    "    sinter_random = pickle.load(f)\n",
    "\n",
    "# Load predicted bulk mod of random oxides \n",
    "with open('./training_data/oxides_sinter_bulk_mod_1-62/bulk_mod_random.pkl', 'rb') as f: \n",
    "    bulk_mod_random = pickle.load(f)\n",
    "\n",
    "# Load predicted formation energies of constrained DQN\n",
    "ratios = [\n",
    "          '1-250',\n",
    "          '1-125',\n",
    "          '1-62'\n",
    "          ]\n",
    "sinter_dict   = {}\n",
    "bulk_mod_dict = {}\n",
    "\n",
    "\n",
    "for ratio in ratios:\n",
    "    with open('./training_data/oxides_sinter_bulk_mod_{}/sinter_500iter_roost_constrained.pkl'.format(ratio), 'rb') as f: \n",
    "        sinter_constrained = pickle.load(f)\n",
    "        sinter_dict[ratio] = sinter_constrained\n",
    "\n",
    "    # Load predicted bulk mod of constrained DQN\n",
    "    with open('./training_data/oxides_sinter_bulk_mod_{}/bulk_mod_500iter_roost_constrained.pkl'.format(ratio), 'rb') as f: \n",
    "        bulk_mod_constrained = pickle.load(f)\n",
    "        bulk_mod_dict[ratio] = bulk_mod_constrained\n",
    "\n",
    "# visualize compounds\n",
    "# Load generated compounds of constrained DQN\n",
    "compounds_dict   = {}\n",
    "\n",
    "for ratio in ratios:\n",
    "    with open('./training_data/oxides_sinter_bulk_mod_{}/final_compounds_roost_constrained.pkl'.format(ratio), 'rb') as f: \n",
    "        compounds = pickle.load(f)\n",
    "        compounds_dict[ratio] = compounds"
   ]
  },
  {
   "cell_type": "code",
   "execution_count": 105,
   "metadata": {},
   "outputs": [
    {
     "name": "stdout",
     "output_type": "stream",
     "text": [
      "880.6949242424243 5.514501571655273\n",
      "Os5WO5 1-250\n"
     ]
    },
    {
     "data": {
      "image/png": "[encoded data removed]",
      "text/plain": [
       "<Figure size 720x720 with 3 Axes>"
      ]
     },
     "metadata": {
      "needs_background": "light"
     },
     "output_type": "display_data"
    }
   ],
   "source": [
    "compounds_to_check = []\n",
    "# 2D plot\n",
    "# definitions for the axes\n",
    "colors = ['red', 'blue', 'green']\n",
    "alpha = 0.3\n",
    "bins = 100\n",
    "\n",
    "left, width = 0.1, 0.65\n",
    "bottom, height = 0.1, 0.65\n",
    "spacing = 0.01\n",
    "rect_scatter = [left, bottom, width, height]\n",
    "rect_histx = [left, bottom + height + spacing, width, 0.2]\n",
    "rect_histy = [left + width + spacing, bottom, 0.2, height]\n",
    "\n",
    "fig = plt.figure(figsize=(10,10))\n",
    "ax = fig.add_axes(rect_scatter)\n",
    "ax_histx = fig.add_axes(rect_histx, sharex=ax)\n",
    "ax_histy = fig.add_axes(rect_histy, sharey=ax)\n",
    "\n",
    "# no labels from histogram\n",
    "ax_histx.tick_params(axis=\"x\", labelbottom=False)\n",
    "ax_histx.tick_params(axis=\"y\", labelleft=False)\n",
    "ax_histy.tick_params(axis=\"y\", labelleft=False)\n",
    "ax_histy.tick_params(axis=\"x\", labelbottom=False)\n",
    "\n",
    "ax.scatter(sinter_random, bulk_mod_random, alpha = 0.3, color = 'grey', s = 20, label = 'Random')\n",
    "ax_histx.hist(sinter_random, color = 'grey', alpha = 0.3, bins = bins)\n",
    "ax_histy.hist(bulk_mod_random, color = 'grey', alpha = 0.3, bins = bins, orientation='horizontal')\n",
    "\n",
    "count = 0\n",
    "for ratio in ratios:\n",
    "    get_label = lambda x: x.split('-')[1] if (x in ['1-250','1-125']) else '62.5'\n",
    "    label = get_label(ratio)\n",
    "    ax.scatter(sinter_dict[ratio], bulk_mod_dict[ratio], color = colors[count], alpha = alpha, s = 20, label = '$\\lambda$ = '+ label) \n",
    "    ax_histx.hist(sinter_dict[ratio], color = colors[count], alpha = 0.3, bins = bins)\n",
    "    ax_histy.hist(bulk_mod_dict[ratio], color = colors[count], alpha = 0.3, bins = bins, orientation='horizontal')\n",
    "    compounds = compounds_dict[ratio]\n",
    "    \n",
    "    count += 1\n",
    "\n",
    "    # labels for compounds on pareto front\n",
    "    pareto_threshold = 480\n",
    "    x_weight, y_weight = ratio.split('-') # relative weights for two metrics\n",
    "    x_weight, y_weight = float(x_weight), float(y_weight)\n",
    "    for compound, x, y in zip(compounds, sinter_dict[ratio], bulk_mod_dict[ratio]):\n",
    "        if -x_weight*x + y_weight*y > pareto_threshold: # plot if the combined metric is above a certain threshold\n",
    "            compound = Composition(compound)\n",
    "            compound = compound.reduced_formula \n",
    "            compounds_to_check.append(compound)\n",
    "            if compound == 'Os5WO5':\n",
    "                ax.text(x = x, y = y+0.2, s = compound, size = 7)\n",
    "                print(x, y)\n",
    "                print(compound, ratio)\n",
    "\n",
    "ax.set_xlabel('Sintering Temperature', size = 30)\n",
    "ax.set_ylabel('Bulk Modulus', size = 30)\n",
    "ax.tick_params(axis='x', labelsize= 30)\n",
    "ax.tick_params(axis='y', labelsize= 30)\n",
    "ax.set_xlim(700, 1400)\n",
    "plt.ylim(2.5,6)\n",
    "\n",
    "ax.legend(fontsize = 30)\n",
    "# plt.savefig(fname = 'plots/NeurIPS_workshop_2022/joint_optimization.png', dpi = 1000)\n",
    "plt.show()"
   ]
  },
  {
   "cell_type": "code",
   "execution_count": 106,
   "metadata": {},
   "outputs": [
    {
     "data": {
      "text/html": [
       "<div>\n",
       "<style scoped>\n",
       "    .dataframe tbody tr th:only-of-type {\n",
       "        vertical-align: middle;\n",
       "    }\n",
       "\n",
       "    .dataframe tbody tr th {\n",
       "        vertical-align: top;\n",
       "    }\n",
       "\n",
       "    .dataframe thead th {\n",
       "        text-align: right;\n",
       "    }\n",
       "</style>\n",
       "<table border=\"1\" class=\"dataframe\">\n",
       "  <thead>\n",
       "    <tr style=\"text-align: right;\">\n",
       "      <th></th>\n",
       "      <th>sinter_random</th>\n",
       "      <th>bulk_mod_random</th>\n",
       "      <th>sinter_1-250</th>\n",
       "      <th>bulk_mod_1-250</th>\n",
       "      <th>sinter_1-125</th>\n",
       "      <th>bulk_mod_1-125</th>\n",
       "      <th>sinter_1-62</th>\n",
       "      <th>bulk_mod_1-62</th>\n",
       "    </tr>\n",
       "  </thead>\n",
       "  <tbody>\n",
       "    <tr>\n",
       "      <th>0</th>\n",
       "      <td>1078.504167</td>\n",
       "      <td>4.564713</td>\n",
       "      <td>969.837143</td>\n",
       "      <td>5.374899</td>\n",
       "      <td>784.019792</td>\n",
       "      <td>4.130368</td>\n",
       "      <td>861.910000</td>\n",
       "      <td>4.109288</td>\n",
       "    </tr>\n",
       "    <tr>\n",
       "      <th>1</th>\n",
       "      <td>848.222500</td>\n",
       "      <td>4.202143</td>\n",
       "      <td>934.047205</td>\n",
       "      <td>5.213277</td>\n",
       "      <td>1113.102711</td>\n",
       "      <td>5.107035</td>\n",
       "      <td>920.769389</td>\n",
       "      <td>4.522017</td>\n",
       "    </tr>\n",
       "    <tr>\n",
       "      <th>2</th>\n",
       "      <td>985.951161</td>\n",
       "      <td>4.978990</td>\n",
       "      <td>1048.720060</td>\n",
       "      <td>5.334540</td>\n",
       "      <td>968.534080</td>\n",
       "      <td>5.460206</td>\n",
       "      <td>861.865322</td>\n",
       "      <td>4.939682</td>\n",
       "    </tr>\n",
       "    <tr>\n",
       "      <th>3</th>\n",
       "      <td>1055.274982</td>\n",
       "      <td>4.433240</td>\n",
       "      <td>962.808185</td>\n",
       "      <td>5.413830</td>\n",
       "      <td>1156.977237</td>\n",
       "      <td>4.675231</td>\n",
       "      <td>731.903333</td>\n",
       "      <td>3.680496</td>\n",
       "    </tr>\n",
       "    <tr>\n",
       "      <th>4</th>\n",
       "      <td>1079.890736</td>\n",
       "      <td>4.932131</td>\n",
       "      <td>931.505915</td>\n",
       "      <td>5.270806</td>\n",
       "      <td>844.064801</td>\n",
       "      <td>5.050420</td>\n",
       "      <td>738.660529</td>\n",
       "      <td>4.770070</td>\n",
       "    </tr>\n",
       "    <tr>\n",
       "      <th>...</th>\n",
       "      <td>...</td>\n",
       "      <td>...</td>\n",
       "      <td>...</td>\n",
       "      <td>...</td>\n",
       "      <td>...</td>\n",
       "      <td>...</td>\n",
       "      <td>...</td>\n",
       "      <td>...</td>\n",
       "    </tr>\n",
       "    <tr>\n",
       "      <th>995</th>\n",
       "      <td>1076.455089</td>\n",
       "      <td>3.671948</td>\n",
       "      <td>890.837525</td>\n",
       "      <td>4.965373</td>\n",
       "      <td>754.308168</td>\n",
       "      <td>4.414021</td>\n",
       "      <td>739.302033</td>\n",
       "      <td>4.230743</td>\n",
       "    </tr>\n",
       "    <tr>\n",
       "      <th>996</th>\n",
       "      <td>1134.098367</td>\n",
       "      <td>4.961004</td>\n",
       "      <td>864.308910</td>\n",
       "      <td>5.273553</td>\n",
       "      <td>827.214008</td>\n",
       "      <td>4.870847</td>\n",
       "      <td>984.131374</td>\n",
       "      <td>4.715594</td>\n",
       "    </tr>\n",
       "    <tr>\n",
       "      <th>997</th>\n",
       "      <td>1095.133479</td>\n",
       "      <td>4.143021</td>\n",
       "      <td>947.631499</td>\n",
       "      <td>5.505041</td>\n",
       "      <td>1141.706695</td>\n",
       "      <td>4.962703</td>\n",
       "      <td>1054.486265</td>\n",
       "      <td>2.992527</td>\n",
       "    </tr>\n",
       "    <tr>\n",
       "      <th>998</th>\n",
       "      <td>1191.093996</td>\n",
       "      <td>4.960401</td>\n",
       "      <td>921.411935</td>\n",
       "      <td>5.482382</td>\n",
       "      <td>931.969619</td>\n",
       "      <td>5.167592</td>\n",
       "      <td>718.490208</td>\n",
       "      <td>4.282862</td>\n",
       "    </tr>\n",
       "    <tr>\n",
       "      <th>999</th>\n",
       "      <td>1181.529857</td>\n",
       "      <td>4.268781</td>\n",
       "      <td>922.583121</td>\n",
       "      <td>5.071329</td>\n",
       "      <td>894.228582</td>\n",
       "      <td>5.247591</td>\n",
       "      <td>827.163076</td>\n",
       "      <td>4.293861</td>\n",
       "    </tr>\n",
       "  </tbody>\n",
       "</table>\n",
       "<p>1000 rows × 8 columns</p>\n",
       "</div>"
      ],
      "text/plain": [
       "     sinter_random  bulk_mod_random  sinter_1-250  bulk_mod_1-250  \\\n",
       "0      1078.504167         4.564713    969.837143        5.374899   \n",
       "1       848.222500         4.202143    934.047205        5.213277   \n",
       "2       985.951161         4.978990   1048.720060        5.334540   \n",
       "3      1055.274982         4.433240    962.808185        5.413830   \n",
       "4      1079.890736         4.932131    931.505915        5.270806   \n",
       "..             ...              ...           ...             ...   \n",
       "995    1076.455089         3.671948    890.837525        4.965373   \n",
       "996    1134.098367         4.961004    864.308910        5.273553   \n",
       "997    1095.133479         4.143021    947.631499        5.505041   \n",
       "998    1191.093996         4.960401    921.411935        5.482382   \n",
       "999    1181.529857         4.268781    922.583121        5.071329   \n",
       "\n",
       "     sinter_1-125  bulk_mod_1-125  sinter_1-62  bulk_mod_1-62  \n",
       "0      784.019792        4.130368   861.910000       4.109288  \n",
       "1     1113.102711        5.107035   920.769389       4.522017  \n",
       "2      968.534080        5.460206   861.865322       4.939682  \n",
       "3     1156.977237        4.675231   731.903333       3.680496  \n",
       "4      844.064801        5.050420   738.660529       4.770070  \n",
       "..            ...             ...          ...            ...  \n",
       "995    754.308168        4.414021   739.302033       4.230743  \n",
       "996    827.214008        4.870847   984.131374       4.715594  \n",
       "997   1141.706695        4.962703  1054.486265       2.992527  \n",
       "998    931.969619        5.167592   718.490208       4.282862  \n",
       "999    894.228582        5.247591   827.163076       4.293861  \n",
       "\n",
       "[1000 rows x 8 columns]"
      ]
     },
     "execution_count": 106,
     "metadata": {},
     "output_type": "execute_result"
    }
   ],
   "source": [
    "df = pd.DataFrame()\n",
    "df['sinter_random'] = sinter_random\n",
    "df['bulk_mod_random'] = bulk_mod_random\n",
    "for ratio in ratios:\n",
    "    get_label = lambda x: x.split('-')[1] if (x in ['1-250','1-125']) else '62.5'\n",
    "    label = get_label(ratio)\n",
    "    df['sinter_{}'.format(ratio)], df['bulk_mod_{}'.format(ratio)] = sinter_dict[ratio], bulk_mod_dict[ratio]\n",
    "df"
   ]
  },
  {
   "cell_type": "code",
   "execution_count": 120,
   "metadata": {},
   "outputs": [
    {
     "data": {
      "image/png": "[encoded data removed]",
      "text/plain": [
       "<Figure size 1080x1080 with 3 Axes>"
      ]
     },
     "metadata": {
      "needs_background": "light"
     },
     "output_type": "display_data"
    }
   ],
   "source": [
    "# KDE version\n",
    "alpha = 1\n",
    "label_size = 40\n",
    "tick_label_size = 40\n",
    "title_size = 60\n",
    "tick_length = 15\n",
    "tick_width = 4\n",
    "xlim = [650, 1350]\n",
    "ylim  = [2.6, 6]\n",
    "matplotlib.rcParams['axes.linewidth'] = 3\n",
    "\n",
    "### \n",
    "left, width = 0.125, 0.775\n",
    "bottom, height = 0.125, 0.75\n",
    "spacing = 0.025\n",
    "rect_histx = [left, bottom + height + spacing, width, 0.2]\n",
    "rect_histy = [left + width + spacing, bottom, 0.2, height]\n",
    "\n",
    "#define figure\n",
    "fig, ax = plt.subplots()\n",
    "fig.set_figheight(15) # figure height\n",
    "fig.set_figwidth(15) # figure width\n",
    "\n",
    "sns.kdeplot(data=df, x=\"sinter_random\", y=\"bulk_mod_random\", fill = True, cmap = 'Greys', alpha = alpha)\n",
    "# plt.title('Random', fontsize = title_size)\n",
    "plt.xlabel('Sintering Temperature', size = label_size)\n",
    "plt.ylabel('Bulk Modulus', size = label_size)\n",
    "ax.tick_params(axis='x', labelsize= tick_label_size, length = tick_length, width = tick_width, direction = 'in')\n",
    "ax.tick_params(axis='y', labelsize= tick_label_size, length = tick_length, width = tick_width, direction = 'in')\n",
    "plt.xticks(fontsize = tick_label_size)\n",
    "plt.yticks(fontsize = tick_label_size)\n",
    "plt.xlim(xlim[0], xlim[1])\n",
    "plt.ylim(ylim[0], ylim[1])\n",
    "\n",
    "ax_histx = fig.add_axes(rect_histx, sharex=ax)\n",
    "ax_histy = fig.add_axes(rect_histy, sharey=ax)\n",
    "\n",
    "# no labels from histogram\n",
    "ax_histx.tick_params(axis=\"x\", labelbottom=False)\n",
    "ax_histx.tick_params(axis=\"y\", labelleft=False)\n",
    "ax_histy.tick_params(axis=\"y\", labelleft=False)\n",
    "ax_histy.tick_params(axis=\"x\", labelbottom=False)\n",
    "ax_histx.hist(sinter_random, color = 'grey', alpha = 0.3, bins = bins)\n",
    "ax_histy.hist(bulk_mod_random, color = 'grey', alpha = 0.3, bins = bins, orientation='horizontal')\n",
    "\n",
    "fig.show()"
   ]
  },
  {
   "cell_type": "code",
   "execution_count": 121,
   "metadata": {},
   "outputs": [
    {
     "data": {
      "text/plain": [
       "(array([ 1.,  0.,  0.,  0.,  0.,  0.,  0.,  1.,  0.,  0.,  0.,  0.,  0.,\n",
       "         0.,  1.,  1.,  2.,  2.,  0.,  1.,  2.,  2.,  2.,  2.,  1.,  1.,\n",
       "         4.,  3.,  5.,  3.,  3.,  0.,  2.,  2.,  2.,  1.,  2.,  3.,  3.,\n",
       "         1.,  1.,  5.,  5.,  4., 10.,  6.,  6.,  3.,  9.,  6.,  7.,  6.,\n",
       "         9.,  5., 10., 10., 19., 12., 11., 21., 15., 17., 12., 15., 24.,\n",
       "        23., 14., 23., 23., 28., 23., 25., 22., 23., 17., 19., 19., 23.,\n",
       "        18., 24., 31., 17., 22., 22., 30., 39., 23., 17., 22., 31., 17.,\n",
       "        19., 19., 16., 18., 10., 14.,  2.,  3.,  3.]),\n",
       " array([1.00190568, 1.04711138, 1.09231709, 1.1375228 , 1.1827285 ,\n",
       "        1.22793421, 1.27313991, 1.31834562, 1.36355132, 1.40875703,\n",
       "        1.45396273, 1.49916844, 1.54437414, 1.58957985, 1.63478555,\n",
       "        1.67999126, 1.72519696, 1.77040267, 1.81560837, 1.86081408,\n",
       "        1.90601978, 1.95122549, 1.99643119, 2.0416369 , 2.0868426 ,\n",
       "        2.13204831, 2.17725401, 2.22245972, 2.26766542, 2.31287113,\n",
       "        2.35807683, 2.40328254, 2.44848825, 2.49369395, 2.53889966,\n",
       "        2.58410536, 2.62931107, 2.67451677, 2.71972248, 2.76492818,\n",
       "        2.81013389, 2.85533959, 2.9005453 , 2.945751  , 2.99095671,\n",
       "        3.03616241, 3.08136812, 3.12657382, 3.17177953, 3.21698523,\n",
       "        3.26219094, 3.30739664, 3.35260235, 3.39780805, 3.44301376,\n",
       "        3.48821946, 3.53342517, 3.57863087, 3.62383658, 3.66904228,\n",
       "        3.71424799, 3.75945369, 3.8046594 , 3.84986511, 3.89507081,\n",
       "        3.94027652, 3.98548222, 4.03068793, 4.07589363, 4.12109934,\n",
       "        4.16630504, 4.21151075, 4.25671645, 4.30192216, 4.34712786,\n",
       "        4.39233357, 4.43753927, 4.48274498, 4.52795068, 4.57315639,\n",
       "        4.61836209, 4.6635678 , 4.7087735 , 4.75397921, 4.79918491,\n",
       "        4.84439062, 4.88959632, 4.93480203, 4.98000773, 5.02521344,\n",
       "        5.07041914, 5.11562485, 5.16083055, 5.20603626, 5.25124197,\n",
       "        5.29644767, 5.34165338, 5.38685908, 5.43206479, 5.47727049,\n",
       "        5.5224762 ]),\n",
       " <BarContainer object of 100 artists>)"
      ]
     },
     "execution_count": 121,
     "metadata": {},
     "output_type": "execute_result"
    },
    {
     "data": {
      "image/png": "[encoded data removed]",
      "text/plain": [
       "<Figure size 1080x1080 with 3 Axes>"
      ]
     },
     "metadata": {
      "needs_background": "light"
     },
     "output_type": "display_data"
    }
   ],
   "source": [
    "# KDE version\n",
    "alpha = 1\n",
    "label_size = 40\n",
    "tick_label_size = 40\n",
    "title_size = 60\n",
    "tick_length = 15\n",
    "tick_width = 4\n",
    "xlim = [650, 1350]\n",
    "ylim  = [2.6, 6]\n",
    "matplotlib.rcParams['axes.linewidth'] = 3\n",
    "\n",
    "### \n",
    "left, width = 0.125, 0.775\n",
    "bottom, height = 0.125, 0.75\n",
    "spacing = 0.025\n",
    "rect_histx = [left, bottom + height + spacing, width, 0.2]\n",
    "rect_histy = [left + width + spacing, bottom, 0.2, height]\n",
    "\n",
    "#define figure\n",
    "fig, ax = plt.subplots()\n",
    "fig.set_figheight(15) # figure height\n",
    "fig.set_figwidth(15) # figure width\n",
    "\n",
    "sns.kdeplot(data=df, x=\"sinter_1-62\", y=\"bulk_mod_1-62\", fill = True, cmap = 'Reds', alpha = alpha)\n",
    "# plt.title('Random', fontsize = title_size)\n",
    "plt.xlabel('Sintering Temperature', size = label_size)\n",
    "plt.ylabel('Bulk Modulus', size = label_size)\n",
    "ax.tick_params(axis='x', labelsize= tick_label_size, length = tick_length, width = tick_width, direction = 'in')\n",
    "ax.tick_params(axis='y', labelsize= tick_label_size, length = tick_length, width = tick_width, direction = 'in')\n",
    "plt.xticks(fontsize = tick_label_size)\n",
    "plt.yticks(fontsize = tick_label_size)\n",
    "plt.xlim(xlim[0], xlim[1])\n",
    "plt.ylim(ylim[0], ylim[1])\n",
    "\n",
    "ax_histx = fig.add_axes(rect_histx, sharex=ax)\n",
    "ax_histy = fig.add_axes(rect_histy, sharey=ax)\n",
    "\n",
    "# no labels from histogram\n",
    "ax_histx.tick_params(axis=\"x\", labelbottom=False)\n",
    "ax_histx.tick_params(axis=\"y\", labelleft=False)\n",
    "ax_histy.tick_params(axis=\"y\", labelleft=False)\n",
    "ax_histy.tick_params(axis=\"x\", labelbottom=False)\n",
    "\n",
    "ax_histx.hist(sinter_random, color = 'grey', alpha = 0.3, bins = bins)\n",
    "ax_histy.hist(bulk_mod_random, color = 'grey', alpha = 0.3, bins = bins, orientation='horizontal')\n",
    "ax_histx.hist(df['sinter_1-62'], color = 'red', alpha = 0.3, bins = bins)\n",
    "ax_histy.hist(df['bulk_mod_1-62'], color = 'red', alpha = 0.3, bins = bins, orientation='horizontal')"
   ]
  },
  {
   "cell_type": "code",
   "execution_count": 123,
   "metadata": {},
   "outputs": [
    {
     "data": {
      "text/plain": [
       "(array([ 1.,  0.,  0.,  0.,  0.,  1.,  0.,  0.,  0.,  0.,  1.,  0.,  0.,\n",
       "         0.,  1.,  1.,  0.,  0.,  0.,  0.,  0.,  4.,  0.,  2.,  2.,  2.,\n",
       "         0.,  0.,  0.,  2.,  5.,  2.,  2.,  1.,  2.,  2.,  1.,  1.,  1.,\n",
       "         3.,  7.,  5.,  8.,  7.,  7., 12.,  7.,  4.,  1.,  8.,  3.,  8.,\n",
       "         7., 12.,  7.,  6.,  4., 12.,  8.,  5., 12., 17.,  9.,  8., 13.,\n",
       "         9., 19., 11., 15., 11.,  8., 13., 14., 18., 10., 16., 22., 20.,\n",
       "        18., 20., 21., 27., 34., 32., 33., 38., 35., 49., 43., 41., 21.,\n",
       "        32., 32., 35., 19., 21., 11., 10.,  5.,  3.]),\n",
       " array([1.7815361 , 1.8204488 , 1.8593615 , 1.89827419, 1.93718689,\n",
       "        1.97609959, 2.01501228, 2.05392498, 2.09283768, 2.13175037,\n",
       "        2.17066307, 2.20957577, 2.24848846, 2.28740116, 2.32631386,\n",
       "        2.36522655, 2.40413925, 2.44305195, 2.48196465, 2.52087734,\n",
       "        2.55979004, 2.59870274, 2.63761543, 2.67652813, 2.71544083,\n",
       "        2.75435352, 2.79326622, 2.83217892, 2.87109161, 2.91000431,\n",
       "        2.94891701, 2.9878297 , 3.0267424 , 3.0656551 , 3.10456779,\n",
       "        3.14348049, 3.18239319, 3.22130589, 3.26021858, 3.29913128,\n",
       "        3.33804398, 3.37695667, 3.41586937, 3.45478207, 3.49369476,\n",
       "        3.53260746, 3.57152016, 3.61043285, 3.64934555, 3.68825825,\n",
       "        3.72717094, 3.76608364, 3.80499634, 3.84390903, 3.88282173,\n",
       "        3.92173443, 3.96064713, 3.99955982, 4.03847252, 4.07738522,\n",
       "        4.11629791, 4.15521061, 4.19412331, 4.233036  , 4.2719487 ,\n",
       "        4.3108614 , 4.34977409, 4.38868679, 4.42759949, 4.46651218,\n",
       "        4.50542488, 4.54433758, 4.58325027, 4.62216297, 4.66107567,\n",
       "        4.69998837, 4.73890106, 4.77781376, 4.81672646, 4.85563915,\n",
       "        4.89455185, 4.93346455, 4.97237724, 5.01128994, 5.05020264,\n",
       "        5.08911533, 5.12802803, 5.16694073, 5.20585342, 5.24476612,\n",
       "        5.28367882, 5.32259151, 5.36150421, 5.40041691, 5.43932961,\n",
       "        5.4782423 , 5.517155  , 5.5560677 , 5.59498039, 5.63389309,\n",
       "        5.67280579]),\n",
       " <BarContainer object of 100 artists>)"
      ]
     },
     "execution_count": 123,
     "metadata": {},
     "output_type": "execute_result"
    },
    {
     "data": {
      "image/png": "[encoded data removed]",
      "text/plain": [
       "<Figure size 1080x1080 with 3 Axes>"
      ]
     },
     "metadata": {
      "needs_background": "light"
     },
     "output_type": "display_data"
    }
   ],
   "source": [
    "# KDE version\n",
    "alpha = 1\n",
    "label_size = 40\n",
    "tick_label_size = 40\n",
    "title_size = 60\n",
    "tick_length = 15\n",
    "tick_width = 4\n",
    "xlim = [650, 1350]\n",
    "ylim  = [2.6, 6]\n",
    "matplotlib.rcParams['axes.linewidth'] = 3\n",
    "\n",
    "### \n",
    "left, width = 0.125, 0.775\n",
    "bottom, height = 0.125, 0.75\n",
    "spacing = 0.025\n",
    "rect_histx = [left, bottom + height + spacing, width, 0.2]\n",
    "rect_histy = [left + width + spacing, bottom, 0.2, height]\n",
    "\n",
    "#define figure\n",
    "fig, ax = plt.subplots()\n",
    "fig.set_figheight(15) # figure height\n",
    "fig.set_figwidth(15) # figure width\n",
    "\n",
    "sns.kdeplot(data=df, x=\"sinter_1-125\", y=\"bulk_mod_1-125\", fill = True, cmap = 'Blues', alpha = alpha)\n",
    "# plt.title('Random', fontsize = title_size)\n",
    "plt.xlabel('Sintering Temperature', size = label_size)\n",
    "plt.ylabel('Bulk Modulus', size = label_size)\n",
    "ax.tick_params(axis='x', labelsize= tick_label_size, length = tick_length, width = tick_width, direction = 'in')\n",
    "ax.tick_params(axis='y', labelsize= tick_label_size, length = tick_length, width = tick_width, direction = 'in')\n",
    "plt.xticks(fontsize = tick_label_size)\n",
    "plt.yticks(fontsize = tick_label_size)\n",
    "plt.xlim(xlim[0], xlim[1])\n",
    "plt.ylim(ylim[0], ylim[1])\n",
    "\n",
    "ax_histx = fig.add_axes(rect_histx, sharex=ax)\n",
    "ax_histy = fig.add_axes(rect_histy, sharey=ax)\n",
    "\n",
    "# no labels from histogram\n",
    "ax_histx.tick_params(axis=\"x\", labelbottom=False)\n",
    "ax_histx.tick_params(axis=\"y\", labelleft=False)\n",
    "ax_histy.tick_params(axis=\"y\", labelleft=False)\n",
    "ax_histy.tick_params(axis=\"x\", labelbottom=False)\n",
    "\n",
    "ax_histx.hist(sinter_random, color = 'grey', alpha = 0.3, bins = bins)\n",
    "ax_histy.hist(bulk_mod_random, color = 'grey', alpha = 0.3, bins = bins, orientation='horizontal')\n",
    "ax_histx.hist(df['sinter_1-125'], color = 'dodgerblue', alpha = 0.3, bins = bins)\n",
    "ax_histy.hist(df['bulk_mod_1-125'], color = 'dodgerblue', alpha = 0.3, bins = bins, orientation='horizontal')"
   ]
  },
  {
   "cell_type": "code",
   "execution_count": 122,
   "metadata": {},
   "outputs": [
    {
     "data": {
      "text/plain": [
       "(array([  1.,   1.,   0.,   1.,   0.,   2.,   0.,   1.,   2.,   0.,   1.,\n",
       "          0.,   0.,   3.,   3.,   0.,   0.,   2.,   2.,   2.,   3.,   1.,\n",
       "          1.,   4.,   0.,   1.,   4.,   4.,   3.,   3.,   7.,   5.,  12.,\n",
       "          9.,  11.,  20.,  23.,  31.,  41.,  46.,  75.,  97., 121., 144.,\n",
       "        110.,  91.,  64.,  33.,  13.,   2.]),\n",
       " array([2.80436134, 2.86317451, 2.92198769, 2.98080086, 3.03961403,\n",
       "        3.0984272 , 3.15724037, 3.21605354, 3.27486671, 3.33367989,\n",
       "        3.39249306, 3.45130623, 3.5101194 , 3.56893257, 3.62774574,\n",
       "        3.68655891, 3.74537209, 3.80418526, 3.86299843, 3.9218116 ,\n",
       "        3.98062477, 4.03943794, 4.09825111, 4.15706429, 4.21587746,\n",
       "        4.27469063, 4.3335038 , 4.39231697, 4.45113014, 4.50994331,\n",
       "        4.56875648, 4.62756966, 4.68638283, 4.745196  , 4.80400917,\n",
       "        4.86282234, 4.92163551, 4.98044868, 5.03926186, 5.09807503,\n",
       "        5.1568882 , 5.21570137, 5.27451454, 5.33332771, 5.39214088,\n",
       "        5.45095406, 5.50976723, 5.5685804 , 5.62739357, 5.68620674,\n",
       "        5.74501991]),\n",
       " <BarContainer object of 50 artists>)"
      ]
     },
     "execution_count": 122,
     "metadata": {},
     "output_type": "execute_result"
    },
    {
     "data": {
      "image/png": "[encoded data removed]",
      "text/plain": [
       "<Figure size 1080x1080 with 3 Axes>"
      ]
     },
     "metadata": {
      "needs_background": "light"
     },
     "output_type": "display_data"
    }
   ],
   "source": [
    "# KDE version\n",
    "alpha = 1\n",
    "label_size = 40\n",
    "tick_label_size = 40\n",
    "title_size = 60\n",
    "tick_length = 15\n",
    "tick_width = 4\n",
    "xlim = [650, 1350]\n",
    "ylim  = [2.6, 6]\n",
    "matplotlib.rcParams['axes.linewidth'] = 3\n",
    "\n",
    "### \n",
    "left, width = 0.125, 0.775\n",
    "bottom, height = 0.125, 0.75\n",
    "spacing = 0.025\n",
    "rect_histx = [left, bottom + height + spacing, width, 0.2]\n",
    "rect_histy = [left + width + spacing, bottom, 0.2, height]\n",
    "\n",
    "#define figure\n",
    "fig, ax = plt.subplots()\n",
    "fig.set_figheight(15) # figure height\n",
    "fig.set_figwidth(15) # figure width\n",
    "\n",
    "sns.kdeplot(data=df, x=\"sinter_1-250\", y=\"bulk_mod_1-250\", fill = True, cmap = 'Greens', alpha = alpha)\n",
    "# plt.title('Random', fontsize = title_size)\n",
    "plt.xlabel('Sintering Temperature', size = label_size)\n",
    "plt.ylabel('Bulk Modulus', size = label_size)\n",
    "ax.tick_params(axis='x', labelsize= tick_label_size, length = tick_length, width = tick_width, direction = 'in')\n",
    "ax.tick_params(axis='y', labelsize= tick_label_size, length = tick_length, width = tick_width, direction = 'in')\n",
    "plt.xticks(fontsize = tick_label_size)\n",
    "plt.yticks(fontsize = tick_label_size)\n",
    "plt.xlim(xlim[0], xlim[1])\n",
    "plt.ylim(ylim[0], ylim[1])\n",
    "\n",
    "# # Os5WO5$\n",
    "# plt.plot([880.6949242424243], [5.514501571655273], marker = '*', markersize = 75, color = 'green', \n",
    "#                                                                 markeredgewidth = 5, markeredgecolor = 'black')\n",
    "# plt.text(700, 5.7, 'Os$_5$WO$_5$', fontsize = 40)\n",
    "\n",
    "ax_histx = fig.add_axes(rect_histx, sharex=ax)\n",
    "ax_histy = fig.add_axes(rect_histy, sharey=ax)\n",
    "\n",
    "# no labels from histogram\n",
    "ax_histx.tick_params(axis=\"x\", labelbottom=False)\n",
    "ax_histx.tick_params(axis=\"y\", labelleft=False)\n",
    "ax_histy.tick_params(axis=\"y\", labelleft=False)\n",
    "ax_histy.tick_params(axis=\"x\", labelbottom=False)\n",
    "\n",
    "ax_histx.hist(sinter_random, color = 'grey', alpha = 0.3, bins = bins)\n",
    "ax_histy.hist(bulk_mod_random, color = 'grey', alpha = 0.3, bins = bins, orientation='horizontal')\n",
    "ax_histx.hist(df['sinter_1-250'], color = 'g', alpha = 0.3, bins = 50)\n",
    "ax_histy.hist(df['bulk_mod_1-250'], color = 'g', alpha = 0.3, bins = 50, orientation='horizontal')"
   ]
  },
  {
   "cell_type": "code",
   "execution_count": 165,
   "metadata": {},
   "outputs": [
    {
     "data": {
      "text/plain": [
       "(array([ 1.,  0.,  1.,  0.,  0.,  1.,  0.,  2.,  0.,  0.,  4.,  2.,  4.,\n",
       "         0.,  2.,  7.,  3.,  4.,  2.,  4., 12., 15., 19., 11.,  9., 11.,\n",
       "        19., 13., 16., 13., 29., 17., 22., 30., 26., 21., 32., 26., 42.,\n",
       "        38., 48., 66., 71., 84., 84., 53., 67., 40., 21.,  8.]),\n",
       " array([1.7815361 , 1.8593615 , 1.93718689, 2.01501228, 2.09283768,\n",
       "        2.17066307, 2.24848846, 2.32631386, 2.40413925, 2.48196465,\n",
       "        2.55979004, 2.63761543, 2.71544083, 2.79326622, 2.87109161,\n",
       "        2.94891701, 3.0267424 , 3.10456779, 3.18239319, 3.26021858,\n",
       "        3.33804398, 3.41586937, 3.49369476, 3.57152016, 3.64934555,\n",
       "        3.72717094, 3.80499634, 3.88282173, 3.96064713, 4.03847252,\n",
       "        4.11629791, 4.19412331, 4.2719487 , 4.34977409, 4.42759949,\n",
       "        4.50542488, 4.58325027, 4.66107567, 4.73890106, 4.81672646,\n",
       "        4.89455185, 4.97237724, 5.05020264, 5.12802803, 5.20585342,\n",
       "        5.28367882, 5.36150421, 5.43932961, 5.517155  , 5.59498039,\n",
       "        5.67280579]),\n",
       " <BarContainer object of 50 artists>)"
      ]
     },
     "execution_count": 165,
     "metadata": {},
     "output_type": "execute_result"
    },
    {
     "data": {
      "image/png": "[encoded data removed]",
      "text/plain": [
       "<Figure size 1080x1080 with 3 Axes>"
      ]
     },
     "metadata": {
      "needs_background": "light"
     },
     "output_type": "display_data"
    }
   ],
   "source": [
    "# combined KDE of all three lambda \n",
    "DQN_points = pd.concat([df[['sinter_1-250', 'bulk_mod_1-250']].rename(columns = {'sinter_1-250': 'sinter', 'bulk_mod_1-250': 'bulk_mod'}),\n",
    "                        df[['sinter_1-125', 'bulk_mod_1-125']].rename(columns = {'sinter_1-125': 'sinter', 'bulk_mod_1-125': 'bulk_mod'}),\n",
    "                        df[['sinter_1-62', 'bulk_mod_1-62']].rename(columns = {'sinter_1-62': 'sinter', 'bulk_mod_1-62': 'bulk_mod'}),\n",
    "                        ]).reset_index()\n",
    "# individual points of pareto compounds - list of (x, y) tuples\n",
    "pareto_coordinates = [(880.6949242424243, 5.514501571655273), (900.6782575757576, 5.583494186401367), (834.979901956596, 5.481292724609375), (846.6589096320345, 5.411442756652832), (833.0226001082251, 5.4043097496032715), (845.5908739177488, 5.3612751960754395), (767.6424999999998, 5.014556884765625), (846.21125, 5.535493850708008), (834.021498917749, 5.423008441925049), (811.1791220238097, 5.281761169433594), (834.2172429653681, 5.347630500793457), (852.5281250000002, 5.433277606964111), (881.393593073593, 5.521707534790039), (886.6706809701491, 5.513875484466553), (795.6465151515152, 5.254571914672852), (819.4177489177488, 5.353219985961914), (834.4576822866188, 5.315943717956543), (933.5936417748919, 5.685741424560547), (847.6270138888888, 5.5605854988098145), (886.1350694444445, 5.495654106140137), (862.155902777778, 5.426607608795166), (909.9727678571429, 5.592461585998535), (878.0120833333334, 5.476545333862305), (884.9522916666667, 5.543166160583496), (761.0118749999998, 5.001378536224365)]\n",
    "\n",
    "# KDE version\n",
    "alpha = 1\n",
    "label_size = 40\n",
    "tick_label_size = 40\n",
    "title_size = 60\n",
    "tick_length = 15\n",
    "tick_width = 4\n",
    "xlim = [650, 1350]\n",
    "ylim  = [2.6, 6]\n",
    "matplotlib.rcParams['axes.linewidth'] = 3\n",
    "\n",
    "### \n",
    "left, width = 0.125, 0.775\n",
    "bottom, height = 0.125, 0.75\n",
    "spacing = 0.025\n",
    "rect_histx = [left, bottom + height + spacing, width, 0.2]\n",
    "rect_histy = [left + width + spacing, bottom, 0.2, height]\n",
    "\n",
    "#define figure\n",
    "fig, ax = plt.subplots()\n",
    "fig.set_figheight(15) # figure height\n",
    "fig.set_figwidth(15) # figure width\n",
    "\n",
    "sns.kdeplot(data=DQN_points, x=\"sinter\", y=\"bulk_mod\", fill = True, cmap = 'Purples', alpha = alpha)\n",
    "# plt.title('Random', fontsize = title_size)\n",
    "plt.xlabel('Sintering Temperature', size = label_size)\n",
    "plt.ylabel('Bulk Modulus', size = label_size)\n",
    "ax.tick_params(axis='x', labelsize= tick_label_size, length = tick_length, width = tick_width, direction = 'in')\n",
    "ax.tick_params(axis='y', labelsize= tick_label_size, length = tick_length, width = tick_width, direction = 'in')\n",
    "plt.xticks(fontsize = tick_label_size)\n",
    "plt.yticks(fontsize = tick_label_size)\n",
    "plt.xlim(xlim[0], xlim[1])\n",
    "plt.ylim(ylim[0], ylim[1])\n",
    "\n",
    "for x, y in pareto_coordinates:\n",
    "    plt.plot(x, y, marker = 'o', markersize = 40, color = 'orange', \n",
    "                                                                markeredgewidth = 3, markeredgecolor = 'black')\n",
    "    \n",
    "\n",
    "# # Os5WO5$\n",
    "# plt.plot([880.6949242424243], [5.514501571655273], marker = '*', markersize = 40, color = 'green', \n",
    "#                                                                 markeredgewidth = 5, markeredgecolor = 'black')\n",
    "# plt.text(700, 5.7, 'Os$_5$WO$_5$', fontsize = 40)\n",
    "\n",
    "ax_histx = fig.add_axes(rect_histx, sharex=ax)\n",
    "ax_histy = fig.add_axes(rect_histy, sharey=ax)\n",
    "\n",
    "# no labels from histogram\n",
    "ax_histx.tick_params(axis=\"x\", labelbottom=False)\n",
    "ax_histx.tick_params(axis=\"y\", labelleft=False)\n",
    "ax_histy.tick_params(axis=\"y\", labelleft=False)\n",
    "ax_histy.tick_params(axis=\"x\", labelbottom=False)\n",
    "\n",
    "ax_histx.hist(sinter_random, color = 'grey', alpha = 0.3, bins = bins)\n",
    "ax_histy.hist(bulk_mod_random, color = 'grey', alpha = 0.3, bins = bins, orientation='horizontal')\n",
    "ax_histx.hist(DQN_points['sinter'].iloc[1000:len(sinter_random)+1000], color = 'purple', alpha = 0.3, bins = 50)\n",
    "ax_histy.hist(DQN_points['bulk_mod'].iloc[1000:len(bulk_mod_random)+1000], color = 'purple', alpha = 0.3, bins = 50, orientation='horizontal')"
   ]
  },
  {
   "cell_type": "code",
   "execution_count": 140,
   "metadata": {},
   "outputs": [
    {
     "data": {
      "text/html": [
       "<div>\n",
       "<style scoped>\n",
       "    .dataframe tbody tr th:only-of-type {\n",
       "        vertical-align: middle;\n",
       "    }\n",
       "\n",
       "    .dataframe tbody tr th {\n",
       "        vertical-align: top;\n",
       "    }\n",
       "\n",
       "    .dataframe thead th {\n",
       "        text-align: right;\n",
       "    }\n",
       "</style>\n",
       "<table border=\"1\" class=\"dataframe\">\n",
       "  <thead>\n",
       "    <tr style=\"text-align: right;\">\n",
       "      <th></th>\n",
       "      <th>index</th>\n",
       "      <th>sinter</th>\n",
       "      <th>bulk_mod</th>\n",
       "    </tr>\n",
       "  </thead>\n",
       "  <tbody>\n",
       "    <tr>\n",
       "      <th>0</th>\n",
       "      <td>0</td>\n",
       "      <td>969.837143</td>\n",
       "      <td>5.374899</td>\n",
       "    </tr>\n",
       "    <tr>\n",
       "      <th>1</th>\n",
       "      <td>1</td>\n",
       "      <td>934.047205</td>\n",
       "      <td>5.213277</td>\n",
       "    </tr>\n",
       "    <tr>\n",
       "      <th>2</th>\n",
       "      <td>2</td>\n",
       "      <td>1048.720060</td>\n",
       "      <td>5.334540</td>\n",
       "    </tr>\n",
       "    <tr>\n",
       "      <th>3</th>\n",
       "      <td>3</td>\n",
       "      <td>962.808185</td>\n",
       "      <td>5.413830</td>\n",
       "    </tr>\n",
       "    <tr>\n",
       "      <th>4</th>\n",
       "      <td>4</td>\n",
       "      <td>931.505915</td>\n",
       "      <td>5.270806</td>\n",
       "    </tr>\n",
       "    <tr>\n",
       "      <th>...</th>\n",
       "      <td>...</td>\n",
       "      <td>...</td>\n",
       "      <td>...</td>\n",
       "    </tr>\n",
       "    <tr>\n",
       "      <th>2995</th>\n",
       "      <td>995</td>\n",
       "      <td>739.302033</td>\n",
       "      <td>4.230743</td>\n",
       "    </tr>\n",
       "    <tr>\n",
       "      <th>2996</th>\n",
       "      <td>996</td>\n",
       "      <td>984.131374</td>\n",
       "      <td>4.715594</td>\n",
       "    </tr>\n",
       "    <tr>\n",
       "      <th>2997</th>\n",
       "      <td>997</td>\n",
       "      <td>1054.486265</td>\n",
       "      <td>2.992527</td>\n",
       "    </tr>\n",
       "    <tr>\n",
       "      <th>2998</th>\n",
       "      <td>998</td>\n",
       "      <td>718.490208</td>\n",
       "      <td>4.282862</td>\n",
       "    </tr>\n",
       "    <tr>\n",
       "      <th>2999</th>\n",
       "      <td>999</td>\n",
       "      <td>827.163076</td>\n",
       "      <td>4.293861</td>\n",
       "    </tr>\n",
       "  </tbody>\n",
       "</table>\n",
       "<p>3000 rows × 3 columns</p>\n",
       "</div>"
      ],
      "text/plain": [
       "      index       sinter  bulk_mod\n",
       "0         0   969.837143  5.374899\n",
       "1         1   934.047205  5.213277\n",
       "2         2  1048.720060  5.334540\n",
       "3         3   962.808185  5.413830\n",
       "4         4   931.505915  5.270806\n",
       "...     ...          ...       ...\n",
       "2995    995   739.302033  4.230743\n",
       "2996    996   984.131374  4.715594\n",
       "2997    997  1054.486265  2.992527\n",
       "2998    998   718.490208  4.282862\n",
       "2999    999   827.163076  4.293861\n",
       "\n",
       "[3000 rows x 3 columns]"
      ]
     },
     "execution_count": 140,
     "metadata": {},
     "output_type": "execute_result"
    }
   ],
   "source": [
    "DQN_points = pd.concat([df[['sinter_1-250', 'bulk_mod_1-250']].rename(columns = {'sinter_1-250': 'sinter', 'bulk_mod_1-250': 'bulk_mod'}),\n",
    "                        df[['sinter_1-125', 'bulk_mod_1-125']].rename(columns = {'sinter_1-125': 'sinter', 'bulk_mod_1-125': 'bulk_mod'}),\n",
    "                        df[['sinter_1-62', 'bulk_mod_1-62']].rename(columns = {'sinter_1-62': 'sinter', 'bulk_mod_1-62': 'bulk_mod'}),\n",
    "                        ]).reset_index()\n",
    "DQN_points"
   ]
  },
  {
   "cell_type": "code",
   "execution_count": 136,
   "metadata": {},
   "outputs": [
    {
     "data": {
      "text/html": [
       "<div>\n",
       "<style scoped>\n",
       "    .dataframe tbody tr th:only-of-type {\n",
       "        vertical-align: middle;\n",
       "    }\n",
       "\n",
       "    .dataframe tbody tr th {\n",
       "        vertical-align: top;\n",
       "    }\n",
       "\n",
       "    .dataframe thead th {\n",
       "        text-align: right;\n",
       "    }\n",
       "</style>\n",
       "<table border=\"1\" class=\"dataframe\">\n",
       "  <thead>\n",
       "    <tr style=\"text-align: right;\">\n",
       "      <th></th>\n",
       "      <th>sinter_random</th>\n",
       "      <th>bulk_mod_random</th>\n",
       "      <th>sinter_1-250</th>\n",
       "      <th>bulk_mod_1-250</th>\n",
       "      <th>sinter_1-125</th>\n",
       "      <th>bulk_mod_1-125</th>\n",
       "      <th>sinter_1-62</th>\n",
       "      <th>bulk_mod_1-62</th>\n",
       "    </tr>\n",
       "  </thead>\n",
       "  <tbody>\n",
       "    <tr>\n",
       "      <th>0</th>\n",
       "      <td>1078.504167</td>\n",
       "      <td>4.564713</td>\n",
       "      <td>969.837143</td>\n",
       "      <td>5.374899</td>\n",
       "      <td>784.019792</td>\n",
       "      <td>4.130368</td>\n",
       "      <td>861.910000</td>\n",
       "      <td>4.109288</td>\n",
       "    </tr>\n",
       "    <tr>\n",
       "      <th>1</th>\n",
       "      <td>848.222500</td>\n",
       "      <td>4.202143</td>\n",
       "      <td>934.047205</td>\n",
       "      <td>5.213277</td>\n",
       "      <td>1113.102711</td>\n",
       "      <td>5.107035</td>\n",
       "      <td>920.769389</td>\n",
       "      <td>4.522017</td>\n",
       "    </tr>\n",
       "    <tr>\n",
       "      <th>2</th>\n",
       "      <td>985.951161</td>\n",
       "      <td>4.978990</td>\n",
       "      <td>1048.720060</td>\n",
       "      <td>5.334540</td>\n",
       "      <td>968.534080</td>\n",
       "      <td>5.460206</td>\n",
       "      <td>861.865322</td>\n",
       "      <td>4.939682</td>\n",
       "    </tr>\n",
       "    <tr>\n",
       "      <th>3</th>\n",
       "      <td>1055.274982</td>\n",
       "      <td>4.433240</td>\n",
       "      <td>962.808185</td>\n",
       "      <td>5.413830</td>\n",
       "      <td>1156.977237</td>\n",
       "      <td>4.675231</td>\n",
       "      <td>731.903333</td>\n",
       "      <td>3.680496</td>\n",
       "    </tr>\n",
       "    <tr>\n",
       "      <th>4</th>\n",
       "      <td>1079.890736</td>\n",
       "      <td>4.932131</td>\n",
       "      <td>931.505915</td>\n",
       "      <td>5.270806</td>\n",
       "      <td>844.064801</td>\n",
       "      <td>5.050420</td>\n",
       "      <td>738.660529</td>\n",
       "      <td>4.770070</td>\n",
       "    </tr>\n",
       "    <tr>\n",
       "      <th>...</th>\n",
       "      <td>...</td>\n",
       "      <td>...</td>\n",
       "      <td>...</td>\n",
       "      <td>...</td>\n",
       "      <td>...</td>\n",
       "      <td>...</td>\n",
       "      <td>...</td>\n",
       "      <td>...</td>\n",
       "    </tr>\n",
       "    <tr>\n",
       "      <th>995</th>\n",
       "      <td>1076.455089</td>\n",
       "      <td>3.671948</td>\n",
       "      <td>890.837525</td>\n",
       "      <td>4.965373</td>\n",
       "      <td>754.308168</td>\n",
       "      <td>4.414021</td>\n",
       "      <td>739.302033</td>\n",
       "      <td>4.230743</td>\n",
       "    </tr>\n",
       "    <tr>\n",
       "      <th>996</th>\n",
       "      <td>1134.098367</td>\n",
       "      <td>4.961004</td>\n",
       "      <td>864.308910</td>\n",
       "      <td>5.273553</td>\n",
       "      <td>827.214008</td>\n",
       "      <td>4.870847</td>\n",
       "      <td>984.131374</td>\n",
       "      <td>4.715594</td>\n",
       "    </tr>\n",
       "    <tr>\n",
       "      <th>997</th>\n",
       "      <td>1095.133479</td>\n",
       "      <td>4.143021</td>\n",
       "      <td>947.631499</td>\n",
       "      <td>5.505041</td>\n",
       "      <td>1141.706695</td>\n",
       "      <td>4.962703</td>\n",
       "      <td>1054.486265</td>\n",
       "      <td>2.992527</td>\n",
       "    </tr>\n",
       "    <tr>\n",
       "      <th>998</th>\n",
       "      <td>1191.093996</td>\n",
       "      <td>4.960401</td>\n",
       "      <td>921.411935</td>\n",
       "      <td>5.482382</td>\n",
       "      <td>931.969619</td>\n",
       "      <td>5.167592</td>\n",
       "      <td>718.490208</td>\n",
       "      <td>4.282862</td>\n",
       "    </tr>\n",
       "    <tr>\n",
       "      <th>999</th>\n",
       "      <td>1181.529857</td>\n",
       "      <td>4.268781</td>\n",
       "      <td>922.583121</td>\n",
       "      <td>5.071329</td>\n",
       "      <td>894.228582</td>\n",
       "      <td>5.247591</td>\n",
       "      <td>827.163076</td>\n",
       "      <td>4.293861</td>\n",
       "    </tr>\n",
       "  </tbody>\n",
       "</table>\n",
       "<p>1000 rows × 8 columns</p>\n",
       "</div>"
      ],
      "text/plain": [
       "     sinter_random  bulk_mod_random  sinter_1-250  bulk_mod_1-250  \\\n",
       "0      1078.504167         4.564713    969.837143        5.374899   \n",
       "1       848.222500         4.202143    934.047205        5.213277   \n",
       "2       985.951161         4.978990   1048.720060        5.334540   \n",
       "3      1055.274982         4.433240    962.808185        5.413830   \n",
       "4      1079.890736         4.932131    931.505915        5.270806   \n",
       "..             ...              ...           ...             ...   \n",
       "995    1076.455089         3.671948    890.837525        4.965373   \n",
       "996    1134.098367         4.961004    864.308910        5.273553   \n",
       "997    1095.133479         4.143021    947.631499        5.505041   \n",
       "998    1191.093996         4.960401    921.411935        5.482382   \n",
       "999    1181.529857         4.268781    922.583121        5.071329   \n",
       "\n",
       "     sinter_1-125  bulk_mod_1-125  sinter_1-62  bulk_mod_1-62  \n",
       "0      784.019792        4.130368   861.910000       4.109288  \n",
       "1     1113.102711        5.107035   920.769389       4.522017  \n",
       "2      968.534080        5.460206   861.865322       4.939682  \n",
       "3     1156.977237        4.675231   731.903333       3.680496  \n",
       "4      844.064801        5.050420   738.660529       4.770070  \n",
       "..            ...             ...          ...            ...  \n",
       "995    754.308168        4.414021   739.302033       4.230743  \n",
       "996    827.214008        4.870847   984.131374       4.715594  \n",
       "997   1141.706695        4.962703  1054.486265       2.992527  \n",
       "998    931.969619        5.167592   718.490208       4.282862  \n",
       "999    894.228582        5.247591   827.163076       4.293861  \n",
       "\n",
       "[1000 rows x 8 columns]"
      ]
     },
     "execution_count": 136,
     "metadata": {},
     "output_type": "execute_result"
    }
   ],
   "source": [
    "df"
   ]
  },
  {
   "cell_type": "code",
   "execution_count": null,
   "metadata": {},
   "outputs": [],
   "source": []
  }
 ],
 "metadata": {
  "kernelspec": {
   "display_name": "dqn_roost_EMD",
   "language": "python",
   "name": "dqn_roost_emd"
  },
  "language_info": {
   "codemirror_mode": {
    "name": "ipython",
    "version": 3
   },
   "file_extension": ".py",
   "mimetype": "text/x-python",
   "name": "python",
   "nbconvert_exporter": "python",
   "pygments_lexer": "ipython3",
   "version": "3.7.10"
  },
  "vscode": {
   "interpreter": {
    "hash": "4dfc4f11cdac7a917e4c49963db7b078552de25a718ab60c95f9f9e037cde35e"
   }
  }
 },
 "nbformat": 4,
 "nbformat_minor": 2
}
