{
 "cells": [
  {
   "cell_type": "markdown",
   "metadata": {},
   "source": [
    "# Magpie: https://hachmannlab.github.io/chemml/chemml.chem.magpie_python.html"
   ]
  },
  {
   "cell_type": "code",
   "execution_count": 1,
   "metadata": {},
   "outputs": [],
   "source": [
    "# Environment: dqn\n",
    "# Documentation: https://hachmannlab.github.io/chemml/chemml.chem.magpie_python.html\n",
    "import chemml.chem.magpie_python as magpie\n",
    "import chemml\n",
    "import pandas as pd\n",
    "\n",
    "pd.set_option('display.max_rows', 1000)"
   ]
  },
  {
   "cell_type": "markdown",
   "metadata": {},
   "source": [
    "## One compound"
   ]
  },
  {
   "cell_type": "code",
   "execution_count": 2,
   "metadata": {},
   "outputs": [
    {
     "data": {
      "text/plain": [
       "<chemml.chem.magpie_python.data.materials.CompositionEntry.CompositionEntry at 0x7f0ac02b3df0>"
      ]
     },
     "execution_count": 2,
     "metadata": {},
     "output_type": "execute_result"
    }
   ],
   "source": [
    "# Define chemical with chem composition\n",
    "chemical = magpie.CompositionEntry(composition='BaTiO3')\n",
    "chemical"
   ]
  },
  {
   "cell_type": "code",
   "execution_count": 3,
   "metadata": {},
   "outputs": [
    {
     "data": {
      "text/html": [
       "<div>\n",
       "<style scoped>\n",
       "    .dataframe tbody tr th:only-of-type {\n",
       "        vertical-align: middle;\n",
       "    }\n",
       "\n",
       "    .dataframe tbody tr th {\n",
       "        vertical-align: top;\n",
       "    }\n",
       "\n",
       "    .dataframe thead th {\n",
       "        text-align: right;\n",
       "    }\n",
       "</style>\n",
       "<table border=\"1\" class=\"dataframe\">\n",
       "  <thead>\n",
       "    <tr style=\"text-align: right;\">\n",
       "      <th></th>\n",
       "      <th>mean_AtomicWeight</th>\n",
       "      <th>mean_Column</th>\n",
       "      <th>mean_Row</th>\n",
       "      <th>maxdiff_AtomicNumber</th>\n",
       "      <th>mean_AtomicNumber</th>\n",
       "      <th>maxdiff_CovalentRadius</th>\n",
       "      <th>mean_CovalentRadius</th>\n",
       "      <th>maxdiff_Electronegativity</th>\n",
       "      <th>mean_Electronegativity</th>\n",
       "      <th>mean_NsValence</th>\n",
       "      <th>mean_NpValence</th>\n",
       "      <th>mean_NdValence</th>\n",
       "      <th>mean_NfValence</th>\n",
       "    </tr>\n",
       "  </thead>\n",
       "  <tbody>\n",
       "    <tr>\n",
       "      <th>0</th>\n",
       "      <td>46.63844</td>\n",
       "      <td>10.8</td>\n",
       "      <td>3.2</td>\n",
       "      <td>48.0</td>\n",
       "      <td>20.4</td>\n",
       "      <td>149.0</td>\n",
       "      <td>114.6</td>\n",
       "      <td>2.55</td>\n",
       "      <td>2.55</td>\n",
       "      <td>2.0</td>\n",
       "      <td>2.4</td>\n",
       "      <td>0.4</td>\n",
       "      <td>0.0</td>\n",
       "    </tr>\n",
       "  </tbody>\n",
       "</table>\n",
       "</div>"
      ],
      "text/plain": [
       "   mean_AtomicWeight  mean_Column  mean_Row  maxdiff_AtomicNumber  \\\n",
       "0           46.63844         10.8       3.2                  48.0   \n",
       "\n",
       "   mean_AtomicNumber  maxdiff_CovalentRadius  mean_CovalentRadius  \\\n",
       "0               20.4                   149.0                114.6   \n",
       "\n",
       "   maxdiff_Electronegativity  mean_Electronegativity  mean_NsValence  \\\n",
       "0                       2.55                    2.55             2.0   \n",
       "\n",
       "   mean_NpValence  mean_NdValence  mean_NfValence  \n",
       "0             2.4             0.4             0.0  "
      ]
     },
     "execution_count": 3,
     "metadata": {},
     "output_type": "execute_result"
    }
   ],
   "source": [
    "# Generate Meredig embedding\n",
    "meredig = chemml.chem.magpie_python.MeredigAttributeGenerator()\n",
    "meredig.generate_features(entries = [chemical])"
   ]
  },
  {
   "cell_type": "code",
   "execution_count": 4,
   "metadata": {},
   "outputs": [
    {
     "data": {
      "text/html": [
       "<div>\n",
       "<style scoped>\n",
       "    .dataframe tbody tr th:only-of-type {\n",
       "        vertical-align: middle;\n",
       "    }\n",
       "\n",
       "    .dataframe tbody tr th {\n",
       "        vertical-align: top;\n",
       "    }\n",
       "\n",
       "    .dataframe thead th {\n",
       "        text-align: right;\n",
       "    }\n",
       "</style>\n",
       "<table border=\"1\" class=\"dataframe\">\n",
       "  <thead>\n",
       "    <tr style=\"text-align: right;\">\n",
       "      <th></th>\n",
       "      <th>X_H</th>\n",
       "      <th>X_He</th>\n",
       "      <th>X_Li</th>\n",
       "      <th>X_Be</th>\n",
       "      <th>X_B</th>\n",
       "      <th>X_C</th>\n",
       "      <th>X_N</th>\n",
       "      <th>X_O</th>\n",
       "      <th>X_F</th>\n",
       "      <th>X_Ne</th>\n",
       "      <th>...</th>\n",
       "      <th>X_Lr</th>\n",
       "      <th>X_Rf</th>\n",
       "      <th>X_Db</th>\n",
       "      <th>X_Sg</th>\n",
       "      <th>X_Bh</th>\n",
       "      <th>X_Hs</th>\n",
       "      <th>X_Mt</th>\n",
       "      <th>X_Ds</th>\n",
       "      <th>X_Rg</th>\n",
       "      <th>X_Cn</th>\n",
       "    </tr>\n",
       "  </thead>\n",
       "  <tbody>\n",
       "    <tr>\n",
       "      <th>0</th>\n",
       "      <td>0.0</td>\n",
       "      <td>0.0</td>\n",
       "      <td>0.0</td>\n",
       "      <td>0.0</td>\n",
       "      <td>0.0</td>\n",
       "      <td>0.0</td>\n",
       "      <td>0.0</td>\n",
       "      <td>0.6</td>\n",
       "      <td>0.0</td>\n",
       "      <td>0.0</td>\n",
       "      <td>...</td>\n",
       "      <td>0.0</td>\n",
       "      <td>0.0</td>\n",
       "      <td>0.0</td>\n",
       "      <td>0.0</td>\n",
       "      <td>0.0</td>\n",
       "      <td>0.0</td>\n",
       "      <td>0.0</td>\n",
       "      <td>0.0</td>\n",
       "      <td>0.0</td>\n",
       "      <td>0.0</td>\n",
       "    </tr>\n",
       "  </tbody>\n",
       "</table>\n",
       "<p>1 rows × 112 columns</p>\n",
       "</div>"
      ],
      "text/plain": [
       "   X_H  X_He  X_Li  X_Be  X_B  X_C  X_N  X_O  X_F  X_Ne  ...  X_Lr  X_Rf  \\\n",
       "0  0.0   0.0   0.0   0.0  0.0  0.0  0.0  0.6  0.0   0.0  ...   0.0   0.0   \n",
       "\n",
       "   X_Db  X_Sg  X_Bh  X_Hs  X_Mt  X_Ds  X_Rg  X_Cn  \n",
       "0   0.0   0.0   0.0   0.0   0.0   0.0   0.0   0.0  \n",
       "\n",
       "[1 rows x 112 columns]"
      ]
     },
     "execution_count": 4,
     "metadata": {},
     "output_type": "execute_result"
    }
   ],
   "source": [
    "# Element Fraction\n",
    "eleme_frac = chemml.chem.magpie_python.ElementFractionAttributeGenerator()\n",
    "eleme_frac.generate_features(entries = [chemical])"
   ]
  },
  {
   "cell_type": "code",
   "execution_count": 5,
   "metadata": {},
   "outputs": [
    {
     "data": {
      "text/html": [
       "<div>\n",
       "<style scoped>\n",
       "    .dataframe tbody tr th:only-of-type {\n",
       "        vertical-align: middle;\n",
       "    }\n",
       "\n",
       "    .dataframe tbody tr th {\n",
       "        vertical-align: top;\n",
       "    }\n",
       "\n",
       "    .dataframe thead th {\n",
       "        text-align: right;\n",
       "    }\n",
       "</style>\n",
       "<table border=\"1\" class=\"dataframe\">\n",
       "  <thead>\n",
       "    <tr style=\"text-align: right;\">\n",
       "      <th></th>\n",
       "      <th>frac_sValence</th>\n",
       "      <th>frac_pValence</th>\n",
       "      <th>frac_dValence</th>\n",
       "      <th>frac_fValence</th>\n",
       "    </tr>\n",
       "  </thead>\n",
       "  <tbody>\n",
       "    <tr>\n",
       "      <th>0</th>\n",
       "      <td>0.416667</td>\n",
       "      <td>0.5</td>\n",
       "      <td>0.083333</td>\n",
       "      <td>0.0</td>\n",
       "    </tr>\n",
       "  </tbody>\n",
       "</table>\n",
       "</div>"
      ],
      "text/plain": [
       "   frac_sValence  frac_pValence  frac_dValence  frac_fValence\n",
       "0       0.416667            0.5       0.083333            0.0"
      ]
     },
     "execution_count": 5,
     "metadata": {},
     "output_type": "execute_result"
    }
   ],
   "source": [
    "# Valence Shell\n",
    "val_shell = chemml.chem.magpie_python.ValenceShellAttributeGenerator()\n",
    "val_shell.generate_features(entries = [chemical])"
   ]
  },
  {
   "cell_type": "code",
   "execution_count": 6,
   "metadata": {},
   "outputs": [
    {
     "data": {
      "text/html": [
       "<div>\n",
       "<style scoped>\n",
       "    .dataframe tbody tr th:only-of-type {\n",
       "        vertical-align: middle;\n",
       "    }\n",
       "\n",
       "    .dataframe tbody tr th {\n",
       "        vertical-align: top;\n",
       "    }\n",
       "\n",
       "    .dataframe thead th {\n",
       "        text-align: right;\n",
       "    }\n",
       "</style>\n",
       "<table border=\"1\" class=\"dataframe\">\n",
       "  <thead>\n",
       "    <tr style=\"text-align: right;\">\n",
       "      <th></th>\n",
       "      <th>min_Charge</th>\n",
       "      <th>max_Charge</th>\n",
       "      <th>maxdiff_Charge</th>\n",
       "      <th>mean_Charge</th>\n",
       "      <th>var_Charge</th>\n",
       "      <th>CumulativeIonizationEnergy</th>\n",
       "      <th>CumulativeElectronAffinity</th>\n",
       "      <th>AnionCationElectronegativityDiff</th>\n",
       "    </tr>\n",
       "  </thead>\n",
       "  <tbody>\n",
       "    <tr>\n",
       "      <th>0</th>\n",
       "      <td>-2.0</td>\n",
       "      <td>4.0</td>\n",
       "      <td>6.0</td>\n",
       "      <td>2.4</td>\n",
       "      <td>0.64</td>\n",
       "      <td>53.189007</td>\n",
       "      <td>282.0</td>\n",
       "      <td>2.225</td>\n",
       "    </tr>\n",
       "  </tbody>\n",
       "</table>\n",
       "</div>"
      ],
      "text/plain": [
       "   min_Charge  max_Charge  maxdiff_Charge  mean_Charge  var_Charge  \\\n",
       "0        -2.0         4.0             6.0          2.4        0.64   \n",
       "\n",
       "   CumulativeIonizationEnergy  CumulativeElectronAffinity  \\\n",
       "0                   53.189007                       282.0   \n",
       "\n",
       "   AnionCationElectronegativityDiff  \n",
       "0                             2.225  "
      ]
     },
     "execution_count": 6,
     "metadata": {},
     "output_type": "execute_result"
    }
   ],
   "source": [
    "# ChargeDependentAttributeGenerator\n",
    "ChargeDependentAttributeGenerator = chemml.chem.magpie_python.ChargeDependentAttributeGenerator()\n",
    "ChargeDependentAttributeGenerator.generate_features(entries = [chemical])"
   ]
  },
  {
   "cell_type": "code",
   "execution_count": 7,
   "metadata": {},
   "outputs": [
    {
     "data": {
      "text/html": [
       "<div>\n",
       "<style scoped>\n",
       "    .dataframe tbody tr th:only-of-type {\n",
       "        vertical-align: middle;\n",
       "    }\n",
       "\n",
       "    .dataframe tbody tr th {\n",
       "        vertical-align: top;\n",
       "    }\n",
       "\n",
       "    .dataframe thead th {\n",
       "        text-align: right;\n",
       "    }\n",
       "</style>\n",
       "<table border=\"1\" class=\"dataframe\">\n",
       "  <thead>\n",
       "    <tr style=\"text-align: right;\">\n",
       "      <th></th>\n",
       "      <th>mean_Number</th>\n",
       "      <th>maxdiff_Number</th>\n",
       "      <th>dev_Number</th>\n",
       "      <th>max_Number</th>\n",
       "      <th>min_Number</th>\n",
       "      <th>most_Number</th>\n",
       "      <th>mean_MendeleevNumber</th>\n",
       "      <th>maxdiff_MendeleevNumber</th>\n",
       "      <th>dev_MendeleevNumber</th>\n",
       "      <th>max_MendeleevNumber</th>\n",
       "      <th>...</th>\n",
       "      <th>dev_GSmagmom</th>\n",
       "      <th>max_GSmagmom</th>\n",
       "      <th>min_GSmagmom</th>\n",
       "      <th>most_GSmagmom</th>\n",
       "      <th>mean_SpaceGroupNumber</th>\n",
       "      <th>maxdiff_SpaceGroupNumber</th>\n",
       "      <th>dev_SpaceGroupNumber</th>\n",
       "      <th>max_SpaceGroupNumber</th>\n",
       "      <th>min_SpaceGroupNumber</th>\n",
       "      <th>most_SpaceGroupNumber</th>\n",
       "    </tr>\n",
       "  </thead>\n",
       "  <tbody>\n",
       "    <tr>\n",
       "      <th>0</th>\n",
       "      <td>20.4</td>\n",
       "      <td>48.0</td>\n",
       "      <td>14.88</td>\n",
       "      <td>56.0</td>\n",
       "      <td>8.0</td>\n",
       "      <td>8.0</td>\n",
       "      <td>62.6</td>\n",
       "      <td>78.0</td>\n",
       "      <td>29.28</td>\n",
       "      <td>87.0</td>\n",
       "      <td>...</td>\n",
       "      <td>0.000007</td>\n",
       "      <td>0.000023</td>\n",
       "      <td>0.0</td>\n",
       "      <td>0.0</td>\n",
       "      <td>91.8</td>\n",
       "      <td>217.0</td>\n",
       "      <td>95.76</td>\n",
       "      <td>229.0</td>\n",
       "      <td>12.0</td>\n",
       "      <td>12.0</td>\n",
       "    </tr>\n",
       "  </tbody>\n",
       "</table>\n",
       "<p>1 rows × 132 columns</p>\n",
       "</div>"
      ],
      "text/plain": [
       "   mean_Number  maxdiff_Number  dev_Number  max_Number  min_Number  \\\n",
       "0         20.4            48.0       14.88        56.0         8.0   \n",
       "\n",
       "   most_Number  mean_MendeleevNumber  maxdiff_MendeleevNumber  \\\n",
       "0          8.0                  62.6                     78.0   \n",
       "\n",
       "   dev_MendeleevNumber  max_MendeleevNumber  ...  dev_GSmagmom  max_GSmagmom  \\\n",
       "0                29.28                 87.0  ...      0.000007      0.000023   \n",
       "\n",
       "   min_GSmagmom  most_GSmagmom  mean_SpaceGroupNumber  \\\n",
       "0           0.0            0.0                   91.8   \n",
       "\n",
       "   maxdiff_SpaceGroupNumber  dev_SpaceGroupNumber  max_SpaceGroupNumber  \\\n",
       "0                     217.0                 95.76                 229.0   \n",
       "\n",
       "   min_SpaceGroupNumber  most_SpaceGroupNumber  \n",
       "0                  12.0                   12.0  \n",
       "\n",
       "[1 rows x 132 columns]"
      ]
     },
     "execution_count": 7,
     "metadata": {},
     "output_type": "execute_result"
    }
   ],
   "source": [
    "# Elemental properties\n",
    "ElementalPropertyAttributeGenerator = chemml.chem.magpie_python.ElementalPropertyAttributeGenerator()\n",
    "ElementalPropertyAttributeGenerator.generate_features(entries = [chemical])"
   ]
  },
  {
   "cell_type": "code",
   "execution_count": 8,
   "metadata": {},
   "outputs": [
    {
     "data": {
      "text/html": [
       "<div>\n",
       "<style scoped>\n",
       "    .dataframe tbody tr th:only-of-type {\n",
       "        vertical-align: middle;\n",
       "    }\n",
       "\n",
       "    .dataframe tbody tr th {\n",
       "        vertical-align: top;\n",
       "    }\n",
       "\n",
       "    .dataframe thead th {\n",
       "        text-align: right;\n",
       "    }\n",
       "</style>\n",
       "<table border=\"1\" class=\"dataframe\">\n",
       "  <thead>\n",
       "    <tr style=\"text-align: right;\">\n",
       "      <th></th>\n",
       "      <th>CanFormIonic</th>\n",
       "      <th>MaxIonicChar</th>\n",
       "      <th>MeanIonicChar</th>\n",
       "    </tr>\n",
       "  </thead>\n",
       "  <tbody>\n",
       "    <tr>\n",
       "      <th>0</th>\n",
       "      <td>1</td>\n",
       "      <td>0.803211</td>\n",
       "      <td>0.343457</td>\n",
       "    </tr>\n",
       "  </tbody>\n",
       "</table>\n",
       "</div>"
      ],
      "text/plain": [
       "   CanFormIonic  MaxIonicChar  MeanIonicChar\n",
       "0             1      0.803211       0.343457"
      ]
     },
     "execution_count": 8,
     "metadata": {},
     "output_type": "execute_result"
    }
   ],
   "source": [
    "# Ionicity\n",
    "IonicityAttributeGenerator = chemml.chem.magpie_python.IonicityAttributeGenerator()\n",
    "IonicityAttributeGenerator.generate_features(entries = [chemical])"
   ]
  },
  {
   "cell_type": "code",
   "execution_count": 9,
   "metadata": {},
   "outputs": [
    {
     "data": {
      "text/html": [
       "<div>\n",
       "<style scoped>\n",
       "    .dataframe tbody tr th:only-of-type {\n",
       "        vertical-align: middle;\n",
       "    }\n",
       "\n",
       "    .dataframe tbody tr th {\n",
       "        vertical-align: top;\n",
       "    }\n",
       "\n",
       "    .dataframe thead th {\n",
       "        text-align: right;\n",
       "    }\n",
       "</style>\n",
       "<table border=\"1\" class=\"dataframe\">\n",
       "  <thead>\n",
       "    <tr style=\"text-align: right;\">\n",
       "      <th></th>\n",
       "      <th>NComp</th>\n",
       "      <th>Comp_L2Norm</th>\n",
       "      <th>Comp_L3Norm</th>\n",
       "      <th>Comp_L5Norm</th>\n",
       "      <th>Comp_L7Norm</th>\n",
       "      <th>Comp_L10Norm</th>\n",
       "    </tr>\n",
       "  </thead>\n",
       "  <tbody>\n",
       "    <tr>\n",
       "      <th>0</th>\n",
       "      <td>3</td>\n",
       "      <td>0.663325</td>\n",
       "      <td>0.614463</td>\n",
       "      <td>0.600984</td>\n",
       "      <td>0.600078</td>\n",
       "      <td>0.600002</td>\n",
       "    </tr>\n",
       "  </tbody>\n",
       "</table>\n",
       "</div>"
      ],
      "text/plain": [
       "   NComp  Comp_L2Norm  Comp_L3Norm  Comp_L5Norm  Comp_L7Norm  Comp_L10Norm\n",
       "0      3     0.663325     0.614463     0.600984     0.600078      0.600002"
      ]
     },
     "execution_count": 9,
     "metadata": {},
     "output_type": "execute_result"
    }
   ],
   "source": [
    "# StoichiometricAttributeGenerator\n",
    "StoichiometricAttributeGenerator = chemml.chem.magpie_python.StoichiometricAttributeGenerator()\n",
    "StoichiometricAttributeGenerator.generate_features(entries = [chemical])"
   ]
  },
  {
   "cell_type": "code",
   "execution_count": 10,
   "metadata": {},
   "outputs": [
    {
     "data": {
      "text/html": [
       "<div>\n",
       "<style scoped>\n",
       "    .dataframe tbody tr th:only-of-type {\n",
       "        vertical-align: middle;\n",
       "    }\n",
       "\n",
       "    .dataframe tbody tr th {\n",
       "        vertical-align: top;\n",
       "    }\n",
       "\n",
       "    .dataframe thead th {\n",
       "        text-align: right;\n",
       "    }\n",
       "</style>\n",
       "<table border=\"1\" class=\"dataframe\">\n",
       "  <thead>\n",
       "    <tr style=\"text-align: right;\">\n",
       "      <th></th>\n",
       "      <th>Yang_Omega</th>\n",
       "      <th>Yang_delta</th>\n",
       "    </tr>\n",
       "  </thead>\n",
       "  <tbody>\n",
       "    <tr>\n",
       "      <th>0</th>\n",
       "      <td>0.538034</td>\n",
       "      <td>0.569593</td>\n",
       "    </tr>\n",
       "  </tbody>\n",
       "</table>\n",
       "</div>"
      ],
      "text/plain": [
       "   Yang_Omega  Yang_delta\n",
       "0    0.538034    0.569593"
      ]
     },
     "execution_count": 10,
     "metadata": {},
     "output_type": "execute_result"
    }
   ],
   "source": [
    "# YangOmegaAttributeGenerator\n",
    "YangOmegaAttributeGenerator = chemml.chem.magpie_python.YangOmegaAttributeGenerator()\n",
    "YangOmegaAttributeGenerator.generate_features(entries = [chemical])"
   ]
  },
  {
   "cell_type": "markdown",
   "metadata": {},
   "source": [
    "# One compound - combined features"
   ]
  },
  {
   "cell_type": "code",
   "execution_count": 11,
   "metadata": {},
   "outputs": [
    {
     "data": {
      "text/plain": [
       "{'meredig':    mean_AtomicWeight  mean_Column  mean_Row  maxdiff_AtomicNumber  \\\n",
       " 0           46.63844         10.8       3.2                  48.0   \n",
       " \n",
       "    mean_AtomicNumber  maxdiff_CovalentRadius  mean_CovalentRadius  \\\n",
       " 0               20.4                   149.0                114.6   \n",
       " \n",
       "    maxdiff_Electronegativity  mean_Electronegativity  mean_NsValence  \\\n",
       " 0                       2.55                    2.55             2.0   \n",
       " \n",
       "    mean_NpValence  mean_NdValence  mean_NfValence  \n",
       " 0             2.4             0.4             0.0  ,\n",
       " 'elem_frac':    X_H  X_He  X_Li  X_Be  X_B  X_C  X_N  X_O  X_F  X_Ne  ...  X_Lr  X_Rf  \\\n",
       " 0  0.0   0.0   0.0   0.0  0.0  0.0  0.0  0.6  0.0   0.0  ...   0.0   0.0   \n",
       " \n",
       "    X_Db  X_Sg  X_Bh  X_Hs  X_Mt  X_Ds  X_Rg  X_Cn  \n",
       " 0   0.0   0.0   0.0   0.0   0.0   0.0   0.0   0.0  \n",
       " \n",
       " [1 rows x 112 columns],\n",
       " 'val_shell':    frac_sValence  frac_pValence  frac_dValence  frac_fValence\n",
       " 0       0.416667            0.5       0.083333            0.0,\n",
       " 'charge_dep':    min_Charge  max_Charge  maxdiff_Charge  mean_Charge  var_Charge  \\\n",
       " 0        -2.0         4.0             6.0          2.4        0.64   \n",
       " \n",
       "    CumulativeIonizationEnergy  CumulativeElectronAffinity  \\\n",
       " 0                   53.189007                       282.0   \n",
       " \n",
       "    AnionCationElectronegativityDiff  \n",
       " 0                             2.225  ,\n",
       " 'elem_prop':    mean_Number  maxdiff_Number  dev_Number  max_Number  min_Number  \\\n",
       " 0         20.4            48.0       14.88        56.0         8.0   \n",
       " \n",
       "    most_Number  mean_MendeleevNumber  maxdiff_MendeleevNumber  \\\n",
       " 0          8.0                  62.6                     78.0   \n",
       " \n",
       "    dev_MendeleevNumber  max_MendeleevNumber  ...  dev_GSmagmom  max_GSmagmom  \\\n",
       " 0                29.28                 87.0  ...      0.000007      0.000023   \n",
       " \n",
       "    min_GSmagmom  most_GSmagmom  mean_SpaceGroupNumber  \\\n",
       " 0           0.0            0.0                   91.8   \n",
       " \n",
       "    maxdiff_SpaceGroupNumber  dev_SpaceGroupNumber  max_SpaceGroupNumber  \\\n",
       " 0                     217.0                 95.76                 229.0   \n",
       " \n",
       "    min_SpaceGroupNumber  most_SpaceGroupNumber  \n",
       " 0                  12.0                   12.0  \n",
       " \n",
       " [1 rows x 132 columns],\n",
       " 'ionicity':    CanFormIonic  MaxIonicChar  MeanIonicChar\n",
       " 0             1      0.803211       0.343457,\n",
       " 'stoichio':    NComp  Comp_L2Norm  Comp_L3Norm  Comp_L5Norm  Comp_L7Norm  Comp_L10Norm\n",
       " 0      3     0.663325     0.614463     0.600984     0.600078      0.600002,\n",
       " 'yang_omega':    Yang_Omega  Yang_delta\n",
       " 0    0.538034    0.569593}"
      ]
     },
     "execution_count": 11,
     "metadata": {},
     "output_type": "execute_result"
    }
   ],
   "source": [
    "# Define chemical with chem composition\n",
    "chemical = magpie.CompositionEntry(composition='BaTiO3')\n",
    "\n",
    "features =  {}\n",
    "\n",
    "meredig = chemml.chem.magpie_python.MeredigAttributeGenerator()\n",
    "elem_frac = chemml.chem.magpie_python.ElementFractionAttributeGenerator()\n",
    "val_shell = chemml.chem.magpie_python.ValenceShellAttributeGenerator()\n",
    "charge_dep = chemml.chem.magpie_python.ChargeDependentAttributeGenerator()\n",
    "elem_prop = chemml.chem.magpie_python.ElementalPropertyAttributeGenerator()\n",
    "ionicity = chemml.chem.magpie_python.IonicityAttributeGenerator()\n",
    "stoichio = chemml.chem.magpie_python.StoichiometricAttributeGenerator()\n",
    "yang_omega = chemml.chem.magpie_python.YangOmegaAttributeGenerator()\n",
    "\n",
    "features['meredig']    = meredig.generate_features(entries = [chemical])\n",
    "features['elem_frac']  = elem_frac.generate_features(entries = [chemical])\n",
    "features['val_shell']  = val_shell.generate_features(entries = [chemical])\n",
    "features['charge_dep'] = charge_dep.generate_features(entries = [chemical])\n",
    "features['elem_prop']  = elem_prop.generate_features(entries = [chemical])\n",
    "features['ionicity']   = ionicity.generate_features(entries = [chemical])\n",
    "features['stoichio']   = stoichio.generate_features(entries = [chemical])\n",
    "features['yang_omega'] = yang_omega.generate_features(entries = [chemical])\n",
    "\n",
    "count = 0\n",
    "for i in features.values():\n",
    "    a = len(i.columns)\n",
    "    # print(a)\n",
    "    count += a\n",
    "\n",
    "# print(count)\n",
    "features"
   ]
  },
  {
   "cell_type": "code",
   "execution_count": 12,
   "metadata": {},
   "outputs": [
    {
     "data": {
      "text/html": [
       "<div>\n",
       "<style scoped>\n",
       "    .dataframe tbody tr th:only-of-type {\n",
       "        vertical-align: middle;\n",
       "    }\n",
       "\n",
       "    .dataframe tbody tr th {\n",
       "        vertical-align: top;\n",
       "    }\n",
       "\n",
       "    .dataframe thead th {\n",
       "        text-align: right;\n",
       "    }\n",
       "</style>\n",
       "<table border=\"1\" class=\"dataframe\">\n",
       "  <thead>\n",
       "    <tr style=\"text-align: right;\">\n",
       "      <th></th>\n",
       "      <th>mean_AtomicWeight</th>\n",
       "      <th>mean_Column</th>\n",
       "      <th>mean_Row</th>\n",
       "      <th>maxdiff_AtomicNumber</th>\n",
       "      <th>mean_AtomicNumber</th>\n",
       "      <th>maxdiff_CovalentRadius</th>\n",
       "      <th>mean_CovalentRadius</th>\n",
       "      <th>maxdiff_Electronegativity</th>\n",
       "      <th>mean_Electronegativity</th>\n",
       "      <th>mean_NsValence</th>\n",
       "      <th>...</th>\n",
       "      <th>MaxIonicChar</th>\n",
       "      <th>MeanIonicChar</th>\n",
       "      <th>NComp</th>\n",
       "      <th>Comp_L2Norm</th>\n",
       "      <th>Comp_L3Norm</th>\n",
       "      <th>Comp_L5Norm</th>\n",
       "      <th>Comp_L7Norm</th>\n",
       "      <th>Comp_L10Norm</th>\n",
       "      <th>Yang_Omega</th>\n",
       "      <th>Yang_delta</th>\n",
       "    </tr>\n",
       "  </thead>\n",
       "  <tbody>\n",
       "    <tr>\n",
       "      <th>0</th>\n",
       "      <td>46.63844</td>\n",
       "      <td>10.8</td>\n",
       "      <td>3.2</td>\n",
       "      <td>48.0</td>\n",
       "      <td>20.4</td>\n",
       "      <td>149.0</td>\n",
       "      <td>114.6</td>\n",
       "      <td>2.55</td>\n",
       "      <td>2.55</td>\n",
       "      <td>2.0</td>\n",
       "      <td>...</td>\n",
       "      <td>0.803211</td>\n",
       "      <td>0.343457</td>\n",
       "      <td>3</td>\n",
       "      <td>0.663325</td>\n",
       "      <td>0.614463</td>\n",
       "      <td>0.600984</td>\n",
       "      <td>0.600078</td>\n",
       "      <td>0.600002</td>\n",
       "      <td>0.538034</td>\n",
       "      <td>0.569593</td>\n",
       "    </tr>\n",
       "  </tbody>\n",
       "</table>\n",
       "<p>1 rows × 280 columns</p>\n",
       "</div>"
      ],
      "text/plain": [
       "   mean_AtomicWeight  mean_Column  mean_Row  maxdiff_AtomicNumber  \\\n",
       "0           46.63844         10.8       3.2                  48.0   \n",
       "\n",
       "   mean_AtomicNumber  maxdiff_CovalentRadius  mean_CovalentRadius  \\\n",
       "0               20.4                   149.0                114.6   \n",
       "\n",
       "   maxdiff_Electronegativity  mean_Electronegativity  mean_NsValence  ...  \\\n",
       "0                       2.55                    2.55             2.0  ...   \n",
       "\n",
       "   MaxIonicChar  MeanIonicChar  NComp  Comp_L2Norm  Comp_L3Norm  Comp_L5Norm  \\\n",
       "0      0.803211       0.343457      3     0.663325     0.614463     0.600984   \n",
       "\n",
       "   Comp_L7Norm  Comp_L10Norm  Yang_Omega  Yang_delta  \n",
       "0     0.600078      0.600002    0.538034    0.569593  \n",
       "\n",
       "[1 rows x 280 columns]"
      ]
     },
     "execution_count": 12,
     "metadata": {},
     "output_type": "execute_result"
    }
   ],
   "source": [
    "feat_to_included = [\n",
    "'meredig',\n",
    "'elem_frac',\n",
    "'val_shell',\n",
    "'charge_dep',\n",
    "'elem_prop',\n",
    "'ionicity',\n",
    "'stoichio',\n",
    "'yang_omega',\n",
    "]\n",
    "\n",
    "concat  = pd.concat([features[feat] for feat in feat_to_included], axis = 1)\n",
    "concat\n"
   ]
  },
  {
   "cell_type": "markdown",
   "metadata": {},
   "source": [
    "# Matminer: https://hackingmaterials.lbl.gov/matminer/matminer.featurizers.html"
   ]
  },
  {
   "cell_type": "code",
   "execution_count": 2,
   "metadata": {},
   "outputs": [],
   "source": [
    "from matminer.featurizers.base import MultipleFeaturizer\n",
    "import matminer.featurizers.composition as cf\n",
    "from pymatgen.core.composition import Composition"
   ]
  },
  {
   "cell_type": "code",
   "execution_count": 3,
   "metadata": {},
   "outputs": [],
   "source": [
    "feature_calculators = MultipleFeaturizer([\n",
    "    cf.element.Stoichiometry(),\n",
    "    cf.composite.ElementProperty.from_preset(\"magpie\"),\n",
    "    cf.orbital.ValenceOrbital(props=[\"avg\"]),\n",
    "    cf.ion.IonProperty(fast=True)\n",
    "])"
   ]
  },
  {
   "cell_type": "code",
   "execution_count": 7,
   "metadata": {},
   "outputs": [
    {
     "name": "stdout",
     "output_type": "stream",
     "text": [
      "features: [1, 1.0, 1.0, 1.0, 1.0, 1.0, 3.0, 3.0, 0.0, 3.0, 0.0, 3.0, 1.0, 1.0, 0.0, 1.0, 0.0, 1.0, 6.941, 6.941, 0.0, 6.941, 0.0, 6.941, 453.69, 453.69, 0.0, 453.69, 0.0, 453.69, 1.0, 1.0, 0.0, 1.0, 0.0, 1.0, 2.0, 2.0, 0.0, 2.0, 0.0, 2.0, 128.0, 128.0, 0.0, 128.0, 0.0, 128.0, 0.98, 0.98, 0.0, 0.98, 0.0, 0.98, 1.0, 1.0, 0.0, 1.0, 0.0, 1.0, 0.0, 0.0, 0.0, 0.0, 0.0, 0.0, 0.0, 0.0, 0.0, 0.0, 0.0, 0.0, 0.0, 0.0, 0.0, 0.0, 0.0, 0.0, 1.0, 1.0, 0.0, 1.0, 0.0, 1.0, 1.0, 1.0, 0.0, 1.0, 0.0, 1.0, 0.0, 0.0, 0.0, 0.0, 0.0, 0.0, 0.0, 0.0, 0.0, 0.0, 0.0, 0.0, 0.0, 0.0, 0.0, 0.0, 0.0, 0.0, 1.0, 1.0, 0.0, 1.0, 0.0, 1.0, 16.5933333333, 16.5933333333, 0.0, 16.5933333333, 0.0, 16.5933333333, 0.0, 0.0, 0.0, 0.0, 0.0, 0.0, 0.0, 0.0, 0.0, 0.0, 0.0, 0.0, 229.0, 229.0, 0.0, 229.0, 0.0, 229.0, 1.0, 0.0, 0.0, 0.0, 1, 0, 0]\n"
     ]
    }
   ],
   "source": [
    "chemical = Composition(\"Li1Li1\")\n",
    "features = feature_calculators.featurize(chemical)\n",
    "features_labels = feature_calculators.feature_labels()\n",
    "\n",
    "if 'compound possible' in feature_calculators.feature_labels(): # Encode 'compound possible' with 0 = False and 1 = True\n",
    "    compound_poss = features[-3]\n",
    "    if compound_poss == True:\n",
    "        features[-3] = 1\n",
    "    else:\n",
    "        features[-3] = 0\n",
    "\n",
    "print('features:', features)\n",
    "# print('feature labels:', features_labels)"
   ]
  },
  {
   "cell_type": "code",
   "execution_count": 46,
   "metadata": {},
   "outputs": [
    {
     "data": {
      "text/plain": [
       "142"
      ]
     },
     "execution_count": 46,
     "metadata": {},
     "output_type": "execute_result"
    }
   ],
   "source": []
  }
 ],
 "metadata": {
  "interpreter": {
   "hash": "31f2aee4e71d21fbe5cf8b01ff0e069b9275f58929596ceb00d14d90e3e16cd6"
  },
  "kernelspec": {
   "display_name": "Python 3.8.2 64-bit",
   "language": "python",
   "name": "python3"
  },
  "language_info": {
   "codemirror_mode": {
    "name": "ipython",
    "version": 3
   },
   "file_extension": ".py",
   "mimetype": "text/x-python",
   "name": "python",
   "nbconvert_exporter": "python",
   "pygments_lexer": "ipython3",
   "version": "3.8.12"
  },
  "orig_nbformat": 4
 },
 "nbformat": 4,
 "nbformat_minor": 2
}
