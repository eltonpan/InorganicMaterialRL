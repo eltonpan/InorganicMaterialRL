{
 "cells": [
  {
   "cell_type": "code",
   "execution_count": 1,
   "metadata": {},
   "outputs": [
    {
     "name": "stderr",
     "output_type": "stream",
     "text": [
      "/home/synthesisproject/anaconda3/envs/dqn_roost_EMD/lib/python3.7/site-packages/sklearn/base.py:315: UserWarning: Trying to unpickle estimator DecisionTreeRegressor from version 0.23.2 when using version 0.24.2. This might lead to breaking code or invalid results. Use at your own risk.\n",
      "  UserWarning)\n",
      "/home/synthesisproject/anaconda3/envs/dqn_roost_EMD/lib/python3.7/site-packages/sklearn/base.py:315: UserWarning: Trying to unpickle estimator RandomForestRegressor from version 0.23.2 when using version 0.24.2. This might lead to breaking code or invalid results. Use at your own risk.\n",
      "  UserWarning)\n"
     ]
    },
    {
     "name": "stdout",
     "output_type": "stream",
     "text": [
      "True\n"
     ]
    }
   ],
   "source": [
    "# Env: dqn_roost as of 15/1/2022 (after addition of ROOST)\n",
    "import numpy as np\n",
    "import pickle5 as pickle\n",
    "import torch\n",
    "from torch import nn\n",
    "import collections\n",
    "from model import DQN_pytorch, DCN_pytorch\n",
    "import time\n",
    "from one_hot import featurize_target, onehot_target, element_set, comp_set, one_hot_to_element, element_to_one_hot, one_hot_to_comp, comp_to_one_hot, step_to_one_hot, one_hot_to_step\n",
    "import seaborn as sns\n",
    "import random\n",
    "import matplotlib.pyplot as plt\n",
    "import os\n",
    "from env_constrained import generate_random_act, ConstrainedMaterialEnvironment, extract_data_from_ep, generate_random_ep, predict_sinter, predict_calcine\n",
    "import collections\n",
    "from sklearn.preprocessing import StandardScaler\n",
    "from tqdm import tqdm \n",
    "from sklearn.manifold import TSNE\n",
    "from numpy.linalg import svd\n",
    "import imageio\n",
    "from pymatgen.core import Composition\n",
    "from constraints.checkers import check_neutrality, check_neutrality, check_neutrality_multiple, check_electronegativity_multiple, check_both_multiple\n",
    "from matminer.featurizers.base import MultipleFeaturizer\n",
    "import matminer.featurizers.composition as cf\n",
    "from sklearn.ensemble import RandomForestRegressor\n",
    "import joblib\n",
    "from roost_models.roost_model import predict_formation_energy, predict_bulk_mod, predict_shear_mod, predict_band_gap\n",
    "import json\n",
    "from configs import configs\n",
    "os.environ[\"CUDA_VISIBLE_DEVICES\"]=\"3\"\n",
    "print(torch.cuda.is_available())\n",
    "from metrics import similarity_to_nearest_neighbor\n",
    "import pandas as pd\n",
    "from matplotlib import gridspec\n",
    "import matplotlib"
   ]
  },
  {
   "cell_type": "markdown",
   "metadata": {},
   "source": [
    "# Random baseline"
   ]
  },
  {
   "cell_type": "code",
   "execution_count": 2,
   "metadata": {},
   "outputs": [
    {
     "name": "stderr",
     "output_type": "stream",
     "text": [
      "100%|██████████| 1000/1000 [00:03<00:00, 253.31it/s]\n",
      "100%|██████████| 1000/1000 [00:11<00:00, 89.47it/s]\n",
      "100%|██████████| 1000/1000 [01:18<00:00, 12.79it/s]\n",
      " 64%|██████▍   | 639/1000 [00:48<00:27, 13.22it/s]\n"
     ]
    },
    {
     "ename": "KeyboardInterrupt",
     "evalue": "",
     "output_type": "error",
     "traceback": [
      "\u001b[0;31m---------------------------------------------------------------------------\u001b[0m",
      "\u001b[0;31mAssertionError\u001b[0m                            Traceback (most recent call last)",
      "\u001b[0;32m/home/jupyter/Elton/RL/DQN/roost_models/roost_model.py\u001b[0m in \u001b[0;36mresults_multitask\u001b[0;34m(model_class, model_name, run_id, ensemble_folds, test_set, data_params, robust, task_dict, device, model_file, eval_type, print_results, save_results)\u001b[0m\n\u001b[1;32m     65\u001b[0m         \u001b[0;32mtry\u001b[0m\u001b[0;34m:\u001b[0m \u001b[0;31m# If script run from roost_models folder\u001b[0m\u001b[0;34m\u001b[0m\u001b[0;34m\u001b[0m\u001b[0m\n\u001b[0;32m---> 66\u001b[0;31m             \u001b[0;32massert\u001b[0m \u001b[0mos\u001b[0m\u001b[0;34m.\u001b[0m\u001b[0mpath\u001b[0m\u001b[0;34m.\u001b[0m\u001b[0misfile\u001b[0m\u001b[0;34m(\u001b[0m\u001b[0mresume\u001b[0m\u001b[0;34m)\u001b[0m\u001b[0;34m,\u001b[0m \u001b[0;34mf\"no checkpoint found at '{resume}'\"\u001b[0m\u001b[0;34m\u001b[0m\u001b[0;34m\u001b[0m\u001b[0m\n\u001b[0m\u001b[1;32m     67\u001b[0m             \u001b[0mcheckpoint\u001b[0m \u001b[0;34m=\u001b[0m \u001b[0mtorch\u001b[0m\u001b[0;34m.\u001b[0m\u001b[0mload\u001b[0m\u001b[0;34m(\u001b[0m\u001b[0mresume\u001b[0m\u001b[0;34m,\u001b[0m \u001b[0mmap_location\u001b[0m\u001b[0;34m=\u001b[0m\u001b[0mdevice\u001b[0m\u001b[0;34m)\u001b[0m\u001b[0;34m\u001b[0m\u001b[0;34m\u001b[0m\u001b[0m\n",
      "\u001b[0;31mAssertionError\u001b[0m: no checkpoint found at 'models/mp-bulk-mod.tar'",
      "\nDuring handling of the above exception, another exception occurred:\n",
      "\u001b[0;31mKeyboardInterrupt\u001b[0m                         Traceback (most recent call last)",
      "\u001b[0;32m/tmp/ipykernel_2563804/1011968214.py\u001b[0m in \u001b[0;36m<module>\u001b[0;34m\u001b[0m\n\u001b[1;32m     17\u001b[0m     \u001b[0mform_e_random\u001b[0m\u001b[0;34m.\u001b[0m\u001b[0mappend\u001b[0m\u001b[0;34m(\u001b[0m\u001b[0mpredict_formation_energy\u001b[0m\u001b[0;34m(\u001b[0m\u001b[0mcompound\u001b[0m\u001b[0;34m)\u001b[0m\u001b[0;34m)\u001b[0m\u001b[0;34m\u001b[0m\u001b[0;34m\u001b[0m\u001b[0m\n\u001b[1;32m     18\u001b[0m \u001b[0;32mfor\u001b[0m \u001b[0mcompound\u001b[0m \u001b[0;32min\u001b[0m \u001b[0mtqdm\u001b[0m\u001b[0;34m(\u001b[0m\u001b[0mrandom_oxides\u001b[0m\u001b[0;34m)\u001b[0m\u001b[0;34m:\u001b[0m\u001b[0;34m\u001b[0m\u001b[0;34m\u001b[0m\u001b[0m\n\u001b[0;32m---> 19\u001b[0;31m     \u001b[0mbulk_mod_random\u001b[0m\u001b[0;34m.\u001b[0m\u001b[0mappend\u001b[0m\u001b[0;34m(\u001b[0m\u001b[0mpredict_bulk_mod\u001b[0m\u001b[0;34m(\u001b[0m\u001b[0mcompound\u001b[0m\u001b[0;34m)\u001b[0m\u001b[0;34m)\u001b[0m\u001b[0;34m\u001b[0m\u001b[0;34m\u001b[0m\u001b[0m\n\u001b[0m\u001b[1;32m     20\u001b[0m \u001b[0;32mfor\u001b[0m \u001b[0mcompound\u001b[0m \u001b[0;32min\u001b[0m \u001b[0mtqdm\u001b[0m\u001b[0;34m(\u001b[0m\u001b[0mrandom_oxides\u001b[0m\u001b[0;34m)\u001b[0m\u001b[0;34m:\u001b[0m\u001b[0;34m\u001b[0m\u001b[0;34m\u001b[0m\u001b[0m\n\u001b[1;32m     21\u001b[0m     \u001b[0mshear_mod_random\u001b[0m\u001b[0;34m.\u001b[0m\u001b[0mappend\u001b[0m\u001b[0;34m(\u001b[0m\u001b[0mpredict_shear_mod\u001b[0m\u001b[0;34m(\u001b[0m\u001b[0mcompound\u001b[0m\u001b[0;34m)\u001b[0m\u001b[0;34m)\u001b[0m\u001b[0;34m\u001b[0m\u001b[0;34m\u001b[0m\u001b[0m\n",
      "\u001b[0;32m/home/jupyter/Elton/RL/DQN/roost_models/roost_model.py\u001b[0m in \u001b[0;36mpredict_bulk_mod\u001b[0;34m(material)\u001b[0m\n\u001b[1;32m    213\u001b[0m                     \u001b[0mdevice\u001b[0m\u001b[0;34m=\u001b[0m\u001b[0mtorch\u001b[0m\u001b[0;34m.\u001b[0m\u001b[0mdevice\u001b[0m\u001b[0;34m(\u001b[0m\u001b[0;34m\"cuda\"\u001b[0m\u001b[0;34m)\u001b[0m \u001b[0;32mif\u001b[0m \u001b[0mtorch\u001b[0m\u001b[0;34m.\u001b[0m\u001b[0mcuda\u001b[0m\u001b[0;34m.\u001b[0m\u001b[0mis_available\u001b[0m\u001b[0;34m(\u001b[0m\u001b[0;34m)\u001b[0m \u001b[0;32melse\u001b[0m \u001b[0mtorch\u001b[0m\u001b[0;34m.\u001b[0m\u001b[0mdevice\u001b[0m\u001b[0;34m(\u001b[0m\u001b[0;34m\"cpu\"\u001b[0m\u001b[0;34m)\u001b[0m\u001b[0;34m,\u001b[0m\u001b[0;34m\u001b[0m\u001b[0;34m\u001b[0m\u001b[0m\n\u001b[1;32m    214\u001b[0m                     \u001b[0meval_type\u001b[0m\u001b[0;34m=\u001b[0m\u001b[0;34m\"checkpoint\"\u001b[0m\u001b[0;34m,\u001b[0m\u001b[0;34m\u001b[0m\u001b[0;34m\u001b[0m\u001b[0m\n\u001b[0;32m--> 215\u001b[0;31m                     \u001b[0mmodel_file\u001b[0m \u001b[0;34m=\u001b[0m \u001b[0;34m'mp-bulk-mod.tar'\u001b[0m\u001b[0;34m\u001b[0m\u001b[0;34m\u001b[0m\u001b[0m\n\u001b[0m\u001b[1;32m    216\u001b[0m                 )\n\u001b[1;32m    217\u001b[0m     \u001b[0;32mdel\u001b[0m \u001b[0mtest_set\u001b[0m\u001b[0;34m\u001b[0m\u001b[0;34m\u001b[0m\u001b[0m\n",
      "\u001b[0;32m~/anaconda3/envs/dqn_roost_EMD/lib/python3.7/site-packages/torch/autograd/grad_mode.py\u001b[0m in \u001b[0;36mdecorate_context\u001b[0;34m(*args, **kwargs)\u001b[0m\n\u001b[1;32m     26\u001b[0m         \u001b[0;32mdef\u001b[0m \u001b[0mdecorate_context\u001b[0m\u001b[0;34m(\u001b[0m\u001b[0;34m*\u001b[0m\u001b[0margs\u001b[0m\u001b[0;34m,\u001b[0m \u001b[0;34m**\u001b[0m\u001b[0mkwargs\u001b[0m\u001b[0;34m)\u001b[0m\u001b[0;34m:\u001b[0m\u001b[0;34m\u001b[0m\u001b[0;34m\u001b[0m\u001b[0m\n\u001b[1;32m     27\u001b[0m             \u001b[0;32mwith\u001b[0m \u001b[0mself\u001b[0m\u001b[0;34m.\u001b[0m\u001b[0m__class__\u001b[0m\u001b[0;34m(\u001b[0m\u001b[0;34m)\u001b[0m\u001b[0;34m:\u001b[0m\u001b[0;34m\u001b[0m\u001b[0;34m\u001b[0m\u001b[0m\n\u001b[0;32m---> 28\u001b[0;31m                 \u001b[0;32mreturn\u001b[0m \u001b[0mfunc\u001b[0m\u001b[0;34m(\u001b[0m\u001b[0;34m*\u001b[0m\u001b[0margs\u001b[0m\u001b[0;34m,\u001b[0m \u001b[0;34m**\u001b[0m\u001b[0mkwargs\u001b[0m\u001b[0;34m)\u001b[0m\u001b[0;34m\u001b[0m\u001b[0;34m\u001b[0m\u001b[0m\n\u001b[0m\u001b[1;32m     29\u001b[0m         \u001b[0;32mreturn\u001b[0m \u001b[0mcast\u001b[0m\u001b[0;34m(\u001b[0m\u001b[0mF\u001b[0m\u001b[0;34m,\u001b[0m \u001b[0mdecorate_context\u001b[0m\u001b[0;34m)\u001b[0m\u001b[0;34m\u001b[0m\u001b[0;34m\u001b[0m\u001b[0m\n\u001b[1;32m     30\u001b[0m \u001b[0;34m\u001b[0m\u001b[0m\n",
      "\u001b[0;32m/home/jupyter/Elton/RL/DQN/roost_models/roost_model.py\u001b[0m in \u001b[0;36mresults_multitask\u001b[0;34m(model_class, model_name, run_id, ensemble_folds, test_set, data_params, robust, task_dict, device, model_file, eval_type, print_results, save_results)\u001b[0m\n\u001b[1;32m     67\u001b[0m             \u001b[0mcheckpoint\u001b[0m \u001b[0;34m=\u001b[0m \u001b[0mtorch\u001b[0m\u001b[0;34m.\u001b[0m\u001b[0mload\u001b[0m\u001b[0;34m(\u001b[0m\u001b[0mresume\u001b[0m\u001b[0;34m,\u001b[0m \u001b[0mmap_location\u001b[0m\u001b[0;34m=\u001b[0m\u001b[0mdevice\u001b[0m\u001b[0;34m)\u001b[0m\u001b[0;34m\u001b[0m\u001b[0;34m\u001b[0m\u001b[0m\n\u001b[1;32m     68\u001b[0m         \u001b[0;32mexcept\u001b[0m \u001b[0mAssertionError\u001b[0m\u001b[0;34m:\u001b[0m \u001b[0;31m# If script run from dqn folder\u001b[0m\u001b[0;34m\u001b[0m\u001b[0;34m\u001b[0m\u001b[0m\n\u001b[0;32m---> 69\u001b[0;31m             \u001b[0mcheckpoint\u001b[0m \u001b[0;34m=\u001b[0m \u001b[0mtorch\u001b[0m\u001b[0;34m.\u001b[0m\u001b[0mload\u001b[0m\u001b[0;34m(\u001b[0m\u001b[0;34m'roost_models/'\u001b[0m\u001b[0;34m+\u001b[0m\u001b[0mresume\u001b[0m\u001b[0;34m,\u001b[0m \u001b[0mmap_location\u001b[0m\u001b[0;34m=\u001b[0m\u001b[0mdevice\u001b[0m\u001b[0;34m)\u001b[0m\u001b[0;34m\u001b[0m\u001b[0;34m\u001b[0m\u001b[0m\n\u001b[0m\u001b[1;32m     70\u001b[0m \u001b[0;34m\u001b[0m\u001b[0m\n\u001b[1;32m     71\u001b[0m \u001b[0;34m\u001b[0m\u001b[0m\n",
      "\u001b[0;32m~/anaconda3/envs/dqn_roost_EMD/lib/python3.7/site-packages/torch/serialization.py\u001b[0m in \u001b[0;36mload\u001b[0;34m(f, map_location, pickle_module, **pickle_load_args)\u001b[0m\n\u001b[1;32m    605\u001b[0m                     \u001b[0mopened_file\u001b[0m\u001b[0;34m.\u001b[0m\u001b[0mseek\u001b[0m\u001b[0;34m(\u001b[0m\u001b[0morig_position\u001b[0m\u001b[0;34m)\u001b[0m\u001b[0;34m\u001b[0m\u001b[0;34m\u001b[0m\u001b[0m\n\u001b[1;32m    606\u001b[0m                     \u001b[0;32mreturn\u001b[0m \u001b[0mtorch\u001b[0m\u001b[0;34m.\u001b[0m\u001b[0mjit\u001b[0m\u001b[0;34m.\u001b[0m\u001b[0mload\u001b[0m\u001b[0;34m(\u001b[0m\u001b[0mopened_file\u001b[0m\u001b[0;34m)\u001b[0m\u001b[0;34m\u001b[0m\u001b[0;34m\u001b[0m\u001b[0m\n\u001b[0;32m--> 607\u001b[0;31m                 \u001b[0;32mreturn\u001b[0m \u001b[0m_load\u001b[0m\u001b[0;34m(\u001b[0m\u001b[0mopened_zipfile\u001b[0m\u001b[0;34m,\u001b[0m \u001b[0mmap_location\u001b[0m\u001b[0;34m,\u001b[0m \u001b[0mpickle_module\u001b[0m\u001b[0;34m,\u001b[0m \u001b[0;34m**\u001b[0m\u001b[0mpickle_load_args\u001b[0m\u001b[0;34m)\u001b[0m\u001b[0;34m\u001b[0m\u001b[0;34m\u001b[0m\u001b[0m\n\u001b[0m\u001b[1;32m    608\u001b[0m         \u001b[0;32mreturn\u001b[0m \u001b[0m_legacy_load\u001b[0m\u001b[0;34m(\u001b[0m\u001b[0mopened_file\u001b[0m\u001b[0;34m,\u001b[0m \u001b[0mmap_location\u001b[0m\u001b[0;34m,\u001b[0m \u001b[0mpickle_module\u001b[0m\u001b[0;34m,\u001b[0m \u001b[0;34m**\u001b[0m\u001b[0mpickle_load_args\u001b[0m\u001b[0;34m)\u001b[0m\u001b[0;34m\u001b[0m\u001b[0;34m\u001b[0m\u001b[0m\n\u001b[1;32m    609\u001b[0m \u001b[0;34m\u001b[0m\u001b[0m\n",
      "\u001b[0;32m~/anaconda3/envs/dqn_roost_EMD/lib/python3.7/site-packages/torch/serialization.py\u001b[0m in \u001b[0;36m_load\u001b[0;34m(zip_file, map_location, pickle_module, pickle_file, **pickle_load_args)\u001b[0m\n\u001b[1;32m    880\u001b[0m     \u001b[0munpickler\u001b[0m \u001b[0;34m=\u001b[0m \u001b[0mUnpicklerWrapper\u001b[0m\u001b[0;34m(\u001b[0m\u001b[0mdata_file\u001b[0m\u001b[0;34m,\u001b[0m \u001b[0;34m**\u001b[0m\u001b[0mpickle_load_args\u001b[0m\u001b[0;34m)\u001b[0m\u001b[0;34m\u001b[0m\u001b[0;34m\u001b[0m\u001b[0m\n\u001b[1;32m    881\u001b[0m     \u001b[0munpickler\u001b[0m\u001b[0;34m.\u001b[0m\u001b[0mpersistent_load\u001b[0m \u001b[0;34m=\u001b[0m \u001b[0mpersistent_load\u001b[0m\u001b[0;34m\u001b[0m\u001b[0;34m\u001b[0m\u001b[0m\n\u001b[0;32m--> 882\u001b[0;31m     \u001b[0mresult\u001b[0m \u001b[0;34m=\u001b[0m \u001b[0munpickler\u001b[0m\u001b[0;34m.\u001b[0m\u001b[0mload\u001b[0m\u001b[0;34m(\u001b[0m\u001b[0;34m)\u001b[0m\u001b[0;34m\u001b[0m\u001b[0;34m\u001b[0m\u001b[0m\n\u001b[0m\u001b[1;32m    883\u001b[0m \u001b[0;34m\u001b[0m\u001b[0m\n\u001b[1;32m    884\u001b[0m     \u001b[0mtorch\u001b[0m\u001b[0;34m.\u001b[0m\u001b[0m_utils\u001b[0m\u001b[0;34m.\u001b[0m\u001b[0m_validate_loaded_sparse_tensors\u001b[0m\u001b[0;34m(\u001b[0m\u001b[0;34m)\u001b[0m\u001b[0;34m\u001b[0m\u001b[0;34m\u001b[0m\u001b[0m\n",
      "\u001b[0;32m~/anaconda3/envs/dqn_roost_EMD/lib/python3.7/site-packages/torch/serialization.py\u001b[0m in \u001b[0;36mpersistent_load\u001b[0;34m(saved_id)\u001b[0m\n\u001b[1;32m    855\u001b[0m         \u001b[0mdata_type\u001b[0m\u001b[0;34m,\u001b[0m \u001b[0mkey\u001b[0m\u001b[0;34m,\u001b[0m \u001b[0mlocation\u001b[0m\u001b[0;34m,\u001b[0m \u001b[0msize\u001b[0m \u001b[0;34m=\u001b[0m \u001b[0mdata\u001b[0m\u001b[0;34m\u001b[0m\u001b[0;34m\u001b[0m\u001b[0m\n\u001b[1;32m    856\u001b[0m         \u001b[0;32mif\u001b[0m \u001b[0mkey\u001b[0m \u001b[0;32mnot\u001b[0m \u001b[0;32min\u001b[0m \u001b[0mloaded_storages\u001b[0m\u001b[0;34m:\u001b[0m\u001b[0;34m\u001b[0m\u001b[0;34m\u001b[0m\u001b[0m\n\u001b[0;32m--> 857\u001b[0;31m             \u001b[0mload_tensor\u001b[0m\u001b[0;34m(\u001b[0m\u001b[0mdata_type\u001b[0m\u001b[0;34m,\u001b[0m \u001b[0msize\u001b[0m\u001b[0;34m,\u001b[0m \u001b[0mkey\u001b[0m\u001b[0;34m,\u001b[0m \u001b[0m_maybe_decode_ascii\u001b[0m\u001b[0;34m(\u001b[0m\u001b[0mlocation\u001b[0m\u001b[0;34m)\u001b[0m\u001b[0;34m)\u001b[0m\u001b[0;34m\u001b[0m\u001b[0;34m\u001b[0m\u001b[0m\n\u001b[0m\u001b[1;32m    858\u001b[0m         \u001b[0mstorage\u001b[0m \u001b[0;34m=\u001b[0m \u001b[0mloaded_storages\u001b[0m\u001b[0;34m[\u001b[0m\u001b[0mkey\u001b[0m\u001b[0;34m]\u001b[0m\u001b[0;34m\u001b[0m\u001b[0;34m\u001b[0m\u001b[0m\n\u001b[1;32m    859\u001b[0m         \u001b[0;32mreturn\u001b[0m \u001b[0mstorage\u001b[0m\u001b[0;34m\u001b[0m\u001b[0;34m\u001b[0m\u001b[0m\n",
      "\u001b[0;32m~/anaconda3/envs/dqn_roost_EMD/lib/python3.7/site-packages/torch/serialization.py\u001b[0m in \u001b[0;36mload_tensor\u001b[0;34m(data_type, size, key, location)\u001b[0m\n\u001b[1;32m    843\u001b[0m         \u001b[0mdtype\u001b[0m \u001b[0;34m=\u001b[0m \u001b[0mdata_type\u001b[0m\u001b[0;34m(\u001b[0m\u001b[0;36m0\u001b[0m\u001b[0;34m)\u001b[0m\u001b[0;34m.\u001b[0m\u001b[0mdtype\u001b[0m\u001b[0;34m\u001b[0m\u001b[0;34m\u001b[0m\u001b[0m\n\u001b[1;32m    844\u001b[0m \u001b[0;34m\u001b[0m\u001b[0m\n\u001b[0;32m--> 845\u001b[0;31m         \u001b[0mstorage\u001b[0m \u001b[0;34m=\u001b[0m \u001b[0mzip_file\u001b[0m\u001b[0;34m.\u001b[0m\u001b[0mget_storage_from_record\u001b[0m\u001b[0;34m(\u001b[0m\u001b[0mname\u001b[0m\u001b[0;34m,\u001b[0m \u001b[0msize\u001b[0m\u001b[0;34m,\u001b[0m \u001b[0mdtype\u001b[0m\u001b[0;34m)\u001b[0m\u001b[0;34m.\u001b[0m\u001b[0mstorage\u001b[0m\u001b[0;34m(\u001b[0m\u001b[0;34m)\u001b[0m\u001b[0;34m\u001b[0m\u001b[0;34m\u001b[0m\u001b[0m\n\u001b[0m\u001b[1;32m    846\u001b[0m         \u001b[0mloaded_storages\u001b[0m\u001b[0;34m[\u001b[0m\u001b[0mkey\u001b[0m\u001b[0;34m]\u001b[0m \u001b[0;34m=\u001b[0m \u001b[0mrestore_location\u001b[0m\u001b[0;34m(\u001b[0m\u001b[0mstorage\u001b[0m\u001b[0;34m,\u001b[0m \u001b[0mlocation\u001b[0m\u001b[0;34m)\u001b[0m\u001b[0;34m\u001b[0m\u001b[0;34m\u001b[0m\u001b[0m\n\u001b[1;32m    847\u001b[0m \u001b[0;34m\u001b[0m\u001b[0m\n",
      "\u001b[0;31mKeyboardInterrupt\u001b[0m: "
     ]
    }
   ],
   "source": [
    "# Load random oxides\n",
    "with open('./training_data/random_oxides.pkl', 'rb') as f: \n",
    "    random_oxides = pickle.load(f)\n",
    "\n",
    "# Charge neutrality and electronegativity\n",
    "cn_random_good, cn_random_bad = check_neutrality_multiple(random_oxides)\n",
    "en_random_good, en_random_bad = check_electronegativity_multiple(random_oxides)\n",
    "\n",
    "form_e_random    = []\n",
    "bulk_mod_random  = []\n",
    "shear_mod_random = []\n",
    "sintering_random = []\n",
    "calcine_random   = []\n",
    "bg_random        = []\n",
    "\n",
    "for compound in tqdm(random_oxides):\n",
    "    form_e_random.append(predict_formation_energy(compound))\n",
    "for compound in tqdm(random_oxides):\n",
    "    bulk_mod_random.append(predict_bulk_mod(compound))\n",
    "for compound in tqdm(random_oxides):\n",
    "    shear_mod_random.append(predict_shear_mod(compound))\n",
    "for compound in tqdm(random_oxides):\n",
    "    sintering_random.append(predict_sinter(compound))\n",
    "for compound in tqdm(random_oxides):\n",
    "    calcine_random.append(predict_calcine(compound))\n",
    "for compound in tqdm(random_oxides):\n",
    "    bg_random.append(predict_band_gap(compound))\n",
    "random_oxides_EMD_mean, random_oxides_EMD_std = similarity_to_nearest_neighbor(random_oxides)\n",
    "\n",
    "print('Random baseline:')\n",
    "print('unique', len(set(random_oxides))/len(random_oxides))\n",
    "print('charge neutral', len(cn_random_good)/(len(cn_random_good)+len(cn_random_bad)))\n",
    "print('electronegativity balanced', len(en_random_good)/(len(en_random_good)+len(en_random_bad)))\n",
    "\n",
    "print('form_e_mean', np.mean(form_e_random))\n",
    "print('form_e_std', np.std(form_e_random))\n",
    "\n",
    "print('bulk_mod_mean', np.mean(bulk_mod_random))\n",
    "print('bulk_mod_std', np.std(bulk_mod_random))\n",
    "\n",
    "print('shear_mod_mean', np.mean(shear_mod_random))\n",
    "print('shear_mod_std', np.std(shear_mod_random))\n",
    "\n",
    "print('sintering_mean', np.mean(sintering_random))\n",
    "print('sintering_std', np.std(sintering_random))\n",
    "\n",
    "print('calcine_mean', np.mean(calcine_random))\n",
    "print('calcine_std', np.std(calcine_random))\n",
    "\n",
    "print('band_gap_mean', np.mean(bg_random))\n",
    "print('band_gap_std', np.std(bg_random))\n",
    "\n",
    "print('EMD_mean', random_oxides_EMD_mean)\n",
    "print('EMD_std', random_oxides_EMD_std)"
   ]
  },
  {
   "cell_type": "code",
   "execution_count": 48,
   "metadata": {},
   "outputs": [
    {
     "name": "stderr",
     "output_type": "stream",
     "text": [
      "100%|██████████| 1000/1000 [00:04<00:00, 242.54it/s]\n",
      "100%|██████████| 1000/1000 [00:10<00:00, 93.03it/s]\n",
      "100%|██████████| 1000/1000 [00:04<00:00, 241.95it/s]\n",
      "100%|██████████| 1000/1000 [00:10<00:00, 92.63it/s]\n",
      "100%|██████████| 1000/1000 [01:21<00:00, 12.34it/s]\n",
      "100%|██████████| 1000/1000 [01:18<00:00, 12.67it/s]\n",
      "100%|██████████| 1000/1000 [01:18<00:00, 12.76it/s]\n",
      "100%|██████████| 1000/1000 [00:22<00:00, 44.04it/s]\n",
      "100%|██████████| 1000/1000 [00:27<00:00, 36.29it/s]\n",
      "100%|██████████| 1000/1000 [01:17<00:00, 12.84it/s]\n"
     ]
    },
    {
     "name": "stdout",
     "output_type": "stream",
     "text": [
      "Fitting mod_petti kernel matrix\n",
      "Constructing distances\n",
      "Parsing Formula\n"
     ]
    },
    {
     "name": "stderr",
     "output_type": "stream",
     "text": [
      "100%|██████████| 1000/1000 [00:00<00:00, 10842.48it/s]\n"
     ]
    },
    {
     "name": "stdout",
     "output_type": "stream",
     "text": [
      "Constructing joint compositional pairings\n"
     ]
    },
    {
     "name": "stderr",
     "output_type": "stream",
     "text": [
      "100%|██████████| 999/999 [00:00<00:00, 20313.71it/s]"
     ]
    },
    {
     "name": "stdout",
     "output_type": "stream",
     "text": [
      "Creating Process Pool\n",
      "Scattering compositions between processes and computing distances\n"
     ]
    },
    {
     "name": "stderr",
     "output_type": "stream",
     "text": [
      "\n"
     ]
    },
    {
     "data": {
      "application/vnd.jupyter.widget-view+json": {
       "model_id": "b3f444b8c2c64c24a57c17ce127d5caf",
       "version_major": 2,
       "version_minor": 0
      },
      "text/plain": [
       "  0%|          | 0/999 [00:00<?, ?it/s]"
      ]
     },
     "metadata": {},
     "output_type": "display_data"
    },
    {
     "name": "stdout",
     "output_type": "stream",
     "text": [
      "Distances computed closing processes\n",
      "Flattening sublists\n"
     ]
    },
    {
     "name": "stderr",
     "output_type": "stream",
     "text": [
      "100%|██████████| 1000/1000 [00:00<00:00, 9258.99it/s]"
     ]
    },
    {
     "name": "stdout",
     "output_type": "stream",
     "text": [
      "Average Element Mover's distance: 20.0488\n",
      "Std Element Mover's distance: 9.7828\n",
      "Random baseline:\n",
      "unique 1.0\n",
      "charge neutral 0.587\n",
      "electronegativity balanced 0.42\n",
      "form_e_mean -1.4151875623399393\n",
      "form_e_std 0.7188623261388076\n",
      "bulk_mod_mean 4.263697368621826\n",
      "bulk_mod_std 0.6004355585154774\n",
      "shear_mod_mean 3.643203038930893\n",
      "shear_mod_std 0.7170473605979794\n",
      "sintering_mean 1008.5398695850354\n",
      "sintering_std 130.8149425120138\n",
      "calcine_mean 904.9636730310777\n",
      "calcine_std 72.29017468376551\n",
      "band_gap_mean 0.6316121929883957\n",
      "band_gap_std 0.6846788343101382\n",
      "EMD_mean 20.048819003831824\n",
      "EMD_std 9.782758073295991\n"
     ]
    },
    {
     "name": "stderr",
     "output_type": "stream",
     "text": [
      "\n"
     ]
    }
   ],
   "source": [
    "# Load random oxides\n",
    "with open('./training_data/random_oxides-2.pkl', 'rb') as f: \n",
    "    random_oxides = pickle.load(f)\n",
    "    \n",
    "# Charge neutrality and electronegativity\n",
    "cn_random_good, cn_random_bad = check_neutrality_multiple(random_oxides)\n",
    "en_random_good, en_random_bad = check_electronegativity_multiple(random_oxides)\n",
    "\n",
    "form_e_random    = []\n",
    "bulk_mod_random  = []\n",
    "shear_mod_random = []\n",
    "sintering_random = []\n",
    "calcine_random   = []# Load random oxides\n",
    "with open('./training_data/random_oxides-2.pkl', 'rb') as f: \n",
    "    random_oxides = pickle.load(f)\n",
    "\n",
    "# Charge neutrality and electronegativity\n",
    "cn_random_good, cn_random_bad = check_neutrality_multiple(random_oxides)\n",
    "en_random_good, en_random_bad = check_electronegativity_multiple(random_oxides)\n",
    "\n",
    "form_e_random    = []\n",
    "bulk_mod_random  = []\n",
    "shear_mod_random = []\n",
    "sintering_random = []\n",
    "calcine_random   = []\n",
    "bg_random        = []\n",
    "\n",
    "for compound in tqdm(random_oxides):\n",
    "    form_e_random.append(predict_formation_energy(compound))\n",
    "for compound in tqdm(random_oxides):\n",
    "    bulk_mod_random.append(predict_bulk_mod(compound))\n",
    "for compound in tqdm(random_oxides):\n",
    "    shear_mod_random.append(predict_shear_mod(compound))\n",
    "for compound in tqdm(random_oxides):\n",
    "    sintering_random.append(predict_sinter(compound))\n",
    "for compound in tqdm(random_oxides):\n",
    "    calcine_random.append(predict_calcine(compound))\n",
    "for compound in tqdm(random_oxides):\n",
    "    bg_random.append(predict_band_gap(compound))\n",
    "random_oxides_EMD_mean, random_oxides_EMD_std = similarity_to_nearest_neighbor(random_oxides)\n",
    "\n",
    "print('Random baseline:')\n",
    "print('unique', len(set(random_oxides))/len(random_oxides))\n",
    "print('charge neutral', len(cn_random_good)/(len(cn_random_good)+len(cn_random_bad)))\n",
    "print('electronegativity balanced', len(en_random_good)/(len(en_random_good)+len(en_random_bad)))\n",
    "\n",
    "print('form_e_mean', np.mean(form_e_random))\n",
    "print('form_e_std', np.std(form_e_random))\n",
    "\n",
    "print('bulk_mod_mean', np.mean(bulk_mod_random))\n",
    "print('bulk_mod_std', np.std(bulk_mod_random))\n",
    "\n",
    "print('shear_mod_mean', np.mean(shear_mod_random))\n",
    "print('shear_mod_std', np.std(shear_mod_random))\n",
    "\n",
    "print('sintering_mean', np.mean(sintering_random))\n",
    "print('sintering_std', np.std(sintering_random))\n",
    "\n",
    "print('calcine_mean', np.mean(calcine_random))\n",
    "print('calcine_std', np.std(calcine_random))\n",
    "\n",
    "print('band_gap_mean', np.mean(bg_random))\n",
    "print('band_gap_std', np.std(bg_random))\n",
    "\n",
    "print('EMD_mean', random_oxides_EMD_mean)\n",
    "print('EMD_std', random_oxides_EMD_std)\n"
   ]
  },
  {
   "cell_type": "code",
   "execution_count": 49,
   "metadata": {},
   "outputs": [
    {
     "name": "stderr",
     "output_type": "stream",
     "text": [
      "100%|██████████| 1000/1000 [00:03<00:00, 264.65it/s]\n",
      "100%|██████████| 1000/1000 [00:10<00:00, 95.95it/s]\n",
      "100%|██████████| 1000/1000 [01:18<00:00, 12.67it/s]\n",
      "100%|██████████| 1000/1000 [01:18<00:00, 12.75it/s]\n",
      "100%|██████████| 1000/1000 [01:17<00:00, 12.83it/s]\n",
      "100%|██████████| 1000/1000 [00:22<00:00, 43.76it/s]\n",
      "100%|██████████| 1000/1000 [00:27<00:00, 36.00it/s]\n",
      "100%|██████████| 1000/1000 [01:18<00:00, 12.82it/s]\n"
     ]
    },
    {
     "name": "stdout",
     "output_type": "stream",
     "text": [
      "Fitting mod_petti kernel matrix\n",
      "Constructing distances\n",
      "Parsing Formula\n"
     ]
    },
    {
     "name": "stderr",
     "output_type": "stream",
     "text": [
      "100%|██████████| 1000/1000 [00:00<00:00, 10839.06it/s]\n"
     ]
    },
    {
     "name": "stdout",
     "output_type": "stream",
     "text": [
      "Constructing joint compositional pairings\n"
     ]
    },
    {
     "name": "stderr",
     "output_type": "stream",
     "text": [
      "100%|██████████| 999/999 [00:00<00:00, 20199.72it/s]"
     ]
    },
    {
     "name": "stdout",
     "output_type": "stream",
     "text": [
      "Creating Process Pool\n",
      "Scattering compositions between processes and computing distances\n"
     ]
    },
    {
     "name": "stderr",
     "output_type": "stream",
     "text": [
      "\n"
     ]
    },
    {
     "data": {
      "application/vnd.jupyter.widget-view+json": {
       "model_id": "63131d4235494d839c8eea3835554a91",
       "version_major": 2,
       "version_minor": 0
      },
      "text/plain": [
       "  0%|          | 0/999 [00:00<?, ?it/s]"
      ]
     },
     "metadata": {},
     "output_type": "display_data"
    },
    {
     "name": "stdout",
     "output_type": "stream",
     "text": [
      "Distances computed closing processes\n",
      "Flattening sublists\n"
     ]
    },
    {
     "name": "stderr",
     "output_type": "stream",
     "text": [
      "100%|██████████| 1000/1000 [00:00<00:00, 9079.84it/s]"
     ]
    },
    {
     "name": "stdout",
     "output_type": "stream",
     "text": [
      "Average Element Mover's distance: 19.6471\n",
      "Std Element Mover's distance: 9.4338\n",
      "Random baseline:\n",
      "unique 1.0\n",
      "charge neutral 0.587\n",
      "electronegativity balanced 0.412\n",
      "form_e_mean -1.401432761335047\n",
      "form_e_std 0.7082265678201058\n",
      "bulk_mod_mean 4.2748829307556155\n",
      "bulk_mod_std 0.6134983561994912\n",
      "shear_mod_mean 3.6286604280471804\n",
      "shear_mod_std 0.7356652831553542\n",
      "sintering_mean 1005.792137741593\n",
      "sintering_std 129.81555364079463\n",
      "calcine_mean 902.7893374190692\n",
      "calcine_std 70.71069374461189\n",
      "band_gap_mean 0.6379839664697647\n",
      "band_gap_std 0.6771980884166239\n",
      "EMD_mean 19.647089558534528\n",
      "EMD_std 9.433796321450885\n"
     ]
    },
    {
     "name": "stderr",
     "output_type": "stream",
     "text": [
      "\n"
     ]
    }
   ],
   "source": [
    "# Load random oxides\n",
    "with open('./training_data/random_oxides-3.pkl', 'rb') as f: \n",
    "    random_oxides = pickle.load(f)\n",
    "\n",
    "# Charge neutrality and electronegativity\n",
    "cn_random_good, cn_random_bad = check_neutrality_multiple(random_oxides)\n",
    "en_random_good, en_random_bad = check_electronegativity_multiple(random_oxides)\n",
    "\n",
    "form_e_random    = []\n",
    "bulk_mod_random  = []\n",
    "shear_mod_random = []\n",
    "sintering_random = []\n",
    "calcine_random   = []\n",
    "bg_random        = []\n",
    "\n",
    "for compound in tqdm(random_oxides):\n",
    "    form_e_random.append(predict_formation_energy(compound))\n",
    "for compound in tqdm(random_oxides):\n",
    "    bulk_mod_random.append(predict_bulk_mod(compound))\n",
    "for compound in tqdm(random_oxides):\n",
    "    shear_mod_random.append(predict_shear_mod(compound))\n",
    "for compound in tqdm(random_oxides):\n",
    "    sintering_random.append(predict_sinter(compound))\n",
    "for compound in tqdm(random_oxides):\n",
    "    calcine_random.append(predict_calcine(compound))\n",
    "for compound in tqdm(random_oxides):\n",
    "    bg_random.append(predict_band_gap(compound))\n",
    "random_oxides_EMD_mean, random_oxides_EMD_std = similarity_to_nearest_neighbor(random_oxides)\n",
    "\n",
    "print('Random baseline:')\n",
    "print('unique', len(set(random_oxides))/len(random_oxides))\n",
    "print('charge neutral', len(cn_random_good)/(len(cn_random_good)+len(cn_random_bad)))\n",
    "print('electronegativity balanced', len(en_random_good)/(len(en_random_good)+len(en_random_bad)))\n",
    "\n",
    "print('form_e_mean', np.mean(form_e_random))\n",
    "print('form_e_std', np.std(form_e_random))\n",
    "\n",
    "print('bulk_mod_mean', np.mean(bulk_mod_random))\n",
    "print('bulk_mod_std', np.std(bulk_mod_random))\n",
    "\n",
    "print('shear_mod_mean', np.mean(shear_mod_random))\n",
    "print('shear_mod_std', np.std(shear_mod_random))\n",
    "\n",
    "print('sintering_mean', np.mean(sintering_random))\n",
    "print('sintering_std', np.std(sintering_random))\n",
    "\n",
    "print('calcine_mean', np.mean(calcine_random))\n",
    "print('calcine_std', np.std(calcine_random))\n",
    "\n",
    "print('band_gap_mean', np.mean(bg_random))\n",
    "print('band_gap_std', np.std(bg_random))\n",
    "\n",
    "print('EMD_mean', random_oxides_EMD_mean)\n",
    "print('EMD_std', random_oxides_EMD_std)"
   ]
  },
  {
   "cell_type": "markdown",
   "metadata": {},
   "source": [
    "# Formation energy task"
   ]
  },
  {
   "cell_type": "code",
   "execution_count": 3,
   "metadata": {},
   "outputs": [
    {
     "name": "stderr",
     "output_type": "stream",
     "text": [
      "100%|██████████| 1000/1000 [01:15<00:00, 13.23it/s]\n",
      "100%|██████████| 1000/1000 [01:15<00:00, 13.20it/s]\n",
      "100%|██████████| 1000/1000 [00:03<00:00, 255.14it/s]\n",
      "100%|██████████| 1000/1000 [00:11<00:00, 90.31it/s]\n",
      "100%|██████████| 1000/1000 [00:02<00:00, 404.81it/s]\n",
      "100%|██████████| 1000/1000 [00:06<00:00, 147.03it/s]\n"
     ]
    },
    {
     "name": "stdout",
     "output_type": "stream",
     "text": [
      "Fitting mod_petti kernel matrix\n",
      "Constructing distances\n",
      "Parsing Formula\n"
     ]
    },
    {
     "name": "stderr",
     "output_type": "stream",
     "text": [
      "100%|██████████| 1000/1000 [00:00<00:00, 11038.16it/s]\n"
     ]
    },
    {
     "name": "stdout",
     "output_type": "stream",
     "text": [
      "Constructing joint compositional pairings\n"
     ]
    },
    {
     "name": "stderr",
     "output_type": "stream",
     "text": [
      "100%|██████████| 999/999 [00:00<00:00, 20834.50it/s]"
     ]
    },
    {
     "name": "stdout",
     "output_type": "stream",
     "text": [
      "Creating Process Pool\n",
      "Scattering compositions between processes and computing distances\n"
     ]
    },
    {
     "name": "stderr",
     "output_type": "stream",
     "text": [
      "\n"
     ]
    },
    {
     "data": {
      "application/vnd.jupyter.widget-view+json": {
       "model_id": "80d6b6071d7c407ea864b0fbe38bc3bb",
       "version_major": 2,
       "version_minor": 0
      },
      "text/plain": [
       "  0%|          | 0/999 [00:00<?, ?it/s]"
      ]
     },
     "metadata": {},
     "output_type": "display_data"
    },
    {
     "name": "stdout",
     "output_type": "stream",
     "text": [
      "Distances computed closing processes\n",
      "Flattening sublists\n"
     ]
    },
    {
     "name": "stderr",
     "output_type": "stream",
     "text": [
      "100%|██████████| 1000/1000 [00:00<00:00, 9174.54it/s]\n"
     ]
    },
    {
     "name": "stdout",
     "output_type": "stream",
     "text": [
      "Average Element Mover's distance: 20.1286\n",
      "Std Element Mover's distance: 9.8238\n",
      "Fitting mod_petti kernel matrix\n",
      "Constructing distances\n",
      "Parsing Formula\n"
     ]
    },
    {
     "name": "stderr",
     "output_type": "stream",
     "text": [
      "100%|██████████| 1000/1000 [00:00<00:00, 11296.21it/s]\n"
     ]
    },
    {
     "name": "stdout",
     "output_type": "stream",
     "text": [
      "Constructing joint compositional pairings\n"
     ]
    },
    {
     "name": "stderr",
     "output_type": "stream",
     "text": [
      "100%|██████████| 999/999 [00:00<00:00, 20992.95it/s]"
     ]
    },
    {
     "name": "stdout",
     "output_type": "stream",
     "text": [
      "Creating Process Pool\n",
      "Scattering compositions between processes and computing distances\n"
     ]
    },
    {
     "name": "stderr",
     "output_type": "stream",
     "text": [
      "\n"
     ]
    },
    {
     "data": {
      "application/vnd.jupyter.widget-view+json": {
       "model_id": "4910b58810cb419dabc482e05cafb9b1",
       "version_major": 2,
       "version_minor": 0
      },
      "text/plain": [
       "  0%|          | 0/999 [00:00<?, ?it/s]"
      ]
     },
     "metadata": {},
     "output_type": "display_data"
    },
    {
     "name": "stdout",
     "output_type": "stream",
     "text": [
      "Distances computed closing processes\n",
      "Flattening sublists\n"
     ]
    },
    {
     "name": "stderr",
     "output_type": "stream",
     "text": [
      "100%|██████████| 1000/1000 [00:00<00:00, 9329.84it/s]"
     ]
    },
    {
     "name": "stdout",
     "output_type": "stream",
     "text": [
      "Average Element Mover's distance: 14.1205\n",
      "Std Element Mover's distance: 7.6154\n"
     ]
    },
    {
     "name": "stderr",
     "output_type": "stream",
     "text": [
      "\n"
     ]
    },
    {
     "data": {
      "text/plain": [
       "{'form_e_random_mean': -1.3723867765516042,\n",
       " 'form_e_random_std': 0.7347616392281606,\n",
       " 'form_e_trained_mean': -2.5469348824471236,\n",
       " 'form_e_trained_std': 0.7284008791384636,\n",
       " 'charge_neutral_random': 0.599,\n",
       " 'electronegativity_balanced_random': 0.428,\n",
       " 'charge_neutral_trained': 0.601,\n",
       " 'electronegativity_balanced_trained': 0.41,\n",
       " 'unique_random': 1.0,\n",
       " 'unique_trained': 1.0,\n",
       " 'random_oxides_EMD_mean': 20.128644743593593,\n",
       " 'random_oxides_EMD_std': 9.82379022238823,\n",
       " 'final_compounds_EMD_mean': 14.120539936328331,\n",
       " 'final_compounds_EMD_std': 7.615436575519054}"
      ]
     },
     "execution_count": 3,
     "metadata": {},
     "output_type": "execute_result"
    }
   ],
   "source": [
    "# # Load random oxides\n",
    "with open('./training_data/random_oxides.pkl', 'rb') as f: \n",
    "    random_oxides = pickle.load(f)\n",
    "\n",
    "# Load compounds\n",
    "with open('./training_data/oxides_form_e/final_compounds_roost_constrained.pkl', 'rb') as handle:\n",
    "    final_compounds = pickle.load(handle)\n",
    "\n",
    "# Formation Energy\n",
    "form_e_random = []\n",
    "form_e_trained = []\n",
    "for compound in tqdm(random_oxides):\n",
    "    form_e_random.append(predict_formation_energy(compound))\n",
    "for compound in tqdm(final_compounds):\n",
    "    form_e_trained.append(predict_formation_energy(compound))\n",
    "\n",
    "# Charge neutrality and electronegativity\n",
    "cn_random_good, cn_random_bad = check_neutrality_multiple(random_oxides)\n",
    "en_random_good, en_random_bad = check_electronegativity_multiple(random_oxides)\n",
    "cn_trained_good, cn_trained_bad = check_neutrality_multiple(final_compounds)\n",
    "en_trained_good, en_trained_bad = check_electronegativity_multiple(final_compounds)\n",
    "\n",
    "# Uniqueness\n",
    "random_oxides_unique = list(set(random_oxides))\n",
    "final_compounds_unique = list(set(final_compounds))\n",
    "\n",
    "# EMD\n",
    "random_oxides_EMD_mean, random_oxides_EMD_std = similarity_to_nearest_neighbor(random_oxides)\n",
    "final_compounds_EMD_mean, final_compounds_EMD_std = similarity_to_nearest_neighbor(final_compounds)\n",
    "\n",
    "results = {}\n",
    "results['form_e_random_mean'] = np.mean(form_e_random)\n",
    "results['form_e_random_std'] = np.std(form_e_random)\n",
    "results['form_e_trained_mean'] = np.mean(form_e_trained)\n",
    "results['form_e_trained_std'] = np.std(form_e_trained)\n",
    "results['charge_neutral_random'] = len(cn_random_good)/(len(cn_random_good)+len(cn_random_bad))\n",
    "results['electronegativity_balanced_random'] = len(en_random_good)/(len(en_random_good)+len(en_random_bad))\n",
    "results['charge_neutral_trained'] = len(cn_trained_good)/(len(cn_trained_good)+len(cn_trained_bad))\n",
    "results['electronegativity_balanced_trained'] = len(en_trained_good)/(len(en_trained_good)+len(en_trained_bad))\n",
    "results['unique_random'] = len(random_oxides_unique)/len(random_oxides)\n",
    "results['unique_trained'] = len(final_compounds_unique)/len(final_compounds)\n",
    "results['random_oxides_EMD_mean'], results['random_oxides_EMD_std'] = random_oxides_EMD_mean, random_oxides_EMD_std\n",
    "results['final_compounds_EMD_mean'], results['final_compounds_EMD_std'] = final_compounds_EMD_mean, final_compounds_EMD_std\n",
    "results"
   ]
  },
  {
   "cell_type": "code",
   "execution_count": 4,
   "metadata": {},
   "outputs": [
    {
     "name": "stderr",
     "output_type": "stream",
     "text": [
      "100%|██████████| 1000/1000 [01:17<00:00, 12.91it/s]\n",
      "100%|██████████| 1000/1000 [01:16<00:00, 13.09it/s]\n"
     ]
    },
    {
     "name": "stdout",
     "output_type": "stream",
     "text": [
      "True\n"
     ]
    },
    {
     "name": "stderr",
     "output_type": "stream",
     "text": [
      "100%|██████████| 1000/1000 [00:03<00:00, 252.89it/s]\n",
      "100%|██████████| 1000/1000 [00:11<00:00, 89.18it/s]\n",
      "100%|██████████| 1000/1000 [00:03<00:00, 319.53it/s]\n",
      "100%|██████████| 1000/1000 [00:11<00:00, 88.70it/s]\n"
     ]
    },
    {
     "name": "stdout",
     "output_type": "stream",
     "text": [
      "Fitting mod_petti kernel matrix\n",
      "Constructing distances\n",
      "Parsing Formula\n"
     ]
    },
    {
     "name": "stderr",
     "output_type": "stream",
     "text": [
      "100%|██████████| 1000/1000 [00:00<00:00, 10761.58it/s]\n"
     ]
    },
    {
     "name": "stdout",
     "output_type": "stream",
     "text": [
      "Constructing joint compositional pairings\n"
     ]
    },
    {
     "name": "stderr",
     "output_type": "stream",
     "text": [
      "100%|██████████| 999/999 [00:00<00:00, 20396.08it/s]"
     ]
    },
    {
     "name": "stdout",
     "output_type": "stream",
     "text": [
      "Creating Process Pool\n",
      "Scattering compositions between processes and computing distances\n"
     ]
    },
    {
     "name": "stderr",
     "output_type": "stream",
     "text": [
      "\n"
     ]
    },
    {
     "data": {
      "application/vnd.jupyter.widget-view+json": {
       "model_id": "33dfde5b8d5243ac9825f38c3b36a0a3",
       "version_major": 2,
       "version_minor": 0
      },
      "text/plain": [
       "  0%|          | 0/999 [00:00<?, ?it/s]"
      ]
     },
     "metadata": {},
     "output_type": "display_data"
    },
    {
     "name": "stdout",
     "output_type": "stream",
     "text": [
      "Distances computed closing processes\n",
      "Flattening sublists\n"
     ]
    },
    {
     "name": "stderr",
     "output_type": "stream",
     "text": [
      "100%|██████████| 1000/1000 [00:00<00:00, 9079.15it/s]\n"
     ]
    },
    {
     "name": "stdout",
     "output_type": "stream",
     "text": [
      "Average Element Mover's distance: 20.1286\n",
      "Std Element Mover's distance: 9.8238\n",
      "Fitting mod_petti kernel matrix\n",
      "Constructing distances\n",
      "Parsing Formula\n"
     ]
    },
    {
     "name": "stderr",
     "output_type": "stream",
     "text": [
      "100%|██████████| 1000/1000 [00:00<00:00, 10810.26it/s]\n"
     ]
    },
    {
     "name": "stdout",
     "output_type": "stream",
     "text": [
      "Constructing joint compositional pairings\n"
     ]
    },
    {
     "name": "stderr",
     "output_type": "stream",
     "text": [
      "100%|██████████| 999/999 [00:00<00:00, 21255.13it/s]"
     ]
    },
    {
     "name": "stdout",
     "output_type": "stream",
     "text": [
      "Creating Process Pool\n",
      "Scattering compositions between processes and computing distances\n"
     ]
    },
    {
     "name": "stderr",
     "output_type": "stream",
     "text": [
      "\n"
     ]
    },
    {
     "data": {
      "application/vnd.jupyter.widget-view+json": {
       "model_id": "ddc74d53936145d8a4c4d04b41942d97",
       "version_major": 2,
       "version_minor": 0
      },
      "text/plain": [
       "  0%|          | 0/999 [00:00<?, ?it/s]"
      ]
     },
     "metadata": {},
     "output_type": "display_data"
    },
    {
     "name": "stdout",
     "output_type": "stream",
     "text": [
      "Distances computed closing processes\n",
      "Flattening sublists\n"
     ]
    },
    {
     "name": "stderr",
     "output_type": "stream",
     "text": [
      "100%|██████████| 1000/1000 [00:00<00:00, 9346.22it/s]"
     ]
    },
    {
     "name": "stdout",
     "output_type": "stream",
     "text": [
      "Average Element Mover's distance: 17.1555\n",
      "Std Element Mover's distance: 9.6476\n"
     ]
    },
    {
     "name": "stderr",
     "output_type": "stream",
     "text": [
      "\n"
     ]
    },
    {
     "data": {
      "text/plain": [
       "{'form_e_random_mean': -1.3723867765516042,\n",
       " 'form_e_random_std': 0.7347616392281606,\n",
       " 'form_e_trained_mean': -2.183434378352016,\n",
       " 'form_e_trained_std': 0.7266618560071457,\n",
       " 'charge_neutral_random': 0.599,\n",
       " 'electronegativity_balanced_random': 0.428,\n",
       " 'charge_neutral_trained': 0.819,\n",
       " 'electronegativity_balanced_trained': 0.694,\n",
       " 'unique_random': 1.0,\n",
       " 'unique_trained': 0.996,\n",
       " 'random_oxides_EMD_mean': 20.128644743593593,\n",
       " 'random_oxides_EMD_std': 9.82379022238823,\n",
       " 'final_compounds_EMD_mean': 17.15550955112312,\n",
       " 'final_compounds_EMD_std': 9.647615886056496}"
      ]
     },
     "execution_count": 4,
     "metadata": {},
     "output_type": "execute_result"
    }
   ],
   "source": [
    "# # Load random oxides\n",
    "with open('./training_data/random_oxides.pkl', 'rb') as f: \n",
    "    random_oxides = pickle.load(f)\n",
    "\n",
    "# Load compounds\n",
    "with open('./training_data/oxides_form_e-2/final_compounds_roost_constrained.pkl', 'rb') as handle:\n",
    "    final_compounds = pickle.load(handle)\n",
    "\n",
    "# Formation Energy\n",
    "form_e_random = []\n",
    "form_e_trained = []\n",
    "for compound in tqdm(random_oxides):\n",
    "    form_e_random.append(predict_formation_energy(compound))\n",
    "for compound in tqdm(final_compounds):\n",
    "    form_e_trained.append(predict_formation_energy(compound))\n",
    "    \n",
    "# Charge neutrality and electronegativity\n",
    "cn_random_good, cn_random_bad = check_neutrality_multiple(random_oxides)\n",
    "en_random_good, en_random_bad = check_electronegativity_multiple(random_oxides)\n",
    "cn_trained_good, cn_trained_bad = check_neutrality_multiple(final_compounds)\n",
    "en_trained_good, en_trained_bad = check_electronegativity_multiple(final_compounds)\n",
    "\n",
    "# Uniqueness\n",
    "random_oxides_unique = list(set(random_oxides))\n",
    "final_compounds_unique = list(set(final_compounds))\n",
    "\n",
    "# EMD\n",
    "random_oxides_EMD_mean, random_oxides_EMD_std = similarity_to_nearest_neighbor(random_oxides)\n",
    "final_compounds_EMD_mean, final_compounds_EMD_std = similarity_to_nearest_neighbor(final_compounds)\n",
    "\n",
    "results = {}\n",
    "results['form_e_random_mean'] = np.mean(form_e_random)\n",
    "results['form_e_random_std'] = np.std(form_e_random)\n",
    "results['form_e_trained_mean'] = np.mean(form_e_trained)\n",
    "results['form_e_trained_std'] = np.std(form_e_trained)\n",
    "results['charge_neutral_random'] = len(cn_random_good)/(len(cn_random_good)+len(cn_random_bad))\n",
    "results['electronegativity_balanced_random'] = len(en_random_good)/(len(en_random_good)+len(en_random_bad))\n",
    "results['charge_neutral_trained'] = len(cn_trained_good)/(len(cn_trained_good)+len(cn_trained_bad))\n",
    "results['electronegativity_balanced_trained'] = len(en_trained_good)/(len(en_trained_good)+len(en_trained_bad))\n",
    "results['unique_random'] = len(random_oxides_unique)/len(random_oxides)\n",
    "results['unique_trained'] = len(final_compounds_unique)/len(final_compounds)\n",
    "results['random_oxides_EMD_mean'], results['random_oxides_EMD_std'] = random_oxides_EMD_mean, random_oxides_EMD_std\n",
    "results['final_compounds_EMD_mean'], results['final_compounds_EMD_std'] = final_compounds_EMD_mean, final_compounds_EMD_std\n",
    "results"
   ]
  },
  {
   "cell_type": "code",
   "execution_count": 5,
   "metadata": {},
   "outputs": [
    {
     "name": "stderr",
     "output_type": "stream",
     "text": [
      "100%|██████████| 1000/1000 [02:40<00:00,  6.23it/s]\n",
      "100%|██████████| 1000/1000 [01:48<00:00,  9.23it/s]\n",
      "100%|██████████| 1000/1000 [00:05<00:00, 182.76it/s]\n",
      "100%|██████████| 1000/1000 [00:15<00:00, 66.14it/s]\n",
      "100%|██████████| 1000/1000 [00:09<00:00, 100.27it/s]\n",
      "100%|██████████| 1000/1000 [00:19<00:00, 52.50it/s]\n"
     ]
    },
    {
     "name": "stdout",
     "output_type": "stream",
     "text": [
      "Fitting mod_petti kernel matrix\n",
      "Constructing distances\n",
      "Parsing Formula\n"
     ]
    },
    {
     "name": "stderr",
     "output_type": "stream",
     "text": [
      "100%|██████████| 1000/1000 [00:00<00:00, 7105.76it/s]\n"
     ]
    },
    {
     "name": "stdout",
     "output_type": "stream",
     "text": [
      "Constructing joint compositional pairings\n"
     ]
    },
    {
     "name": "stderr",
     "output_type": "stream",
     "text": [
      "100%|██████████| 999/999 [00:00<00:00, 13451.61it/s]"
     ]
    },
    {
     "name": "stdout",
     "output_type": "stream",
     "text": [
      "Creating Process Pool\n",
      "Scattering compositions between processes and computing distances\n"
     ]
    },
    {
     "name": "stderr",
     "output_type": "stream",
     "text": [
      "\n"
     ]
    },
    {
     "data": {
      "application/vnd.jupyter.widget-view+json": {
       "model_id": "0d8c4dda280d453daca7b418c96c9f92",
       "version_major": 2,
       "version_minor": 0
      },
      "text/plain": [
       "  0%|          | 0/999 [00:00<?, ?it/s]"
      ]
     },
     "metadata": {},
     "output_type": "display_data"
    },
    {
     "name": "stdout",
     "output_type": "stream",
     "text": [
      "Distances computed closing processes\n",
      "Flattening sublists\n"
     ]
    },
    {
     "name": "stderr",
     "output_type": "stream",
     "text": [
      "100%|██████████| 1000/1000 [00:00<00:00, 8673.80it/s]\n"
     ]
    },
    {
     "name": "stdout",
     "output_type": "stream",
     "text": [
      "Average Element Mover's distance: 20.1286\n",
      "Std Element Mover's distance: 9.8238\n",
      "Fitting mod_petti kernel matrix\n",
      "Constructing distances\n",
      "Parsing Formula\n"
     ]
    },
    {
     "name": "stderr",
     "output_type": "stream",
     "text": [
      "100%|██████████| 1000/1000 [00:00<00:00, 10968.54it/s]\n"
     ]
    },
    {
     "name": "stdout",
     "output_type": "stream",
     "text": [
      "Constructing joint compositional pairings\n"
     ]
    },
    {
     "name": "stderr",
     "output_type": "stream",
     "text": [
      "100%|██████████| 999/999 [00:00<00:00, 20707.44it/s]"
     ]
    },
    {
     "name": "stdout",
     "output_type": "stream",
     "text": [
      "Creating Process Pool\n",
      "Scattering compositions between processes and computing distances\n"
     ]
    },
    {
     "name": "stderr",
     "output_type": "stream",
     "text": [
      "\n"
     ]
    },
    {
     "data": {
      "application/vnd.jupyter.widget-view+json": {
       "model_id": "4d1b5036c09b4b94a71aa6a840ffd73c",
       "version_major": 2,
       "version_minor": 0
      },
      "text/plain": [
       "  0%|          | 0/999 [00:00<?, ?it/s]"
      ]
     },
     "metadata": {},
     "output_type": "display_data"
    },
    {
     "name": "stdout",
     "output_type": "stream",
     "text": [
      "Distances computed closing processes\n",
      "Flattening sublists\n"
     ]
    },
    {
     "name": "stderr",
     "output_type": "stream",
     "text": [
      "100%|██████████| 1000/1000 [00:00<00:00, 9303.68it/s]"
     ]
    },
    {
     "name": "stdout",
     "output_type": "stream",
     "text": [
      "Average Element Mover's distance: 16.8692\n",
      "Std Element Mover's distance: 8.6701\n"
     ]
    },
    {
     "name": "stderr",
     "output_type": "stream",
     "text": [
      "\n"
     ]
    },
    {
     "data": {
      "text/plain": [
       "{'form_e_random_mean': -1.3723867808431387,\n",
       " 'form_e_random_std': 0.7347616444293241,\n",
       " 'form_e_trained_mean': -1.8930670890696346,\n",
       " 'form_e_trained_std': 0.657108718005017,\n",
       " 'charge_neutral_random': 0.599,\n",
       " 'electronegativity_balanced_random': 0.428,\n",
       " 'charge_neutral_trained': 0.524,\n",
       " 'electronegativity_balanced_trained': 0.402,\n",
       " 'unique_random': 1.0,\n",
       " 'unique_trained': 0.999,\n",
       " 'random_oxides_EMD_mean': 20.128644743593593,\n",
       " 'random_oxides_EMD_std': 9.82379022238823,\n",
       " 'final_compounds_EMD_mean': 16.869175883183186,\n",
       " 'final_compounds_EMD_std': 8.670103903931441}"
      ]
     },
     "execution_count": 5,
     "metadata": {},
     "output_type": "execute_result"
    }
   ],
   "source": [
    "# # Load random oxides\n",
    "with open('./training_data/random_oxides.pkl', 'rb') as f: \n",
    "    random_oxides = pickle.load(f)\n",
    "\n",
    "# Load compounds\n",
    "with open('./training_data/oxides_form_e-3/final_compounds_roost_constrained.pkl', 'rb') as handle:\n",
    "    final_compounds = pickle.load(handle)\n",
    "\n",
    "# Formation Energy\n",
    "form_e_random = []\n",
    "form_e_trained = []\n",
    "for compound in tqdm(random_oxides):\n",
    "    form_e_random.append(predict_formation_energy(compound))\n",
    "for compound in tqdm(final_compounds):\n",
    "    form_e_trained.append(predict_formation_energy(compound))\n",
    "    \n",
    "# Charge neutrality and electronegativity\n",
    "cn_random_good, cn_random_bad = check_neutrality_multiple(random_oxides)\n",
    "en_random_good, en_random_bad = check_electronegativity_multiple(random_oxides)\n",
    "cn_trained_good, cn_trained_bad = check_neutrality_multiple(final_compounds)\n",
    "en_trained_good, en_trained_bad = check_electronegativity_multiple(final_compounds)\n",
    "\n",
    "# Uniqueness\n",
    "random_oxides_unique = list(set(random_oxides))\n",
    "final_compounds_unique = list(set(final_compounds))\n",
    "\n",
    "# EMD\n",
    "random_oxides_EMD_mean, random_oxides_EMD_std = similarity_to_nearest_neighbor(random_oxides)\n",
    "final_compounds_EMD_mean, final_compounds_EMD_std = similarity_to_nearest_neighbor(final_compounds)\n",
    "\n",
    "results = {}\n",
    "results['form_e_random_mean'] = np.mean(form_e_random)\n",
    "results['form_e_random_std'] = np.std(form_e_random)\n",
    "results['form_e_trained_mean'] = np.mean(form_e_trained)\n",
    "results['form_e_trained_std'] = np.std(form_e_trained)\n",
    "results['charge_neutral_random'] = len(cn_random_good)/(len(cn_random_good)+len(cn_random_bad))\n",
    "results['electronegativity_balanced_random'] = len(en_random_good)/(len(en_random_good)+len(en_random_bad))\n",
    "results['charge_neutral_trained'] = len(cn_trained_good)/(len(cn_trained_good)+len(cn_trained_bad))\n",
    "results['electronegativity_balanced_trained'] = len(en_trained_good)/(len(en_trained_good)+len(en_trained_bad))\n",
    "results['unique_random'] = len(random_oxides_unique)/len(random_oxides)\n",
    "results['unique_trained'] = len(final_compounds_unique)/len(final_compounds)\n",
    "results['random_oxides_EMD_mean'], results['random_oxides_EMD_std'] = random_oxides_EMD_mean, random_oxides_EMD_std\n",
    "results['final_compounds_EMD_mean'], results['final_compounds_EMD_std'] = final_compounds_EMD_mean, final_compounds_EMD_std\n",
    "results"
   ]
  },
  {
   "cell_type": "markdown",
   "metadata": {},
   "source": [
    "# Bulk modulus task"
   ]
  },
  {
   "cell_type": "code",
   "execution_count": 3,
   "metadata": {},
   "outputs": [
    {
     "name": "stderr",
     "output_type": "stream",
     "text": [
      "100%|██████████| 1000/1000 [00:00<00:00, 10399.03it/s]\n"
     ]
    },
    {
     "name": "stdout",
     "output_type": "stream",
     "text": [
      "Fitting mod_petti kernel matrix\n",
      "Constructing distances\n",
      "Parsing Formula\n"
     ]
    },
    {
     "name": "stderr",
     "output_type": "stream",
     "text": [
      "100%|██████████| 1000/1000 [00:00<00:00, 10640.20it/s]\n"
     ]
    },
    {
     "name": "stdout",
     "output_type": "stream",
     "text": [
      "Constructing joint compositional pairings\n"
     ]
    },
    {
     "name": "stderr",
     "output_type": "stream",
     "text": [
      "100%|██████████| 999/999 [00:00<00:00, 21227.57it/s]"
     ]
    },
    {
     "name": "stdout",
     "output_type": "stream",
     "text": [
      "Creating Process Pool\n",
      "Scattering compositions between processes and computing distances\n"
     ]
    },
    {
     "name": "stderr",
     "output_type": "stream",
     "text": [
      "\n"
     ]
    },
    {
     "data": {
      "application/vnd.jupyter.widget-view+json": {
       "model_id": "449b1c709bd040b59bd13d60fe7e9f37",
       "version_major": 2,
       "version_minor": 0
      },
      "text/plain": [
       "  0%|          | 0/999 [00:00<?, ?it/s]"
      ]
     },
     "metadata": {},
     "output_type": "display_data"
    },
    {
     "name": "stdout",
     "output_type": "stream",
     "text": [
      "Distances computed closing processes\n",
      "Flattening sublists\n"
     ]
    },
    {
     "name": "stderr",
     "output_type": "stream",
     "text": [
      "100%|██████████| 1000/1000 [00:00<00:00, 9255.37it/s]\n"
     ]
    },
    {
     "name": "stdout",
     "output_type": "stream",
     "text": [
      "Average Element Mover's distance: 20.1286\n",
      "Std Element Mover's distance: 9.8238\n"
     ]
    },
    {
     "name": "stderr",
     "output_type": "stream",
     "text": [
      "100%|██████████| 1000/1000 [00:00<00:00, 10307.47it/s]\n"
     ]
    },
    {
     "name": "stdout",
     "output_type": "stream",
     "text": [
      "Fitting mod_petti kernel matrix\n",
      "Constructing distances\n",
      "Parsing Formula\n"
     ]
    },
    {
     "name": "stderr",
     "output_type": "stream",
     "text": [
      "100%|██████████| 1000/1000 [00:00<00:00, 11365.38it/s]\n"
     ]
    },
    {
     "name": "stdout",
     "output_type": "stream",
     "text": [
      "Constructing joint compositional pairings\n"
     ]
    },
    {
     "name": "stderr",
     "output_type": "stream",
     "text": [
      "100%|██████████| 999/999 [00:00<00:00, 20665.26it/s]"
     ]
    },
    {
     "name": "stdout",
     "output_type": "stream",
     "text": [
      "Creating Process Pool\n",
      "Scattering compositions between processes and computing distances\n"
     ]
    },
    {
     "name": "stderr",
     "output_type": "stream",
     "text": [
      "\n"
     ]
    },
    {
     "data": {
      "application/vnd.jupyter.widget-view+json": {
       "model_id": "092e5303ddd94712a5a554ce3692f4cd",
       "version_major": 2,
       "version_minor": 0
      },
      "text/plain": [
       "  0%|          | 0/999 [00:00<?, ?it/s]"
      ]
     },
     "metadata": {},
     "output_type": "display_data"
    },
    {
     "name": "stdout",
     "output_type": "stream",
     "text": [
      "Distances computed closing processes\n",
      "Flattening sublists\n"
     ]
    },
    {
     "name": "stderr",
     "output_type": "stream",
     "text": [
      "100%|██████████| 1000/1000 [00:00<00:00, 9277.20it/s]"
     ]
    },
    {
     "name": "stdout",
     "output_type": "stream",
     "text": [
      "Average Element Mover's distance: 7.5943\n",
      "Std Element Mover's distance: 4.0024\n"
     ]
    },
    {
     "name": "stderr",
     "output_type": "stream",
     "text": [
      "\n"
     ]
    },
    {
     "data": {
      "text/plain": [
       "{'form_e_random_mean': -1.3723867772072553,\n",
       " 'form_e_random_std': 0.7347616385105727,\n",
       " 'form_e_trained_mean': -0.5865680969462265,\n",
       " 'form_e_trained_std': 0.43989970302957976,\n",
       " 'bulk_mod_random_mean': 4.29139886379242,\n",
       " 'bulk_mod_random_std': 0.6012997229802703,\n",
       " 'bulk_mod_trained_mean': 5.358326883792877,\n",
       " 'bulk_mod_trained_std': 0.21379967833644037,\n",
       " 'charge_neutral_random': 0.599,\n",
       " 'electronegativity_balanced_random': 0.428,\n",
       " 'charge_neutral_trained': 0.853,\n",
       " 'electronegativity_balanced_trained': 0.658,\n",
       " 'unique_random': 1.0,\n",
       " 'unique_trained': 1.0,\n",
       " 'random_oxides_EMD_mean': 20.128644743593593,\n",
       " 'random_oxides_EMD_std': 9.82379022238823,\n",
       " 'final_compounds_EMD_mean': 7.594290557421418,\n",
       " 'final_compounds_EMD_std': 4.002392501670763}"
      ]
     },
     "execution_count": 3,
     "metadata": {},
     "output_type": "execute_result"
    }
   ],
   "source": [
    "# # Load random oxides\n",
    "with open('./training_data/random_oxides.pkl', 'rb') as f: \n",
    "    random_oxides = pickle.load(f)\n",
    "\n",
    "# Load compounds\n",
    "with open('./training_data/oxides_bulk_mod/final_compounds_roost_constrained.pkl', 'rb') as handle:\n",
    "    final_compounds = pickle.load(handle)\n",
    "\n",
    "# Formation Energy\n",
    "form_e_random = []\n",
    "form_e_trained = []\n",
    "for compound in tqdm(random_oxides):\n",
    "    form_e_random.append(predict_formation_energy(compound))\n",
    "for compound in tqdm(final_compounds):\n",
    "    form_e_trained.append(predict_formation_energy(compound))\n",
    "\n",
    "# Bulk modulus\n",
    "bulk_mod_random = []\n",
    "bulk_mod_trained = []\n",
    "for compound in tqdm(random_oxides):\n",
    "    bulk_mod_random.append(predict_bulk_mod(compound))\n",
    "for compound in tqdm(final_compounds):\n",
    "    bulk_mod_trained.append(predict_bulk_mod(compound))\n",
    "\n",
    "# Charge neutrality and electronegativity\n",
    "cn_random_good, cn_random_bad = check_neutrality_multiple(random_oxides)\n",
    "en_random_good, en_random_bad = check_electronegativity_multiple(random_oxides)\n",
    "cn_trained_good, cn_trained_bad = check_neutrality_multiple(final_compounds)\n",
    "en_trained_good, en_trained_bad = check_electronegativity_multiple(final_compounds)\n",
    "\n",
    "# Uniqueness\n",
    "random_oxides_unique = list(set(random_oxides))\n",
    "final_compounds_unique = list(set(final_compounds))\n",
    "\n",
    "# EMD\n",
    "random_oxides_EMD_mean, random_oxides_EMD_std = similarity_to_nearest_neighbor(random_oxides)\n",
    "final_compounds_EMD_mean, final_compounds_EMD_std = similarity_to_nearest_neighbor(final_compounds)\n",
    "\n",
    "results = {}\n",
    "results['form_e_random_mean'] = np.mean(form_e_random)\n",
    "results['form_e_random_std'] = np.std(form_e_random)\n",
    "results['form_e_trained_mean'] = np.mean(form_e_trained)\n",
    "results['form_e_trained_std'] = np.std(form_e_trained)\n",
    "results['bulk_mod_random_mean'] = np.mean(bulk_mod_random)\n",
    "results['bulk_mod_random_std'] = np.std(bulk_mod_random)\n",
    "results['bulk_mod_trained_mean'] = np.mean(bulk_mod_trained)\n",
    "results['bulk_mod_trained_std'] = np.std(bulk_mod_trained)\n",
    "results['charge_neutral_random'] = len(cn_random_good)/(len(cn_random_good)+len(cn_random_bad))\n",
    "results['electronegativity_balanced_random'] = len(en_random_good)/(len(en_random_good)+len(en_random_bad))\n",
    "results['charge_neutral_trained'] = len(cn_trained_good)/(len(cn_trained_good)+len(cn_trained_bad))\n",
    "results['electronegativity_balanced_trained'] = len(en_trained_good)/(len(en_trained_good)+len(en_trained_bad))\n",
    "results['unique_random'] = len(random_oxides_unique)/len(random_oxides)\n",
    "results['unique_trained'] = len(final_compounds_unique)/len(final_compounds)\n",
    "results['random_oxides_EMD_mean'], results['random_oxides_EMD_std'] = random_oxides_EMD_mean, random_oxides_EMD_std\n",
    "results['final_compounds_EMD_mean'], results['final_compounds_EMD_std'] = final_compounds_EMD_mean, final_compounds_EMD_std\n",
    "results"
   ]
  },
  {
   "cell_type": "code",
   "execution_count": 6,
   "metadata": {},
   "outputs": [
    {
     "name": "stderr",
     "output_type": "stream",
     "text": [
      "100%|██████████| 1000/1000 [01:18<00:00, 12.75it/s]\n",
      "100%|██████████| 1000/1000 [01:17<00:00, 12.83it/s]\n",
      "100%|██████████| 1000/1000 [01:18<00:00, 12.66it/s]\n",
      "100%|██████████| 1000/1000 [01:19<00:00, 12.63it/s]\n",
      "100%|██████████| 1000/1000 [00:03<00:00, 252.98it/s]\n",
      "100%|██████████| 1000/1000 [00:11<00:00, 88.92it/s]\n",
      "100%|██████████| 1000/1000 [00:04<00:00, 223.56it/s]\n",
      "100%|██████████| 1000/1000 [00:25<00:00, 39.24it/s]\n"
     ]
    },
    {
     "name": "stdout",
     "output_type": "stream",
     "text": [
      "Fitting mod_petti kernel matrix\n",
      "Constructing distances\n",
      "Parsing Formula\n"
     ]
    },
    {
     "name": "stderr",
     "output_type": "stream",
     "text": [
      "100%|██████████| 1000/1000 [00:00<00:00, 10612.45it/s]\n"
     ]
    },
    {
     "name": "stdout",
     "output_type": "stream",
     "text": [
      "Constructing joint compositional pairings\n"
     ]
    },
    {
     "name": "stderr",
     "output_type": "stream",
     "text": [
      "100%|██████████| 999/999 [00:00<00:00, 20094.43it/s]"
     ]
    },
    {
     "name": "stdout",
     "output_type": "stream",
     "text": [
      "Creating Process Pool\n",
      "Scattering compositions between processes and computing distances\n"
     ]
    },
    {
     "name": "stderr",
     "output_type": "stream",
     "text": [
      "\n"
     ]
    },
    {
     "data": {
      "application/vnd.jupyter.widget-view+json": {
       "model_id": "d460cb137b2846b59ddd7282973c8657",
       "version_major": 2,
       "version_minor": 0
      },
      "text/plain": [
       "  0%|          | 0/999 [00:00<?, ?it/s]"
      ]
     },
     "metadata": {},
     "output_type": "display_data"
    },
    {
     "name": "stdout",
     "output_type": "stream",
     "text": [
      "Distances computed closing processes\n",
      "Flattening sublists\n"
     ]
    },
    {
     "name": "stderr",
     "output_type": "stream",
     "text": [
      "100%|██████████| 1000/1000 [00:00<00:00, 9163.81it/s]\n"
     ]
    },
    {
     "name": "stdout",
     "output_type": "stream",
     "text": [
      "Average Element Mover's distance: 20.1286\n",
      "Std Element Mover's distance: 9.8238\n",
      "Fitting mod_petti kernel matrix\n",
      "Constructing distances\n",
      "Parsing Formula\n"
     ]
    },
    {
     "name": "stderr",
     "output_type": "stream",
     "text": [
      "100%|██████████| 1000/1000 [00:00<00:00, 11178.13it/s]\n"
     ]
    },
    {
     "name": "stdout",
     "output_type": "stream",
     "text": [
      "Constructing joint compositional pairings\n"
     ]
    },
    {
     "name": "stderr",
     "output_type": "stream",
     "text": [
      "100%|██████████| 999/999 [00:00<00:00, 20729.98it/s]"
     ]
    },
    {
     "name": "stdout",
     "output_type": "stream",
     "text": [
      "Creating Process Pool\n",
      "Scattering compositions between processes and computing distances\n"
     ]
    },
    {
     "name": "stderr",
     "output_type": "stream",
     "text": [
      "\n"
     ]
    },
    {
     "data": {
      "application/vnd.jupyter.widget-view+json": {
       "model_id": "e9ca2266921f4664a173d4bdf06f0afd",
       "version_major": 2,
       "version_minor": 0
      },
      "text/plain": [
       "  0%|          | 0/999 [00:00<?, ?it/s]"
      ]
     },
     "metadata": {},
     "output_type": "display_data"
    },
    {
     "name": "stdout",
     "output_type": "stream",
     "text": [
      "Distances computed closing processes\n",
      "Flattening sublists\n"
     ]
    },
    {
     "name": "stderr",
     "output_type": "stream",
     "text": [
      "100%|██████████| 1000/1000 [00:00<00:00, 9311.36it/s]"
     ]
    },
    {
     "name": "stdout",
     "output_type": "stream",
     "text": [
      "Average Element Mover's distance: 12.1996\n",
      "Std Element Mover's distance: 6.3377\n"
     ]
    },
    {
     "name": "stderr",
     "output_type": "stream",
     "text": [
      "\n"
     ]
    },
    {
     "data": {
      "text/plain": [
       "{'form_e_random_mean': -1.3723867765516042,\n",
       " 'form_e_random_std': 0.7347616392281606,\n",
       " 'form_e_trained_mean': -0.8083103548130021,\n",
       " 'form_e_trained_std': 0.6201761924841243,\n",
       " 'bulk_mod_random_mean': 4.291398874282837,\n",
       " 'bulk_mod_random_std': 0.6012997270469145,\n",
       " 'bulk_mod_trained_mean': 5.167219559907913,\n",
       " 'bulk_mod_trained_std': 0.37092244359097704,\n",
       " 'charge_neutral_random': 0.599,\n",
       " 'electronegativity_balanced_random': 0.428,\n",
       " 'charge_neutral_trained': 0.869,\n",
       " 'electronegativity_balanced_trained': 0.67,\n",
       " 'unique_random': 1.0,\n",
       " 'unique_trained': 0.995,\n",
       " 'random_oxides_EMD_mean': 20.128644743593593,\n",
       " 'random_oxides_EMD_std': 9.82379022238823,\n",
       " 'final_compounds_EMD_mean': 12.199635581645651,\n",
       " 'final_compounds_EMD_std': 6.337713801884294}"
      ]
     },
     "execution_count": 6,
     "metadata": {},
     "output_type": "execute_result"
    }
   ],
   "source": [
    "# # Load random oxides\n",
    "with open('./training_data/random_oxides.pkl', 'rb') as f: \n",
    "    random_oxides = pickle.load(f)\n",
    "\n",
    "# Load compounds\n",
    "with open('./training_data/oxides_bulk_mod-2/final_compounds_roost_constrained.pkl', 'rb') as handle:\n",
    "    final_compounds = pickle.load(handle)\n",
    "\n",
    "# Formation Energy\n",
    "form_e_random = []\n",
    "form_e_trained = []\n",
    "for compound in tqdm(random_oxides):\n",
    "    form_e_random.append(predict_formation_energy(compound))\n",
    "for compound in tqdm(final_compounds):\n",
    "    form_e_trained.append(predict_formation_energy(compound))\n",
    "\n",
    "# Bulk modulus\n",
    "bulk_mod_random = []\n",
    "bulk_mod_trained = []\n",
    "for compound in tqdm(random_oxides):\n",
    "    bulk_mod_random.append(predict_bulk_mod(compound))\n",
    "for compound in tqdm(final_compounds):\n",
    "    bulk_mod_trained.append(predict_bulk_mod(compound))\n",
    "\n",
    "# Charge neutrality and electronegativity\n",
    "cn_random_good, cn_random_bad = check_neutrality_multiple(random_oxides)\n",
    "en_random_good, en_random_bad = check_electronegativity_multiple(random_oxides)\n",
    "cn_trained_good, cn_trained_bad = check_neutrality_multiple(final_compounds)\n",
    "en_trained_good, en_trained_bad = check_electronegativity_multiple(final_compounds)\n",
    "\n",
    "# Uniqueness\n",
    "random_oxides_unique = list(set(random_oxides))\n",
    "final_compounds_unique = list(set(final_compounds))\n",
    "\n",
    "# EMD\n",
    "random_oxides_EMD_mean, random_oxides_EMD_std = similarity_to_nearest_neighbor(random_oxides)\n",
    "final_compounds_EMD_mean, final_compounds_EMD_std = similarity_to_nearest_neighbor(final_compounds)\n",
    "\n",
    "results = {}\n",
    "results['form_e_random_mean'] = np.mean(form_e_random)\n",
    "results['form_e_random_std'] = np.std(form_e_random)\n",
    "results['form_e_trained_mean'] = np.mean(form_e_trained)\n",
    "results['form_e_trained_std'] = np.std(form_e_trained)\n",
    "results['bulk_mod_random_mean'] = np.mean(bulk_mod_random)\n",
    "results['bulk_mod_random_std'] = np.std(bulk_mod_random)\n",
    "results['bulk_mod_trained_mean'] = np.mean(bulk_mod_trained)\n",
    "results['bulk_mod_trained_std'] = np.std(bulk_mod_trained)\n",
    "results['charge_neutral_random'] = len(cn_random_good)/(len(cn_random_good)+len(cn_random_bad))\n",
    "results['electronegativity_balanced_random'] = len(en_random_good)/(len(en_random_good)+len(en_random_bad))\n",
    "results['charge_neutral_trained'] = len(cn_trained_good)/(len(cn_trained_good)+len(cn_trained_bad))\n",
    "results['electronegativity_balanced_trained'] = len(en_trained_good)/(len(en_trained_good)+len(en_trained_bad))\n",
    "results['unique_random'] = len(random_oxides_unique)/len(random_oxides)\n",
    "results['unique_trained'] = len(final_compounds_unique)/len(final_compounds)\n",
    "results['random_oxides_EMD_mean'], results['random_oxides_EMD_std'] = random_oxides_EMD_mean, random_oxides_EMD_std\n",
    "results['final_compounds_EMD_mean'], results['final_compounds_EMD_std'] = final_compounds_EMD_mean, final_compounds_EMD_std\n",
    "results"
   ]
  },
  {
   "cell_type": "code",
   "execution_count": 7,
   "metadata": {},
   "outputs": [
    {
     "name": "stderr",
     "output_type": "stream",
     "text": [
      "100%|██████████| 1000/1000 [01:20<00:00, 12.42it/s]\n",
      "100%|██████████| 1000/1000 [01:18<00:00, 12.76it/s]\n",
      "100%|██████████| 1000/1000 [01:18<00:00, 12.75it/s]\n",
      "100%|██████████| 1000/1000 [01:18<00:00, 12.80it/s]\n",
      "100%|██████████| 1000/1000 [00:03<00:00, 252.37it/s]\n",
      "100%|██████████| 1000/1000 [00:11<00:00, 88.83it/s]\n",
      "100%|██████████| 1000/1000 [00:04<00:00, 207.71it/s]\n",
      "100%|██████████| 1000/1000 [00:30<00:00, 32.69it/s]\n"
     ]
    },
    {
     "name": "stdout",
     "output_type": "stream",
     "text": [
      "Fitting mod_petti kernel matrix\n",
      "Constructing distances\n",
      "Parsing Formula\n"
     ]
    },
    {
     "name": "stderr",
     "output_type": "stream",
     "text": [
      "100%|██████████| 1000/1000 [00:00<00:00, 10658.13it/s]\n"
     ]
    },
    {
     "name": "stdout",
     "output_type": "stream",
     "text": [
      "Constructing joint compositional pairings\n"
     ]
    },
    {
     "name": "stderr",
     "output_type": "stream",
     "text": [
      "100%|██████████| 999/999 [00:00<00:00, 20354.86it/s]"
     ]
    },
    {
     "name": "stdout",
     "output_type": "stream",
     "text": [
      "Creating Process Pool\n",
      "Scattering compositions between processes and computing distances\n"
     ]
    },
    {
     "name": "stderr",
     "output_type": "stream",
     "text": [
      "\n"
     ]
    },
    {
     "data": {
      "application/vnd.jupyter.widget-view+json": {
       "model_id": "c94a732275744c2cba9bafebf122bb83",
       "version_major": 2,
       "version_minor": 0
      },
      "text/plain": [
       "  0%|          | 0/999 [00:00<?, ?it/s]"
      ]
     },
     "metadata": {},
     "output_type": "display_data"
    },
    {
     "name": "stdout",
     "output_type": "stream",
     "text": [
      "Distances computed closing processes\n",
      "Flattening sublists\n"
     ]
    },
    {
     "name": "stderr",
     "output_type": "stream",
     "text": [
      "100%|██████████| 1000/1000 [00:00<00:00, 9197.29it/s]\n"
     ]
    },
    {
     "name": "stdout",
     "output_type": "stream",
     "text": [
      "Average Element Mover's distance: 20.1286\n",
      "Std Element Mover's distance: 9.8238\n",
      "Fitting mod_petti kernel matrix\n",
      "Constructing distances\n",
      "Parsing Formula\n"
     ]
    },
    {
     "name": "stderr",
     "output_type": "stream",
     "text": [
      "100%|██████████| 1000/1000 [00:00<00:00, 10975.37it/s]\n"
     ]
    },
    {
     "name": "stdout",
     "output_type": "stream",
     "text": [
      "Constructing joint compositional pairings\n"
     ]
    },
    {
     "name": "stderr",
     "output_type": "stream",
     "text": [
      "100%|██████████| 999/999 [00:00<00:00, 20742.40it/s]"
     ]
    },
    {
     "name": "stdout",
     "output_type": "stream",
     "text": [
      "Creating Process Pool\n",
      "Scattering compositions between processes and computing distances\n"
     ]
    },
    {
     "name": "stderr",
     "output_type": "stream",
     "text": [
      "\n"
     ]
    },
    {
     "data": {
      "application/vnd.jupyter.widget-view+json": {
       "model_id": "6469397df25546b8ab73104c7b798c15",
       "version_major": 2,
       "version_minor": 0
      },
      "text/plain": [
       "  0%|          | 0/999 [00:00<?, ?it/s]"
      ]
     },
     "metadata": {},
     "output_type": "display_data"
    },
    {
     "name": "stdout",
     "output_type": "stream",
     "text": [
      "Distances computed closing processes\n",
      "Flattening sublists\n"
     ]
    },
    {
     "name": "stderr",
     "output_type": "stream",
     "text": [
      "100%|██████████| 1000/1000 [00:00<00:00, 9174.37it/s]"
     ]
    },
    {
     "name": "stdout",
     "output_type": "stream",
     "text": [
      "Average Element Mover's distance: 9.9843\n",
      "Std Element Mover's distance: 4.9797\n"
     ]
    },
    {
     "name": "stderr",
     "output_type": "stream",
     "text": [
      "\n"
     ]
    },
    {
     "data": {
      "text/plain": [
       "{'form_e_random_mean': -1.3723867765516042,\n",
       " 'form_e_random_std': 0.7347616392281606,\n",
       " 'form_e_trained_mean': -0.8012406534217298,\n",
       " 'form_e_trained_std': 0.4721338600980419,\n",
       " 'bulk_mod_random_mean': 4.291398874282837,\n",
       " 'bulk_mod_random_std': 0.6012997270469145,\n",
       " 'bulk_mod_trained_mean': 5.249165709733963,\n",
       " 'bulk_mod_trained_std': 0.3226599100524071,\n",
       " 'charge_neutral_random': 0.599,\n",
       " 'electronegativity_balanced_random': 0.428,\n",
       " 'charge_neutral_trained': 0.865,\n",
       " 'electronegativity_balanced_trained': 0.689,\n",
       " 'unique_random': 1.0,\n",
       " 'unique_trained': 1.0,\n",
       " 'random_oxides_EMD_mean': 20.128644743593593,\n",
       " 'random_oxides_EMD_std': 9.82379022238823,\n",
       " 'final_compounds_EMD_mean': 9.984299779149147,\n",
       " 'final_compounds_EMD_std': 4.979681981499372}"
      ]
     },
     "execution_count": 7,
     "metadata": {},
     "output_type": "execute_result"
    }
   ],
   "source": [
    "# # Load random oxides\n",
    "with open('./training_data/random_oxides.pkl', 'rb') as f: \n",
    "    random_oxides = pickle.load(f)\n",
    "\n",
    "# Load compounds\n",
    "with open('./training_data/oxides_bulk_mod-3/final_compounds_roost_constrained.pkl', 'rb') as handle:\n",
    "    final_compounds = pickle.load(handle)\n",
    "\n",
    "# Formation Energy\n",
    "form_e_random = []\n",
    "form_e_trained = []\n",
    "for compound in tqdm(random_oxides):\n",
    "    form_e_random.append(predict_formation_energy(compound))\n",
    "for compound in tqdm(final_compounds):\n",
    "    form_e_trained.append(predict_formation_energy(compound))\n",
    "\n",
    "# Bulk modulus\n",
    "bulk_mod_random = []\n",
    "bulk_mod_trained = []\n",
    "for compound in tqdm(random_oxides):\n",
    "    bulk_mod_random.append(predict_bulk_mod(compound))\n",
    "for compound in tqdm(final_compounds):\n",
    "    bulk_mod_trained.append(predict_bulk_mod(compound))\n",
    "\n",
    "# Charge neutrality and electronegativity\n",
    "cn_random_good, cn_random_bad = check_neutrality_multiple(random_oxides)\n",
    "en_random_good, en_random_bad = check_electronegativity_multiple(random_oxides)\n",
    "cn_trained_good, cn_trained_bad = check_neutrality_multiple(final_compounds)\n",
    "en_trained_good, en_trained_bad = check_electronegativity_multiple(final_compounds)\n",
    "\n",
    "# Uniqueness\n",
    "random_oxides_unique = list(set(random_oxides))\n",
    "final_compounds_unique = list(set(final_compounds))\n",
    "\n",
    "# EMD\n",
    "random_oxides_EMD_mean, random_oxides_EMD_std = similarity_to_nearest_neighbor(random_oxides)\n",
    "final_compounds_EMD_mean, final_compounds_EMD_std = similarity_to_nearest_neighbor(final_compounds)\n",
    "\n",
    "results = {}\n",
    "results['form_e_random_mean'] = np.mean(form_e_random)\n",
    "results['form_e_random_std'] = np.std(form_e_random)\n",
    "results['form_e_trained_mean'] = np.mean(form_e_trained)\n",
    "results['form_e_trained_std'] = np.std(form_e_trained)\n",
    "results['bulk_mod_random_mean'] = np.mean(bulk_mod_random)\n",
    "results['bulk_mod_random_std'] = np.std(bulk_mod_random)\n",
    "results['bulk_mod_trained_mean'] = np.mean(bulk_mod_trained)\n",
    "results['bulk_mod_trained_std'] = np.std(bulk_mod_trained)\n",
    "results['charge_neutral_random'] = len(cn_random_good)/(len(cn_random_good)+len(cn_random_bad))\n",
    "results['electronegativity_balanced_random'] = len(en_random_good)/(len(en_random_good)+len(en_random_bad))\n",
    "results['charge_neutral_trained'] = len(cn_trained_good)/(len(cn_trained_good)+len(cn_trained_bad))\n",
    "results['electronegativity_balanced_trained'] = len(en_trained_good)/(len(en_trained_good)+len(en_trained_bad))\n",
    "results['unique_random'] = len(random_oxides_unique)/len(random_oxides)\n",
    "results['unique_trained'] = len(final_compounds_unique)/len(final_compounds)\n",
    "results['random_oxides_EMD_mean'], results['random_oxides_EMD_std'] = random_oxides_EMD_mean, random_oxides_EMD_std\n",
    "results['final_compounds_EMD_mean'], results['final_compounds_EMD_std'] = final_compounds_EMD_mean, final_compounds_EMD_std\n",
    "results"
   ]
  },
  {
   "cell_type": "markdown",
   "metadata": {},
   "source": [
    "# Shear modulus task"
   ]
  },
  {
   "cell_type": "code",
   "execution_count": 4,
   "metadata": {},
   "outputs": [
    {
     "name": "stderr",
     "output_type": "stream",
     "text": [
      "100%|██████████| 1000/1000 [00:00<00:00, 10276.58it/s]\n"
     ]
    },
    {
     "name": "stdout",
     "output_type": "stream",
     "text": [
      "Fitting mod_petti kernel matrix\n",
      "Constructing distances\n",
      "Parsing Formula\n"
     ]
    },
    {
     "name": "stderr",
     "output_type": "stream",
     "text": [
      "100%|██████████| 1000/1000 [00:00<00:00, 10472.17it/s]\n"
     ]
    },
    {
     "name": "stdout",
     "output_type": "stream",
     "text": [
      "Constructing joint compositional pairings\n"
     ]
    },
    {
     "name": "stderr",
     "output_type": "stream",
     "text": [
      "100%|██████████| 999/999 [00:00<00:00, 21341.74it/s]"
     ]
    },
    {
     "name": "stdout",
     "output_type": "stream",
     "text": [
      "Creating Process Pool\n",
      "Scattering compositions between processes and computing distances\n"
     ]
    },
    {
     "name": "stderr",
     "output_type": "stream",
     "text": [
      "\n"
     ]
    },
    {
     "data": {
      "application/vnd.jupyter.widget-view+json": {
       "model_id": "326470155c994f93ba3842c20ee14fc3",
       "version_major": 2,
       "version_minor": 0
      },
      "text/plain": [
       "  0%|          | 0/999 [00:00<?, ?it/s]"
      ]
     },
     "metadata": {},
     "output_type": "display_data"
    },
    {
     "name": "stdout",
     "output_type": "stream",
     "text": [
      "Distances computed closing processes\n",
      "Flattening sublists\n"
     ]
    },
    {
     "name": "stderr",
     "output_type": "stream",
     "text": [
      "100%|██████████| 1000/1000 [00:00<00:00, 9051.33it/s]\n"
     ]
    },
    {
     "name": "stdout",
     "output_type": "stream",
     "text": [
      "Average Element Mover's distance: 20.1286\n",
      "Std Element Mover's distance: 9.8238\n"
     ]
    },
    {
     "name": "stderr",
     "output_type": "stream",
     "text": [
      "100%|██████████| 1000/1000 [00:00<00:00, 10122.54it/s]\n"
     ]
    },
    {
     "name": "stdout",
     "output_type": "stream",
     "text": [
      "Fitting mod_petti kernel matrix\n",
      "Constructing distances\n",
      "Parsing Formula\n"
     ]
    },
    {
     "name": "stderr",
     "output_type": "stream",
     "text": [
      "100%|██████████| 1000/1000 [00:00<00:00, 10606.35it/s]\n"
     ]
    },
    {
     "name": "stdout",
     "output_type": "stream",
     "text": [
      "Constructing joint compositional pairings\n"
     ]
    },
    {
     "name": "stderr",
     "output_type": "stream",
     "text": [
      "100%|██████████| 999/999 [00:00<00:00, 20710.72it/s]"
     ]
    },
    {
     "name": "stdout",
     "output_type": "stream",
     "text": [
      "Creating Process Pool\n",
      "Scattering compositions between processes and computing distances\n"
     ]
    },
    {
     "name": "stderr",
     "output_type": "stream",
     "text": [
      "\n"
     ]
    },
    {
     "data": {
      "application/vnd.jupyter.widget-view+json": {
       "model_id": "bfbe6ccf423545f0a4bf13a2e9ca3d95",
       "version_major": 2,
       "version_minor": 0
      },
      "text/plain": [
       "  0%|          | 0/999 [00:00<?, ?it/s]"
      ]
     },
     "metadata": {},
     "output_type": "display_data"
    },
    {
     "name": "stdout",
     "output_type": "stream",
     "text": [
      "Distances computed closing processes\n",
      "Flattening sublists\n"
     ]
    },
    {
     "name": "stderr",
     "output_type": "stream",
     "text": [
      "100%|██████████| 1000/1000 [00:00<00:00, 9388.00it/s]"
     ]
    },
    {
     "name": "stdout",
     "output_type": "stream",
     "text": [
      "Average Element Mover's distance: 11.0803\n",
      "Std Element Mover's distance: 5.09\n"
     ]
    },
    {
     "name": "stderr",
     "output_type": "stream",
     "text": [
      "\n"
     ]
    },
    {
     "data": {
      "text/plain": [
       "{'form_e_random_mean': -1.3723867765516042,\n",
       " 'form_e_random_std': 0.7347616392281606,\n",
       " 'form_e_trained_mean': -1.0089453325352515,\n",
       " 'form_e_trained_std': 0.5557614357089498,\n",
       " 'shear_mod_random_mean': 3.6573499751091005,\n",
       " 'shear_mod_random_std': 0.7215814376106682,\n",
       " 'shear_mod_trained_mean': 4.462840408086777,\n",
       " 'shear_mod_trained_std': 0.4064563218900934,\n",
       " 'charge_neutral_random': 0.599,\n",
       " 'electronegativity_balanced_random': 0.428,\n",
       " 'charge_neutral_trained': 0.828,\n",
       " 'electronegativity_balanced_trained': 0.692,\n",
       " 'unique_random': 1.0,\n",
       " 'unique_trained': 1.0,\n",
       " 'random_oxides_EMD_mean': 20.128644743593593,\n",
       " 'random_oxides_EMD_std': 9.82379022238823,\n",
       " 'final_compounds_EMD_mean': 11.080325785915916,\n",
       " 'final_compounds_EMD_std': 5.090006029103403}"
      ]
     },
     "execution_count": 4,
     "metadata": {},
     "output_type": "execute_result"
    }
   ],
   "source": [
    "# # Load random oxides\n",
    "with open('./training_data/random_oxides.pkl', 'rb') as f: \n",
    "    random_oxides = pickle.load(f)\n",
    "\n",
    "# Load compounds\n",
    "with open('./training_data/oxides_shear_mod/final_compounds_roost_constrained.pkl', 'rb') as handle:\n",
    "    final_compounds = pickle.load(handle)\n",
    "\n",
    "# Formation Energy\n",
    "form_e_random = []\n",
    "form_e_trained = []\n",
    "for compound in tqdm(random_oxides):\n",
    "    form_e_random.append(predict_formation_energy(compound))\n",
    "for compound in tqdm(final_compounds):\n",
    "    form_e_trained.append(predict_formation_energy(compound))\n",
    "\n",
    "# Shear modulus\n",
    "shear_mod_random = []\n",
    "shear_mod_trained = []\n",
    "for compound in tqdm(random_oxides):\n",
    "    shear_mod_random.append(predict_shear_mod(compound))\n",
    "for compound in tqdm(final_compounds):\n",
    "    shear_mod_trained.append(predict_shear_mod(compound))\n",
    "\n",
    "# Charge neutrality and electronegativity\n",
    "cn_random_good, cn_random_bad = check_neutrality_multiple(random_oxides)\n",
    "en_random_good, en_random_bad = check_electronegativity_multiple(random_oxides)\n",
    "cn_trained_good, cn_trained_bad = check_neutrality_multiple(final_compounds)\n",
    "en_trained_good, en_trained_bad = check_electronegativity_multiple(final_compounds)\n",
    "\n",
    "# Uniqueness\n",
    "random_oxides_unique = list(set(random_oxides))\n",
    "final_compounds_unique = list(set(final_compounds))\n",
    "\n",
    "# EMD\n",
    "random_oxides_EMD_mean, random_oxides_EMD_std = similarity_to_nearest_neighbor(random_oxides)\n",
    "final_compounds_EMD_mean, final_compounds_EMD_std = similarity_to_nearest_neighbor(final_compounds)\n",
    "\n",
    "results = {}\n",
    "results['form_e_random_mean'] = np.mean(form_e_random)\n",
    "results['form_e_random_std'] = np.std(form_e_random)\n",
    "results['form_e_trained_mean'] = np.mean(form_e_trained)\n",
    "results['form_e_trained_std'] = np.std(form_e_trained)\n",
    "results['shear_mod_random_mean'] = np.mean(shear_mod_random)\n",
    "results['shear_mod_random_std'] = np.std(shear_mod_random)\n",
    "results['shear_mod_trained_mean'] = np.mean(shear_mod_trained)\n",
    "results['shear_mod_trained_std'] = np.std(shear_mod_trained)\n",
    "results['charge_neutral_random'] = len(cn_random_good)/(len(cn_random_good)+len(cn_random_bad))\n",
    "results['electronegativity_balanced_random'] = len(en_random_good)/(len(en_random_good)+len(en_random_bad))\n",
    "results['charge_neutral_trained'] = len(cn_trained_good)/(len(cn_trained_good)+len(cn_trained_bad))\n",
    "results['electronegativity_balanced_trained'] = len(en_trained_good)/(len(en_trained_good)+len(en_trained_bad))\n",
    "results['unique_random'] = len(random_oxides_unique)/len(random_oxides)\n",
    "results['unique_trained'] = len(final_compounds_unique)/len(final_compounds)\n",
    "results['random_oxides_EMD_mean'], results['random_oxides_EMD_std'] = random_oxides_EMD_mean, random_oxides_EMD_std\n",
    "results['final_compounds_EMD_mean'], results['final_compounds_EMD_std'] = final_compounds_EMD_mean, final_compounds_EMD_std\n",
    "results"
   ]
  },
  {
   "cell_type": "code",
   "execution_count": 8,
   "metadata": {},
   "outputs": [
    {
     "name": "stderr",
     "output_type": "stream",
     "text": [
      "100%|██████████| 1000/1000 [01:17<00:00, 12.88it/s]\n",
      "100%|██████████| 1000/1000 [01:17<00:00, 12.93it/s]\n",
      "100%|██████████| 1000/1000 [01:17<00:00, 12.90it/s]\n",
      "100%|██████████| 1000/1000 [01:17<00:00, 12.89it/s]\n",
      "100%|██████████| 1000/1000 [00:03<00:00, 252.17it/s]\n",
      "100%|██████████| 1000/1000 [00:11<00:00, 88.59it/s]\n",
      "100%|██████████| 1000/1000 [00:05<00:00, 176.12it/s]\n",
      "100%|██████████| 1000/1000 [00:27<00:00, 36.41it/s]\n"
     ]
    },
    {
     "name": "stdout",
     "output_type": "stream",
     "text": [
      "Fitting mod_petti kernel matrix\n",
      "Constructing distances\n",
      "Parsing Formula\n"
     ]
    },
    {
     "name": "stderr",
     "output_type": "stream",
     "text": [
      "100%|██████████| 1000/1000 [00:00<00:00, 10609.33it/s]\n"
     ]
    },
    {
     "name": "stdout",
     "output_type": "stream",
     "text": [
      "Constructing joint compositional pairings\n"
     ]
    },
    {
     "name": "stderr",
     "output_type": "stream",
     "text": [
      "100%|██████████| 999/999 [00:00<00:00, 19884.35it/s]"
     ]
    },
    {
     "name": "stdout",
     "output_type": "stream",
     "text": [
      "Creating Process Pool\n",
      "Scattering compositions between processes and computing distances\n"
     ]
    },
    {
     "name": "stderr",
     "output_type": "stream",
     "text": [
      "\n"
     ]
    },
    {
     "data": {
      "application/vnd.jupyter.widget-view+json": {
       "model_id": "6a3c6f7cc4474fb2893c4908dd17d7ae",
       "version_major": 2,
       "version_minor": 0
      },
      "text/plain": [
       "  0%|          | 0/999 [00:00<?, ?it/s]"
      ]
     },
     "metadata": {},
     "output_type": "display_data"
    },
    {
     "name": "stdout",
     "output_type": "stream",
     "text": [
      "Distances computed closing processes\n",
      "Flattening sublists\n"
     ]
    },
    {
     "name": "stderr",
     "output_type": "stream",
     "text": [
      "100%|██████████| 1000/1000 [00:00<00:00, 9065.26it/s]\n"
     ]
    },
    {
     "name": "stdout",
     "output_type": "stream",
     "text": [
      "Average Element Mover's distance: 20.1286\n",
      "Std Element Mover's distance: 9.8238\n",
      "Fitting mod_petti kernel matrix\n",
      "Constructing distances\n",
      "Parsing Formula\n"
     ]
    },
    {
     "name": "stderr",
     "output_type": "stream",
     "text": [
      "100%|██████████| 1000/1000 [00:00<00:00, 10723.28it/s]\n"
     ]
    },
    {
     "name": "stdout",
     "output_type": "stream",
     "text": [
      "Constructing joint compositional pairings\n"
     ]
    },
    {
     "name": "stderr",
     "output_type": "stream",
     "text": [
      "100%|██████████| 999/999 [00:00<00:00, 20943.22it/s]"
     ]
    },
    {
     "name": "stdout",
     "output_type": "stream",
     "text": [
      "Creating Process Pool\n",
      "Scattering compositions between processes and computing distances\n"
     ]
    },
    {
     "name": "stderr",
     "output_type": "stream",
     "text": [
      "\n"
     ]
    },
    {
     "data": {
      "application/vnd.jupyter.widget-view+json": {
       "model_id": "e58673b0167941f3a1c99af4194a0c1a",
       "version_major": 2,
       "version_minor": 0
      },
      "text/plain": [
       "  0%|          | 0/999 [00:00<?, ?it/s]"
      ]
     },
     "metadata": {},
     "output_type": "display_data"
    },
    {
     "name": "stdout",
     "output_type": "stream",
     "text": [
      "Distances computed closing processes\n",
      "Flattening sublists\n"
     ]
    },
    {
     "name": "stderr",
     "output_type": "stream",
     "text": [
      "100%|██████████| 1000/1000 [00:00<00:00, 9143.04it/s]"
     ]
    },
    {
     "name": "stdout",
     "output_type": "stream",
     "text": [
      "Average Element Mover's distance: 10.5972\n",
      "Std Element Mover's distance: 5.3439\n"
     ]
    },
    {
     "name": "stderr",
     "output_type": "stream",
     "text": [
      "\n"
     ]
    },
    {
     "data": {
      "text/plain": [
       "{'form_e_random_mean': -1.3723867765516042,\n",
       " 'form_e_random_std': 0.7347616392281606,\n",
       " 'form_e_trained_mean': -0.9580242489743978,\n",
       " 'form_e_trained_std': 0.43892841157107365,\n",
       " 'shear_mod_random_mean': 3.657350149154663,\n",
       " 'shear_mod_random_std': 0.7215814227943422,\n",
       " 'shear_mod_trained_mean': 4.492612731218338,\n",
       " 'shear_mod_trained_std': 0.3036665876059667,\n",
       " 'charge_neutral_random': 0.599,\n",
       " 'electronegativity_balanced_random': 0.428,\n",
       " 'charge_neutral_trained': 0.876,\n",
       " 'electronegativity_balanced_trained': 0.758,\n",
       " 'unique_random': 1.0,\n",
       " 'unique_trained': 1.0,\n",
       " 'random_oxides_EMD_mean': 20.128644743593593,\n",
       " 'random_oxides_EMD_std': 9.82379022238823,\n",
       " 'final_compounds_EMD_mean': 10.597175819733732,\n",
       " 'final_compounds_EMD_std': 5.3438505218865116}"
      ]
     },
     "execution_count": 8,
     "metadata": {},
     "output_type": "execute_result"
    }
   ],
   "source": [
    "# # Load random oxides\n",
    "with open('./training_data/random_oxides.pkl', 'rb') as f: \n",
    "    random_oxides = pickle.load(f)\n",
    "\n",
    "# Load compounds\n",
    "with open('./training_data/oxides_shear_mod-2/final_compounds_roost_constrained.pkl', 'rb') as handle:\n",
    "    final_compounds = pickle.load(handle)\n",
    "\n",
    "# Formation Energy\n",
    "form_e_random = []\n",
    "form_e_trained = []\n",
    "for compound in tqdm(random_oxides):\n",
    "    form_e_random.append(predict_formation_energy(compound))\n",
    "for compound in tqdm(final_compounds):\n",
    "    form_e_trained.append(predict_formation_energy(compound))\n",
    "\n",
    "# Shear modulus\n",
    "shear_mod_random = []\n",
    "shear_mod_trained = []\n",
    "for compound in tqdm(random_oxides):\n",
    "    shear_mod_random.append(predict_shear_mod(compound))\n",
    "for compound in tqdm(final_compounds):\n",
    "    shear_mod_trained.append(predict_shear_mod(compound))\n",
    "\n",
    "# Charge neutrality and electronegativity\n",
    "cn_random_good, cn_random_bad = check_neutrality_multiple(random_oxides)\n",
    "en_random_good, en_random_bad = check_electronegativity_multiple(random_oxides)\n",
    "cn_trained_good, cn_trained_bad = check_neutrality_multiple(final_compounds)\n",
    "en_trained_good, en_trained_bad = check_electronegativity_multiple(final_compounds)\n",
    "\n",
    "# Uniqueness\n",
    "random_oxides_unique = list(set(random_oxides))\n",
    "final_compounds_unique = list(set(final_compounds))\n",
    "\n",
    "# EMD\n",
    "random_oxides_EMD_mean, random_oxides_EMD_std = similarity_to_nearest_neighbor(random_oxides)\n",
    "final_compounds_EMD_mean, final_compounds_EMD_std = similarity_to_nearest_neighbor(final_compounds)\n",
    "\n",
    "results = {}\n",
    "results['form_e_random_mean'] = np.mean(form_e_random)\n",
    "results['form_e_random_std'] = np.std(form_e_random)\n",
    "results['form_e_trained_mean'] = np.mean(form_e_trained)\n",
    "results['form_e_trained_std'] = np.std(form_e_trained)\n",
    "results['shear_mod_random_mean'] = np.mean(shear_mod_random)\n",
    "results['shear_mod_random_std'] = np.std(shear_mod_random)\n",
    "results['shear_mod_trained_mean'] = np.mean(shear_mod_trained)\n",
    "results['shear_mod_trained_std'] = np.std(shear_mod_trained)\n",
    "results['charge_neutral_random'] = len(cn_random_good)/(len(cn_random_good)+len(cn_random_bad))\n",
    "results['electronegativity_balanced_random'] = len(en_random_good)/(len(en_random_good)+len(en_random_bad))\n",
    "results['charge_neutral_trained'] = len(cn_trained_good)/(len(cn_trained_good)+len(cn_trained_bad))\n",
    "results['electronegativity_balanced_trained'] = len(en_trained_good)/(len(en_trained_good)+len(en_trained_bad))\n",
    "results['unique_random'] = len(random_oxides_unique)/len(random_oxides)\n",
    "results['unique_trained'] = len(final_compounds_unique)/len(final_compounds)\n",
    "results['random_oxides_EMD_mean'], results['random_oxides_EMD_std'] = random_oxides_EMD_mean, random_oxides_EMD_std\n",
    "results['final_compounds_EMD_mean'], results['final_compounds_EMD_std'] = final_compounds_EMD_mean, final_compounds_EMD_std\n",
    "results"
   ]
  },
  {
   "cell_type": "code",
   "execution_count": 9,
   "metadata": {},
   "outputs": [
    {
     "name": "stderr",
     "output_type": "stream",
     "text": [
      "100%|██████████| 1000/1000 [01:20<00:00, 12.36it/s]\n",
      "100%|██████████| 1000/1000 [01:19<00:00, 12.65it/s]\n",
      "100%|██████████| 1000/1000 [01:18<00:00, 12.66it/s]\n",
      "100%|██████████| 1000/1000 [01:19<00:00, 12.61it/s]\n",
      "100%|██████████| 1000/1000 [00:03<00:00, 252.79it/s]\n",
      "100%|██████████| 1000/1000 [00:11<00:00, 88.84it/s]\n",
      "100%|██████████| 1000/1000 [00:03<00:00, 271.92it/s]\n",
      "100%|██████████| 1000/1000 [00:27<00:00, 36.94it/s]\n"
     ]
    },
    {
     "name": "stdout",
     "output_type": "stream",
     "text": [
      "Fitting mod_petti kernel matrix\n",
      "Constructing distances\n",
      "Parsing Formula\n"
     ]
    },
    {
     "name": "stderr",
     "output_type": "stream",
     "text": [
      "100%|██████████| 1000/1000 [00:00<00:00, 10492.63it/s]\n"
     ]
    },
    {
     "name": "stdout",
     "output_type": "stream",
     "text": [
      "Constructing joint compositional pairings\n"
     ]
    },
    {
     "name": "stderr",
     "output_type": "stream",
     "text": [
      "100%|██████████| 999/999 [00:00<00:00, 20248.73it/s]"
     ]
    },
    {
     "name": "stdout",
     "output_type": "stream",
     "text": [
      "Creating Process Pool\n",
      "Scattering compositions between processes and computing distances\n"
     ]
    },
    {
     "name": "stderr",
     "output_type": "stream",
     "text": [
      "\n"
     ]
    },
    {
     "data": {
      "application/vnd.jupyter.widget-view+json": {
       "model_id": "b6fce9c7d4a044bf9640b9206b70828d",
       "version_major": 2,
       "version_minor": 0
      },
      "text/plain": [
       "  0%|          | 0/999 [00:00<?, ?it/s]"
      ]
     },
     "metadata": {},
     "output_type": "display_data"
    },
    {
     "name": "stdout",
     "output_type": "stream",
     "text": [
      "Distances computed closing processes\n",
      "Flattening sublists\n"
     ]
    },
    {
     "name": "stderr",
     "output_type": "stream",
     "text": [
      "100%|██████████| 1000/1000 [00:00<00:00, 9165.35it/s]\n"
     ]
    },
    {
     "name": "stdout",
     "output_type": "stream",
     "text": [
      "Average Element Mover's distance: 20.1286\n",
      "Std Element Mover's distance: 9.8238\n",
      "Fitting mod_petti kernel matrix\n",
      "Constructing distances\n",
      "Parsing Formula\n"
     ]
    },
    {
     "name": "stderr",
     "output_type": "stream",
     "text": [
      "100%|██████████| 1000/1000 [00:00<00:00, 10815.25it/s]\n"
     ]
    },
    {
     "name": "stdout",
     "output_type": "stream",
     "text": [
      "Constructing joint compositional pairings\n"
     ]
    },
    {
     "name": "stderr",
     "output_type": "stream",
     "text": [
      "100%|██████████| 999/999 [00:00<00:00, 20878.00it/s]"
     ]
    },
    {
     "name": "stdout",
     "output_type": "stream",
     "text": [
      "Creating Process Pool\n",
      "Scattering compositions between processes and computing distances\n"
     ]
    },
    {
     "name": "stderr",
     "output_type": "stream",
     "text": [
      "\n"
     ]
    },
    {
     "data": {
      "application/vnd.jupyter.widget-view+json": {
       "model_id": "7c73c824eb194016849692086ea4f502",
       "version_major": 2,
       "version_minor": 0
      },
      "text/plain": [
       "  0%|          | 0/999 [00:00<?, ?it/s]"
      ]
     },
     "metadata": {},
     "output_type": "display_data"
    },
    {
     "name": "stdout",
     "output_type": "stream",
     "text": [
      "Distances computed closing processes\n",
      "Flattening sublists\n"
     ]
    },
    {
     "name": "stderr",
     "output_type": "stream",
     "text": [
      "100%|██████████| 1000/1000 [00:00<00:00, 9193.80it/s]"
     ]
    },
    {
     "name": "stdout",
     "output_type": "stream",
     "text": [
      "Average Element Mover's distance: 10.7817\n",
      "Std Element Mover's distance: 5.1995\n"
     ]
    },
    {
     "name": "stderr",
     "output_type": "stream",
     "text": [
      "\n"
     ]
    },
    {
     "data": {
      "text/plain": [
       "{'form_e_random_mean': -1.3723867765516042,\n",
       " 'form_e_random_std': 0.7347616392281606,\n",
       " 'form_e_trained_mean': -1.1577364917231026,\n",
       " 'form_e_trained_std': 0.5619516661849194,\n",
       " 'shear_mod_random_mean': 3.657350149154663,\n",
       " 'shear_mod_random_std': 0.7215814227943422,\n",
       " 'shear_mod_trained_mean': 4.534566444039345,\n",
       " 'shear_mod_trained_std': 0.3312451432079021,\n",
       " 'charge_neutral_random': 0.599,\n",
       " 'electronegativity_balanced_random': 0.428,\n",
       " 'charge_neutral_trained': 0.933,\n",
       " 'electronegativity_balanced_trained': 0.778,\n",
       " 'unique_random': 1.0,\n",
       " 'unique_trained': 1.0,\n",
       " 'random_oxides_EMD_mean': 20.128644743593593,\n",
       " 'random_oxides_EMD_std': 9.82379022238823,\n",
       " 'final_compounds_EMD_mean': 10.781655953193187,\n",
       " 'final_compounds_EMD_std': 5.199520828778767}"
      ]
     },
     "execution_count": 9,
     "metadata": {},
     "output_type": "execute_result"
    }
   ],
   "source": [
    "# # Load random oxides\n",
    "with open('./training_data/random_oxides.pkl', 'rb') as f: \n",
    "    random_oxides = pickle.load(f)\n",
    "\n",
    "# Load compounds\n",
    "with open('./training_data/oxides_shear_mod-3/final_compounds_roost_constrained.pkl', 'rb') as handle:\n",
    "    final_compounds = pickle.load(handle)\n",
    "\n",
    "# Formation Energy\n",
    "form_e_random = []\n",
    "form_e_trained = []\n",
    "for compound in tqdm(random_oxides):\n",
    "    form_e_random.append(predict_formation_energy(compound))\n",
    "for compound in tqdm(final_compounds):\n",
    "    form_e_trained.append(predict_formation_energy(compound))\n",
    "\n",
    "# Shear modulus\n",
    "shear_mod_random = []\n",
    "shear_mod_trained = []\n",
    "for compound in tqdm(random_oxides):\n",
    "    shear_mod_random.append(predict_shear_mod(compound))\n",
    "for compound in tqdm(final_compounds):\n",
    "    shear_mod_trained.append(predict_shear_mod(compound))\n",
    "\n",
    "# Charge neutrality and electronegativity\n",
    "cn_random_good, cn_random_bad = check_neutrality_multiple(random_oxides)\n",
    "en_random_good, en_random_bad = check_electronegativity_multiple(random_oxides)\n",
    "cn_trained_good, cn_trained_bad = check_neutrality_multiple(final_compounds)\n",
    "en_trained_good, en_trained_bad = check_electronegativity_multiple(final_compounds)\n",
    "\n",
    "# Uniqueness\n",
    "random_oxides_unique = list(set(random_oxides))\n",
    "final_compounds_unique = list(set(final_compounds))\n",
    "\n",
    "# EMD\n",
    "random_oxides_EMD_mean, random_oxides_EMD_std = similarity_to_nearest_neighbor(random_oxides)\n",
    "final_compounds_EMD_mean, final_compounds_EMD_std = similarity_to_nearest_neighbor(final_compounds)\n",
    "\n",
    "results = {}\n",
    "results['form_e_random_mean'] = np.mean(form_e_random)\n",
    "results['form_e_random_std'] = np.std(form_e_random)\n",
    "results['form_e_trained_mean'] = np.mean(form_e_trained)\n",
    "results['form_e_trained_std'] = np.std(form_e_trained)\n",
    "results['shear_mod_random_mean'] = np.mean(shear_mod_random)\n",
    "results['shear_mod_random_std'] = np.std(shear_mod_random)\n",
    "results['shear_mod_trained_mean'] = np.mean(shear_mod_trained)\n",
    "results['shear_mod_trained_std'] = np.std(shear_mod_trained)\n",
    "results['charge_neutral_random'] = len(cn_random_good)/(len(cn_random_good)+len(cn_random_bad))\n",
    "results['electronegativity_balanced_random'] = len(en_random_good)/(len(en_random_good)+len(en_random_bad))\n",
    "results['charge_neutral_trained'] = len(cn_trained_good)/(len(cn_trained_good)+len(cn_trained_bad))\n",
    "results['electronegativity_balanced_trained'] = len(en_trained_good)/(len(en_trained_good)+len(en_trained_bad))\n",
    "results['unique_random'] = len(random_oxides_unique)/len(random_oxides)\n",
    "results['unique_trained'] = len(final_compounds_unique)/len(final_compounds)\n",
    "results['random_oxides_EMD_mean'], results['random_oxides_EMD_std'] = random_oxides_EMD_mean, random_oxides_EMD_std\n",
    "results['final_compounds_EMD_mean'], results['final_compounds_EMD_std'] = final_compounds_EMD_mean, final_compounds_EMD_std\n",
    "results"
   ]
  },
  {
   "cell_type": "markdown",
   "metadata": {},
   "source": [
    "# Sintering temp task"
   ]
  },
  {
   "cell_type": "code",
   "execution_count": 13,
   "metadata": {},
   "outputs": [
    {
     "name": "stderr",
     "output_type": "stream",
     "text": [
      "100%|██████████| 1000/1000 [01:20<00:00, 12.47it/s]\n",
      "100%|██████████| 1000/1000 [01:19<00:00, 12.59it/s]\n",
      "100%|██████████| 1000/1000 [00:22<00:00, 44.24it/s]\n",
      "100%|██████████| 1000/1000 [00:22<00:00, 43.80it/s]\n",
      "100%|██████████| 1000/1000 [00:03<00:00, 254.46it/s]\n",
      "100%|██████████| 1000/1000 [00:11<00:00, 89.51it/s]\n",
      "100%|██████████| 1000/1000 [00:03<00:00, 266.15it/s]\n",
      "100%|██████████| 1000/1000 [00:17<00:00, 58.36it/s]\n"
     ]
    },
    {
     "name": "stdout",
     "output_type": "stream",
     "text": [
      "Fitting mod_petti kernel matrix\n",
      "Constructing distances\n",
      "Parsing Formula\n"
     ]
    },
    {
     "name": "stderr",
     "output_type": "stream",
     "text": [
      "100%|██████████| 1000/1000 [00:00<00:00, 10617.15it/s]\n"
     ]
    },
    {
     "name": "stdout",
     "output_type": "stream",
     "text": [
      "Constructing joint compositional pairings\n"
     ]
    },
    {
     "name": "stderr",
     "output_type": "stream",
     "text": [
      "100%|██████████| 999/999 [00:00<00:00, 20671.18it/s]"
     ]
    },
    {
     "name": "stdout",
     "output_type": "stream",
     "text": [
      "Creating Process Pool\n",
      "Scattering compositions between processes and computing distances\n"
     ]
    },
    {
     "name": "stderr",
     "output_type": "stream",
     "text": [
      "\n"
     ]
    },
    {
     "data": {
      "application/vnd.jupyter.widget-view+json": {
       "model_id": "11b73bf5c1aa4206966977187e1159fe",
       "version_major": 2,
       "version_minor": 0
      },
      "text/plain": [
       "  0%|          | 0/999 [00:00<?, ?it/s]"
      ]
     },
     "metadata": {},
     "output_type": "display_data"
    },
    {
     "name": "stdout",
     "output_type": "stream",
     "text": [
      "Distances computed closing processes\n",
      "Flattening sublists\n"
     ]
    },
    {
     "name": "stderr",
     "output_type": "stream",
     "text": [
      "100%|██████████| 1000/1000 [00:00<00:00, 9086.43it/s]\n"
     ]
    },
    {
     "name": "stdout",
     "output_type": "stream",
     "text": [
      "Average Element Mover's distance: 20.1286\n",
      "Std Element Mover's distance: 9.8238\n",
      "Fitting mod_petti kernel matrix\n",
      "Constructing distances\n",
      "Parsing Formula\n"
     ]
    },
    {
     "name": "stderr",
     "output_type": "stream",
     "text": [
      "100%|██████████| 1000/1000 [00:00<00:00, 10888.78it/s]\n"
     ]
    },
    {
     "name": "stdout",
     "output_type": "stream",
     "text": [
      "Constructing joint compositional pairings\n"
     ]
    },
    {
     "name": "stderr",
     "output_type": "stream",
     "text": [
      "100%|██████████| 999/999 [00:00<00:00, 20894.55it/s]"
     ]
    },
    {
     "name": "stdout",
     "output_type": "stream",
     "text": [
      "Creating Process Pool\n",
      "Scattering compositions between processes and computing distances\n"
     ]
    },
    {
     "name": "stderr",
     "output_type": "stream",
     "text": [
      "\n"
     ]
    },
    {
     "data": {
      "application/vnd.jupyter.widget-view+json": {
       "model_id": "c52a6d91dcbb4a34987c1c54c3c409aa",
       "version_major": 2,
       "version_minor": 0
      },
      "text/plain": [
       "  0%|          | 0/999 [00:00<?, ?it/s]"
      ]
     },
     "metadata": {},
     "output_type": "display_data"
    },
    {
     "name": "stdout",
     "output_type": "stream",
     "text": [
      "Distances computed closing processes\n",
      "Flattening sublists\n"
     ]
    },
    {
     "name": "stderr",
     "output_type": "stream",
     "text": [
      "100%|██████████| 1000/1000 [00:00<00:00, 9188.50it/s]"
     ]
    },
    {
     "name": "stdout",
     "output_type": "stream",
     "text": [
      "Average Element Mover's distance: 12.1047\n",
      "Std Element Mover's distance: 7.4317\n"
     ]
    },
    {
     "name": "stderr",
     "output_type": "stream",
     "text": [
      "\n"
     ]
    },
    {
     "data": {
      "text/plain": [
       "{'form_e_random_mean': -1.3723867772072553,\n",
       " 'form_e_random_std': 0.7347616385105727,\n",
       " 'form_e_trained_mean': -1.0209875393921974,\n",
       " 'form_e_trained_std': 0.507839532848521,\n",
       " 'sintering_random_mean': 1011.1405443517411,\n",
       " 'sintering_random_std': 131.0925303880326,\n",
       " 'sintering_trained_mean': 827.3537152992774,\n",
       " 'sintering_trained_std': 98.18427515077079,\n",
       " 'charge_neutral_random': 0.599,\n",
       " 'electronegativity_balanced_random': 0.428,\n",
       " 'charge_neutral_trained': 0.857,\n",
       " 'electronegativity_balanced_trained': 0.647,\n",
       " 'unique_random': 1.0,\n",
       " 'unique_trained': 1.0,\n",
       " 'random_oxides_EMD_mean': 20.128644743593593,\n",
       " 'random_oxides_EMD_std': 9.82379022238823,\n",
       " 'final_compounds_EMD_mean': 12.104689121839847,\n",
       " 'final_compounds_EMD_std': 7.4317252571245325}"
      ]
     },
     "execution_count": 13,
     "metadata": {},
     "output_type": "execute_result"
    }
   ],
   "source": [
    "# # Load random oxides\n",
    "with open('./training_data/random_oxides.pkl', 'rb') as f: \n",
    "    random_oxides = pickle.load(f)\n",
    "\n",
    "# Load compounds\n",
    "with open('./training_data/oxides_sinter/final_compounds_RF_constrained.pkl', 'rb') as handle:\n",
    "    final_compounds = pickle.load(handle)\n",
    "\n",
    "# Formation Energy\n",
    "form_e_random = []\n",
    "form_e_trained = []\n",
    "for compound in tqdm(random_oxides):\n",
    "    form_e_random.append(predict_formation_energy(compound))\n",
    "for compound in tqdm(final_compounds):\n",
    "    form_e_trained.append(predict_formation_energy(compound))\n",
    "\n",
    "# Sintering temp\n",
    "sintering_random = []\n",
    "sintering_trained = []\n",
    "for compound in tqdm(random_oxides):\n",
    "    sintering_random.append(predict_sinter(compound))\n",
    "for compound in tqdm(final_compounds):\n",
    "    sintering_trained.append(predict_sinter(compound))\n",
    "\n",
    "# Charge neutrality and electronegativity\n",
    "cn_random_good, cn_random_bad = check_neutrality_multiple(random_oxides)\n",
    "en_random_good, en_random_bad = check_electronegativity_multiple(random_oxides)\n",
    "cn_trained_good, cn_trained_bad = check_neutrality_multiple(final_compounds)\n",
    "en_trained_good, en_trained_bad = check_electronegativity_multiple(final_compounds)\n",
    "\n",
    "# Uniqueness\n",
    "random_oxides_unique = list(set(random_oxides))\n",
    "final_compounds_unique = list(set(final_compounds))\n",
    "\n",
    "# EMD\n",
    "random_oxides_EMD_mean, random_oxides_EMD_std = similarity_to_nearest_neighbor(random_oxides)\n",
    "final_compounds_EMD_mean, final_compounds_EMD_std = similarity_to_nearest_neighbor(final_compounds)\n",
    "\n",
    "results = {}\n",
    "results['form_e_random_mean'] = np.mean(form_e_random)\n",
    "results['form_e_random_std'] = np.std(form_e_random)\n",
    "results['form_e_trained_mean'] = np.mean(form_e_trained)\n",
    "results['form_e_trained_std'] = np.std(form_e_trained)\n",
    "results['sintering_random_mean'] = np.mean(sintering_random)\n",
    "results['sintering_random_std'] = np.std(sintering_random)\n",
    "results['sintering_trained_mean'] = np.mean(sintering_trained)\n",
    "results['sintering_trained_std'] = np.std(sintering_trained)\n",
    "results['charge_neutral_random'] = len(cn_random_good)/(len(cn_random_good)+len(cn_random_bad))\n",
    "results['electronegativity_balanced_random'] = len(en_random_good)/(len(en_random_good)+len(en_random_bad))\n",
    "results['charge_neutral_trained'] = len(cn_trained_good)/(len(cn_trained_good)+len(cn_trained_bad))\n",
    "results['electronegativity_balanced_trained'] = len(en_trained_good)/(len(en_trained_good)+len(en_trained_bad))\n",
    "results['unique_random'] = len(random_oxides_unique)/len(random_oxides)\n",
    "results['unique_trained'] = len(final_compounds_unique)/len(final_compounds)\n",
    "results['random_oxides_EMD_mean'], results['random_oxides_EMD_std'] = random_oxides_EMD_mean, random_oxides_EMD_std\n",
    "results['final_compounds_EMD_mean'], results['final_compounds_EMD_std'] = final_compounds_EMD_mean, final_compounds_EMD_std\n",
    "results"
   ]
  },
  {
   "cell_type": "code",
   "execution_count": 11,
   "metadata": {},
   "outputs": [
    {
     "name": "stderr",
     "output_type": "stream",
     "text": [
      "100%|██████████| 1000/1000 [01:19<00:00, 12.54it/s]\n",
      "100%|██████████| 1000/1000 [01:19<00:00, 12.55it/s]\n",
      "100%|██████████| 1000/1000 [00:22<00:00, 43.87it/s]\n",
      "100%|██████████| 1000/1000 [00:22<00:00, 44.02it/s]\n",
      "100%|██████████| 1000/1000 [00:03<00:00, 253.79it/s]\n",
      "100%|██████████| 1000/1000 [00:11<00:00, 89.50it/s]\n",
      "100%|██████████| 1000/1000 [00:02<00:00, 415.36it/s]\n",
      "100%|██████████| 1000/1000 [00:13<00:00, 74.69it/s]\n"
     ]
    },
    {
     "name": "stdout",
     "output_type": "stream",
     "text": [
      "Fitting mod_petti kernel matrix\n",
      "Constructing distances\n",
      "Parsing Formula\n"
     ]
    },
    {
     "name": "stderr",
     "output_type": "stream",
     "text": [
      "100%|██████████| 1000/1000 [00:00<00:00, 10586.17it/s]\n"
     ]
    },
    {
     "name": "stdout",
     "output_type": "stream",
     "text": [
      "Constructing joint compositional pairings\n"
     ]
    },
    {
     "name": "stderr",
     "output_type": "stream",
     "text": [
      "100%|██████████| 999/999 [00:00<00:00, 4507.89it/s]"
     ]
    },
    {
     "name": "stdout",
     "output_type": "stream",
     "text": [
      "Creating Process Pool\n",
      "Scattering compositions between processes and computing distances\n"
     ]
    },
    {
     "name": "stderr",
     "output_type": "stream",
     "text": [
      "\n"
     ]
    },
    {
     "data": {
      "application/vnd.jupyter.widget-view+json": {
       "model_id": "a0cf52473ae7429b81d09f859ec23a99",
       "version_major": 2,
       "version_minor": 0
      },
      "text/plain": [
       "  0%|          | 0/999 [00:00<?, ?it/s]"
      ]
     },
     "metadata": {},
     "output_type": "display_data"
    },
    {
     "name": "stdout",
     "output_type": "stream",
     "text": [
      "Distances computed closing processes\n",
      "Flattening sublists\n"
     ]
    },
    {
     "name": "stderr",
     "output_type": "stream",
     "text": [
      "100%|██████████| 1000/1000 [00:00<00:00, 8965.52it/s]\n"
     ]
    },
    {
     "name": "stdout",
     "output_type": "stream",
     "text": [
      "Average Element Mover's distance: 20.1286\n",
      "Std Element Mover's distance: 9.8238\n",
      "Fitting mod_petti kernel matrix\n",
      "Constructing distances\n",
      "Parsing Formula\n"
     ]
    },
    {
     "name": "stderr",
     "output_type": "stream",
     "text": [
      "100%|██████████| 1000/1000 [00:00<00:00, 10929.78it/s]\n"
     ]
    },
    {
     "name": "stdout",
     "output_type": "stream",
     "text": [
      "Constructing joint compositional pairings\n"
     ]
    },
    {
     "name": "stderr",
     "output_type": "stream",
     "text": [
      "100%|██████████| 999/999 [00:00<00:00, 21020.23it/s]"
     ]
    },
    {
     "name": "stdout",
     "output_type": "stream",
     "text": [
      "Creating Process Pool\n",
      "Scattering compositions between processes and computing distances\n"
     ]
    },
    {
     "name": "stderr",
     "output_type": "stream",
     "text": [
      "\n"
     ]
    },
    {
     "data": {
      "application/vnd.jupyter.widget-view+json": {
       "model_id": "c16a9da276c34218af0fa18ffa77547a",
       "version_major": 2,
       "version_minor": 0
      },
      "text/plain": [
       "  0%|          | 0/999 [00:00<?, ?it/s]"
      ]
     },
     "metadata": {},
     "output_type": "display_data"
    },
    {
     "name": "stdout",
     "output_type": "stream",
     "text": [
      "Distances computed closing processes\n",
      "Flattening sublists\n"
     ]
    },
    {
     "name": "stderr",
     "output_type": "stream",
     "text": [
      "100%|██████████| 1000/1000 [00:00<00:00, 9178.07it/s]"
     ]
    },
    {
     "name": "stdout",
     "output_type": "stream",
     "text": [
      "Average Element Mover's distance: 15.6503\n",
      "Std Element Mover's distance: 8.2289\n"
     ]
    },
    {
     "name": "stderr",
     "output_type": "stream",
     "text": [
      "\n"
     ]
    },
    {
     "data": {
      "text/plain": [
       "{'form_e_random_mean': -1.3723867772072553,\n",
       " 'form_e_random_std': 0.7347616385105727,\n",
       " 'form_e_trained_mean': -0.9604749636020279,\n",
       " 'form_e_trained_std': 0.5636414183828485,\n",
       " 'sintering_random_mean': 1011.1405443517411,\n",
       " 'sintering_random_std': 131.0925303880326,\n",
       " 'sintering_trained_mean': 806.4426254209793,\n",
       " 'sintering_trained_std': 94.89593433672087,\n",
       " 'charge_neutral_random': 0.599,\n",
       " 'electronegativity_balanced_random': 0.428,\n",
       " 'charge_neutral_trained': 0.843,\n",
       " 'electronegativity_balanced_trained': 0.614,\n",
       " 'unique_random': 1.0,\n",
       " 'unique_trained': 1.0,\n",
       " 'random_oxides_EMD_mean': 20.128644743593593,\n",
       " 'random_oxides_EMD_std': 9.82379022238823,\n",
       " 'final_compounds_EMD_mean': 15.650284433851853,\n",
       " 'final_compounds_EMD_std': 8.228864886422718}"
      ]
     },
     "execution_count": 11,
     "metadata": {},
     "output_type": "execute_result"
    }
   ],
   "source": [
    "# # Load random oxides\n",
    "with open('./training_data/random_oxides.pkl', 'rb') as f: \n",
    "    random_oxides = pickle.load(f)\n",
    "\n",
    "# Load compounds\n",
    "with open('./training_data/oxides_sinter-2/final_compounds_RF_constrained.pkl', 'rb') as handle:\n",
    "    final_compounds = pickle.load(handle)\n",
    "\n",
    "# Formation Energy\n",
    "form_e_random = []\n",
    "form_e_trained = []\n",
    "for compound in tqdm(random_oxides):\n",
    "    form_e_random.append(predict_formation_energy(compound))\n",
    "for compound in tqdm(final_compounds):\n",
    "    form_e_trained.append(predict_formation_energy(compound))\n",
    "\n",
    "# Sintering temp\n",
    "sintering_random = []\n",
    "sintering_trained = []\n",
    "for compound in tqdm(random_oxides):\n",
    "    sintering_random.append(predict_sinter(compound))\n",
    "for compound in tqdm(final_compounds):\n",
    "    sintering_trained.append(predict_sinter(compound))\n",
    "\n",
    "# Charge neutrality and electronegativity\n",
    "cn_random_good, cn_random_bad = check_neutrality_multiple(random_oxides)\n",
    "en_random_good, en_random_bad = check_electronegativity_multiple(random_oxides)\n",
    "cn_trained_good, cn_trained_bad = check_neutrality_multiple(final_compounds)\n",
    "en_trained_good, en_trained_bad = check_electronegativity_multiple(final_compounds)\n",
    "\n",
    "# Uniqueness\n",
    "random_oxides_unique = list(set(random_oxides))\n",
    "final_compounds_unique = list(set(final_compounds))\n",
    "\n",
    "# EMD\n",
    "random_oxides_EMD_mean, random_oxides_EMD_std = similarity_to_nearest_neighbor(random_oxides)\n",
    "final_compounds_EMD_mean, final_compounds_EMD_std = similarity_to_nearest_neighbor(final_compounds)\n",
    "\n",
    "results = {}\n",
    "results['form_e_random_mean'] = np.mean(form_e_random)\n",
    "results['form_e_random_std'] = np.std(form_e_random)\n",
    "results['form_e_trained_mean'] = np.mean(form_e_trained)\n",
    "results['form_e_trained_std'] = np.std(form_e_trained)\n",
    "results['sintering_random_mean'] = np.mean(sintering_random)\n",
    "results['sintering_random_std'] = np.std(sintering_random)\n",
    "results['sintering_trained_mean'] = np.mean(sintering_trained)\n",
    "results['sintering_trained_std'] = np.std(sintering_trained)\n",
    "results['charge_neutral_random'] = len(cn_random_good)/(len(cn_random_good)+len(cn_random_bad))\n",
    "results['electronegativity_balanced_random'] = len(en_random_good)/(len(en_random_good)+len(en_random_bad))\n",
    "results['charge_neutral_trained'] = len(cn_trained_good)/(len(cn_trained_good)+len(cn_trained_bad))\n",
    "results['electronegativity_balanced_trained'] = len(en_trained_good)/(len(en_trained_good)+len(en_trained_bad))\n",
    "results['unique_random'] = len(random_oxides_unique)/len(random_oxides)\n",
    "results['unique_trained'] = len(final_compounds_unique)/len(final_compounds)\n",
    "results['random_oxides_EMD_mean'], results['random_oxides_EMD_std'] = random_oxides_EMD_mean, random_oxides_EMD_std\n",
    "results['final_compounds_EMD_mean'], results['final_compounds_EMD_std'] = final_compounds_EMD_mean, final_compounds_EMD_std\n",
    "results"
   ]
  },
  {
   "cell_type": "code",
   "execution_count": 12,
   "metadata": {},
   "outputs": [
    {
     "name": "stderr",
     "output_type": "stream",
     "text": [
      "100%|██████████| 1000/1000 [01:17<00:00, 12.82it/s]\n",
      "100%|██████████| 1000/1000 [01:17<00:00, 12.89it/s]\n",
      "100%|██████████| 1000/1000 [00:22<00:00, 43.92it/s]\n",
      "100%|██████████| 1000/1000 [00:22<00:00, 43.85it/s]\n",
      "100%|██████████| 1000/1000 [00:03<00:00, 253.19it/s]\n",
      "100%|██████████| 1000/1000 [00:11<00:00, 88.68it/s]\n",
      "100%|██████████| 1000/1000 [00:03<00:00, 331.09it/s]\n",
      "100%|██████████| 1000/1000 [00:17<00:00, 58.61it/s]\n"
     ]
    },
    {
     "name": "stdout",
     "output_type": "stream",
     "text": [
      "Fitting mod_petti kernel matrix\n",
      "Constructing distances\n",
      "Parsing Formula\n"
     ]
    },
    {
     "name": "stderr",
     "output_type": "stream",
     "text": [
      "100%|██████████| 1000/1000 [00:00<00:00, 10593.63it/s]\n"
     ]
    },
    {
     "name": "stdout",
     "output_type": "stream",
     "text": [
      "Constructing joint compositional pairings\n"
     ]
    },
    {
     "name": "stderr",
     "output_type": "stream",
     "text": [
      "100%|██████████| 999/999 [00:00<00:00, 20039.17it/s]"
     ]
    },
    {
     "name": "stdout",
     "output_type": "stream",
     "text": [
      "Creating Process Pool\n",
      "Scattering compositions between processes and computing distances\n"
     ]
    },
    {
     "name": "stderr",
     "output_type": "stream",
     "text": [
      "\n"
     ]
    },
    {
     "data": {
      "application/vnd.jupyter.widget-view+json": {
       "model_id": "50bc743f378445db87268a954d9aebe7",
       "version_major": 2,
       "version_minor": 0
      },
      "text/plain": [
       "  0%|          | 0/999 [00:00<?, ?it/s]"
      ]
     },
     "metadata": {},
     "output_type": "display_data"
    },
    {
     "name": "stdout",
     "output_type": "stream",
     "text": [
      "Distances computed closing processes\n",
      "Flattening sublists\n"
     ]
    },
    {
     "name": "stderr",
     "output_type": "stream",
     "text": [
      "100%|██████████| 1000/1000 [00:00<00:00, 9253.86it/s]\n"
     ]
    },
    {
     "name": "stdout",
     "output_type": "stream",
     "text": [
      "Average Element Mover's distance: 20.1286\n",
      "Std Element Mover's distance: 9.8238\n",
      "Fitting mod_petti kernel matrix\n",
      "Constructing distances\n",
      "Parsing Formula\n"
     ]
    },
    {
     "name": "stderr",
     "output_type": "stream",
     "text": [
      "100%|██████████| 1000/1000 [00:00<00:00, 10816.39it/s]\n"
     ]
    },
    {
     "name": "stdout",
     "output_type": "stream",
     "text": [
      "Constructing joint compositional pairings\n"
     ]
    },
    {
     "name": "stderr",
     "output_type": "stream",
     "text": [
      "100%|██████████| 999/999 [00:00<00:00, 20785.41it/s]"
     ]
    },
    {
     "name": "stdout",
     "output_type": "stream",
     "text": [
      "Creating Process Pool\n",
      "Scattering compositions between processes and computing distances\n"
     ]
    },
    {
     "name": "stderr",
     "output_type": "stream",
     "text": [
      "\n"
     ]
    },
    {
     "data": {
      "application/vnd.jupyter.widget-view+json": {
       "model_id": "fa1764602b834e02b244a2a6b5d3f587",
       "version_major": 2,
       "version_minor": 0
      },
      "text/plain": [
       "  0%|          | 0/999 [00:00<?, ?it/s]"
      ]
     },
     "metadata": {},
     "output_type": "display_data"
    },
    {
     "name": "stdout",
     "output_type": "stream",
     "text": [
      "Distances computed closing processes\n",
      "Flattening sublists\n"
     ]
    },
    {
     "name": "stderr",
     "output_type": "stream",
     "text": [
      "100%|██████████| 1000/1000 [00:00<00:00, 9202.76it/s]"
     ]
    },
    {
     "name": "stdout",
     "output_type": "stream",
     "text": [
      "Average Element Mover's distance: 18.1865\n",
      "Std Element Mover's distance: 10.9584\n"
     ]
    },
    {
     "name": "stderr",
     "output_type": "stream",
     "text": [
      "\n"
     ]
    },
    {
     "data": {
      "text/plain": [
       "{'form_e_random_mean': -1.3723867757171393,\n",
       " 'form_e_random_std': 0.7347616402849283,\n",
       " 'form_e_trained_mean': -0.9352976914905011,\n",
       " 'form_e_trained_std': 0.44475776706037434,\n",
       " 'sintering_random_mean': 1011.1405443517411,\n",
       " 'sintering_random_std': 131.0925303880326,\n",
       " 'sintering_trained_mean': 808.5751353190071,\n",
       " 'sintering_trained_std': 78.89720046949414,\n",
       " 'charge_neutral_random': 0.599,\n",
       " 'electronegativity_balanced_random': 0.428,\n",
       " 'charge_neutral_trained': 0.862,\n",
       " 'electronegativity_balanced_trained': 0.562,\n",
       " 'unique_random': 1.0,\n",
       " 'unique_trained': 1.0,\n",
       " 'random_oxides_EMD_mean': 20.128644743593593,\n",
       " 'random_oxides_EMD_std': 9.82379022238823,\n",
       " 'final_compounds_EMD_mean': 18.18645486867668,\n",
       " 'final_compounds_EMD_std': 10.958449534539922}"
      ]
     },
     "execution_count": 12,
     "metadata": {},
     "output_type": "execute_result"
    }
   ],
   "source": [
    "# # Load random oxides\n",
    "with open('./training_data/random_oxides.pkl', 'rb') as f: \n",
    "    random_oxides = pickle.load(f)\n",
    "\n",
    "# Load compounds\n",
    "with open('./training_data/oxides_sinter-3/final_compounds_RF_constrained.pkl', 'rb') as handle:\n",
    "    final_compounds = pickle.load(handle)\n",
    "\n",
    "# Formation Energy\n",
    "form_e_random = []\n",
    "form_e_trained = []\n",
    "for compound in tqdm(random_oxides):\n",
    "    form_e_random.append(predict_formation_energy(compound))\n",
    "for compound in tqdm(final_compounds):\n",
    "    form_e_trained.append(predict_formation_energy(compound))\n",
    "\n",
    "# Sintering temp\n",
    "sintering_random = []\n",
    "sintering_trained = []\n",
    "for compound in tqdm(random_oxides):\n",
    "    sintering_random.append(predict_sinter(compound))\n",
    "for compound in tqdm(final_compounds):\n",
    "    sintering_trained.append(predict_sinter(compound))\n",
    "\n",
    "# Charge neutrality and electronegativity\n",
    "cn_random_good, cn_random_bad = check_neutrality_multiple(random_oxides)\n",
    "en_random_good, en_random_bad = check_electronegativity_multiple(random_oxides)\n",
    "cn_trained_good, cn_trained_bad = check_neutrality_multiple(final_compounds)\n",
    "en_trained_good, en_trained_bad = check_electronegativity_multiple(final_compounds)\n",
    "\n",
    "# Uniqueness\n",
    "random_oxides_unique = list(set(random_oxides))\n",
    "final_compounds_unique = list(set(final_compounds))\n",
    "\n",
    "# EMD\n",
    "random_oxides_EMD_mean, random_oxides_EMD_std = similarity_to_nearest_neighbor(random_oxides)\n",
    "final_compounds_EMD_mean, final_compounds_EMD_std = similarity_to_nearest_neighbor(final_compounds)\n",
    "\n",
    "results = {}\n",
    "results['form_e_random_mean'] = np.mean(form_e_random)\n",
    "results['form_e_random_std'] = np.std(form_e_random)\n",
    "results['form_e_trained_mean'] = np.mean(form_e_trained)\n",
    "results['form_e_trained_std'] = np.std(form_e_trained)\n",
    "results['sintering_random_mean'] = np.mean(sintering_random)\n",
    "results['sintering_random_std'] = np.std(sintering_random)\n",
    "results['sintering_trained_mean'] = np.mean(sintering_trained)\n",
    "results['sintering_trained_std'] = np.std(sintering_trained)\n",
    "results['charge_neutral_random'] = len(cn_random_good)/(len(cn_random_good)+len(cn_random_bad))\n",
    "results['electronegativity_balanced_random'] = len(en_random_good)/(len(en_random_good)+len(en_random_bad))\n",
    "results['charge_neutral_trained'] = len(cn_trained_good)/(len(cn_trained_good)+len(cn_trained_bad))\n",
    "results['electronegativity_balanced_trained'] = len(en_trained_good)/(len(en_trained_good)+len(en_trained_bad))\n",
    "results['unique_random'] = len(random_oxides_unique)/len(random_oxides)\n",
    "results['unique_trained'] = len(final_compounds_unique)/len(final_compounds)\n",
    "results['random_oxides_EMD_mean'], results['random_oxides_EMD_std'] = random_oxides_EMD_mean, random_oxides_EMD_std\n",
    "results['final_compounds_EMD_mean'], results['final_compounds_EMD_std'] = final_compounds_EMD_mean, final_compounds_EMD_std\n",
    "results"
   ]
  },
  {
   "cell_type": "markdown",
   "metadata": {},
   "source": [
    "# Calcination temp task"
   ]
  },
  {
   "cell_type": "code",
   "execution_count": 18,
   "metadata": {},
   "outputs": [
    {
     "name": "stderr",
     "output_type": "stream",
     "text": [
      "100%|██████████| 1000/1000 [01:20<00:00, 12.38it/s]\n",
      "100%|██████████| 1000/1000 [01:20<00:00, 12.38it/s]\n",
      "100%|██████████| 1000/1000 [00:27<00:00, 35.93it/s]\n",
      "100%|██████████| 1000/1000 [00:27<00:00, 35.88it/s]\n",
      "100%|██████████| 1000/1000 [00:03<00:00, 252.85it/s]\n",
      "100%|██████████| 1000/1000 [00:11<00:00, 89.25it/s]\n",
      "100%|██████████| 1000/1000 [00:07<00:00, 135.74it/s]\n",
      "100%|██████████| 1000/1000 [00:23<00:00, 42.10it/s]\n"
     ]
    },
    {
     "name": "stdout",
     "output_type": "stream",
     "text": [
      "Fitting mod_petti kernel matrix\n",
      "Constructing distances\n",
      "Parsing Formula\n"
     ]
    },
    {
     "name": "stderr",
     "output_type": "stream",
     "text": [
      "100%|██████████| 1000/1000 [00:00<00:00, 10357.48it/s]\n"
     ]
    },
    {
     "name": "stdout",
     "output_type": "stream",
     "text": [
      "Constructing joint compositional pairings\n"
     ]
    },
    {
     "name": "stderr",
     "output_type": "stream",
     "text": [
      "100%|██████████| 999/999 [00:00<00:00, 19550.26it/s]"
     ]
    },
    {
     "name": "stdout",
     "output_type": "stream",
     "text": [
      "Creating Process Pool\n",
      "Scattering compositions between processes and computing distances\n"
     ]
    },
    {
     "name": "stderr",
     "output_type": "stream",
     "text": [
      "\n"
     ]
    },
    {
     "data": {
      "application/vnd.jupyter.widget-view+json": {
       "model_id": "c3aa3ed0f68141bea4e393babbf6ee69",
       "version_major": 2,
       "version_minor": 0
      },
      "text/plain": [
       "  0%|          | 0/999 [00:00<?, ?it/s]"
      ]
     },
     "metadata": {},
     "output_type": "display_data"
    },
    {
     "name": "stdout",
     "output_type": "stream",
     "text": [
      "Distances computed closing processes\n",
      "Flattening sublists\n"
     ]
    },
    {
     "name": "stderr",
     "output_type": "stream",
     "text": [
      "100%|██████████| 1000/1000 [00:00<00:00, 9114.03it/s]\n"
     ]
    },
    {
     "name": "stdout",
     "output_type": "stream",
     "text": [
      "Average Element Mover's distance: 20.1286\n",
      "Std Element Mover's distance: 9.8238\n",
      "Fitting mod_petti kernel matrix\n",
      "Constructing distances\n",
      "Parsing Formula\n"
     ]
    },
    {
     "name": "stderr",
     "output_type": "stream",
     "text": [
      "100%|██████████| 1000/1000 [00:00<00:00, 10847.83it/s]\n"
     ]
    },
    {
     "name": "stdout",
     "output_type": "stream",
     "text": [
      "Constructing joint compositional pairings\n"
     ]
    },
    {
     "name": "stderr",
     "output_type": "stream",
     "text": [
      "100%|██████████| 999/999 [00:00<00:00, 20506.78it/s]"
     ]
    },
    {
     "name": "stdout",
     "output_type": "stream",
     "text": [
      "Creating Process Pool\n",
      "Scattering compositions between processes and computing distances\n"
     ]
    },
    {
     "name": "stderr",
     "output_type": "stream",
     "text": [
      "\n"
     ]
    },
    {
     "data": {
      "application/vnd.jupyter.widget-view+json": {
       "model_id": "6fe06dd732764b2c8498d6ea4054fc00",
       "version_major": 2,
       "version_minor": 0
      },
      "text/plain": [
       "  0%|          | 0/999 [00:00<?, ?it/s]"
      ]
     },
     "metadata": {},
     "output_type": "display_data"
    },
    {
     "name": "stdout",
     "output_type": "stream",
     "text": [
      "Distances computed closing processes\n",
      "Flattening sublists\n"
     ]
    },
    {
     "name": "stderr",
     "output_type": "stream",
     "text": [
      "100%|██████████| 1000/1000 [00:00<00:00, 9151.36it/s]"
     ]
    },
    {
     "name": "stdout",
     "output_type": "stream",
     "text": [
      "Average Element Mover's distance: 15.051\n",
      "Std Element Mover's distance: 10.1533\n"
     ]
    },
    {
     "name": "stderr",
     "output_type": "stream",
     "text": [
      "\n"
     ]
    },
    {
     "data": {
      "text/plain": [
       "{'form_e_random_mean': -1.3723867765516042,\n",
       " 'form_e_random_std': 0.7347616392281606,\n",
       " 'form_e_trained_mean': -0.8953392740143463,\n",
       " 'form_e_trained_std': 0.49289031744981376,\n",
       " 'calcine_random_mean': 903.5501264941008,\n",
       " 'calcine_random_std': 68.16546320573397,\n",
       " 'calcine_trained_mean': 812.5698816942709,\n",
       " 'calcine_trained_std': 45.67189227981385,\n",
       " 'charge_neutral_random': 0.599,\n",
       " 'electronegativity_balanced_random': 0.428,\n",
       " 'charge_neutral_trained': 0.675,\n",
       " 'electronegativity_balanced_trained': 0.445,\n",
       " 'unique_random': 1.0,\n",
       " 'unique_trained': 0.998,\n",
       " 'random_oxides_EMD_mean': 20.128644743593593,\n",
       " 'random_oxides_EMD_std': 9.82379022238823,\n",
       " 'final_compounds_EMD_mean': 15.051018097191198,\n",
       " 'final_compounds_EMD_std': 10.15328054324401}"
      ]
     },
     "execution_count": 18,
     "metadata": {},
     "output_type": "execute_result"
    }
   ],
   "source": [
    "# # Load random oxides\n",
    "with open('./training_data/random_oxides.pkl', 'rb') as f: \n",
    "    random_oxides = pickle.load(f)\n",
    "\n",
    "# Load compounds\n",
    "with open('./training_data/oxides_calcine/final_compounds_roost_constrained.pkl', 'rb') as handle:\n",
    "    final_compounds = pickle.load(handle)\n",
    "\n",
    "# Formation Energy\n",
    "form_e_random = []\n",
    "form_e_trained = []\n",
    "for compound in tqdm(random_oxides):\n",
    "    form_e_random.append(predict_formation_energy(compound))\n",
    "for compound in tqdm(final_compounds):\n",
    "    form_e_trained.append(predict_formation_energy(compound))\n",
    "\n",
    "# Sintering temp\n",
    "calcine_random = []\n",
    "calcine_trained = []\n",
    "for compound in tqdm(random_oxides):\n",
    "    calcine_random.append(predict_calcine(compound))\n",
    "for compound in tqdm(final_compounds):\n",
    "    calcine_trained.append(predict_calcine(compound))\n",
    "\n",
    "# Charge neutrality and electronegativity\n",
    "cn_random_good, cn_random_bad = check_neutrality_multiple(random_oxides)\n",
    "en_random_good, en_random_bad = check_electronegativity_multiple(random_oxides)\n",
    "cn_trained_good, cn_trained_bad = check_neutrality_multiple(final_compounds)\n",
    "en_trained_good, en_trained_bad = check_electronegativity_multiple(final_compounds)\n",
    "\n",
    "# Uniqueness\n",
    "random_oxides_unique = list(set(random_oxides))\n",
    "final_compounds_unique = list(set(final_compounds))\n",
    "\n",
    "# EMD\n",
    "random_oxides_EMD_mean, random_oxides_EMD_std = similarity_to_nearest_neighbor(random_oxides)\n",
    "final_compounds_EMD_mean, final_compounds_EMD_std = similarity_to_nearest_neighbor(final_compounds)\n",
    "\n",
    "results = {}\n",
    "results['form_e_random_mean'] = np.mean(form_e_random)\n",
    "results['form_e_random_std'] = np.std(form_e_random)\n",
    "results['form_e_trained_mean'] = np.mean(form_e_trained)\n",
    "results['form_e_trained_std'] = np.std(form_e_trained)\n",
    "results['calcine_random_mean'] = np.mean(calcine_random)\n",
    "results['calcine_random_std'] = np.std(calcine_random)\n",
    "results['calcine_trained_mean'] = np.mean(calcine_trained)\n",
    "results['calcine_trained_std'] = np.std(calcine_trained)\n",
    "results['charge_neutral_random'] = len(cn_random_good)/(len(cn_random_good)+len(cn_random_bad))\n",
    "results['electronegativity_balanced_random'] = len(en_random_good)/(len(en_random_good)+len(en_random_bad))\n",
    "results['charge_neutral_trained'] = len(cn_trained_good)/(len(cn_trained_good)+len(cn_trained_bad))\n",
    "results['electronegativity_balanced_trained'] = len(en_trained_good)/(len(en_trained_good)+len(en_trained_bad))\n",
    "results['unique_random'] = len(random_oxides_unique)/len(random_oxides)\n",
    "results['unique_trained'] = len(final_compounds_unique)/len(final_compounds)\n",
    "results['random_oxides_EMD_mean'], results['random_oxides_EMD_std'] = random_oxides_EMD_mean, random_oxides_EMD_std\n",
    "results['final_compounds_EMD_mean'], results['final_compounds_EMD_std'] = final_compounds_EMD_mean, final_compounds_EMD_std\n",
    "results"
   ]
  },
  {
   "cell_type": "code",
   "execution_count": 19,
   "metadata": {},
   "outputs": [
    {
     "name": "stderr",
     "output_type": "stream",
     "text": [
      "100%|██████████| 1000/1000 [01:21<00:00, 12.35it/s]\n",
      "100%|██████████| 1000/1000 [01:19<00:00, 12.60it/s]\n",
      "100%|██████████| 1000/1000 [00:27<00:00, 35.96it/s]\n",
      "100%|██████████| 1000/1000 [00:27<00:00, 35.81it/s]\n",
      "100%|██████████| 1000/1000 [00:03<00:00, 253.09it/s]\n",
      "100%|██████████| 1000/1000 [00:11<00:00, 89.12it/s]\n",
      "100%|██████████| 1000/1000 [00:02<00:00, 454.98it/s]\n",
      "100%|██████████| 1000/1000 [00:11<00:00, 84.95it/s]\n"
     ]
    },
    {
     "name": "stdout",
     "output_type": "stream",
     "text": [
      "Fitting mod_petti kernel matrix\n",
      "Constructing distances\n",
      "Parsing Formula\n"
     ]
    },
    {
     "name": "stderr",
     "output_type": "stream",
     "text": [
      "100%|██████████| 1000/1000 [00:00<00:00, 10244.20it/s]\n"
     ]
    },
    {
     "name": "stdout",
     "output_type": "stream",
     "text": [
      "Constructing joint compositional pairings\n"
     ]
    },
    {
     "name": "stderr",
     "output_type": "stream",
     "text": [
      "100%|██████████| 999/999 [00:00<00:00, 19652.22it/s]"
     ]
    },
    {
     "name": "stdout",
     "output_type": "stream",
     "text": [
      "Creating Process Pool\n",
      "Scattering compositions between processes and computing distances\n"
     ]
    },
    {
     "name": "stderr",
     "output_type": "stream",
     "text": [
      "\n"
     ]
    },
    {
     "data": {
      "application/vnd.jupyter.widget-view+json": {
       "model_id": "b851cdb31c9744fc89f9aae3d4ce3ba8",
       "version_major": 2,
       "version_minor": 0
      },
      "text/plain": [
       "  0%|          | 0/999 [00:00<?, ?it/s]"
      ]
     },
     "metadata": {},
     "output_type": "display_data"
    },
    {
     "name": "stdout",
     "output_type": "stream",
     "text": [
      "Distances computed closing processes\n",
      "Flattening sublists\n"
     ]
    },
    {
     "name": "stderr",
     "output_type": "stream",
     "text": [
      "100%|██████████| 1000/1000 [00:00<00:00, 9104.30it/s]\n"
     ]
    },
    {
     "name": "stdout",
     "output_type": "stream",
     "text": [
      "Average Element Mover's distance: 20.1286\n",
      "Std Element Mover's distance: 9.8238\n",
      "Fitting mod_petti kernel matrix\n",
      "Constructing distances\n",
      "Parsing Formula\n"
     ]
    },
    {
     "name": "stderr",
     "output_type": "stream",
     "text": [
      "100%|██████████| 1000/1000 [00:00<00:00, 11145.73it/s]\n"
     ]
    },
    {
     "name": "stdout",
     "output_type": "stream",
     "text": [
      "Constructing joint compositional pairings\n"
     ]
    },
    {
     "name": "stderr",
     "output_type": "stream",
     "text": [
      "100%|██████████| 999/999 [00:00<00:00, 20517.02it/s]"
     ]
    },
    {
     "name": "stdout",
     "output_type": "stream",
     "text": [
      "Creating Process Pool\n",
      "Scattering compositions between processes and computing distances\n"
     ]
    },
    {
     "name": "stderr",
     "output_type": "stream",
     "text": [
      "\n"
     ]
    },
    {
     "data": {
      "application/vnd.jupyter.widget-view+json": {
       "model_id": "dbac385bc8b64413bb7e9d3d3e7d973e",
       "version_major": 2,
       "version_minor": 0
      },
      "text/plain": [
       "  0%|          | 0/999 [00:00<?, ?it/s]"
      ]
     },
     "metadata": {},
     "output_type": "display_data"
    },
    {
     "name": "stdout",
     "output_type": "stream",
     "text": [
      "Distances computed closing processes\n",
      "Flattening sublists\n"
     ]
    },
    {
     "name": "stderr",
     "output_type": "stream",
     "text": [
      "100%|██████████| 1000/1000 [00:00<00:00, 9161.77it/s]"
     ]
    },
    {
     "name": "stdout",
     "output_type": "stream",
     "text": [
      "Average Element Mover's distance: 11.9114\n",
      "Std Element Mover's distance: 7.5234\n"
     ]
    },
    {
     "name": "stderr",
     "output_type": "stream",
     "text": [
      "\n"
     ]
    },
    {
     "data": {
      "text/plain": [
       "{'form_e_random_mean': -1.3723867772072553,\n",
       " 'form_e_random_std': 0.7347616385105727,\n",
       " 'form_e_trained_mean': -0.7402835665745661,\n",
       " 'form_e_trained_std': 0.42308575098379203,\n",
       " 'calcine_random_mean': 903.5501264941008,\n",
       " 'calcine_random_std': 68.16546320573397,\n",
       " 'calcine_trained_mean': 792.3776237292946,\n",
       " 'calcine_trained_std': 44.11469795054194,\n",
       " 'charge_neutral_random': 0.599,\n",
       " 'electronegativity_balanced_random': 0.428,\n",
       " 'charge_neutral_trained': 0.783,\n",
       " 'electronegativity_balanced_trained': 0.593,\n",
       " 'unique_random': 1.0,\n",
       " 'unique_trained': 0.998,\n",
       " 'random_oxides_EMD_mean': 20.128644743593593,\n",
       " 'random_oxides_EMD_std': 9.82379022238823,\n",
       " 'final_compounds_EMD_mean': 11.911389963407405,\n",
       " 'final_compounds_EMD_std': 7.523403794491842}"
      ]
     },
     "execution_count": 19,
     "metadata": {},
     "output_type": "execute_result"
    }
   ],
   "source": [
    "# # Load random oxides\n",
    "with open('./training_data/random_oxides.pkl', 'rb') as f: \n",
    "    random_oxides = pickle.load(f)\n",
    "\n",
    "# Load compounds\n",
    "with open('./training_data/oxides_calcine-2/final_compounds_roost_constrained.pkl', 'rb') as handle:\n",
    "    final_compounds = pickle.load(handle)\n",
    "\n",
    "# Formation Energy\n",
    "form_e_random = []\n",
    "form_e_trained = []\n",
    "for compound in tqdm(random_oxides):\n",
    "    form_e_random.append(predict_formation_energy(compound))\n",
    "for compound in tqdm(final_compounds):\n",
    "    form_e_trained.append(predict_formation_energy(compound))\n",
    "\n",
    "# Sintering temp\n",
    "calcine_random = []\n",
    "calcine_trained = []\n",
    "for compound in tqdm(random_oxides):\n",
    "    calcine_random.append(predict_calcine(compound))\n",
    "for compound in tqdm(final_compounds):\n",
    "    calcine_trained.append(predict_calcine(compound))\n",
    "\n",
    "# Charge neutrality and electronegativity\n",
    "cn_random_good, cn_random_bad = check_neutrality_multiple(random_oxides)\n",
    "en_random_good, en_random_bad = check_electronegativity_multiple(random_oxides)\n",
    "cn_trained_good, cn_trained_bad = check_neutrality_multiple(final_compounds)\n",
    "en_trained_good, en_trained_bad = check_electronegativity_multiple(final_compounds)\n",
    "\n",
    "# Uniqueness\n",
    "random_oxides_unique = list(set(random_oxides))\n",
    "final_compounds_unique = list(set(final_compounds))\n",
    "\n",
    "# EMD\n",
    "random_oxides_EMD_mean, random_oxides_EMD_std = similarity_to_nearest_neighbor(random_oxides)\n",
    "final_compounds_EMD_mean, final_compounds_EMD_std = similarity_to_nearest_neighbor(final_compounds)\n",
    "\n",
    "results = {}\n",
    "results['form_e_random_mean'] = np.mean(form_e_random)\n",
    "results['form_e_random_std'] = np.std(form_e_random)\n",
    "results['form_e_trained_mean'] = np.mean(form_e_trained)\n",
    "results['form_e_trained_std'] = np.std(form_e_trained)\n",
    "results['calcine_random_mean'] = np.mean(calcine_random)\n",
    "results['calcine_random_std'] = np.std(calcine_random)\n",
    "results['calcine_trained_mean'] = np.mean(calcine_trained)\n",
    "results['calcine_trained_std'] = np.std(calcine_trained)\n",
    "results['charge_neutral_random'] = len(cn_random_good)/(len(cn_random_good)+len(cn_random_bad))\n",
    "results['electronegativity_balanced_random'] = len(en_random_good)/(len(en_random_good)+len(en_random_bad))\n",
    "results['charge_neutral_trained'] = len(cn_trained_good)/(len(cn_trained_good)+len(cn_trained_bad))\n",
    "results['electronegativity_balanced_trained'] = len(en_trained_good)/(len(en_trained_good)+len(en_trained_bad))\n",
    "results['unique_random'] = len(random_oxides_unique)/len(random_oxides)\n",
    "results['unique_trained'] = len(final_compounds_unique)/len(final_compounds)\n",
    "results['random_oxides_EMD_mean'], results['random_oxides_EMD_std'] = random_oxides_EMD_mean, random_oxides_EMD_std\n",
    "results['final_compounds_EMD_mean'], results['final_compounds_EMD_std'] = final_compounds_EMD_mean, final_compounds_EMD_std\n",
    "results"
   ]
  },
  {
   "cell_type": "code",
   "execution_count": 20,
   "metadata": {},
   "outputs": [
    {
     "name": "stderr",
     "output_type": "stream",
     "text": [
      "100%|██████████| 1000/1000 [01:19<00:00, 12.55it/s]\n",
      "100%|██████████| 1000/1000 [01:21<00:00, 12.30it/s]\n",
      "100%|██████████| 1000/1000 [00:27<00:00, 35.88it/s]\n",
      "100%|██████████| 1000/1000 [00:27<00:00, 35.88it/s]\n",
      "100%|██████████| 1000/1000 [00:03<00:00, 253.11it/s]\n",
      "100%|██████████| 1000/1000 [00:11<00:00, 89.05it/s]\n",
      "100%|██████████| 1000/1000 [00:03<00:00, 316.68it/s]\n",
      "100%|██████████| 1000/1000 [00:15<00:00, 63.29it/s]\n"
     ]
    },
    {
     "name": "stdout",
     "output_type": "stream",
     "text": [
      "Fitting mod_petti kernel matrix\n",
      "Constructing distances\n",
      "Parsing Formula\n"
     ]
    },
    {
     "name": "stderr",
     "output_type": "stream",
     "text": [
      "100%|██████████| 1000/1000 [00:00<00:00, 10503.64it/s]\n"
     ]
    },
    {
     "name": "stdout",
     "output_type": "stream",
     "text": [
      "Constructing joint compositional pairings\n"
     ]
    },
    {
     "name": "stderr",
     "output_type": "stream",
     "text": [
      "100%|██████████| 999/999 [00:00<00:00, 4246.83it/s]"
     ]
    },
    {
     "name": "stdout",
     "output_type": "stream",
     "text": [
      "Creating Process Pool\n",
      "Scattering compositions between processes and computing distances\n"
     ]
    },
    {
     "name": "stderr",
     "output_type": "stream",
     "text": [
      "\n"
     ]
    },
    {
     "data": {
      "application/vnd.jupyter.widget-view+json": {
       "model_id": "8df1cbd1d885452d94663b4f4232705b",
       "version_major": 2,
       "version_minor": 0
      },
      "text/plain": [
       "  0%|          | 0/999 [00:00<?, ?it/s]"
      ]
     },
     "metadata": {},
     "output_type": "display_data"
    },
    {
     "name": "stdout",
     "output_type": "stream",
     "text": [
      "Distances computed closing processes\n",
      "Flattening sublists\n"
     ]
    },
    {
     "name": "stderr",
     "output_type": "stream",
     "text": [
      "100%|██████████| 1000/1000 [00:00<00:00, 9041.22it/s]\n"
     ]
    },
    {
     "name": "stdout",
     "output_type": "stream",
     "text": [
      "Average Element Mover's distance: 20.1286\n",
      "Std Element Mover's distance: 9.8238\n",
      "Fitting mod_petti kernel matrix\n",
      "Constructing distances\n",
      "Parsing Formula\n"
     ]
    },
    {
     "name": "stderr",
     "output_type": "stream",
     "text": [
      "100%|██████████| 1000/1000 [00:00<00:00, 10899.62it/s]\n"
     ]
    },
    {
     "name": "stdout",
     "output_type": "stream",
     "text": [
      "Constructing joint compositional pairings\n"
     ]
    },
    {
     "name": "stderr",
     "output_type": "stream",
     "text": [
      "100%|██████████| 999/999 [00:00<00:00, 21035.22it/s]"
     ]
    },
    {
     "name": "stdout",
     "output_type": "stream",
     "text": [
      "Creating Process Pool\n",
      "Scattering compositions between processes and computing distances\n"
     ]
    },
    {
     "name": "stderr",
     "output_type": "stream",
     "text": [
      "\n"
     ]
    },
    {
     "data": {
      "application/vnd.jupyter.widget-view+json": {
       "model_id": "0becdf73a45a43d3ace03b773b1d1e9d",
       "version_major": 2,
       "version_minor": 0
      },
      "text/plain": [
       "  0%|          | 0/999 [00:00<?, ?it/s]"
      ]
     },
     "metadata": {},
     "output_type": "display_data"
    },
    {
     "name": "stdout",
     "output_type": "stream",
     "text": [
      "Distances computed closing processes\n",
      "Flattening sublists\n"
     ]
    },
    {
     "name": "stderr",
     "output_type": "stream",
     "text": [
      "100%|██████████| 1000/1000 [00:00<00:00, 9135.01it/s]"
     ]
    },
    {
     "name": "stdout",
     "output_type": "stream",
     "text": [
      "Average Element Mover's distance: 9.8579\n",
      "Std Element Mover's distance: 6.5814\n"
     ]
    },
    {
     "name": "stderr",
     "output_type": "stream",
     "text": [
      "\n"
     ]
    },
    {
     "data": {
      "text/plain": [
       "{'form_e_random_mean': -1.3723867765516042,\n",
       " 'form_e_random_std': 0.7347616392281606,\n",
       " 'form_e_trained_mean': -0.9325493416475364,\n",
       " 'form_e_trained_std': 0.459583564003489,\n",
       " 'calcine_random_mean': 903.5501264941008,\n",
       " 'calcine_random_std': 68.16546320573397,\n",
       " 'calcine_trained_mean': 770.7161894597972,\n",
       " 'calcine_trained_std': 53.72118850037387,\n",
       " 'charge_neutral_random': 0.599,\n",
       " 'electronegativity_balanced_random': 0.428,\n",
       " 'charge_neutral_trained': 0.781,\n",
       " 'electronegativity_balanced_trained': 0.57,\n",
       " 'unique_random': 1.0,\n",
       " 'unique_trained': 1.0,\n",
       " 'random_oxides_EMD_mean': 20.128644743593593,\n",
       " 'random_oxides_EMD_std': 9.82379022238823,\n",
       " 'final_compounds_EMD_mean': 9.857919703669674,\n",
       " 'final_compounds_EMD_std': 6.581401398116098}"
      ]
     },
     "execution_count": 20,
     "metadata": {},
     "output_type": "execute_result"
    }
   ],
   "source": [
    "# # Load random oxides\n",
    "with open('./training_data/random_oxides.pkl', 'rb') as f: \n",
    "    random_oxides = pickle.load(f)\n",
    "\n",
    "# Load compounds\n",
    "with open('./training_data/oxides_calcine-3/final_compounds_roost_constrained.pkl', 'rb') as handle:\n",
    "    final_compounds = pickle.load(handle)\n",
    "\n",
    "# Formation Energy\n",
    "form_e_random = []\n",
    "form_e_trained = []\n",
    "for compound in tqdm(random_oxides):\n",
    "    form_e_random.append(predict_formation_energy(compound))\n",
    "for compound in tqdm(final_compounds):\n",
    "    form_e_trained.append(predict_formation_energy(compound))\n",
    "\n",
    "# Sintering temp\n",
    "calcine_random = []\n",
    "calcine_trained = []\n",
    "for compound in tqdm(random_oxides):\n",
    "    calcine_random.append(predict_calcine(compound))\n",
    "for compound in tqdm(final_compounds):\n",
    "    calcine_trained.append(predict_calcine(compound))\n",
    "\n",
    "# Charge neutrality and electronegativity\n",
    "cn_random_good, cn_random_bad = check_neutrality_multiple(random_oxides)\n",
    "en_random_good, en_random_bad = check_electronegativity_multiple(random_oxides)\n",
    "cn_trained_good, cn_trained_bad = check_neutrality_multiple(final_compounds)\n",
    "en_trained_good, en_trained_bad = check_electronegativity_multiple(final_compounds)\n",
    "\n",
    "# Uniqueness\n",
    "random_oxides_unique = list(set(random_oxides))\n",
    "final_compounds_unique = list(set(final_compounds))\n",
    "\n",
    "# EMD\n",
    "random_oxides_EMD_mean, random_oxides_EMD_std = similarity_to_nearest_neighbor(random_oxides)\n",
    "final_compounds_EMD_mean, final_compounds_EMD_std = similarity_to_nearest_neighbor(final_compounds)\n",
    "\n",
    "results = {}\n",
    "results['form_e_random_mean'] = np.mean(form_e_random)\n",
    "results['form_e_random_std'] = np.std(form_e_random)\n",
    "results['form_e_trained_mean'] = np.mean(form_e_trained)\n",
    "results['form_e_trained_std'] = np.std(form_e_trained)\n",
    "results['calcine_random_mean'] = np.mean(calcine_random)\n",
    "results['calcine_random_std'] = np.std(calcine_random)\n",
    "results['calcine_trained_mean'] = np.mean(calcine_trained)\n",
    "results['calcine_trained_std'] = np.std(calcine_trained)\n",
    "results['charge_neutral_random'] = len(cn_random_good)/(len(cn_random_good)+len(cn_random_bad))\n",
    "results['electronegativity_balanced_random'] = len(en_random_good)/(len(en_random_good)+len(en_random_bad))\n",
    "results['charge_neutral_trained'] = len(cn_trained_good)/(len(cn_trained_good)+len(cn_trained_bad))\n",
    "results['electronegativity_balanced_trained'] = len(en_trained_good)/(len(en_trained_good)+len(en_trained_bad))\n",
    "results['unique_random'] = len(random_oxides_unique)/len(random_oxides)\n",
    "results['unique_trained'] = len(final_compounds_unique)/len(final_compounds)\n",
    "results['random_oxides_EMD_mean'], results['random_oxides_EMD_std'] = random_oxides_EMD_mean, random_oxides_EMD_std\n",
    "results['final_compounds_EMD_mean'], results['final_compounds_EMD_std'] = final_compounds_EMD_mean, final_compounds_EMD_std\n",
    "results"
   ]
  },
  {
   "cell_type": "markdown",
   "metadata": {},
   "source": [
    "# Band gap task"
   ]
  },
  {
   "cell_type": "code",
   "execution_count": 39,
   "metadata": {},
   "outputs": [
    {
     "name": "stderr",
     "output_type": "stream",
     "text": [
      "100%|██████████| 1000/1000 [01:51<00:00,  8.96it/s]\n",
      "100%|██████████| 1000/1000 [01:31<00:00, 10.90it/s]\n",
      "100%|██████████| 1000/1000 [01:17<00:00, 12.98it/s]\n",
      "100%|██████████| 1000/1000 [01:17<00:00, 12.92it/s]\n",
      "100%|██████████| 1000/1000 [00:03<00:00, 253.94it/s]\n",
      "100%|██████████| 1000/1000 [00:11<00:00, 89.20it/s]\n",
      "100%|██████████| 1000/1000 [00:02<00:00, 354.11it/s]\n",
      "100%|██████████| 1000/1000 [00:17<00:00, 56.78it/s]\n"
     ]
    },
    {
     "name": "stdout",
     "output_type": "stream",
     "text": [
      "Fitting mod_petti kernel matrix\n",
      "Constructing distances\n",
      "Parsing Formula\n"
     ]
    },
    {
     "name": "stderr",
     "output_type": "stream",
     "text": [
      "100%|██████████| 1000/1000 [00:00<00:00, 11273.47it/s]\n"
     ]
    },
    {
     "name": "stdout",
     "output_type": "stream",
     "text": [
      "Constructing joint compositional pairings\n"
     ]
    },
    {
     "name": "stderr",
     "output_type": "stream",
     "text": [
      "100%|██████████| 999/999 [00:00<00:00, 21129.20it/s]"
     ]
    },
    {
     "name": "stdout",
     "output_type": "stream",
     "text": [
      "Creating Process Pool\n",
      "Scattering compositions between processes and computing distances\n"
     ]
    },
    {
     "name": "stderr",
     "output_type": "stream",
     "text": [
      "\n"
     ]
    },
    {
     "data": {
      "application/vnd.jupyter.widget-view+json": {
       "model_id": "ac11425d86d04ae39cc9e446ce1e8c56",
       "version_major": 2,
       "version_minor": 0
      },
      "text/plain": [
       "  0%|          | 0/999 [00:00<?, ?it/s]"
      ]
     },
     "metadata": {},
     "output_type": "display_data"
    },
    {
     "name": "stdout",
     "output_type": "stream",
     "text": [
      "Distances computed closing processes\n",
      "Flattening sublists\n"
     ]
    },
    {
     "name": "stderr",
     "output_type": "stream",
     "text": [
      "100%|██████████| 1000/1000 [00:00<00:00, 9187.52it/s]\n"
     ]
    },
    {
     "name": "stdout",
     "output_type": "stream",
     "text": [
      "Average Element Mover's distance: 20.1286\n",
      "Std Element Mover's distance: 9.8238\n",
      "Fitting mod_petti kernel matrix\n",
      "Constructing distances\n",
      "Parsing Formula\n"
     ]
    },
    {
     "name": "stderr",
     "output_type": "stream",
     "text": [
      "100%|██████████| 1000/1000 [00:00<00:00, 10834.58it/s]\n"
     ]
    },
    {
     "name": "stdout",
     "output_type": "stream",
     "text": [
      "Constructing joint compositional pairings\n"
     ]
    },
    {
     "name": "stderr",
     "output_type": "stream",
     "text": [
      "100%|██████████| 999/999 [00:00<00:00, 20871.45it/s]"
     ]
    },
    {
     "name": "stdout",
     "output_type": "stream",
     "text": [
      "Creating Process Pool\n",
      "Scattering compositions between processes and computing distances\n"
     ]
    },
    {
     "name": "stderr",
     "output_type": "stream",
     "text": [
      "\n"
     ]
    },
    {
     "data": {
      "application/vnd.jupyter.widget-view+json": {
       "model_id": "65047c349b1b4d6db605a78f193070d2",
       "version_major": 2,
       "version_minor": 0
      },
      "text/plain": [
       "  0%|          | 0/999 [00:00<?, ?it/s]"
      ]
     },
     "metadata": {},
     "output_type": "display_data"
    },
    {
     "name": "stdout",
     "output_type": "stream",
     "text": [
      "Distances computed closing processes\n",
      "Flattening sublists\n"
     ]
    },
    {
     "name": "stderr",
     "output_type": "stream",
     "text": [
      "100%|██████████| 1000/1000 [00:00<00:00, 9320.34it/s]"
     ]
    },
    {
     "name": "stdout",
     "output_type": "stream",
     "text": [
      "Average Element Mover's distance: 11.73\n",
      "Std Element Mover's distance: 7.7305\n"
     ]
    },
    {
     "name": "stderr",
     "output_type": "stream",
     "text": [
      "\n"
     ]
    },
    {
     "data": {
      "text/plain": [
       "{'form_e_random_mean': -1.3723867814987898,\n",
       " 'form_e_random_std': 0.7347616437117362,\n",
       " 'form_e_trained_mean': -1.6147500057592987,\n",
       " 'form_e_trained_std': 0.6640078744627125,\n",
       " 'bg_random_mean': 0.6187011400461196,\n",
       " 'bg_random_std': 0.6993159454127659,\n",
       " 'bg_trained_mean': 1.9165304863452912,\n",
       " 'bg_trained_std': 1.288474153431099,\n",
       " 'charge_neutral_random': 0.599,\n",
       " 'electronegativity_balanced_random': 0.428,\n",
       " 'charge_neutral_trained': 0.827,\n",
       " 'electronegativity_balanced_trained': 0.63,\n",
       " 'unique_random': 1.0,\n",
       " 'unique_trained': 1.0,\n",
       " 'random_oxides_EMD_mean': 20.128644743593593,\n",
       " 'random_oxides_EMD_std': 9.82379022238823,\n",
       " 'final_compounds_EMD_mean': 11.730031257881878,\n",
       " 'final_compounds_EMD_std': 7.73054016654377}"
      ]
     },
     "execution_count": 39,
     "metadata": {},
     "output_type": "execute_result"
    }
   ],
   "source": [
    "# # Load random oxides\n",
    "with open('./training_data/random_oxides.pkl', 'rb') as f: \n",
    "    random_oxides = pickle.load(f)\n",
    "\n",
    "# Load compounds\n",
    "with open('./training_data/oxides_band_gap/final_compounds_roost_constrained.pkl', 'rb') as handle:\n",
    "    final_compounds = pickle.load(handle)\n",
    "\n",
    "# Formation Energy\n",
    "form_e_random = []\n",
    "form_e_trained = []\n",
    "for compound in tqdm(random_oxides):\n",
    "    form_e_random.append(predict_formation_energy(compound))\n",
    "for compound in tqdm(final_compounds):\n",
    "    form_e_trained.append(predict_formation_energy(compound))\n",
    "\n",
    "# Band gap\n",
    "bg_random = []\n",
    "bg_trained = []\n",
    "for compound in tqdm(random_oxides):\n",
    "    bg_random.append(predict_band_gap(compound))\n",
    "for compound in tqdm(final_compounds):\n",
    "    bg_trained.append(predict_band_gap(compound))\n",
    "\n",
    "# Charge neutrality and electronegativity\n",
    "cn_random_good, cn_random_bad = check_neutrality_multiple(random_oxides)\n",
    "en_random_good, en_random_bad = check_electronegativity_multiple(random_oxides)\n",
    "cn_trained_good, cn_trained_bad = check_neutrality_multiple(final_compounds)\n",
    "en_trained_good, en_trained_bad = check_electronegativity_multiple(final_compounds)\n",
    "\n",
    "# Uniqueness\n",
    "random_oxides_unique = list(set(random_oxides))\n",
    "final_compounds_unique = list(set(final_compounds))\n",
    "\n",
    "# EMD\n",
    "random_oxides_EMD_mean, random_oxides_EMD_std = similarity_to_nearest_neighbor(random_oxides)\n",
    "final_compounds_EMD_mean, final_compounds_EMD_std = similarity_to_nearest_neighbor(final_compounds)\n",
    "\n",
    "results = {}\n",
    "results['form_e_random_mean'] = np.mean(form_e_random)\n",
    "results['form_e_random_std'] = np.std(form_e_random)\n",
    "results['form_e_trained_mean'] = np.mean(form_e_trained)\n",
    "results['form_e_trained_std'] = np.std(form_e_trained)\n",
    "results['bg_random_mean'] = np.mean(bg_random)\n",
    "results['bg_random_std'] = np.std(bg_random)\n",
    "results['bg_trained_mean'] = np.mean(bg_trained)\n",
    "results['bg_trained_std'] = np.std(bg_trained)\n",
    "results['charge_neutral_random'] = len(cn_random_good)/(len(cn_random_good)+len(cn_random_bad))\n",
    "results['electronegativity_balanced_random'] = len(en_random_good)/(len(en_random_good)+len(en_random_bad))\n",
    "results['charge_neutral_trained'] = len(cn_trained_good)/(len(cn_trained_good)+len(cn_trained_bad))\n",
    "results['electronegativity_balanced_trained'] = len(en_trained_good)/(len(en_trained_good)+len(en_trained_bad))\n",
    "results['unique_random'] = len(random_oxides_unique)/len(random_oxides)\n",
    "results['unique_trained'] = len(final_compounds_unique)/len(final_compounds)\n",
    "results['random_oxides_EMD_mean'], results['random_oxides_EMD_std'] = random_oxides_EMD_mean, random_oxides_EMD_std\n",
    "results['final_compounds_EMD_mean'], results['final_compounds_EMD_std'] = final_compounds_EMD_mean, final_compounds_EMD_std\n",
    "results"
   ]
  },
  {
   "cell_type": "code",
   "execution_count": 40,
   "metadata": {},
   "outputs": [
    {
     "name": "stderr",
     "output_type": "stream",
     "text": [
      "100%|██████████| 1000/1000 [01:23<00:00, 12.03it/s]\n",
      "100%|██████████| 1000/1000 [01:20<00:00, 12.39it/s]\n",
      "100%|██████████| 1000/1000 [01:19<00:00, 12.51it/s]\n",
      "100%|██████████| 1000/1000 [01:20<00:00, 12.45it/s]\n",
      "100%|██████████| 1000/1000 [00:03<00:00, 251.68it/s]\n",
      "100%|██████████| 1000/1000 [00:11<00:00, 88.26it/s]\n",
      "100%|██████████| 1000/1000 [00:08<00:00, 113.83it/s]\n",
      "100%|██████████| 1000/1000 [00:20<00:00, 48.92it/s]\n"
     ]
    },
    {
     "name": "stdout",
     "output_type": "stream",
     "text": [
      "Fitting mod_petti kernel matrix\n",
      "Constructing distances\n",
      "Parsing Formula\n"
     ]
    },
    {
     "name": "stderr",
     "output_type": "stream",
     "text": [
      "100%|██████████| 1000/1000 [00:00<00:00, 10398.46it/s]\n"
     ]
    },
    {
     "name": "stdout",
     "output_type": "stream",
     "text": [
      "Constructing joint compositional pairings\n"
     ]
    },
    {
     "name": "stderr",
     "output_type": "stream",
     "text": [
      "100%|██████████| 999/999 [00:00<00:00, 19552.63it/s]"
     ]
    },
    {
     "name": "stdout",
     "output_type": "stream",
     "text": [
      "Creating Process Pool\n",
      "Scattering compositions between processes and computing distances\n"
     ]
    },
    {
     "name": "stderr",
     "output_type": "stream",
     "text": [
      "\n"
     ]
    },
    {
     "data": {
      "application/vnd.jupyter.widget-view+json": {
       "model_id": "eef083cb6c3a455aab834c033e90173b",
       "version_major": 2,
       "version_minor": 0
      },
      "text/plain": [
       "  0%|          | 0/999 [00:00<?, ?it/s]"
      ]
     },
     "metadata": {},
     "output_type": "display_data"
    },
    {
     "name": "stdout",
     "output_type": "stream",
     "text": [
      "Distances computed closing processes\n",
      "Flattening sublists\n"
     ]
    },
    {
     "name": "stderr",
     "output_type": "stream",
     "text": [
      "100%|██████████| 1000/1000 [00:00<00:00, 9222.49it/s]\n"
     ]
    },
    {
     "name": "stdout",
     "output_type": "stream",
     "text": [
      "Average Element Mover's distance: 20.1286\n",
      "Std Element Mover's distance: 9.8238\n",
      "Fitting mod_petti kernel matrix\n",
      "Constructing distances\n",
      "Parsing Formula\n"
     ]
    },
    {
     "name": "stderr",
     "output_type": "stream",
     "text": [
      "100%|██████████| 1000/1000 [00:00<00:00, 10673.67it/s]\n"
     ]
    },
    {
     "name": "stdout",
     "output_type": "stream",
     "text": [
      "Constructing joint compositional pairings\n"
     ]
    },
    {
     "name": "stderr",
     "output_type": "stream",
     "text": [
      "100%|██████████| 999/999 [00:00<00:00, 20464.02it/s]"
     ]
    },
    {
     "name": "stdout",
     "output_type": "stream",
     "text": [
      "Creating Process Pool\n",
      "Scattering compositions between processes and computing distances\n"
     ]
    },
    {
     "name": "stderr",
     "output_type": "stream",
     "text": [
      "\n"
     ]
    },
    {
     "data": {
      "application/vnd.jupyter.widget-view+json": {
       "model_id": "0277f214599d4f878d646d9baa22966d",
       "version_major": 2,
       "version_minor": 0
      },
      "text/plain": [
       "  0%|          | 0/999 [00:00<?, ?it/s]"
      ]
     },
     "metadata": {},
     "output_type": "display_data"
    },
    {
     "name": "stdout",
     "output_type": "stream",
     "text": [
      "Distances computed closing processes\n",
      "Flattening sublists\n"
     ]
    },
    {
     "name": "stderr",
     "output_type": "stream",
     "text": [
      "100%|██████████| 1000/1000 [00:00<00:00, 9167.90it/s]"
     ]
    },
    {
     "name": "stdout",
     "output_type": "stream",
     "text": [
      "Average Element Mover's distance: 15.3956\n",
      "Std Element Mover's distance: 8.8685\n"
     ]
    },
    {
     "name": "stderr",
     "output_type": "stream",
     "text": [
      "\n"
     ]
    },
    {
     "data": {
      "text/plain": [
       "{'form_e_random_mean': -1.3723867765516042,\n",
       " 'form_e_random_std': 0.7347616392281606,\n",
       " 'form_e_trained_mean': -1.1619271297948435,\n",
       " 'form_e_trained_std': 0.6820928132345507,\n",
       " 'bg_random_mean': 0.6187011400461196,\n",
       " 'bg_random_std': 0.6993159454127659,\n",
       " 'bg_trained_mean': 1.482103287935257,\n",
       " 'bg_trained_std': 1.1351206877160547,\n",
       " 'charge_neutral_random': 0.599,\n",
       " 'electronegativity_balanced_random': 0.428,\n",
       " 'charge_neutral_trained': 0.68,\n",
       " 'electronegativity_balanced_trained': 0.548,\n",
       " 'unique_random': 1.0,\n",
       " 'unique_trained': 1.0,\n",
       " 'random_oxides_EMD_mean': 20.128644743593593,\n",
       " 'random_oxides_EMD_std': 9.82379022238823,\n",
       " 'final_compounds_EMD_mean': 15.395619196594593,\n",
       " 'final_compounds_EMD_std': 8.868464704113837}"
      ]
     },
     "execution_count": 40,
     "metadata": {},
     "output_type": "execute_result"
    }
   ],
   "source": [
    "# # Load random oxides\n",
    "with open('./training_data/random_oxides.pkl', 'rb') as f: \n",
    "    random_oxides = pickle.load(f)\n",
    "\n",
    "# Load compounds\n",
    "with open('./training_data/oxides_band_gap-2/final_compounds_roost_constrained.pkl', 'rb') as handle:\n",
    "    final_compounds = pickle.load(handle)\n",
    "\n",
    "# Formation Energy\n",
    "form_e_random = []\n",
    "form_e_trained = []\n",
    "for compound in tqdm(random_oxides):\n",
    "    form_e_random.append(predict_formation_energy(compound))\n",
    "for compound in tqdm(final_compounds):\n",
    "    form_e_trained.append(predict_formation_energy(compound))\n",
    "\n",
    "# Band gap\n",
    "bg_random = []\n",
    "bg_trained = []\n",
    "for compound in tqdm(random_oxides):\n",
    "    bg_random.append(predict_band_gap(compound))\n",
    "for compound in tqdm(final_compounds):\n",
    "    bg_trained.append(predict_band_gap(compound))\n",
    "\n",
    "# Charge neutrality and electronegativity\n",
    "cn_random_good, cn_random_bad = check_neutrality_multiple(random_oxides)\n",
    "en_random_good, en_random_bad = check_electronegativity_multiple(random_oxides)\n",
    "cn_trained_good, cn_trained_bad = check_neutrality_multiple(final_compounds)\n",
    "en_trained_good, en_trained_bad = check_electronegativity_multiple(final_compounds)\n",
    "\n",
    "# Uniqueness\n",
    "random_oxides_unique = list(set(random_oxides))\n",
    "final_compounds_unique = list(set(final_compounds))\n",
    "\n",
    "# EMD\n",
    "random_oxides_EMD_mean, random_oxides_EMD_std = similarity_to_nearest_neighbor(random_oxides)\n",
    "final_compounds_EMD_mean, final_compounds_EMD_std = similarity_to_nearest_neighbor(final_compounds)\n",
    "\n",
    "results = {}\n",
    "results['form_e_random_mean'] = np.mean(form_e_random)\n",
    "results['form_e_random_std'] = np.std(form_e_random)\n",
    "results['form_e_trained_mean'] = np.mean(form_e_trained)\n",
    "results['form_e_trained_std'] = np.std(form_e_trained)\n",
    "results['bg_random_mean'] = np.mean(bg_random)\n",
    "results['bg_random_std'] = np.std(bg_random)\n",
    "results['bg_trained_mean'] = np.mean(bg_trained)\n",
    "results['bg_trained_std'] = np.std(bg_trained)\n",
    "results['charge_neutral_random'] = len(cn_random_good)/(len(cn_random_good)+len(cn_random_bad))\n",
    "results['electronegativity_balanced_random'] = len(en_random_good)/(len(en_random_good)+len(en_random_bad))\n",
    "results['charge_neutral_trained'] = len(cn_trained_good)/(len(cn_trained_good)+len(cn_trained_bad))\n",
    "results['electronegativity_balanced_trained'] = len(en_trained_good)/(len(en_trained_good)+len(en_trained_bad))\n",
    "results['unique_random'] = len(random_oxides_unique)/len(random_oxides)\n",
    "results['unique_trained'] = len(final_compounds_unique)/len(final_compounds)\n",
    "results['random_oxides_EMD_mean'], results['random_oxides_EMD_std'] = random_oxides_EMD_mean, random_oxides_EMD_std\n",
    "results['final_compounds_EMD_mean'], results['final_compounds_EMD_std'] = final_compounds_EMD_mean, final_compounds_EMD_std\n",
    "results"
   ]
  },
  {
   "cell_type": "code",
   "execution_count": 41,
   "metadata": {},
   "outputs": [
    {
     "name": "stderr",
     "output_type": "stream",
     "text": [
      "100%|██████████| 1000/1000 [01:19<00:00, 12.65it/s]\n",
      "100%|██████████| 1000/1000 [01:18<00:00, 12.73it/s]\n",
      "100%|██████████| 1000/1000 [01:18<00:00, 12.81it/s]\n",
      "100%|██████████| 1000/1000 [01:18<00:00, 12.75it/s]\n",
      "100%|██████████| 1000/1000 [00:03<00:00, 252.20it/s]\n",
      "100%|██████████| 1000/1000 [00:11<00:00, 88.40it/s]\n",
      "100%|██████████| 1000/1000 [00:02<00:00, 410.68it/s]\n",
      "100%|██████████| 1000/1000 [00:13<00:00, 75.43it/s]\n"
     ]
    },
    {
     "name": "stdout",
     "output_type": "stream",
     "text": [
      "Fitting mod_petti kernel matrix\n",
      "Constructing distances\n",
      "Parsing Formula\n"
     ]
    },
    {
     "name": "stderr",
     "output_type": "stream",
     "text": [
      "100%|██████████| 1000/1000 [00:00<00:00, 10442.76it/s]\n"
     ]
    },
    {
     "name": "stdout",
     "output_type": "stream",
     "text": [
      "Constructing joint compositional pairings\n"
     ]
    },
    {
     "name": "stderr",
     "output_type": "stream",
     "text": [
      "100%|██████████| 999/999 [00:00<00:00, 19859.94it/s]"
     ]
    },
    {
     "name": "stdout",
     "output_type": "stream",
     "text": [
      "Creating Process Pool\n",
      "Scattering compositions between processes and computing distances\n"
     ]
    },
    {
     "name": "stderr",
     "output_type": "stream",
     "text": [
      "\n"
     ]
    },
    {
     "data": {
      "application/vnd.jupyter.widget-view+json": {
       "model_id": "85006fa8066a4778ace4f991a6fa4c1b",
       "version_major": 2,
       "version_minor": 0
      },
      "text/plain": [
       "  0%|          | 0/999 [00:00<?, ?it/s]"
      ]
     },
     "metadata": {},
     "output_type": "display_data"
    },
    {
     "name": "stdout",
     "output_type": "stream",
     "text": [
      "Distances computed closing processes\n",
      "Flattening sublists\n"
     ]
    },
    {
     "name": "stderr",
     "output_type": "stream",
     "text": [
      "100%|██████████| 1000/1000 [00:00<00:00, 9309.42it/s]\n"
     ]
    },
    {
     "name": "stdout",
     "output_type": "stream",
     "text": [
      "Average Element Mover's distance: 20.1286\n",
      "Std Element Mover's distance: 9.8238\n",
      "Fitting mod_petti kernel matrix\n",
      "Constructing distances\n",
      "Parsing Formula\n"
     ]
    },
    {
     "name": "stderr",
     "output_type": "stream",
     "text": [
      "100%|██████████| 1000/1000 [00:00<00:00, 10912.98it/s]\n"
     ]
    },
    {
     "name": "stdout",
     "output_type": "stream",
     "text": [
      "Constructing joint compositional pairings\n"
     ]
    },
    {
     "name": "stderr",
     "output_type": "stream",
     "text": [
      "100%|██████████| 999/999 [00:00<00:00, 20491.64it/s]"
     ]
    },
    {
     "name": "stdout",
     "output_type": "stream",
     "text": [
      "Creating Process Pool\n",
      "Scattering compositions between processes and computing distances\n"
     ]
    },
    {
     "name": "stderr",
     "output_type": "stream",
     "text": [
      "\n"
     ]
    },
    {
     "data": {
      "application/vnd.jupyter.widget-view+json": {
       "model_id": "83bb83a40baf4352beee842044e08473",
       "version_major": 2,
       "version_minor": 0
      },
      "text/plain": [
       "  0%|          | 0/999 [00:00<?, ?it/s]"
      ]
     },
     "metadata": {},
     "output_type": "display_data"
    },
    {
     "name": "stdout",
     "output_type": "stream",
     "text": [
      "Distances computed closing processes\n",
      "Flattening sublists\n"
     ]
    },
    {
     "name": "stderr",
     "output_type": "stream",
     "text": [
      "100%|██████████| 1000/1000 [00:00<00:00, 9327.31it/s]"
     ]
    },
    {
     "name": "stdout",
     "output_type": "stream",
     "text": [
      "Average Element Mover's distance: 13.0613\n",
      "Std Element Mover's distance: 8.1\n"
     ]
    },
    {
     "name": "stderr",
     "output_type": "stream",
     "text": [
      "\n"
     ]
    },
    {
     "data": {
      "text/plain": [
       "{'form_e_random_mean': -1.3723867765516042,\n",
       " 'form_e_random_std': 0.7347616392281606,\n",
       " 'form_e_trained_mean': -1.3785503934547305,\n",
       " 'form_e_trained_std': 0.7495769234469285,\n",
       " 'bg_random_mean': 0.6187011400461196,\n",
       " 'bg_random_std': 0.6993159454127659,\n",
       " 'bg_trained_mean': 1.6789206073284149,\n",
       " 'bg_trained_std': 1.1986164839547,\n",
       " 'charge_neutral_random': 0.599,\n",
       " 'electronegativity_balanced_random': 0.428,\n",
       " 'charge_neutral_trained': 0.826,\n",
       " 'electronegativity_balanced_trained': 0.633,\n",
       " 'unique_random': 1.0,\n",
       " 'unique_trained': 1.0,\n",
       " 'random_oxides_EMD_mean': 20.128644743593593,\n",
       " 'random_oxides_EMD_std': 9.82379022238823,\n",
       " 'final_compounds_EMD_mean': 13.061346383415415,\n",
       " 'final_compounds_EMD_std': 8.10001981290268}"
      ]
     },
     "execution_count": 41,
     "metadata": {},
     "output_type": "execute_result"
    }
   ],
   "source": [
    "# # Load random oxides\n",
    "with open('./training_data/random_oxides.pkl', 'rb') as f: \n",
    "    random_oxides = pickle.load(f)\n",
    "\n",
    "# Load compounds\n",
    "with open('./training_data/oxides_band_gap-3/final_compounds_roost_constrained.pkl', 'rb') as handle:\n",
    "    final_compounds = pickle.load(handle)\n",
    "\n",
    "# Formation Energy\n",
    "form_e_random = []\n",
    "form_e_trained = []\n",
    "for compound in tqdm(random_oxides):\n",
    "    form_e_random.append(predict_formation_energy(compound))\n",
    "for compound in tqdm(final_compounds):\n",
    "    form_e_trained.append(predict_formation_energy(compound))\n",
    "\n",
    "# Band gap\n",
    "bg_random = []\n",
    "bg_trained = []\n",
    "for compound in tqdm(random_oxides):\n",
    "    bg_random.append(predict_band_gap(compound))\n",
    "for compound in tqdm(final_compounds):\n",
    "    bg_trained.append(predict_band_gap(compound))\n",
    "\n",
    "# Charge neutrality and electronegativity\n",
    "cn_random_good, cn_random_bad = check_neutrality_multiple(random_oxides)\n",
    "en_random_good, en_random_bad = check_electronegativity_multiple(random_oxides)\n",
    "cn_trained_good, cn_trained_bad = check_neutrality_multiple(final_compounds)\n",
    "en_trained_good, en_trained_bad = check_electronegativity_multiple(final_compounds)\n",
    "\n",
    "# Uniqueness\n",
    "random_oxides_unique = list(set(random_oxides))\n",
    "final_compounds_unique = list(set(final_compounds))\n",
    "\n",
    "# EMD\n",
    "random_oxides_EMD_mean, random_oxides_EMD_std = similarity_to_nearest_neighbor(random_oxides)\n",
    "final_compounds_EMD_mean, final_compounds_EMD_std = similarity_to_nearest_neighbor(final_compounds)\n",
    "\n",
    "results = {}\n",
    "results['form_e_random_mean'] = np.mean(form_e_random)\n",
    "results['form_e_random_std'] = np.std(form_e_random)\n",
    "results['form_e_trained_mean'] = np.mean(form_e_trained)\n",
    "results['form_e_trained_std'] = np.std(form_e_trained)\n",
    "results['bg_random_mean'] = np.mean(bg_random)\n",
    "results['bg_random_std'] = np.std(bg_random)\n",
    "results['bg_trained_mean'] = np.mean(bg_trained)\n",
    "results['bg_trained_std'] = np.std(bg_trained)\n",
    "results['charge_neutral_random'] = len(cn_random_good)/(len(cn_random_good)+len(cn_random_bad))\n",
    "results['electronegativity_balanced_random'] = len(en_random_good)/(len(en_random_good)+len(en_random_bad))\n",
    "results['charge_neutral_trained'] = len(cn_trained_good)/(len(cn_trained_good)+len(cn_trained_bad))\n",
    "results['electronegativity_balanced_trained'] = len(en_trained_good)/(len(en_trained_good)+len(en_trained_bad))\n",
    "results['unique_random'] = len(random_oxides_unique)/len(random_oxides)\n",
    "results['unique_trained'] = len(final_compounds_unique)/len(final_compounds)\n",
    "results['random_oxides_EMD_mean'], results['random_oxides_EMD_std'] = random_oxides_EMD_mean, random_oxides_EMD_std\n",
    "results['final_compounds_EMD_mean'], results['final_compounds_EMD_std'] = final_compounds_EMD_mean, final_compounds_EMD_std\n",
    "results"
   ]
  },
  {
   "cell_type": "markdown",
   "metadata": {},
   "source": [
    "# Formation energy + Bulk modulus (1:1)"
   ]
  },
  {
   "cell_type": "code",
   "execution_count": 6,
   "metadata": {},
   "outputs": [
    {
     "name": "stderr",
     "output_type": "stream",
     "text": [
      "100%|██████████| 1000/1000 [00:00<00:00, 10310.94it/s]\n"
     ]
    },
    {
     "name": "stdout",
     "output_type": "stream",
     "text": [
      "Fitting mod_petti kernel matrix\n",
      "Constructing distances\n",
      "Parsing Formula\n"
     ]
    },
    {
     "name": "stderr",
     "output_type": "stream",
     "text": [
      "100%|██████████| 1000/1000 [00:00<00:00, 11057.31it/s]\n"
     ]
    },
    {
     "name": "stdout",
     "output_type": "stream",
     "text": [
      "Constructing joint compositional pairings\n"
     ]
    },
    {
     "name": "stderr",
     "output_type": "stream",
     "text": [
      "100%|██████████| 999/999 [00:00<00:00, 21282.66it/s]"
     ]
    },
    {
     "name": "stdout",
     "output_type": "stream",
     "text": [
      "Creating Process Pool\n",
      "Scattering compositions between processes and computing distances\n"
     ]
    },
    {
     "name": "stderr",
     "output_type": "stream",
     "text": [
      "\n"
     ]
    },
    {
     "data": {
      "application/vnd.jupyter.widget-view+json": {
       "model_id": "881fa8139ac94dde9cecfb25e389c5fe",
       "version_major": 2,
       "version_minor": 0
      },
      "text/plain": [
       "  0%|          | 0/999 [00:00<?, ?it/s]"
      ]
     },
     "metadata": {},
     "output_type": "display_data"
    },
    {
     "name": "stdout",
     "output_type": "stream",
     "text": [
      "Distances computed closing processes\n",
      "Flattening sublists\n"
     ]
    },
    {
     "name": "stderr",
     "output_type": "stream",
     "text": [
      "100%|██████████| 1000/1000 [00:00<00:00, 9327.87it/s]\n"
     ]
    },
    {
     "name": "stdout",
     "output_type": "stream",
     "text": [
      "Average Element Mover's distance: 20.1286\n",
      "Std Element Mover's distance: 9.8238\n"
     ]
    },
    {
     "name": "stderr",
     "output_type": "stream",
     "text": [
      "100%|██████████| 1000/1000 [00:00<00:00, 10622.15it/s]\n"
     ]
    },
    {
     "name": "stdout",
     "output_type": "stream",
     "text": [
      "Fitting mod_petti kernel matrix\n",
      "Constructing distances\n",
      "Parsing Formula\n"
     ]
    },
    {
     "name": "stderr",
     "output_type": "stream",
     "text": [
      "100%|██████████| 1000/1000 [00:00<00:00, 10622.61it/s]\n"
     ]
    },
    {
     "name": "stdout",
     "output_type": "stream",
     "text": [
      "Constructing joint compositional pairings\n"
     ]
    },
    {
     "name": "stderr",
     "output_type": "stream",
     "text": [
      "100%|██████████| 999/999 [00:00<00:00, 20614.53it/s]"
     ]
    },
    {
     "name": "stdout",
     "output_type": "stream",
     "text": [
      "Creating Process Pool\n",
      "Scattering compositions between processes and computing distances\n"
     ]
    },
    {
     "name": "stderr",
     "output_type": "stream",
     "text": [
      "\n"
     ]
    },
    {
     "data": {
      "application/vnd.jupyter.widget-view+json": {
       "model_id": "5670d87208a148859a2e1aea38a0a6d0",
       "version_major": 2,
       "version_minor": 0
      },
      "text/plain": [
       "  0%|          | 0/999 [00:00<?, ?it/s]"
      ]
     },
     "metadata": {},
     "output_type": "display_data"
    },
    {
     "name": "stdout",
     "output_type": "stream",
     "text": [
      "Distances computed closing processes\n",
      "Flattening sublists\n"
     ]
    },
    {
     "name": "stderr",
     "output_type": "stream",
     "text": [
      "100%|██████████| 1000/1000 [00:00<00:00, 9068.39it/s]"
     ]
    },
    {
     "name": "stdout",
     "output_type": "stream",
     "text": [
      "Average Element Mover's distance: 15.4826\n",
      "Std Element Mover's distance: 6.8594\n"
     ]
    },
    {
     "name": "stderr",
     "output_type": "stream",
     "text": [
      "\n"
     ]
    },
    {
     "data": {
      "text/plain": [
       "{'form_e_random_mean': -1.3723867772072553,\n",
       " 'form_e_random_std': 0.7347616385105727,\n",
       " 'form_e_trained_mean': -2.0647728165872397,\n",
       " 'form_e_trained_std': 0.8399860098276903,\n",
       " 'bulk_mod_random_mean': 4.29139886379242,\n",
       " 'bulk_mod_random_std': 0.6012997229802703,\n",
       " 'bulk_mod_trained_mean': 4.605049775362015,\n",
       " 'bulk_mod_trained_std': 0.4755187870794003,\n",
       " 'charge_neutral_random': 0.599,\n",
       " 'electronegativity_balanced_random': 0.428,\n",
       " 'charge_neutral_trained': 0.653,\n",
       " 'electronegativity_balanced_trained': 0.602,\n",
       " 'unique_random': 1.0,\n",
       " 'unique_trained': 1.0,\n",
       " 'random_oxides_EMD_mean': 20.128644743593593,\n",
       " 'random_oxides_EMD_std': 9.82379022238823,\n",
       " 'final_compounds_EMD_mean': 15.482586450380376,\n",
       " 'final_compounds_EMD_std': 6.859355433358803}"
      ]
     },
     "execution_count": 6,
     "metadata": {},
     "output_type": "execute_result"
    }
   ],
   "source": [
    "# Load random oxides\n",
    "with open('./training_data/random_oxides.pkl', 'rb') as f: \n",
    "    random_oxides = pickle.load(f)\n",
    "\n",
    "# Load compounds\n",
    "with open('./training_data/oxides_form_e_bulk_mod/final_compounds_roost_constrained.pkl', 'rb') as handle:\n",
    "    final_compounds = pickle.load(handle)\n",
    "\n",
    "# Formation Energy\n",
    "form_e_random = []\n",
    "form_e_trained = []\n",
    "for compound in random_oxides:\n",
    "    form_e_random.append(predict_formation_energy(compound))\n",
    "for compound in final_compounds:\n",
    "    form_e_trained.append(predict_formation_energy(compound))\n",
    "\n",
    "# Bulk modulus\n",
    "bulk_mod_random = []\n",
    "bulk_mod_trained = []\n",
    "for compound in random_oxides:\n",
    "    bulk_mod_random.append(predict_bulk_mod(compound))\n",
    "for compound in final_compounds:\n",
    "    bulk_mod_trained.append(predict_bulk_mod(compound))\n",
    "\n",
    "# Charge neutrality and electronegativity\n",
    "cn_random_good, cn_random_bad = check_neutrality_multiple(random_oxides)\n",
    "en_random_good, en_random_bad = check_electronegativity_multiple(random_oxides)\n",
    "cn_trained_good, cn_trained_bad = check_neutrality_multiple(final_compounds)\n",
    "en_trained_good, en_trained_bad = check_electronegativity_multiple(final_compounds)\n",
    "\n",
    "# Uniqueness\n",
    "random_oxides_unique = list(set(random_oxides))\n",
    "final_compounds_unique = list(set(final_compounds))\n",
    "\n",
    "# EMD\n",
    "random_oxides_EMD_mean, random_oxides_EMD_std = similarity_to_nearest_neighbor(random_oxides)\n",
    "final_compounds_EMD_mean, final_compounds_EMD_std = similarity_to_nearest_neighbor(final_compounds)\n",
    "\n",
    "results = {}\n",
    "results['form_e_random_mean'] = np.mean(form_e_random)\n",
    "results['form_e_random_std'] = np.std(form_e_random)\n",
    "results['form_e_trained_mean'] = np.mean(form_e_trained)\n",
    "results['form_e_trained_std'] = np.std(form_e_trained)\n",
    "results['bulk_mod_random_mean'] = np.mean(bulk_mod_random)\n",
    "results['bulk_mod_random_std'] = np.std(bulk_mod_random)\n",
    "results['bulk_mod_trained_mean'] = np.mean(bulk_mod_trained)\n",
    "results['bulk_mod_trained_std'] = np.std(bulk_mod_trained)\n",
    "results['charge_neutral_random'] = len(cn_random_good)/(len(cn_random_good)+len(cn_random_bad))\n",
    "results['electronegativity_balanced_random'] = len(en_random_good)/(len(en_random_good)+len(en_random_bad))\n",
    "results['charge_neutral_trained'] = len(cn_trained_good)/(len(cn_trained_good)+len(cn_trained_bad))\n",
    "results['electronegativity_balanced_trained'] = len(en_trained_good)/(len(en_trained_good)+len(en_trained_bad))\n",
    "results['unique_random'] = len(random_oxides_unique)/len(random_oxides)\n",
    "results['unique_trained'] = len(final_compounds_unique)/len(final_compounds)\n",
    "results['random_oxides_EMD_mean'], results['random_oxides_EMD_std'] = random_oxides_EMD_mean, random_oxides_EMD_std\n",
    "results['final_compounds_EMD_mean'], results['final_compounds_EMD_std'] = final_compounds_EMD_mean, final_compounds_EMD_std\n",
    "results"
   ]
  },
  {
   "cell_type": "markdown",
   "metadata": {},
   "source": [
    "# Formation energy + Bulk modulus (1:2)"
   ]
  },
  {
   "cell_type": "code",
   "execution_count": 7,
   "metadata": {},
   "outputs": [
    {
     "name": "stderr",
     "output_type": "stream",
     "text": [
      "100%|██████████| 1000/1000 [00:00<00:00, 10283.99it/s]\n"
     ]
    },
    {
     "name": "stdout",
     "output_type": "stream",
     "text": [
      "Fitting mod_petti kernel matrix\n",
      "Constructing distances\n",
      "Parsing Formula\n"
     ]
    },
    {
     "name": "stderr",
     "output_type": "stream",
     "text": [
      "100%|██████████| 1000/1000 [00:00<00:00, 10400.19it/s]\n"
     ]
    },
    {
     "name": "stdout",
     "output_type": "stream",
     "text": [
      "Constructing joint compositional pairings\n"
     ]
    },
    {
     "name": "stderr",
     "output_type": "stream",
     "text": [
      "100%|██████████| 999/999 [00:00<00:00, 20618.08it/s]"
     ]
    },
    {
     "name": "stdout",
     "output_type": "stream",
     "text": [
      "Creating Process Pool\n",
      "Scattering compositions between processes and computing distances\n"
     ]
    },
    {
     "name": "stderr",
     "output_type": "stream",
     "text": [
      "\n"
     ]
    },
    {
     "data": {
      "application/vnd.jupyter.widget-view+json": {
       "model_id": "e51d4d7937ac41a4b41fdd86b256e4bb",
       "version_major": 2,
       "version_minor": 0
      },
      "text/plain": [
       "  0%|          | 0/999 [00:00<?, ?it/s]"
      ]
     },
     "metadata": {},
     "output_type": "display_data"
    },
    {
     "name": "stdout",
     "output_type": "stream",
     "text": [
      "Distances computed closing processes\n",
      "Flattening sublists\n"
     ]
    },
    {
     "name": "stderr",
     "output_type": "stream",
     "text": [
      "100%|██████████| 1000/1000 [00:00<00:00, 9257.42it/s]\n"
     ]
    },
    {
     "name": "stdout",
     "output_type": "stream",
     "text": [
      "Average Element Mover's distance: 20.1286\n",
      "Std Element Mover's distance: 9.8238\n"
     ]
    },
    {
     "name": "stderr",
     "output_type": "stream",
     "text": [
      "100%|██████████| 1000/1000 [00:00<00:00, 10454.03it/s]\n"
     ]
    },
    {
     "name": "stdout",
     "output_type": "stream",
     "text": [
      "Fitting mod_petti kernel matrix\n",
      "Constructing distances\n",
      "Parsing Formula\n"
     ]
    },
    {
     "name": "stderr",
     "output_type": "stream",
     "text": [
      "100%|██████████| 1000/1000 [00:00<00:00, 10852.27it/s]\n"
     ]
    },
    {
     "name": "stdout",
     "output_type": "stream",
     "text": [
      "Constructing joint compositional pairings\n"
     ]
    },
    {
     "name": "stderr",
     "output_type": "stream",
     "text": [
      "100%|██████████| 999/999 [00:00<00:00, 20614.63it/s]"
     ]
    },
    {
     "name": "stdout",
     "output_type": "stream",
     "text": [
      "Creating Process Pool\n",
      "Scattering compositions between processes and computing distances\n"
     ]
    },
    {
     "name": "stderr",
     "output_type": "stream",
     "text": [
      "\n"
     ]
    },
    {
     "data": {
      "application/vnd.jupyter.widget-view+json": {
       "model_id": "523eb06387a8439cbd2b75030f094c9b",
       "version_major": 2,
       "version_minor": 0
      },
      "text/plain": [
       "  0%|          | 0/999 [00:00<?, ?it/s]"
      ]
     },
     "metadata": {},
     "output_type": "display_data"
    },
    {
     "name": "stdout",
     "output_type": "stream",
     "text": [
      "Distances computed closing processes\n",
      "Flattening sublists\n"
     ]
    },
    {
     "name": "stderr",
     "output_type": "stream",
     "text": [
      "100%|██████████| 1000/1000 [00:00<00:00, 9351.33it/s]"
     ]
    },
    {
     "name": "stdout",
     "output_type": "stream",
     "text": [
      "Average Element Mover's distance: 19.2648\n",
      "Std Element Mover's distance: 9.3601\n"
     ]
    },
    {
     "name": "stderr",
     "output_type": "stream",
     "text": [
      "\n"
     ]
    },
    {
     "data": {
      "text/plain": [
       "{'form_e_random_mean': -1.3723867765516042,\n",
       " 'form_e_random_std': 0.7347616392281606,\n",
       " 'form_e_trained_mean': -1.2955081553012133,\n",
       " 'form_e_trained_std': 0.7871812820430854,\n",
       " 'bulk_mod_random_mean': 4.29139886379242,\n",
       " 'bulk_mod_random_std': 0.6012997229802703,\n",
       " 'bulk_mod_trained_mean': 4.7102729897499085,\n",
       " 'bulk_mod_trained_std': 0.6149082531025668,\n",
       " 'charge_neutral_random': 0.599,\n",
       " 'electronegativity_balanced_random': 0.428,\n",
       " 'charge_neutral_trained': 0.785,\n",
       " 'electronegativity_balanced_trained': 0.667,\n",
       " 'unique_random': 1.0,\n",
       " 'unique_trained': 1.0,\n",
       " 'random_oxides_EMD_mean': 20.128644743593593,\n",
       " 'random_oxides_EMD_std': 9.82379022238823,\n",
       " 'final_compounds_EMD_mean': 19.264828293489487,\n",
       " 'final_compounds_EMD_std': 9.36010395686648}"
      ]
     },
     "execution_count": 7,
     "metadata": {},
     "output_type": "execute_result"
    }
   ],
   "source": [
    "# Load random oxides\n",
    "with open('./training_data/random_oxides.pkl', 'rb') as f: \n",
    "    random_oxides = pickle.load(f)\n",
    "\n",
    "# Load compounds\n",
    "with open('./training_data/oxides_form_e_bulk_mod_1-2/final_compounds_roost_constrained.pkl', 'rb') as handle:\n",
    "    final_compounds = pickle.load(handle)\n",
    "\n",
    "# Formation Energy\n",
    "form_e_random = []\n",
    "form_e_trained = []\n",
    "for compound in random_oxides:\n",
    "    form_e_random.append(predict_formation_energy(compound))\n",
    "for compound in final_compounds:\n",
    "    form_e_trained.append(predict_formation_energy(compound))\n",
    "\n",
    "# Bulk modulus\n",
    "bulk_mod_random = []\n",
    "bulk_mod_trained = []\n",
    "for compound in random_oxides:\n",
    "    bulk_mod_random.append(predict_bulk_mod(compound))\n",
    "for compound in final_compounds:\n",
    "    bulk_mod_trained.append(predict_bulk_mod(compound))\n",
    "\n",
    "# Charge neutrality and electronegativity\n",
    "cn_random_good, cn_random_bad = check_neutrality_multiple(random_oxides)\n",
    "en_random_good, en_random_bad = check_electronegativity_multiple(random_oxides)\n",
    "cn_trained_good, cn_trained_bad = check_neutrality_multiple(final_compounds)\n",
    "en_trained_good, en_trained_bad = check_electronegativity_multiple(final_compounds)\n",
    "\n",
    "# Uniqueness\n",
    "random_oxides_unique = list(set(random_oxides))\n",
    "final_compounds_unique = list(set(final_compounds))\n",
    "\n",
    "# EMD\n",
    "random_oxides_EMD_mean, random_oxides_EMD_std = similarity_to_nearest_neighbor(random_oxides)\n",
    "final_compounds_EMD_mean, final_compounds_EMD_std = similarity_to_nearest_neighbor(final_compounds)\n",
    "\n",
    "results = {}\n",
    "results['form_e_random_mean'] = np.mean(form_e_random)\n",
    "results['form_e_random_std'] = np.std(form_e_random)\n",
    "results['form_e_trained_mean'] = np.mean(form_e_trained)\n",
    "results['form_e_trained_std'] = np.std(form_e_trained)\n",
    "results['bulk_mod_random_mean'] = np.mean(bulk_mod_random)\n",
    "results['bulk_mod_random_std'] = np.std(bulk_mod_random)\n",
    "results['bulk_mod_trained_mean'] = np.mean(bulk_mod_trained)\n",
    "results['bulk_mod_trained_std'] = np.std(bulk_mod_trained)\n",
    "results['charge_neutral_random'] = len(cn_random_good)/(len(cn_random_good)+len(cn_random_bad))\n",
    "results['electronegativity_balanced_random'] = len(en_random_good)/(len(en_random_good)+len(en_random_bad))\n",
    "results['charge_neutral_trained'] = len(cn_trained_good)/(len(cn_trained_good)+len(cn_trained_bad))\n",
    "results['electronegativity_balanced_trained'] = len(en_trained_good)/(len(en_trained_good)+len(en_trained_bad))\n",
    "results['unique_random'] = len(random_oxides_unique)/len(random_oxides)\n",
    "results['unique_trained'] = len(final_compounds_unique)/len(final_compounds)\n",
    "results['random_oxides_EMD_mean'], results['random_oxides_EMD_std'] = random_oxides_EMD_mean, random_oxides_EMD_std\n",
    "results['final_compounds_EMD_mean'], results['final_compounds_EMD_std'] = final_compounds_EMD_mean, final_compounds_EMD_std\n",
    "results"
   ]
  },
  {
   "cell_type": "markdown",
   "metadata": {},
   "source": [
    "# Formation energy + Bulk modulus (1:3)"
   ]
  },
  {
   "cell_type": "code",
   "execution_count": 8,
   "metadata": {},
   "outputs": [
    {
     "name": "stderr",
     "output_type": "stream",
     "text": [
      "100%|██████████| 1000/1000 [00:00<00:00, 10063.86it/s]\n"
     ]
    },
    {
     "name": "stdout",
     "output_type": "stream",
     "text": [
      "Fitting mod_petti kernel matrix\n",
      "Constructing distances\n",
      "Parsing Formula\n"
     ]
    },
    {
     "name": "stderr",
     "output_type": "stream",
     "text": [
      "100%|██████████| 1000/1000 [00:00<00:00, 10340.48it/s]\n"
     ]
    },
    {
     "name": "stdout",
     "output_type": "stream",
     "text": [
      "Constructing joint compositional pairings\n"
     ]
    },
    {
     "name": "stderr",
     "output_type": "stream",
     "text": [
      "100%|██████████| 999/999 [00:00<00:00, 21073.19it/s]"
     ]
    },
    {
     "name": "stdout",
     "output_type": "stream",
     "text": [
      "Creating Process Pool\n",
      "Scattering compositions between processes and computing distances\n"
     ]
    },
    {
     "name": "stderr",
     "output_type": "stream",
     "text": [
      "\n"
     ]
    },
    {
     "data": {
      "application/vnd.jupyter.widget-view+json": {
       "model_id": "618bbc2373e647b6a6b8847b09604b51",
       "version_major": 2,
       "version_minor": 0
      },
      "text/plain": [
       "  0%|          | 0/999 [00:00<?, ?it/s]"
      ]
     },
     "metadata": {},
     "output_type": "display_data"
    },
    {
     "name": "stdout",
     "output_type": "stream",
     "text": [
      "Distances computed closing processes\n",
      "Flattening sublists\n"
     ]
    },
    {
     "name": "stderr",
     "output_type": "stream",
     "text": [
      "100%|██████████| 1000/1000 [00:00<00:00, 9142.54it/s]\n"
     ]
    },
    {
     "name": "stdout",
     "output_type": "stream",
     "text": [
      "Average Element Mover's distance: 20.1286\n",
      "Std Element Mover's distance: 9.8238\n"
     ]
    },
    {
     "name": "stderr",
     "output_type": "stream",
     "text": [
      "100%|██████████| 1000/1000 [00:00<00:00, 10211.06it/s]\n"
     ]
    },
    {
     "name": "stdout",
     "output_type": "stream",
     "text": [
      "Fitting mod_petti kernel matrix\n",
      "Constructing distances\n",
      "Parsing Formula\n"
     ]
    },
    {
     "name": "stderr",
     "output_type": "stream",
     "text": [
      "100%|██████████| 1000/1000 [00:00<00:00, 10830.80it/s]\n"
     ]
    },
    {
     "name": "stdout",
     "output_type": "stream",
     "text": [
      "Constructing joint compositional pairings\n"
     ]
    },
    {
     "name": "stderr",
     "output_type": "stream",
     "text": [
      "100%|██████████| 999/999 [00:00<00:00, 20863.24it/s]"
     ]
    },
    {
     "name": "stdout",
     "output_type": "stream",
     "text": [
      "Creating Process Pool\n",
      "Scattering compositions between processes and computing distances\n"
     ]
    },
    {
     "name": "stderr",
     "output_type": "stream",
     "text": [
      "\n"
     ]
    },
    {
     "data": {
      "application/vnd.jupyter.widget-view+json": {
       "model_id": "afa217c678844c86ba8aba1dc39e3fad",
       "version_major": 2,
       "version_minor": 0
      },
      "text/plain": [
       "  0%|          | 0/999 [00:00<?, ?it/s]"
      ]
     },
     "metadata": {},
     "output_type": "display_data"
    },
    {
     "name": "stdout",
     "output_type": "stream",
     "text": [
      "Distances computed closing processes\n",
      "Flattening sublists\n"
     ]
    },
    {
     "name": "stderr",
     "output_type": "stream",
     "text": [
      "100%|██████████| 1000/1000 [00:00<00:00, 9133.36it/s]"
     ]
    },
    {
     "name": "stdout",
     "output_type": "stream",
     "text": [
      "Average Element Mover's distance: 10.9479\n",
      "Std Element Mover's distance: 5.5133\n"
     ]
    },
    {
     "name": "stderr",
     "output_type": "stream",
     "text": [
      "\n"
     ]
    },
    {
     "data": {
      "text/plain": [
       "{'form_e_random_mean': -1.3723867772072553,\n",
       " 'form_e_random_std': 0.7347616385105727,\n",
       " 'form_e_trained_mean': -1.0311186917519664,\n",
       " 'form_e_trained_std': 0.5943204022273669,\n",
       " 'bulk_mod_random_mean': 4.291398881912231,\n",
       " 'bulk_mod_random_std': 0.6012997360124902,\n",
       " 'bulk_mod_trained_mean': 5.012083717107773,\n",
       " 'bulk_mod_trained_std': 0.5355028942943346,\n",
       " 'charge_neutral_random': 0.599,\n",
       " 'electronegativity_balanced_random': 0.428,\n",
       " 'charge_neutral_trained': 0.902,\n",
       " 'electronegativity_balanced_trained': 0.78,\n",
       " 'unique_random': 1.0,\n",
       " 'unique_trained': 1.0,\n",
       " 'random_oxides_EMD_mean': 20.128644743593593,\n",
       " 'random_oxides_EMD_std': 9.82379022238823,\n",
       " 'final_compounds_EMD_mean': 10.94794918809209,\n",
       " 'final_compounds_EMD_std': 5.513299101695085}"
      ]
     },
     "execution_count": 8,
     "metadata": {},
     "output_type": "execute_result"
    }
   ],
   "source": [
    "# Load random oxides\n",
    "with open('./training_data/random_oxides.pkl', 'rb') as f: \n",
    "    random_oxides = pickle.load(f)\n",
    "\n",
    "# Load compounds\n",
    "with open('./training_data/oxides_form_e_bulk_mod_1-3/final_compounds_roost_constrained.pkl', 'rb') as handle:\n",
    "    final_compounds = pickle.load(handle)\n",
    "\n",
    "# Formation Energy\n",
    "form_e_random = []\n",
    "form_e_trained = []\n",
    "for compound in random_oxides:\n",
    "    form_e_random.append(predict_formation_energy(compound))\n",
    "for compound in final_compounds:\n",
    "    form_e_trained.append(predict_formation_energy(compound))\n",
    "\n",
    "# Bulk modulus\n",
    "bulk_mod_random = []\n",
    "bulk_mod_trained = []\n",
    "for compound in random_oxides:\n",
    "    bulk_mod_random.append(predict_bulk_mod(compound))\n",
    "for compound in final_compounds:\n",
    "    bulk_mod_trained.append(predict_bulk_mod(compound))\n",
    "\n",
    "# Charge neutrality and electronegativity\n",
    "cn_random_good, cn_random_bad = check_neutrality_multiple(random_oxides)\n",
    "en_random_good, en_random_bad = check_electronegativity_multiple(random_oxides)\n",
    "cn_trained_good, cn_trained_bad = check_neutrality_multiple(final_compounds)\n",
    "en_trained_good, en_trained_bad = check_electronegativity_multiple(final_compounds)\n",
    "\n",
    "# Uniqueness\n",
    "random_oxides_unique = list(set(random_oxides))\n",
    "final_compounds_unique = list(set(final_compounds))\n",
    "\n",
    "# EMD\n",
    "random_oxides_EMD_mean, random_oxides_EMD_std = similarity_to_nearest_neighbor(random_oxides)\n",
    "final_compounds_EMD_mean, final_compounds_EMD_std = similarity_to_nearest_neighbor(final_compounds)\n",
    "\n",
    "results = {}\n",
    "results['form_e_random_mean'] = np.mean(form_e_random)\n",
    "results['form_e_random_std'] = np.std(form_e_random)\n",
    "results['form_e_trained_mean'] = np.mean(form_e_trained)\n",
    "results['form_e_trained_std'] = np.std(form_e_trained)\n",
    "results['bulk_mod_random_mean'] = np.mean(bulk_mod_random)\n",
    "results['bulk_mod_random_std'] = np.std(bulk_mod_random)\n",
    "results['bulk_mod_trained_mean'] = np.mean(bulk_mod_trained)\n",
    "results['bulk_mod_trained_std'] = np.std(bulk_mod_trained)\n",
    "results['charge_neutral_random'] = len(cn_random_good)/(len(cn_random_good)+len(cn_random_bad))\n",
    "results['electronegativity_balanced_random'] = len(en_random_good)/(len(en_random_good)+len(en_random_bad))\n",
    "results['charge_neutral_trained'] = len(cn_trained_good)/(len(cn_trained_good)+len(cn_trained_bad))\n",
    "results['electronegativity_balanced_trained'] = len(en_trained_good)/(len(en_trained_good)+len(en_trained_bad))\n",
    "results['unique_random'] = len(random_oxides_unique)/len(random_oxides)\n",
    "results['unique_trained'] = len(final_compounds_unique)/len(final_compounds)\n",
    "results['random_oxides_EMD_mean'], results['random_oxides_EMD_std'] = random_oxides_EMD_mean, random_oxides_EMD_std\n",
    "results['final_compounds_EMD_mean'], results['final_compounds_EMD_std'] = final_compounds_EMD_mean, final_compounds_EMD_std\n",
    "results"
   ]
  },
  {
   "cell_type": "markdown",
   "metadata": {},
   "source": [
    "# Sintering temperature + Bulk modulus (1:62.5)"
   ]
  },
  {
   "cell_type": "code",
   "execution_count": 9,
   "metadata": {},
   "outputs": [
    {
     "name": "stderr",
     "output_type": "stream",
     "text": [
      "100%|██████████| 1000/1000 [00:00<00:00, 10288.53it/s]\n"
     ]
    },
    {
     "name": "stdout",
     "output_type": "stream",
     "text": [
      "Fitting mod_petti kernel matrix\n",
      "Constructing distances\n",
      "Parsing Formula\n"
     ]
    },
    {
     "name": "stderr",
     "output_type": "stream",
     "text": [
      "100%|██████████| 1000/1000 [00:00<00:00, 10365.78it/s]\n"
     ]
    },
    {
     "name": "stdout",
     "output_type": "stream",
     "text": [
      "Constructing joint compositional pairings\n"
     ]
    },
    {
     "name": "stderr",
     "output_type": "stream",
     "text": [
      "100%|██████████| 999/999 [00:00<00:00, 21193.53it/s]"
     ]
    },
    {
     "name": "stdout",
     "output_type": "stream",
     "text": [
      "Creating Process Pool\n",
      "Scattering compositions between processes and computing distances\n"
     ]
    },
    {
     "name": "stderr",
     "output_type": "stream",
     "text": [
      "\n"
     ]
    },
    {
     "data": {
      "application/vnd.jupyter.widget-view+json": {
       "model_id": "c43fd1513af14d91bfa741dd035d59b3",
       "version_major": 2,
       "version_minor": 0
      },
      "text/plain": [
       "  0%|          | 0/999 [00:00<?, ?it/s]"
      ]
     },
     "metadata": {},
     "output_type": "display_data"
    },
    {
     "name": "stdout",
     "output_type": "stream",
     "text": [
      "Distances computed closing processes\n",
      "Flattening sublists\n"
     ]
    },
    {
     "name": "stderr",
     "output_type": "stream",
     "text": [
      "100%|██████████| 1000/1000 [00:00<00:00, 8842.40it/s]\n"
     ]
    },
    {
     "name": "stdout",
     "output_type": "stream",
     "text": [
      "Average Element Mover's distance: 20.1286\n",
      "Std Element Mover's distance: 9.8238\n"
     ]
    },
    {
     "name": "stderr",
     "output_type": "stream",
     "text": [
      "100%|██████████| 1000/1000 [00:00<00:00, 9814.70it/s]\n"
     ]
    },
    {
     "name": "stdout",
     "output_type": "stream",
     "text": [
      "Fitting mod_petti kernel matrix\n",
      "Constructing distances\n",
      "Parsing Formula\n"
     ]
    },
    {
     "name": "stderr",
     "output_type": "stream",
     "text": [
      "100%|██████████| 1000/1000 [00:00<00:00, 10037.92it/s]\n"
     ]
    },
    {
     "name": "stdout",
     "output_type": "stream",
     "text": [
      "Constructing joint compositional pairings\n"
     ]
    },
    {
     "name": "stderr",
     "output_type": "stream",
     "text": [
      "100%|██████████| 999/999 [00:00<00:00, 20437.86it/s]"
     ]
    },
    {
     "name": "stdout",
     "output_type": "stream",
     "text": [
      "Creating Process Pool\n",
      "Scattering compositions between processes and computing distances\n"
     ]
    },
    {
     "name": "stderr",
     "output_type": "stream",
     "text": [
      "\n"
     ]
    },
    {
     "data": {
      "application/vnd.jupyter.widget-view+json": {
       "model_id": "c6a99cf8c89c49279fda539718ea2101",
       "version_major": 2,
       "version_minor": 0
      },
      "text/plain": [
       "  0%|          | 0/999 [00:00<?, ?it/s]"
      ]
     },
     "metadata": {},
     "output_type": "display_data"
    },
    {
     "name": "stdout",
     "output_type": "stream",
     "text": [
      "Distances computed closing processes\n",
      "Flattening sublists\n"
     ]
    },
    {
     "name": "stderr",
     "output_type": "stream",
     "text": [
      "100%|██████████| 1000/1000 [00:00<00:00, 9294.79it/s]"
     ]
    },
    {
     "name": "stdout",
     "output_type": "stream",
     "text": [
      "Average Element Mover's distance: 11.155\n",
      "Std Element Mover's distance: 6.2442\n"
     ]
    },
    {
     "name": "stderr",
     "output_type": "stream",
     "text": [
      "\n"
     ]
    },
    {
     "data": {
      "text/plain": [
       "{'form_e_random_mean': -1.3723867765516042,\n",
       " 'form_e_random_std': 0.7347616392281606,\n",
       " 'form_e_trained_mean': -0.861684630729258,\n",
       " 'form_e_trained_std': 0.48508761094613323,\n",
       " 'sintering_random_mean': 1011.1405443517411,\n",
       " 'sintering_random_std': 131.0925303880326,\n",
       " 'sintering_trained_mean': 826.7920277303912,\n",
       " 'sintering_trained_std': 103.82986867335417,\n",
       " 'bulk_mod_random_mean': 4.291398871898651,\n",
       " 'bulk_mod_random_std': 0.6012997253423198,\n",
       " 'bulk_mod_trained_mean': 4.243075564146042,\n",
       " 'bulk_mod_trained_std': 0.7744622749481933,\n",
       " 'charge_neutral_random': 0.599,\n",
       " 'electronegativity_balanced_random': 0.428,\n",
       " 'charge_neutral_trained': 0.859,\n",
       " 'electronegativity_balanced_trained': 0.616,\n",
       " 'unique_random': 1.0,\n",
       " 'unique_trained': 1.0,\n",
       " 'random_oxides_EMD_mean': 20.128644743593593,\n",
       " 'random_oxides_EMD_std': 9.82379022238823,\n",
       " 'final_compounds_EMD_mean': 11.15498477787988,\n",
       " 'final_compounds_EMD_std': 6.244239116801435}"
      ]
     },
     "execution_count": 9,
     "metadata": {},
     "output_type": "execute_result"
    }
   ],
   "source": [
    "# Load random oxides\n",
    "with open('./training_data/random_oxides.pkl', 'rb') as f: \n",
    "    random_oxides = pickle.load(f)\n",
    "\n",
    "# Load compounds\n",
    "with open('./training_data/oxides_sinter_bulk_mod_1-62/final_compounds_roost_constrained.pkl', 'rb') as handle:\n",
    "    final_compounds = pickle.load(handle)\n",
    "\n",
    "# Formation Energy\n",
    "form_e_random = []\n",
    "form_e_trained = []\n",
    "for compound in random_oxides:\n",
    "    form_e_random.append(predict_formation_energy(compound))\n",
    "for compound in final_compounds:\n",
    "    form_e_trained.append(predict_formation_energy(compound))\n",
    "\n",
    "# Sintering temp\n",
    "sintering_random = []\n",
    "sintering_trained = []\n",
    "for compound in random_oxides:\n",
    "    sintering_random.append(predict_sinter(compound))\n",
    "for compound in final_compounds:\n",
    "    sintering_trained.append(predict_sinter(compound))\n",
    "\n",
    "# Bulk modulus\n",
    "bulk_mod_random = []\n",
    "bulk_mod_trained = []\n",
    "for compound in random_oxides:\n",
    "    bulk_mod_random.append(predict_bulk_mod(compound))\n",
    "for compound in final_compounds:\n",
    "    bulk_mod_trained.append(predict_bulk_mod(compound))\n",
    "\n",
    "# Charge neutrality and electronegativity\n",
    "cn_random_good, cn_random_bad = check_neutrality_multiple(random_oxides)\n",
    "en_random_good, en_random_bad = check_electronegativity_multiple(random_oxides)\n",
    "cn_trained_good, cn_trained_bad = check_neutrality_multiple(final_compounds)\n",
    "en_trained_good, en_trained_bad = check_electronegativity_multiple(final_compounds)\n",
    "\n",
    "# Uniqueness\n",
    "random_oxides_unique = list(set(random_oxides))\n",
    "final_compounds_unique = list(set(final_compounds))\n",
    "\n",
    "# EMD\n",
    "random_oxides_EMD_mean, random_oxides_EMD_std = similarity_to_nearest_neighbor(random_oxides)\n",
    "final_compounds_EMD_mean, final_compounds_EMD_std = similarity_to_nearest_neighbor(final_compounds)\n",
    "\n",
    "results = {}\n",
    "results['form_e_random_mean'] = np.mean(form_e_random)\n",
    "results['form_e_random_std'] = np.std(form_e_random)\n",
    "results['form_e_trained_mean'] = np.mean(form_e_trained)\n",
    "results['form_e_trained_std'] = np.std(form_e_trained)\n",
    "\n",
    "results['sintering_random_mean'] = np.mean(sintering_random)\n",
    "results['sintering_random_std'] = np.std(sintering_random)\n",
    "results['sintering_trained_mean'] = np.mean(sintering_trained)\n",
    "results['sintering_trained_std'] = np.std(sintering_trained)\n",
    "\n",
    "results['bulk_mod_random_mean'] = np.mean(bulk_mod_random)\n",
    "results['bulk_mod_random_std'] = np.std(bulk_mod_random)\n",
    "results['bulk_mod_trained_mean'] = np.mean(bulk_mod_trained)\n",
    "results['bulk_mod_trained_std'] = np.std(bulk_mod_trained)\n",
    "\n",
    "results['charge_neutral_random'] = len(cn_random_good)/(len(cn_random_good)+len(cn_random_bad))\n",
    "results['electronegativity_balanced_random'] = len(en_random_good)/(len(en_random_good)+len(en_random_bad))\n",
    "results['charge_neutral_trained'] = len(cn_trained_good)/(len(cn_trained_good)+len(cn_trained_bad))\n",
    "results['electronegativity_balanced_trained'] = len(en_trained_good)/(len(en_trained_good)+len(en_trained_bad))\n",
    "results['unique_random'] = len(random_oxides_unique)/len(random_oxides)\n",
    "results['unique_trained'] = len(final_compounds_unique)/len(final_compounds)\n",
    "results['random_oxides_EMD_mean'], results['random_oxides_EMD_std'] = random_oxides_EMD_mean, random_oxides_EMD_std\n",
    "results['final_compounds_EMD_mean'], results['final_compounds_EMD_std'] = final_compounds_EMD_mean, final_compounds_EMD_std\n",
    "results"
   ]
  },
  {
   "cell_type": "markdown",
   "metadata": {},
   "source": [
    "# Sintering temperature + Bulk modulus (1:125)"
   ]
  },
  {
   "cell_type": "code",
   "execution_count": 10,
   "metadata": {},
   "outputs": [
    {
     "name": "stderr",
     "output_type": "stream",
     "text": [
      "100%|██████████| 1000/1000 [00:00<00:00, 10175.61it/s]\n"
     ]
    },
    {
     "name": "stdout",
     "output_type": "stream",
     "text": [
      "Fitting mod_petti kernel matrix\n",
      "Constructing distances\n",
      "Parsing Formula\n"
     ]
    },
    {
     "name": "stderr",
     "output_type": "stream",
     "text": [
      "100%|██████████| 1000/1000 [00:00<00:00, 10564.73it/s]\n"
     ]
    },
    {
     "name": "stdout",
     "output_type": "stream",
     "text": [
      "Constructing joint compositional pairings\n"
     ]
    },
    {
     "name": "stderr",
     "output_type": "stream",
     "text": [
      "100%|██████████| 999/999 [00:00<00:00, 21232.41it/s]"
     ]
    },
    {
     "name": "stdout",
     "output_type": "stream",
     "text": [
      "Creating Process Pool\n",
      "Scattering compositions between processes and computing distances\n"
     ]
    },
    {
     "name": "stderr",
     "output_type": "stream",
     "text": [
      "\n"
     ]
    },
    {
     "data": {
      "application/vnd.jupyter.widget-view+json": {
       "model_id": "7d46e04ba69c42d296246031c0885009",
       "version_major": 2,
       "version_minor": 0
      },
      "text/plain": [
       "  0%|          | 0/999 [00:00<?, ?it/s]"
      ]
     },
     "metadata": {},
     "output_type": "display_data"
    },
    {
     "name": "stdout",
     "output_type": "stream",
     "text": [
      "Distances computed closing processes\n",
      "Flattening sublists\n"
     ]
    },
    {
     "name": "stderr",
     "output_type": "stream",
     "text": [
      "100%|██████████| 1000/1000 [00:00<00:00, 9067.41it/s]\n"
     ]
    },
    {
     "name": "stdout",
     "output_type": "stream",
     "text": [
      "Average Element Mover's distance: 20.1286\n",
      "Std Element Mover's distance: 9.8238\n"
     ]
    },
    {
     "name": "stderr",
     "output_type": "stream",
     "text": [
      "100%|██████████| 1000/1000 [00:00<00:00, 10155.04it/s]\n"
     ]
    },
    {
     "name": "stdout",
     "output_type": "stream",
     "text": [
      "Fitting mod_petti kernel matrix\n",
      "Constructing distances\n",
      "Parsing Formula\n"
     ]
    },
    {
     "name": "stderr",
     "output_type": "stream",
     "text": [
      "100%|██████████| 999/999 [00:00<00:00, 10621.67it/s]\n"
     ]
    },
    {
     "name": "stdout",
     "output_type": "stream",
     "text": [
      "Constructing joint compositional pairings\n"
     ]
    },
    {
     "name": "stderr",
     "output_type": "stream",
     "text": [
      "100%|██████████| 998/998 [00:00<00:00, 20769.96it/s]"
     ]
    },
    {
     "name": "stdout",
     "output_type": "stream",
     "text": [
      "Creating Process Pool\n",
      "Scattering compositions between processes and computing distances\n"
     ]
    },
    {
     "name": "stderr",
     "output_type": "stream",
     "text": [
      "\n"
     ]
    },
    {
     "data": {
      "application/vnd.jupyter.widget-view+json": {
       "model_id": "15a3746480eb498c8a5141380c7828ca",
       "version_major": 2,
       "version_minor": 0
      },
      "text/plain": [
       "  0%|          | 0/998 [00:00<?, ?it/s]"
      ]
     },
     "metadata": {},
     "output_type": "display_data"
    },
    {
     "name": "stdout",
     "output_type": "stream",
     "text": [
      "Distances computed closing processes\n",
      "Flattening sublists\n"
     ]
    },
    {
     "name": "stderr",
     "output_type": "stream",
     "text": [
      "100%|██████████| 999/999 [00:00<00:00, 9387.58it/s]"
     ]
    },
    {
     "name": "stdout",
     "output_type": "stream",
     "text": [
      "Average Element Mover's distance: 10.1269\n",
      "Std Element Mover's distance: 5.0021\n"
     ]
    },
    {
     "name": "stderr",
     "output_type": "stream",
     "text": [
      "\n"
     ]
    },
    {
     "data": {
      "text/plain": [
       "{'form_e_random_mean': -1.3723867772072553,\n",
       " 'form_e_random_std': 0.7347616385105727,\n",
       " 'form_e_trained_mean': -0.7962676405527164,\n",
       " 'form_e_trained_std': 0.4577622202616426,\n",
       " 'sintering_random_mean': 1011.1405443517411,\n",
       " 'sintering_random_std': 131.0925303880326,\n",
       " 'sintering_trained_mean': 886.3413630313264,\n",
       " 'sintering_trained_std': 102.12414943661948,\n",
       " 'bulk_mod_random_mean': 4.29139886379242,\n",
       " 'bulk_mod_random_std': 0.6012997229802703,\n",
       " 'bulk_mod_trained_mean': 4.735590208292008,\n",
       " 'bulk_mod_trained_std': 0.6714195295146307,\n",
       " 'charge_neutral_random': 0.599,\n",
       " 'electronegativity_balanced_random': 0.428,\n",
       " 'charge_neutral_trained': 0.847,\n",
       " 'electronegativity_balanced_trained': 0.628,\n",
       " 'unique_random': 1.0,\n",
       " 'unique_trained': 1.0,\n",
       " 'random_oxides_EMD_mean': 20.128644743593593,\n",
       " 'random_oxides_EMD_std': 9.82379022238823,\n",
       " 'final_compounds_EMD_mean': 10.126934490973941,\n",
       " 'final_compounds_EMD_std': 5.00210909851853}"
      ]
     },
     "execution_count": 10,
     "metadata": {},
     "output_type": "execute_result"
    }
   ],
   "source": [
    "# Load random oxides\n",
    "with open('./training_data/random_oxides.pkl', 'rb') as f: \n",
    "    random_oxides = pickle.load(f)\n",
    "\n",
    "# Load compounds\n",
    "with open('./training_data/oxides_sinter_bulk_mod_1-125/final_compounds_roost_constrained.pkl', 'rb') as handle:\n",
    "    final_compounds = pickle.load(handle)\n",
    "\n",
    "# Formation Energy\n",
    "form_e_random = []\n",
    "form_e_trained = []\n",
    "for compound in random_oxides:\n",
    "    form_e_random.append(predict_formation_energy(compound))\n",
    "for compound in final_compounds:\n",
    "    form_e_trained.append(predict_formation_energy(compound))\n",
    "\n",
    "# Sintering temp\n",
    "sintering_random = []\n",
    "sintering_trained = []\n",
    "for compound in random_oxides:\n",
    "    sintering_random.append(predict_sinter(compound))\n",
    "for compound in final_compounds:\n",
    "    sintering_trained.append(predict_sinter(compound))\n",
    "\n",
    "# Bulk modulus\n",
    "bulk_mod_random = []\n",
    "bulk_mod_trained = []\n",
    "for compound in random_oxides:\n",
    "    bulk_mod_random.append(predict_bulk_mod(compound))\n",
    "for compound in final_compounds:\n",
    "    bulk_mod_trained.append(predict_bulk_mod(compound))\n",
    "\n",
    "# Charge neutrality and electronegativity\n",
    "cn_random_good, cn_random_bad = check_neutrality_multiple(random_oxides)\n",
    "en_random_good, en_random_bad = check_electronegativity_multiple(random_oxides)\n",
    "cn_trained_good, cn_trained_bad = check_neutrality_multiple(final_compounds)\n",
    "en_trained_good, en_trained_bad = check_electronegativity_multiple(final_compounds)\n",
    "\n",
    "# Uniqueness\n",
    "random_oxides_unique = list(set(random_oxides))\n",
    "final_compounds_unique = list(set(final_compounds))\n",
    "\n",
    "# EMD\n",
    "random_oxides_EMD_mean, random_oxides_EMD_std = similarity_to_nearest_neighbor(random_oxides)\n",
    "final_compounds_EMD_mean, final_compounds_EMD_std = similarity_to_nearest_neighbor(final_compounds)\n",
    "\n",
    "results = {}\n",
    "results['form_e_random_mean'] = np.mean(form_e_random)\n",
    "results['form_e_random_std'] = np.std(form_e_random)\n",
    "results['form_e_trained_mean'] = np.mean(form_e_trained)\n",
    "results['form_e_trained_std'] = np.std(form_e_trained)\n",
    "\n",
    "results['sintering_random_mean'] = np.mean(sintering_random)\n",
    "results['sintering_random_std'] = np.std(sintering_random)\n",
    "results['sintering_trained_mean'] = np.mean(sintering_trained)\n",
    "results['sintering_trained_std'] = np.std(sintering_trained)\n",
    "\n",
    "results['bulk_mod_random_mean'] = np.mean(bulk_mod_random)\n",
    "results['bulk_mod_random_std'] = np.std(bulk_mod_random)\n",
    "results['bulk_mod_trained_mean'] = np.mean(bulk_mod_trained)\n",
    "results['bulk_mod_trained_std'] = np.std(bulk_mod_trained)\n",
    "\n",
    "results['charge_neutral_random'] = len(cn_random_good)/(len(cn_random_good)+len(cn_random_bad))\n",
    "results['electronegativity_balanced_random'] = len(en_random_good)/(len(en_random_good)+len(en_random_bad))\n",
    "results['charge_neutral_trained'] = len(cn_trained_good)/(len(cn_trained_good)+len(cn_trained_bad))\n",
    "results['electronegativity_balanced_trained'] = len(en_trained_good)/(len(en_trained_good)+len(en_trained_bad))\n",
    "results['unique_random'] = len(random_oxides_unique)/len(random_oxides)\n",
    "results['unique_trained'] = len(final_compounds_unique)/len(final_compounds)\n",
    "results['random_oxides_EMD_mean'], results['random_oxides_EMD_std'] = random_oxides_EMD_mean, random_oxides_EMD_std\n",
    "results['final_compounds_EMD_mean'], results['final_compounds_EMD_std'] = final_compounds_EMD_mean, final_compounds_EMD_std\n",
    "results"
   ]
  },
  {
   "cell_type": "markdown",
   "metadata": {},
   "source": [
    "# Sintering temperature + Bulk modulus (1:250)"
   ]
  },
  {
   "cell_type": "code",
   "execution_count": 11,
   "metadata": {},
   "outputs": [
    {
     "name": "stderr",
     "output_type": "stream",
     "text": [
      "100%|██████████| 1000/1000 [00:00<00:00, 10312.31it/s]\n"
     ]
    },
    {
     "name": "stdout",
     "output_type": "stream",
     "text": [
      "Fitting mod_petti kernel matrix\n",
      "Constructing distances\n",
      "Parsing Formula\n"
     ]
    },
    {
     "name": "stderr",
     "output_type": "stream",
     "text": [
      "100%|██████████| 1000/1000 [00:00<00:00, 10133.54it/s]\n"
     ]
    },
    {
     "name": "stdout",
     "output_type": "stream",
     "text": [
      "Constructing joint compositional pairings\n"
     ]
    },
    {
     "name": "stderr",
     "output_type": "stream",
     "text": [
      "100%|██████████| 999/999 [00:00<00:00, 20795.31it/s]"
     ]
    },
    {
     "name": "stdout",
     "output_type": "stream",
     "text": [
      "Creating Process Pool\n",
      "Scattering compositions between processes and computing distances\n"
     ]
    },
    {
     "name": "stderr",
     "output_type": "stream",
     "text": [
      "\n"
     ]
    },
    {
     "data": {
      "application/vnd.jupyter.widget-view+json": {
       "model_id": "56e51aebffbd41b3afbe1a1c33c546b8",
       "version_major": 2,
       "version_minor": 0
      },
      "text/plain": [
       "  0%|          | 0/999 [00:00<?, ?it/s]"
      ]
     },
     "metadata": {},
     "output_type": "display_data"
    },
    {
     "name": "stdout",
     "output_type": "stream",
     "text": [
      "Distances computed closing processes\n",
      "Flattening sublists\n"
     ]
    },
    {
     "name": "stderr",
     "output_type": "stream",
     "text": [
      "100%|██████████| 1000/1000 [00:00<00:00, 9138.59it/s]\n"
     ]
    },
    {
     "name": "stdout",
     "output_type": "stream",
     "text": [
      "Average Element Mover's distance: 20.1286\n",
      "Std Element Mover's distance: 9.8238\n"
     ]
    },
    {
     "name": "stderr",
     "output_type": "stream",
     "text": [
      "100%|██████████| 1000/1000 [00:00<00:00, 10437.82it/s]\n"
     ]
    },
    {
     "name": "stdout",
     "output_type": "stream",
     "text": [
      "Fitting mod_petti kernel matrix\n",
      "Constructing distances\n",
      "Parsing Formula\n"
     ]
    },
    {
     "name": "stderr",
     "output_type": "stream",
     "text": [
      "100%|██████████| 997/997 [00:00<00:00, 10886.50it/s]\n"
     ]
    },
    {
     "name": "stdout",
     "output_type": "stream",
     "text": [
      "Constructing joint compositional pairings\n"
     ]
    },
    {
     "name": "stderr",
     "output_type": "stream",
     "text": [
      "100%|██████████| 996/996 [00:00<00:00, 20515.28it/s]"
     ]
    },
    {
     "name": "stdout",
     "output_type": "stream",
     "text": [
      "Creating Process Pool\n",
      "Scattering compositions between processes and computing distances\n"
     ]
    },
    {
     "name": "stderr",
     "output_type": "stream",
     "text": [
      "\n"
     ]
    },
    {
     "data": {
      "application/vnd.jupyter.widget-view+json": {
       "model_id": "286079e3d8a348caad0c72b4af07277b",
       "version_major": 2,
       "version_minor": 0
      },
      "text/plain": [
       "  0%|          | 0/996 [00:00<?, ?it/s]"
      ]
     },
     "metadata": {},
     "output_type": "display_data"
    },
    {
     "name": "stdout",
     "output_type": "stream",
     "text": [
      "Distances computed closing processes\n",
      "Flattening sublists\n"
     ]
    },
    {
     "name": "stderr",
     "output_type": "stream",
     "text": [
      "100%|██████████| 997/997 [00:00<00:00, 9439.85it/s]"
     ]
    },
    {
     "name": "stdout",
     "output_type": "stream",
     "text": [
      "Average Element Mover's distance: 8.878\n",
      "Std Element Mover's distance: 4.4907\n"
     ]
    },
    {
     "name": "stderr",
     "output_type": "stream",
     "text": [
      "\n"
     ]
    },
    {
     "data": {
      "text/plain": [
       "{'form_e_random_mean': -1.3723867765516042,\n",
       " 'form_e_random_std': 0.7347616392281606,\n",
       " 'form_e_trained_mean': -0.43416797831025905,\n",
       " 'form_e_trained_std': 0.35918108369723534,\n",
       " 'sintering_random_mean': 1011.1405443517411,\n",
       " 'sintering_random_std': 131.0925303880326,\n",
       " 'sintering_trained_mean': 935.1747791413529,\n",
       " 'sintering_trained_std': 64.0713517664827,\n",
       " 'bulk_mod_random_mean': 4.29139886379242,\n",
       " 'bulk_mod_random_std': 0.6012997229802703,\n",
       " 'bulk_mod_trained_mean': 5.226487160682678,\n",
       " 'bulk_mod_trained_std': 0.36209249095798707,\n",
       " 'charge_neutral_random': 0.599,\n",
       " 'electronegativity_balanced_random': 0.428,\n",
       " 'charge_neutral_trained': 0.926,\n",
       " 'electronegativity_balanced_trained': 0.639,\n",
       " 'unique_random': 1.0,\n",
       " 'unique_trained': 0.999,\n",
       " 'random_oxides_EMD_mean': 20.128644743593593,\n",
       " 'random_oxides_EMD_std': 9.82379022238823,\n",
       " 'final_compounds_EMD_mean': 8.878022898180483,\n",
       " 'final_compounds_EMD_std': 4.490652502172893}"
      ]
     },
     "execution_count": 11,
     "metadata": {},
     "output_type": "execute_result"
    }
   ],
   "source": [
    "# Load random oxides\n",
    "with open('./training_data/random_oxides.pkl', 'rb') as f: \n",
    "    random_oxides = pickle.load(f)\n",
    "\n",
    "# Load compounds\n",
    "with open('./training_data/oxides_sinter_bulk_mod_1-250/final_compounds_roost_constrained.pkl', 'rb') as handle:\n",
    "    final_compounds = pickle.load(handle)\n",
    "\n",
    "# Formation Energy\n",
    "form_e_random = []\n",
    "form_e_trained = []\n",
    "for compound in random_oxides:\n",
    "    form_e_random.append(predict_formation_energy(compound))\n",
    "for compound in final_compounds:\n",
    "    form_e_trained.append(predict_formation_energy(compound))\n",
    "\n",
    "# Sintering temp\n",
    "sintering_random = []\n",
    "sintering_trained = []\n",
    "for compound in random_oxides:\n",
    "    sintering_random.append(predict_sinter(compound))\n",
    "for compound in final_compounds:\n",
    "    sintering_trained.append(predict_sinter(compound))\n",
    "\n",
    "# Bulk modulus\n",
    "bulk_mod_random = []\n",
    "bulk_mod_trained = []\n",
    "for compound in random_oxides:\n",
    "    bulk_mod_random.append(predict_bulk_mod(compound))\n",
    "for compound in final_compounds:\n",
    "    bulk_mod_trained.append(predict_bulk_mod(compound))\n",
    "\n",
    "# Charge neutrality and electronegativity\n",
    "cn_random_good, cn_random_bad = check_neutrality_multiple(random_oxides)\n",
    "en_random_good, en_random_bad = check_electronegativity_multiple(random_oxides)\n",
    "cn_trained_good, cn_trained_bad = check_neutrality_multiple(final_compounds)\n",
    "en_trained_good, en_trained_bad = check_electronegativity_multiple(final_compounds)\n",
    "\n",
    "# Uniqueness\n",
    "random_oxides_unique = list(set(random_oxides))\n",
    "final_compounds_unique = list(set(final_compounds))\n",
    "\n",
    "# EMD\n",
    "random_oxides_EMD_mean, random_oxides_EMD_std = similarity_to_nearest_neighbor(random_oxides)\n",
    "final_compounds_EMD_mean, final_compounds_EMD_std = similarity_to_nearest_neighbor(final_compounds)\n",
    "\n",
    "results = {}\n",
    "results['form_e_random_mean'] = np.mean(form_e_random)\n",
    "results['form_e_random_std'] = np.std(form_e_random)\n",
    "results['form_e_trained_mean'] = np.mean(form_e_trained)\n",
    "results['form_e_trained_std'] = np.std(form_e_trained)\n",
    "\n",
    "results['sintering_random_mean'] = np.mean(sintering_random)\n",
    "results['sintering_random_std'] = np.std(sintering_random)\n",
    "results['sintering_trained_mean'] = np.mean(sintering_trained)\n",
    "results['sintering_trained_std'] = np.std(sintering_trained)\n",
    "\n",
    "results['bulk_mod_random_mean'] = np.mean(bulk_mod_random)\n",
    "results['bulk_mod_random_std'] = np.std(bulk_mod_random)\n",
    "results['bulk_mod_trained_mean'] = np.mean(bulk_mod_trained)\n",
    "results['bulk_mod_trained_std'] = np.std(bulk_mod_trained)\n",
    "\n",
    "results['charge_neutral_random'] = len(cn_random_good)/(len(cn_random_good)+len(cn_random_bad))\n",
    "results['electronegativity_balanced_random'] = len(en_random_good)/(len(en_random_good)+len(en_random_bad))\n",
    "results['charge_neutral_trained'] = len(cn_trained_good)/(len(cn_trained_good)+len(cn_trained_bad))\n",
    "results['electronegativity_balanced_trained'] = len(en_trained_good)/(len(en_trained_good)+len(en_trained_bad))\n",
    "results['unique_random'] = len(random_oxides_unique)/len(random_oxides)\n",
    "results['unique_trained'] = len(final_compounds_unique)/len(final_compounds)\n",
    "results['random_oxides_EMD_mean'], results['random_oxides_EMD_std'] = random_oxides_EMD_mean, random_oxides_EMD_std\n",
    "results['final_compounds_EMD_mean'], results['final_compounds_EMD_std'] = final_compounds_EMD_mean, final_compounds_EMD_std\n",
    "results"
   ]
  },
  {
   "cell_type": "code",
   "execution_count": 7,
   "metadata": {},
   "outputs": [
    {
     "data": {
      "text/plain": [
       "-1.8023695945739746"
      ]
     },
     "execution_count": 7,
     "metadata": {},
     "output_type": "execute_result"
    }
   ],
   "source": [
    "predict_formation_energy('Ge2OsO5')"
   ]
  },
  {
   "cell_type": "code",
   "execution_count": 8,
   "metadata": {},
   "outputs": [
    {
     "data": {
      "text/plain": [
       "-0.870316207408905"
      ]
     },
     "execution_count": 8,
     "metadata": {},
     "output_type": "execute_result"
    }
   ],
   "source": [
    "predict_formation_energy('MnPt3O4')"
   ]
  },
  {
   "cell_type": "markdown",
   "metadata": {},
   "source": [
    "# Sintering temperature + Bulk modulus (1:500)"
   ]
  },
  {
   "cell_type": "code",
   "execution_count": 2,
   "metadata": {},
   "outputs": [
    {
     "name": "stderr",
     "output_type": "stream",
     "text": [
      "100%|██████████| 1000/1000 [01:18<00:00, 12.66it/s]\n",
      "100%|██████████| 1000/1000 [01:16<00:00, 13.05it/s]\n",
      "100%|██████████| 1000/1000 [00:22<00:00, 44.46it/s]\n",
      "100%|██████████| 1000/1000 [00:22<00:00, 44.66it/s]\n",
      "100%|██████████| 1000/1000 [01:17<00:00, 12.90it/s]\n",
      "100%|██████████| 1000/1000 [01:17<00:00, 12.92it/s]\n",
      "100%|██████████| 1000/1000 [00:03<00:00, 255.94it/s]\n",
      "100%|██████████| 1000/1000 [00:11<00:00, 89.72it/s]\n",
      "100%|██████████| 1000/1000 [00:03<00:00, 295.98it/s]\n",
      "100%|██████████| 1000/1000 [00:33<00:00, 29.76it/s]\n"
     ]
    },
    {
     "name": "stdout",
     "output_type": "stream",
     "text": [
      "Fitting mod_petti kernel matrix\n",
      "Constructing distances\n",
      "Parsing Formula\n"
     ]
    },
    {
     "name": "stderr",
     "output_type": "stream",
     "text": [
      "100%|██████████| 1000/1000 [00:00<00:00, 10608.88it/s]\n"
     ]
    },
    {
     "name": "stdout",
     "output_type": "stream",
     "text": [
      "Constructing joint compositional pairings\n"
     ]
    },
    {
     "name": "stderr",
     "output_type": "stream",
     "text": [
      "100%|██████████| 999/999 [00:00<00:00, 20348.04it/s]"
     ]
    },
    {
     "name": "stdout",
     "output_type": "stream",
     "text": [
      "Creating Process Pool\n",
      "Scattering compositions between processes and computing distances\n"
     ]
    },
    {
     "name": "stderr",
     "output_type": "stream",
     "text": [
      "\n"
     ]
    },
    {
     "data": {
      "application/vnd.jupyter.widget-view+json": {
       "model_id": "e442507a7eea4f1880aec771fb281f24",
       "version_major": 2,
       "version_minor": 0
      },
      "text/plain": [
       "  0%|          | 0/999 [00:00<?, ?it/s]"
      ]
     },
     "metadata": {},
     "output_type": "display_data"
    },
    {
     "name": "stdout",
     "output_type": "stream",
     "text": [
      "Distances computed closing processes\n",
      "Flattening sublists\n"
     ]
    },
    {
     "name": "stderr",
     "output_type": "stream",
     "text": [
      "100%|██████████| 1000/1000 [00:00<00:00, 9001.00it/s]\n"
     ]
    },
    {
     "name": "stdout",
     "output_type": "stream",
     "text": [
      "Average Element Mover's distance: 20.1286\n",
      "Std Element Mover's distance: 9.8238\n",
      "Fitting mod_petti kernel matrix\n",
      "Constructing distances\n",
      "Parsing Formula\n"
     ]
    },
    {
     "name": "stderr",
     "output_type": "stream",
     "text": [
      "100%|██████████| 1000/1000 [00:00<00:00, 11115.13it/s]\n"
     ]
    },
    {
     "name": "stdout",
     "output_type": "stream",
     "text": [
      "Constructing joint compositional pairings\n"
     ]
    },
    {
     "name": "stderr",
     "output_type": "stream",
     "text": [
      "100%|██████████| 999/999 [00:00<00:00, 20786.65it/s]"
     ]
    },
    {
     "name": "stdout",
     "output_type": "stream",
     "text": [
      "Creating Process Pool\n",
      "Scattering compositions between processes and computing distances\n"
     ]
    },
    {
     "name": "stderr",
     "output_type": "stream",
     "text": [
      "\n"
     ]
    },
    {
     "data": {
      "application/vnd.jupyter.widget-view+json": {
       "model_id": "759750bd833443c2b580cc6a64cdc3c7",
       "version_major": 2,
       "version_minor": 0
      },
      "text/plain": [
       "  0%|          | 0/999 [00:00<?, ?it/s]"
      ]
     },
     "metadata": {},
     "output_type": "display_data"
    },
    {
     "name": "stdout",
     "output_type": "stream",
     "text": [
      "Distances computed closing processes\n",
      "Flattening sublists\n"
     ]
    },
    {
     "name": "stderr",
     "output_type": "stream",
     "text": [
      "100%|██████████| 1000/1000 [00:00<00:00, 9253.84it/s]"
     ]
    },
    {
     "name": "stdout",
     "output_type": "stream",
     "text": [
      "Average Element Mover's distance: 9.3391\n",
      "Std Element Mover's distance: 4.6937\n"
     ]
    },
    {
     "name": "stderr",
     "output_type": "stream",
     "text": [
      "\n"
     ]
    },
    {
     "data": {
      "text/plain": [
       "{'form_e_random_mean': -1.3723867808431387,\n",
       " 'form_e_random_std': 0.7347616444293241,\n",
       " 'form_e_trained_mean': -0.7179881418149453,\n",
       " 'form_e_trained_std': 0.4349409844310419,\n",
       " 'sintering_random_mean': 1011.1405443517411,\n",
       " 'sintering_random_std': 131.0925303880326,\n",
       " 'sintering_trained_mean': 937.5328892662918,\n",
       " 'sintering_trained_std': 80.37955637100279,\n",
       " 'bulk_mod_random_mean': 4.291398662090302,\n",
       " 'bulk_mod_random_std': 0.6012995695564204,\n",
       " 'bulk_mod_trained_mean': 5.086860481500626,\n",
       " 'bulk_mod_trained_std': 0.4149162546051657,\n",
       " 'charge_neutral_random': 0.599,\n",
       " 'electronegativity_balanced_random': 0.428,\n",
       " 'charge_neutral_trained': 0.944,\n",
       " 'electronegativity_balanced_trained': 0.708,\n",
       " 'unique_random': 1.0,\n",
       " 'unique_trained': 1.0,\n",
       " 'random_oxides_EMD_mean': 20.128644743593593,\n",
       " 'random_oxides_EMD_std': 9.82379022238823,\n",
       " 'final_compounds_EMD_mean': 9.339092445653652,\n",
       " 'final_compounds_EMD_std': 4.693743105083509}"
      ]
     },
     "execution_count": 2,
     "metadata": {},
     "output_type": "execute_result"
    }
   ],
   "source": [
    "# Load random oxides\n",
    "with open('./training_data/random_oxides.pkl', 'rb') as f: \n",
    "    random_oxides = pickle.load(f)\n",
    "\n",
    "# Load compounds\n",
    "with open('./training_data/oxides_sinter_bulk_mod_1-500/final_compounds_roost_constrained.pkl', 'rb') as handle:\n",
    "    final_compounds = pickle.load(handle)\n",
    "\n",
    "# Formation Energy\n",
    "form_e_random = []\n",
    "form_e_trained = []\n",
    "for compound in tqdm(random_oxides):\n",
    "    form_e_random.append(predict_formation_energy(compound))\n",
    "for compound in tqdm(final_compounds):\n",
    "    form_e_trained.append(predict_formation_energy(compound))\n",
    "\n",
    "# Sintering temp\n",
    "sintering_random = []\n",
    "sintering_trained = []\n",
    "for compound in tqdm(random_oxides):\n",
    "    sintering_random.append(predict_sinter(compound))\n",
    "for compound in tqdm(final_compounds):\n",
    "    sintering_trained.append(predict_sinter(compound))\n",
    "\n",
    "# Bulk modulus\n",
    "bulk_mod_random = []\n",
    "bulk_mod_trained = []\n",
    "for compound in tqdm(random_oxides):\n",
    "    bulk_mod_random.append(predict_bulk_mod(compound))\n",
    "for compound in tqdm(final_compounds):\n",
    "    bulk_mod_trained.append(predict_bulk_mod(compound))\n",
    "\n",
    "# Charge neutrality and electronegativity\n",
    "cn_random_good, cn_random_bad = check_neutrality_multiple(random_oxides)\n",
    "en_random_good, en_random_bad = check_electronegativity_multiple(random_oxides)\n",
    "cn_trained_good, cn_trained_bad = check_neutrality_multiple(final_compounds)\n",
    "en_trained_good, en_trained_bad = check_electronegativity_multiple(final_compounds)\n",
    "\n",
    "# Uniqueness\n",
    "random_oxides_unique = list(set(random_oxides))\n",
    "final_compounds_unique = list(set(final_compounds))\n",
    "\n",
    "# EMD\n",
    "random_oxides_EMD_mean, random_oxides_EMD_std = similarity_to_nearest_neighbor(random_oxides)\n",
    "final_compounds_EMD_mean, final_compounds_EMD_std = similarity_to_nearest_neighbor(final_compounds)\n",
    "\n",
    "results = {}\n",
    "results['form_e_random_mean'] = np.mean(form_e_random)\n",
    "results['form_e_random_std'] = np.std(form_e_random)\n",
    "results['form_e_trained_mean'] = np.mean(form_e_trained)\n",
    "results['form_e_trained_std'] = np.std(form_e_trained)\n",
    "\n",
    "results['sintering_random_mean'] = np.mean(sintering_random)\n",
    "results['sintering_random_std'] = np.std(sintering_random)\n",
    "results['sintering_trained_mean'] = np.mean(sintering_trained)\n",
    "results['sintering_trained_std'] = np.std(sintering_trained)\n",
    "\n",
    "results['bulk_mod_random_mean'] = np.mean(bulk_mod_random)\n",
    "results['bulk_mod_random_std'] = np.std(bulk_mod_random)\n",
    "results['bulk_mod_trained_mean'] = np.mean(bulk_mod_trained)\n",
    "results['bulk_mod_trained_std'] = np.std(bulk_mod_trained)\n",
    "\n",
    "results['charge_neutral_random'] = len(cn_random_good)/(len(cn_random_good)+len(cn_random_bad))\n",
    "results['electronegativity_balanced_random'] = len(en_random_good)/(len(en_random_good)+len(en_random_bad))\n",
    "results['charge_neutral_trained'] = len(cn_trained_good)/(len(cn_trained_good)+len(cn_trained_bad))\n",
    "results['electronegativity_balanced_trained'] = len(en_trained_good)/(len(en_trained_good)+len(en_trained_bad))\n",
    "results['unique_random'] = len(random_oxides_unique)/len(random_oxides)\n",
    "results['unique_trained'] = len(final_compounds_unique)/len(final_compounds)\n",
    "results['random_oxides_EMD_mean'], results['random_oxides_EMD_std'] = random_oxides_EMD_mean, random_oxides_EMD_std\n",
    "results['final_compounds_EMD_mean'], results['final_compounds_EMD_std'] = final_compounds_EMD_mean, final_compounds_EMD_std\n",
    "results"
   ]
  },
  {
   "cell_type": "code",
   "execution_count": 12,
   "metadata": {},
   "outputs": [
    {
     "data": {
      "text/plain": [
       "{'form_e_random_mean': -1.3723867765516042,\n",
       " 'form_e_random_std': 0.7347616392281606,\n",
       " 'form_e_trained_mean': -0.43416797831025905,\n",
       " 'form_e_trained_std': 0.35918108369723534,\n",
       " 'sintering_random_mean': 1011.1405443517411,\n",
       " 'sintering_random_std': 131.0925303880326,\n",
       " 'sintering_trained_mean': 935.1747791413529,\n",
       " 'sintering_trained_std': 64.0713517664827,\n",
       " 'bulk_mod_random_mean': 4.29139886379242,\n",
       " 'bulk_mod_random_std': 0.6012997229802703,\n",
       " 'bulk_mod_trained_mean': 5.226487160682678,\n",
       " 'bulk_mod_trained_std': 0.36209249095798707,\n",
       " 'charge_neutral_random': 0.599,\n",
       " 'electronegativity_balanced_random': 0.428,\n",
       " 'charge_neutral_trained': 0.926,\n",
       " 'electronegativity_balanced_trained': 0.639,\n",
       " 'unique_random': 1.0,\n",
       " 'unique_trained': 0.999,\n",
       " 'random_oxides_EMD_mean': 20.128644743593593,\n",
       " 'random_oxides_EMD_std': 9.82379022238823,\n",
       " 'final_compounds_EMD_mean': 8.878022898180483,\n",
       " 'final_compounds_EMD_std': 4.490652502172893}"
      ]
     },
     "execution_count": 12,
     "metadata": {},
     "output_type": "execute_result"
    }
   ],
   "source": [
    "results"
   ]
  },
  {
   "cell_type": "markdown",
   "metadata": {},
   "source": [
    "# Joint Optimization Figure"
   ]
  },
  {
   "cell_type": "code",
   "execution_count": 3,
   "metadata": {},
   "outputs": [],
   "source": [
    "# Load predicted formation energies of random oxides \n",
    "with open('./training_data/oxides_sinter_bulk_mod_1-62/sinter_random.pkl', 'rb') as f: \n",
    "    sinter_random = pickle.load(f)\n",
    "\n",
    "# Load predicted bulk mod of random oxides \n",
    "with open('./training_data/oxides_sinter_bulk_mod_1-62/bulk_mod_random.pkl', 'rb') as f: \n",
    "    bulk_mod_random = pickle.load(f)\n",
    "\n",
    "# Load predicted formation energies of constrained DQN\n",
    "ratios = [\n",
    "          '1-250',\n",
    "          '1-125',\n",
    "          '1-62'\n",
    "          ]\n",
    "sinter_dict   = {}\n",
    "bulk_mod_dict = {}\n",
    "\n",
    "\n",
    "for ratio in ratios:\n",
    "    with open('./training_data/oxides_sinter_bulk_mod_{}/sinter_500iter_roost_constrained.pkl'.format(ratio), 'rb') as f: \n",
    "        sinter_constrained = pickle.load(f)\n",
    "        sinter_dict[ratio] = sinter_constrained\n",
    "\n",
    "    # Load predicted bulk mod of constrained DQN\n",
    "    with open('./training_data/oxides_sinter_bulk_mod_{}/bulk_mod_500iter_roost_constrained.pkl'.format(ratio), 'rb') as f: \n",
    "        bulk_mod_constrained = pickle.load(f)\n",
    "        bulk_mod_dict[ratio] = bulk_mod_constrained\n",
    "\n",
    "# visualize compounds\n",
    "# Load generated compounds of constrained DQN\n",
    "compounds_dict   = {}\n",
    "\n",
    "for ratio in ratios:\n",
    "    with open('./training_data/oxides_sinter_bulk_mod_{}/final_compounds_roost_constrained.pkl'.format(ratio), 'rb') as f: \n",
    "        compounds = pickle.load(f)\n",
    "        compounds_dict[ratio] = compounds"
   ]
  },
  {
   "cell_type": "code",
   "execution_count": 157,
   "metadata": {},
   "outputs": [
    {
     "name": "stdout",
     "output_type": "stream",
     "text": [
      "880.6949242424243 5.514501571655273\n",
      "Os5WO5 1-250\n"
     ]
    },
    {
     "data": {
      "image/png": "[encoded data removed]",
      "text/plain": [
       "<Figure size 720x720 with 3 Axes>"
      ]
     },
     "metadata": {
      "needs_background": "light"
     },
     "output_type": "display_data"
    }
   ],
   "source": [
    "compounds_to_check = []\n",
    "# 2D plot\n",
    "# definitions for the axes\n",
    "colors = ['red', 'blue', 'green']\n",
    "alpha = 0.3\n",
    "bins = 75\n",
    "\n",
    "left, width = 0.1, 0.65\n",
    "bottom, height = 0.1, 0.65\n",
    "spacing = 0.01\n",
    "rect_scatter = [left, bottom, width, height]\n",
    "rect_histx = [left, bottom + height + spacing, width, 0.2]\n",
    "rect_histy = [left + width + spacing, bottom, 0.2, height]\n",
    "\n",
    "fig = plt.figure(figsize=(10,10))\n",
    "ax = fig.add_axes(rect_scatter)\n",
    "ax_histx = fig.add_axes(rect_histx, sharex=ax)\n",
    "ax_histy = fig.add_axes(rect_histy, sharey=ax)\n",
    "\n",
    "# no labels from histogram\n",
    "ax_histx.tick_params(axis=\"x\", labelbottom=False)\n",
    "ax_histx.tick_params(axis=\"y\", labelleft=False)\n",
    "ax_histy.tick_params(axis=\"y\", labelleft=False)\n",
    "ax_histy.tick_params(axis=\"x\", labelbottom=False)\n",
    "\n",
    "ax.scatter(sinter_random, bulk_mod_random, alpha = 0.3, color = 'grey', s = 20, label = 'Random')\n",
    "ax_histx.hist(sinter_random, color = 'grey', alpha = 0.3, bins = bins)\n",
    "ax_histy.hist(bulk_mod_random, color = 'grey', alpha = 0.3, bins = bins, orientation='horizontal')\n",
    "\n",
    "count = 0\n",
    "for ratio in ratios:\n",
    "    get_label = lambda x: x.split('-')[1] if (x in ['1-250','1-125']) else '62.5'\n",
    "    label = get_label(ratio)\n",
    "    ax.scatter(sinter_dict[ratio], bulk_mod_dict[ratio], color = colors[count], alpha = alpha, s = 20, label = '$\\lambda$ = '+ label) \n",
    "    ax_histx.hist(sinter_dict[ratio], color = colors[count], alpha = 0.3, bins = bins)\n",
    "    ax_histy.hist(bulk_mod_dict[ratio], color = colors[count], alpha = 0.3, bins = bins, orientation='horizontal')\n",
    "    compounds = compounds_dict[ratio]\n",
    "    \n",
    "    count += 1\n",
    "\n",
    "    # labels for compounds on pareto front\n",
    "    pareto_threshold = 480\n",
    "    x_weight, y_weight = ratio.split('-') # relative weights for two metrics\n",
    "    x_weight, y_weight = float(x_weight), float(y_weight)\n",
    "    for compound, x, y in zip(compounds, sinter_dict[ratio], bulk_mod_dict[ratio]):\n",
    "        if -x_weight*x + y_weight*y > pareto_threshold: # plot if the combined metric is above a certain threshold\n",
    "            compound = Composition(compound)\n",
    "            compound = compound.reduced_formula \n",
    "            compounds_to_check.append(compound)\n",
    "            if compound == 'Os5WO5':\n",
    "                ax.text(x = x, y = y+0.2, s = compound, size = 7)\n",
    "                print(x, y)\n",
    "                print(compound, ratio)\n",
    "\n",
    "ax.set_xlabel('Sintering Temperature', size = 30)\n",
    "ax.set_ylabel('Bulk Modulus', size = 30)\n",
    "ax.tick_params(axis='x', labelsize= 30)\n",
    "ax.tick_params(axis='y', labelsize= 30)\n",
    "ax.set_xlim(700, 1400)\n",
    "plt.ylim(2.5,6)\n",
    "\n",
    "ax.legend(fontsize = 30)\n",
    "# plt.savefig(fname = 'plots/NeurIPS_workshop_2022/joint_optimization.png', dpi = 1000)\n",
    "plt.show()"
   ]
  },
  {
   "cell_type": "code",
   "execution_count": 70,
   "metadata": {},
   "outputs": [
    {
     "data": {
      "text/html": [
       "<div>\n",
       "<style scoped>\n",
       "    .dataframe tbody tr th:only-of-type {\n",
       "        vertical-align: middle;\n",
       "    }\n",
       "\n",
       "    .dataframe tbody tr th {\n",
       "        vertical-align: top;\n",
       "    }\n",
       "\n",
       "    .dataframe thead th {\n",
       "        text-align: right;\n",
       "    }\n",
       "</style>\n",
       "<table border=\"1\" class=\"dataframe\">\n",
       "  <thead>\n",
       "    <tr style=\"text-align: right;\">\n",
       "      <th></th>\n",
       "      <th>sinter_random</th>\n",
       "      <th>bulk_mod_random</th>\n",
       "      <th>sinter_1-250</th>\n",
       "      <th>bulk_mod_1-250</th>\n",
       "      <th>sinter_1-125</th>\n",
       "      <th>bulk_mod_1-125</th>\n",
       "      <th>sinter_1-62</th>\n",
       "      <th>bulk_mod_1-62</th>\n",
       "    </tr>\n",
       "  </thead>\n",
       "  <tbody>\n",
       "    <tr>\n",
       "      <th>0</th>\n",
       "      <td>1078.504167</td>\n",
       "      <td>4.564713</td>\n",
       "      <td>969.837143</td>\n",
       "      <td>5.374899</td>\n",
       "      <td>784.019792</td>\n",
       "      <td>4.130368</td>\n",
       "      <td>861.910000</td>\n",
       "      <td>4.109288</td>\n",
       "    </tr>\n",
       "    <tr>\n",
       "      <th>1</th>\n",
       "      <td>848.222500</td>\n",
       "      <td>4.202143</td>\n",
       "      <td>934.047205</td>\n",
       "      <td>5.213277</td>\n",
       "      <td>1113.102711</td>\n",
       "      <td>5.107035</td>\n",
       "      <td>920.769389</td>\n",
       "      <td>4.522017</td>\n",
       "    </tr>\n",
       "    <tr>\n",
       "      <th>2</th>\n",
       "      <td>985.951161</td>\n",
       "      <td>4.978990</td>\n",
       "      <td>1048.720060</td>\n",
       "      <td>5.334540</td>\n",
       "      <td>968.534080</td>\n",
       "      <td>5.460206</td>\n",
       "      <td>861.865322</td>\n",
       "      <td>4.939682</td>\n",
       "    </tr>\n",
       "    <tr>\n",
       "      <th>3</th>\n",
       "      <td>1055.274982</td>\n",
       "      <td>4.433240</td>\n",
       "      <td>962.808185</td>\n",
       "      <td>5.413830</td>\n",
       "      <td>1156.977237</td>\n",
       "      <td>4.675231</td>\n",
       "      <td>731.903333</td>\n",
       "      <td>3.680496</td>\n",
       "    </tr>\n",
       "    <tr>\n",
       "      <th>4</th>\n",
       "      <td>1079.890736</td>\n",
       "      <td>4.932131</td>\n",
       "      <td>931.505915</td>\n",
       "      <td>5.270806</td>\n",
       "      <td>844.064801</td>\n",
       "      <td>5.050420</td>\n",
       "      <td>738.660529</td>\n",
       "      <td>4.770070</td>\n",
       "    </tr>\n",
       "    <tr>\n",
       "      <th>...</th>\n",
       "      <td>...</td>\n",
       "      <td>...</td>\n",
       "      <td>...</td>\n",
       "      <td>...</td>\n",
       "      <td>...</td>\n",
       "      <td>...</td>\n",
       "      <td>...</td>\n",
       "      <td>...</td>\n",
       "    </tr>\n",
       "    <tr>\n",
       "      <th>995</th>\n",
       "      <td>1076.455089</td>\n",
       "      <td>3.671948</td>\n",
       "      <td>890.837525</td>\n",
       "      <td>4.965373</td>\n",
       "      <td>754.308168</td>\n",
       "      <td>4.414021</td>\n",
       "      <td>739.302033</td>\n",
       "      <td>4.230743</td>\n",
       "    </tr>\n",
       "    <tr>\n",
       "      <th>996</th>\n",
       "      <td>1134.098367</td>\n",
       "      <td>4.961004</td>\n",
       "      <td>864.308910</td>\n",
       "      <td>5.273553</td>\n",
       "      <td>827.214008</td>\n",
       "      <td>4.870847</td>\n",
       "      <td>984.131374</td>\n",
       "      <td>4.715594</td>\n",
       "    </tr>\n",
       "    <tr>\n",
       "      <th>997</th>\n",
       "      <td>1095.133479</td>\n",
       "      <td>4.143021</td>\n",
       "      <td>947.631499</td>\n",
       "      <td>5.505041</td>\n",
       "      <td>1141.706695</td>\n",
       "      <td>4.962703</td>\n",
       "      <td>1054.486265</td>\n",
       "      <td>2.992527</td>\n",
       "    </tr>\n",
       "    <tr>\n",
       "      <th>998</th>\n",
       "      <td>1191.093996</td>\n",
       "      <td>4.960401</td>\n",
       "      <td>921.411935</td>\n",
       "      <td>5.482382</td>\n",
       "      <td>931.969619</td>\n",
       "      <td>5.167592</td>\n",
       "      <td>718.490208</td>\n",
       "      <td>4.282862</td>\n",
       "    </tr>\n",
       "    <tr>\n",
       "      <th>999</th>\n",
       "      <td>1181.529857</td>\n",
       "      <td>4.268781</td>\n",
       "      <td>922.583121</td>\n",
       "      <td>5.071329</td>\n",
       "      <td>894.228582</td>\n",
       "      <td>5.247591</td>\n",
       "      <td>827.163076</td>\n",
       "      <td>4.293861</td>\n",
       "    </tr>\n",
       "  </tbody>\n",
       "</table>\n",
       "<p>1000 rows × 8 columns</p>\n",
       "</div>"
      ],
      "text/plain": [
       "     sinter_random  bulk_mod_random  sinter_1-250  bulk_mod_1-250  \\\n",
       "0      1078.504167         4.564713    969.837143        5.374899   \n",
       "1       848.222500         4.202143    934.047205        5.213277   \n",
       "2       985.951161         4.978990   1048.720060        5.334540   \n",
       "3      1055.274982         4.433240    962.808185        5.413830   \n",
       "4      1079.890736         4.932131    931.505915        5.270806   \n",
       "..             ...              ...           ...             ...   \n",
       "995    1076.455089         3.671948    890.837525        4.965373   \n",
       "996    1134.098367         4.961004    864.308910        5.273553   \n",
       "997    1095.133479         4.143021    947.631499        5.505041   \n",
       "998    1191.093996         4.960401    921.411935        5.482382   \n",
       "999    1181.529857         4.268781    922.583121        5.071329   \n",
       "\n",
       "     sinter_1-125  bulk_mod_1-125  sinter_1-62  bulk_mod_1-62  \n",
       "0      784.019792        4.130368   861.910000       4.109288  \n",
       "1     1113.102711        5.107035   920.769389       4.522017  \n",
       "2      968.534080        5.460206   861.865322       4.939682  \n",
       "3     1156.977237        4.675231   731.903333       3.680496  \n",
       "4      844.064801        5.050420   738.660529       4.770070  \n",
       "..            ...             ...          ...            ...  \n",
       "995    754.308168        4.414021   739.302033       4.230743  \n",
       "996    827.214008        4.870847   984.131374       4.715594  \n",
       "997   1141.706695        4.962703  1054.486265       2.992527  \n",
       "998    931.969619        5.167592   718.490208       4.282862  \n",
       "999    894.228582        5.247591   827.163076       4.293861  \n",
       "\n",
       "[1000 rows x 8 columns]"
      ]
     },
     "execution_count": 70,
     "metadata": {},
     "output_type": "execute_result"
    }
   ],
   "source": [
    "df = pd.DataFrame()\n",
    "df['sinter_random'] = sinter_random\n",
    "df['bulk_mod_random'] = bulk_mod_random\n",
    "for ratio in ratios:\n",
    "    get_label = lambda x: x.split('-')[1] if (x in ['1-250','1-125']) else '62.5'\n",
    "    label = get_label(ratio)\n",
    "    df['sinter_{}'.format(ratio)], df['bulk_mod_{}'.format(ratio)] = sinter_dict[ratio], bulk_mod_dict[ratio]\n",
    "df"
   ]
  },
  {
   "cell_type": "code",
   "execution_count": 183,
   "metadata": {},
   "outputs": [
    {
     "data": {
      "image/png": "[encoded data removed]",
      "text/plain": [
       "<Figure size 3240x720 with 4 Axes>"
      ]
     },
     "metadata": {
      "needs_background": "light"
     },
     "output_type": "display_data"
    }
   ],
   "source": [
    "# KDE version\n",
    "# cmaps = ['Reds', 'Blues', 'Greens']\n",
    "cmaps = ['Reds', 'Oranges', 'Blues']\n",
    "alpha = 1\n",
    "label_size = 40\n",
    "tick_label_size = 40\n",
    "title_size = 60\n",
    "tick_length = 15\n",
    "tick_width = 4\n",
    "xlim = [650, 1350]\n",
    "ylim  = [2.6, 6]\n",
    "matplotlib.rcParams['axes.linewidth'] = 3\n",
    "\n",
    "#define figure\n",
    "fig = plt.figure()\n",
    "fig.set_figheight(10) # figure height\n",
    "fig.set_figwidth(45) # figure width\n",
    "\n",
    "# create grid for different subplots\n",
    "spec = gridspec.GridSpec(ncols=4, nrows=1,\n",
    "                            wspace=0.2,\n",
    "#                          width_ratios=[2, 1], wspace=0.5,\n",
    "#                          hspace=0.5, height_ratios=[1, 2]\n",
    "                        )\n",
    "\n",
    "ax0 = fig.add_subplot(spec[0])\n",
    "sns.kdeplot(data=df, x=\"sinter_random\", y=\"bulk_mod_random\", fill = True, cmap = 'Greys', alpha = alpha)\n",
    "ax0.set_title('Random', fontsize = title_size)\n",
    "ax0.set_xlabel('Sintering Temperature', size = label_size)\n",
    "ax0.set_ylabel('Bulk Modulus', size = label_size)\n",
    "ax0.tick_params(axis='x', labelsize= tick_label_size, length = tick_length, width = tick_width, direction = 'in')\n",
    "ax0.tick_params(axis='y', labelsize= tick_label_size, length = tick_length, width = tick_width, direction = 'in')\n",
    "# ax.tick_params(direction='out', length=6, width=2, colors='r',\n",
    "#                grid_color='r', grid_alpha=0.5)\n",
    "ax0.set_xlim(xlim[0], xlim[1])\n",
    "plt.ylim(ylim[0], ylim[1])\n",
    "\n",
    "ax1 = fig.add_subplot(spec[1], sharey = ax0)\n",
    "sns.kdeplot(data=df, x=\"sinter_1-62\", y=\"bulk_mod_1-62\", fill = True, cmap = 'Reds', alpha = alpha)\n",
    "ax1.set_title('DQN ($\\lambda$ = 62.5)', fontsize = title_size)\n",
    "ax1.set_xlabel('Sintering Temperature', size = label_size)\n",
    "ax1.set(ylabel=None)\n",
    "ax1.tick_params(axis='x', labelsize= tick_label_size, length = tick_length, width = tick_width, direction = 'in')\n",
    "ax1.tick_params(axis='y', labelsize= tick_label_size, length = tick_length, width = tick_width, direction = 'in')\n",
    "ax1.set_xlim(xlim[0], xlim[1])\n",
    "plt.ylim(ylim[0], ylim[1])\n",
    "\n",
    "ax2 = fig.add_subplot(spec[2])\n",
    "sns.kdeplot(data=df, x=\"sinter_1-125\", y=\"bulk_mod_1-125\", fill = True, cmap = 'Blues', alpha = alpha)\n",
    "ax2.set_title('DQN ($\\lambda$ = 125)', fontsize = title_size)\n",
    "ax2.set_xlabel('Sintering Temperature', size = label_size)\n",
    "ax2.set(ylabel=None)\n",
    "ax2.tick_params(axis='x', labelsize= tick_label_size, length = tick_length, width = tick_width, direction = 'in')\n",
    "ax2.tick_params(axis='y', labelsize= tick_label_size, length = tick_length, width = tick_width, direction = 'in')\n",
    "ax2.set_xlim(xlim[0], xlim[1])\n",
    "plt.ylim(ylim[0], ylim[1])\n",
    "\n",
    "ax3 = fig.add_subplot(spec[3])\n",
    "sns.kdeplot(data=df, x=\"sinter_1-250\", y=\"bulk_mod_1-250\", fill = True, cmap = 'Greens', alpha = alpha)\n",
    "\n",
    "# Os5WO5$\n",
    "ax3.plot([880.6949242424243], [5.514501571655273], marker = '*', markersize = 50, color = 'green', \n",
    "                                                                markeredgewidth = 5, markeredgecolor = 'black')\n",
    "ax3.text(670, 5.7, 'Os$_5$WO$_5$', fontsize = 40)\n",
    "\n",
    "ax3.set_title('DQN ($\\lambda$ = 250)', fontsize = title_size)\n",
    "ax3.set_xlabel('Sintering Temperature', size = label_size)\n",
    "ax3.set(ylabel=None)\n",
    "ax3.tick_params(axis='x', labelsize= tick_label_size, length = tick_length, width = tick_width, direction = 'in')\n",
    "ax3.tick_params(axis='y', labelsize= tick_label_size, length = tick_length, width = tick_width, direction = 'in')\n",
    "ax3.set_xlim(xlim[0], xlim[1])\n",
    "plt.ylim(ylim[0], ylim[1])\n",
    "\n",
    "# fig.savefig('plots/NeurIPS_workshop_2022/joint_optimization_kde.png', dpi = 300)\n",
    "\n",
    "fig.show()"
   ]
  },
  {
   "cell_type": "code",
   "execution_count": 3,
   "metadata": {},
   "outputs": [
    {
     "name": "stderr",
     "output_type": "stream",
     "text": [
      "100%|██████████| 1000/1000 [01:18<00:00, 12.73it/s]\n"
     ]
    },
    {
     "name": "stdout",
     "output_type": "stream",
     "text": [
      "bulk_mod\n",
      "-0.5865682663426269\n",
      "0.43989968846819255\n",
      "----\n"
     ]
    },
    {
     "name": "stderr",
     "output_type": "stream",
     "text": [
      "100%|██████████| 1000/1000 [01:34<00:00, 10.60it/s]\n"
     ]
    },
    {
     "name": "stdout",
     "output_type": "stream",
     "text": [
      "shear_mod\n",
      "-1.008945337661251\n",
      "0.5557614353533172\n",
      "----\n"
     ]
    },
    {
     "name": "stderr",
     "output_type": "stream",
     "text": [
      "100%|██████████| 1000/1000 [01:18<00:00, 12.76it/s]"
     ]
    },
    {
     "name": "stdout",
     "output_type": "stream",
     "text": [
      "sinter\n",
      "-1.0209875393921974\n",
      "0.507839532848521\n",
      "----\n"
     ]
    },
    {
     "name": "stderr",
     "output_type": "stream",
     "text": [
      "\n"
     ]
    }
   ],
   "source": [
    "# predict formation energies of generated compounds\n",
    "for prop in [\"bulk_mod\", \"shear_mod\", \"sinter\"]:\n",
    "    if prop == 'sinter':\n",
    "        model = \"RF\"\n",
    "    else:\n",
    "        model = \"roost\"\n",
    "    with open(f'./training_data/oxides_{prop}/final_compounds_{model}_constrained.pkl', 'rb') as handle:\n",
    "        final_compounds = pickle.load(handle)\n",
    "    formation_energies = []\n",
    "    for compound in tqdm(final_compounds):\n",
    "        try:\n",
    "            formation_energies.append(predict_formation_energy(compound))\n",
    "        except:\n",
    "            print('err')\n",
    "    print(prop)\n",
    "    print(np.mean(formation_energies))\n",
    "    print(np.std(formation_energies))\n",
    "    print('----')\n"
   ]
  },
  {
   "cell_type": "code",
   "execution_count": 4,
   "metadata": {},
   "outputs": [],
   "source": [
    "with open(f'./training_data/oxides_bulk_mod/final_compounds_roost_constrained.pkl', 'rb') as handle:\n",
    "    final_compounds = pickle.load(handle)"
   ]
  },
  {
   "cell_type": "code",
   "execution_count": 5,
   "metadata": {},
   "outputs": [
    {
     "data": {
      "text/plain": [
       "['Fe3P4Co9O4',\n",
       " 'V4Fe7Ir7O4',\n",
       " 'Os5V8Cr1W3O4',\n",
       " 'Al1Ir2Co7Ru4O4',\n",
       " 'C5Al9B4O4',\n",
       " 'Fe4Ir1Ir7Ta3O4',\n",
       " 'C5Ir6Ti8O5',\n",
       " 'Cr4Ru6Ti4Fe1O4',\n",
       " 'Mo1Re4Re5V5O4',\n",
       " 'Re1Ir4Ir6O4',\n",
       " 'C4C4W5O4O1',\n",
       " 'Rh4Os1Al1O5',\n",
       " 'Al6Fe3Re9Ti4O1',\n",
       " 'Al4V2Re2B2O5',\n",
       " 'Zr6Fe7Re1Ru4O8',\n",
       " 'Cr9Re2Ru3Rh7O5',\n",
       " 'Ru4Os2Re9B8O1',\n",
       " 'Rh5Os5Os1O4',\n",
       " 'Cr9V6V7O4',\n",
       " 'C4Ge2Mo4Ti2O5',\n",
       " 'Cr6Al4Rh2Cr2O5',\n",
       " 'Al5Co4Ru2Co7O4',\n",
       " 'Ir3Cr3Ru4Cr8O5',\n",
       " 'W4Fe9Ir1Re9O5',\n",
       " 'Ni4Ir4Mo4Cr9O5',\n",
       " 'V8V7Co1O5',\n",
       " 'Ir8W1Fe9O4',\n",
       " 'Re2V4O5',\n",
       " 'Os7Os5V7Co9O5',\n",
       " 'Fe9Re7P2O4',\n",
       " 'C9C2Ti6Mo2O1',\n",
       " 'Al4Ir6Co4O4',\n",
       " 'Rh3Re6Re4Re3O4',\n",
       " 'Re9Ir7Rh4B6O4',\n",
       " 'C3Al8Re9Ta3O1',\n",
       " 'Ru5Ir8Rh9O5',\n",
       " 'Ru3Co7Ru1Re1O5',\n",
       " 'Cr2Cr1O4',\n",
       " 'Re2Ir7Os9O4',\n",
       " 'Ru3Os1Ga4Nb1O1',\n",
       " 'Ir1Rh3Re2B8O1',\n",
       " 'Os1V2O4',\n",
       " 'Ru5Re7Rh4Be1O4',\n",
       " 'Re8W7O5',\n",
       " 'V7W2Os4O4',\n",
       " 'Cr7Os6Ir3O4',\n",
       " 'Ni4Ti7Ru8Co9O5',\n",
       " 'Cr9Ir3Ru6O4',\n",
       " 'Ru3Os8Re7O5',\n",
       " 'W5Rh7O4']"
      ]
     },
     "execution_count": 5,
     "metadata": {},
     "output_type": "execute_result"
    }
   ],
   "source": [
    "final_compounds[:50]"
   ]
  },
  {
   "cell_type": "code",
   "execution_count": null,
   "metadata": {},
   "outputs": [],
   "source": []
  }
 ],
 "metadata": {
  "kernelspec": {
   "display_name": "dqn_roost_EMD",
   "language": "python",
   "name": "dqn_roost_emd"
  },
  "language_info": {
   "codemirror_mode": {
    "name": "ipython",
    "version": 3
   },
   "file_extension": ".py",
   "mimetype": "text/x-python",
   "name": "python",
   "nbconvert_exporter": "python",
   "pygments_lexer": "ipython3",
   "version": "3.7.10"
  },
  "vscode": {
   "interpreter": {
    "hash": "4dfc4f11cdac7a917e4c49963db7b078552de25a718ab60c95f9f9e037cde35e"
   }
  }
 },
 "nbformat": 4,
 "nbformat_minor": 2
}
