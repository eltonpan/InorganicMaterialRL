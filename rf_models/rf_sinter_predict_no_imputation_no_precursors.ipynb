{
 "cells": [
  {
   "cell_type": "code",
   "execution_count": 35,
   "id": "1ec3980b",
   "metadata": {},
   "outputs": [],
   "source": [
    "import matplotlib.pyplot as plt\n",
    "import seaborn as sns\n",
    "import numpy as np\n",
    "import pandas as pd\n",
    "from pymatgen import Composition, Element\n",
    "import pickle as pkl\n",
    "from matminer.featurizers.base import MultipleFeaturizer\n",
    "from matminer.featurizers import composition as cf\n",
    "from matminer.featurizers.conversions import StrToComposition\n",
    "from sklearn.ensemble import RandomForestRegressor\n",
    "from sklearn.model_selection import train_test_split\n",
    "from sklearn.metrics import mean_squared_error, r2_score, mean_absolute_error\n",
    "import joblib"
   ]
  },
  {
   "cell_type": "code",
   "execution_count": 36,
   "id": "02207880",
   "metadata": {},
   "outputs": [],
   "source": [
    "with open('/home/jupyter/CJK/TempTime/data/ss_extracted_NO_IMPUTATION_precs_all_targets.pkl', 'rb') as f:\n",
    "    papers = pkl.load(f)"
   ]
  },
  {
   "cell_type": "code",
   "execution_count": 37,
   "id": "80fc0c91",
   "metadata": {},
   "outputs": [],
   "source": [
    "# only use papers with sinter temps\n",
    "papers = [x for x in papers if not np.isnan(x['temp_time_vector'][1])]"
   ]
  },
  {
   "cell_type": "code",
   "execution_count": 38,
   "id": "04a8f2ac",
   "metadata": {},
   "outputs": [],
   "source": [
    "test_targets = [x['target'] for x in papers]\n",
    "test_precs = [x['precursors'] for x in papers]\n",
    "test_temps = [x['temp_time_vector'][1] for x in papers]"
   ]
  },
  {
   "cell_type": "code",
   "execution_count": 39,
   "id": "c4d758a6",
   "metadata": {},
   "outputs": [],
   "source": [
    "# get means\n",
    "test_results = []\n",
    "for target, precs, temps in zip(test_targets, test_precs, test_temps):\n",
    "    if len(test_precs) == 0:\n",
    "        continue\n",
    "    found = False\n",
    "    for result in test_results:\n",
    "        if result[\"Target\"] == target: # and set(result[\"Precursors\"]) == set(precs):\n",
    "            result[\"ss_sinter_temps\"].append(temps)\n",
    "            result[\"Precursors\"].append(precs)\n",
    "            found = True\n",
    "    if not found:\n",
    "        new_result = {}\n",
    "        new_result[\"Target\"] = target\n",
    "        new_result[\"Precursors\"] = [precs]\n",
    "        new_result[\"ss_sinter_temps\"] = []\n",
    "        new_result[\"ss_sinter_temps\"].append(temps)\n",
    "        test_results.append(new_result)"
   ]
  },
  {
   "cell_type": "code",
   "execution_count": 40,
   "id": "a8f5ad43",
   "metadata": {},
   "outputs": [],
   "source": [
    "target_names = [x[\"Target\"] for x in test_results]\n",
    "precursors = [x[\"Precursors\"] for x in test_results]\n",
    "temps = [np.mean(x[\"ss_sinter_temps\"]) for x in test_results]\n",
    "num_pts = [len(x[\"ss_sinter_temps\"]) for x in test_results]"
   ]
  },
  {
   "cell_type": "code",
   "execution_count": 41,
   "id": "f77113b6",
   "metadata": {},
   "outputs": [],
   "source": [
    "feature_calculators = MultipleFeaturizer([\n",
    "    cf.Stoichiometry(),\n",
    "    cf.ElementProperty.from_preset(\"magpie\"),\n",
    "    cf.ValenceOrbital(props=[\"avg\"]),\n",
    "    cf.IonProperty(fast=True)\n",
    "])"
   ]
  },
  {
   "cell_type": "code",
   "execution_count": 42,
   "id": "c7a0a291",
   "metadata": {},
   "outputs": [],
   "source": [
    "feature_labels = feature_calculators.feature_labels()"
   ]
  },
  {
   "cell_type": "code",
   "execution_count": 43,
   "id": "c011bc2c",
   "metadata": {},
   "outputs": [
    {
     "data": {
      "application/vnd.jupyter.widget-view+json": {
       "model_id": "3e4a672bcfc74ba39bbd5baa29182b88",
       "version_major": 2,
       "version_minor": 0
      },
      "text/plain": [
       "HBox(children=(HTML(value='StrToComposition'), FloatProgress(value=0.0, max=11694.0), HTML(value='')))"
      ]
     },
     "metadata": {},
     "output_type": "display_data"
    },
    {
     "name": "stdout",
     "output_type": "stream",
     "text": [
      "\n"
     ]
    },
    {
     "data": {
      "application/vnd.jupyter.widget-view+json": {
       "model_id": "15b13c1b23494878bd27d2e75df87b20",
       "version_major": 2,
       "version_minor": 0
      },
      "text/plain": [
       "HBox(children=(HTML(value='MultipleFeaturizer'), FloatProgress(value=0.0, max=11694.0), HTML(value='')))"
      ]
     },
     "metadata": {},
     "output_type": "display_data"
    },
    {
     "name": "stdout",
     "output_type": "stream",
     "text": [
      "\n"
     ]
    }
   ],
   "source": [
    "data = pd.DataFrame()\n",
    "data[\"targets\"] = target_names\n",
    "data[\"precursors\"] = precursors\n",
    "data[\"temperatures\"] = temps\n",
    "df = StrToComposition(target_col_id=\"composition_obj\").featurize_dataframe(data, \"targets\", ignore_errors=True)\n",
    "df = feature_calculators.featurize_dataframe(df, col_id=\"composition_obj\", ignore_errors = True)"
   ]
  },
  {
   "cell_type": "code",
   "execution_count": 44,
   "id": "ac3bd8c1",
   "metadata": {},
   "outputs": [
    {
     "data": {
      "text/html": [
       "<div>\n",
       "<style scoped>\n",
       "    .dataframe tbody tr th:only-of-type {\n",
       "        vertical-align: middle;\n",
       "    }\n",
       "\n",
       "    .dataframe tbody tr th {\n",
       "        vertical-align: top;\n",
       "    }\n",
       "\n",
       "    .dataframe thead th {\n",
       "        text-align: right;\n",
       "    }\n",
       "</style>\n",
       "<table border=\"1\" class=\"dataframe\">\n",
       "  <thead>\n",
       "    <tr style=\"text-align: right;\">\n",
       "      <th></th>\n",
       "      <th>targets</th>\n",
       "      <th>precursors</th>\n",
       "      <th>temperatures</th>\n",
       "      <th>composition_obj</th>\n",
       "      <th>0-norm</th>\n",
       "      <th>2-norm</th>\n",
       "      <th>3-norm</th>\n",
       "      <th>5-norm</th>\n",
       "      <th>7-norm</th>\n",
       "      <th>10-norm</th>\n",
       "      <th>...</th>\n",
       "      <th>MagpieData mean SpaceGroupNumber</th>\n",
       "      <th>MagpieData avg_dev SpaceGroupNumber</th>\n",
       "      <th>MagpieData mode SpaceGroupNumber</th>\n",
       "      <th>avg s valence electrons</th>\n",
       "      <th>avg p valence electrons</th>\n",
       "      <th>avg d valence electrons</th>\n",
       "      <th>avg f valence electrons</th>\n",
       "      <th>compound possible</th>\n",
       "      <th>max ionic char</th>\n",
       "      <th>avg ionic char</th>\n",
       "    </tr>\n",
       "  </thead>\n",
       "  <tbody>\n",
       "    <tr>\n",
       "      <th>0</th>\n",
       "      <td>Sr0.5Nd0.5CoO3</td>\n",
       "      <td>[[SrCO3, Nd2O3, Co3O4]]</td>\n",
       "      <td>1200.000000</td>\n",
       "      <td>(Sr, Nd, Co, O)</td>\n",
       "      <td>4</td>\n",
       "      <td>0.648074</td>\n",
       "      <td>0.609120</td>\n",
       "      <td>0.600524</td>\n",
       "      <td>0.600040</td>\n",
       "      <td>0.600001</td>\n",
       "      <td>...</td>\n",
       "      <td>87.900000</td>\n",
       "      <td>91.080000</td>\n",
       "      <td>12.0</td>\n",
       "      <td>2.000000</td>\n",
       "      <td>2.400000</td>\n",
       "      <td>1.400000</td>\n",
       "      <td>0.400000</td>\n",
       "      <td>False</td>\n",
       "      <td>0.787757</td>\n",
       "      <td>0.152508</td>\n",
       "    </tr>\n",
       "    <tr>\n",
       "      <th>1</th>\n",
       "      <td>NdCoO3</td>\n",
       "      <td>[[Nd2O3, Co3O4], [Co2O3, Nd2O3], [Co2O3, Nd2O3]]</td>\n",
       "      <td>1200.000000</td>\n",
       "      <td>(Nd, Co, O)</td>\n",
       "      <td>3</td>\n",
       "      <td>0.663325</td>\n",
       "      <td>0.614463</td>\n",
       "      <td>0.600984</td>\n",
       "      <td>0.600078</td>\n",
       "      <td>0.600002</td>\n",
       "      <td>...</td>\n",
       "      <td>84.800000</td>\n",
       "      <td>87.360000</td>\n",
       "      <td>12.0</td>\n",
       "      <td>2.000000</td>\n",
       "      <td>2.400000</td>\n",
       "      <td>1.400000</td>\n",
       "      <td>0.800000</td>\n",
       "      <td>True</td>\n",
       "      <td>0.733532</td>\n",
       "      <td>0.147835</td>\n",
       "    </tr>\n",
       "    <tr>\n",
       "      <th>2</th>\n",
       "      <td>Sr0.4Pr0.6CoO3</td>\n",
       "      <td>[[SrCO3, Pr6O11, Co2O3], [SrCO3, Pr6O11, Co3O4...</td>\n",
       "      <td>1250.000000</td>\n",
       "      <td>(Sr, Pr, Co, O)</td>\n",
       "      <td>4</td>\n",
       "      <td>0.648691</td>\n",
       "      <td>0.609335</td>\n",
       "      <td>0.600536</td>\n",
       "      <td>0.600040</td>\n",
       "      <td>0.600001</td>\n",
       "      <td>...</td>\n",
       "      <td>87.280000</td>\n",
       "      <td>90.336000</td>\n",
       "      <td>12.0</td>\n",
       "      <td>2.000000</td>\n",
       "      <td>2.400000</td>\n",
       "      <td>1.400000</td>\n",
       "      <td>0.360000</td>\n",
       "      <td>False</td>\n",
       "      <td>0.787757</td>\n",
       "      <td>0.151877</td>\n",
       "    </tr>\n",
       "    <tr>\n",
       "      <th>3</th>\n",
       "      <td>Sr0.4Gd0.6CoO3</td>\n",
       "      <td>[[SrCO3, Co2O3, Gd2O3], [SrCO3, Gd2O3, Co3O4],...</td>\n",
       "      <td>1283.333333</td>\n",
       "      <td>(Sr, Gd, Co, O)</td>\n",
       "      <td>4</td>\n",
       "      <td>0.648691</td>\n",
       "      <td>0.609335</td>\n",
       "      <td>0.600536</td>\n",
       "      <td>0.600040</td>\n",
       "      <td>0.600001</td>\n",
       "      <td>...</td>\n",
       "      <td>87.280000</td>\n",
       "      <td>90.336000</td>\n",
       "      <td>12.0</td>\n",
       "      <td>2.000000</td>\n",
       "      <td>2.400000</td>\n",
       "      <td>1.520000</td>\n",
       "      <td>0.840000</td>\n",
       "      <td>False</td>\n",
       "      <td>0.787757</td>\n",
       "      <td>0.149848</td>\n",
       "    </tr>\n",
       "    <tr>\n",
       "      <th>4</th>\n",
       "      <td>Li1.3Mn0.65Ni0.35O2.3</td>\n",
       "      <td>[[MnO2, LiOH, Ni(NO3)2], [MnO2, LiOH, Ni(NO3)2]]</td>\n",
       "      <td>800.000000</td>\n",
       "      <td>(Li, Mn, Ni, O)</td>\n",
       "      <td>4</td>\n",
       "      <td>0.596342</td>\n",
       "      <td>0.532311</td>\n",
       "      <td>0.505820</td>\n",
       "      <td>0.501316</td>\n",
       "      <td>0.500166</td>\n",
       "      <td>...</td>\n",
       "      <td>118.500000</td>\n",
       "      <td>106.500000</td>\n",
       "      <td>12.0</td>\n",
       "      <td>1.717391</td>\n",
       "      <td>2.000000</td>\n",
       "      <td>1.315217</td>\n",
       "      <td>0.000000</td>\n",
       "      <td>True</td>\n",
       "      <td>0.779730</td>\n",
       "      <td>0.176399</td>\n",
       "    </tr>\n",
       "    <tr>\n",
       "      <th>...</th>\n",
       "      <td>...</td>\n",
       "      <td>...</td>\n",
       "      <td>...</td>\n",
       "      <td>...</td>\n",
       "      <td>...</td>\n",
       "      <td>...</td>\n",
       "      <td>...</td>\n",
       "      <td>...</td>\n",
       "      <td>...</td>\n",
       "      <td>...</td>\n",
       "      <td>...</td>\n",
       "      <td>...</td>\n",
       "      <td>...</td>\n",
       "      <td>...</td>\n",
       "      <td>...</td>\n",
       "      <td>...</td>\n",
       "      <td>...</td>\n",
       "      <td>...</td>\n",
       "      <td>...</td>\n",
       "      <td>...</td>\n",
       "      <td>...</td>\n",
       "    </tr>\n",
       "    <tr>\n",
       "      <th>11689</th>\n",
       "      <td>Sm0.55Ce0.45O2</td>\n",
       "      <td>[[CeO2, Sm2O3]]</td>\n",
       "      <td>1690.000000</td>\n",
       "      <td>(Sm, Ce, O)</td>\n",
       "      <td>3</td>\n",
       "      <td>0.707500</td>\n",
       "      <td>0.673744</td>\n",
       "      <td>0.666953</td>\n",
       "      <td>0.666681</td>\n",
       "      <td>0.666667</td>\n",
       "      <td>...</td>\n",
       "      <td>67.533333</td>\n",
       "      <td>74.044444</td>\n",
       "      <td>12.0</td>\n",
       "      <td>2.000000</td>\n",
       "      <td>2.666667</td>\n",
       "      <td>0.150000</td>\n",
       "      <td>1.250000</td>\n",
       "      <td>False</td>\n",
       "      <td>0.739617</td>\n",
       "      <td>0.162497</td>\n",
       "    </tr>\n",
       "    <tr>\n",
       "      <th>11690</th>\n",
       "      <td>Sm0.05Ce0.95O2</td>\n",
       "      <td>[[CeO2, Sm2O3]]</td>\n",
       "      <td>1690.000000</td>\n",
       "      <td>(Sm, Ce, O)</td>\n",
       "      <td>3</td>\n",
       "      <td>0.738241</td>\n",
       "      <td>0.689682</td>\n",
       "      <td>0.669860</td>\n",
       "      <td>0.667185</td>\n",
       "      <td>0.666706</td>\n",
       "      <td>...</td>\n",
       "      <td>72.200000</td>\n",
       "      <td>80.266667</td>\n",
       "      <td>12.0</td>\n",
       "      <td>2.000000</td>\n",
       "      <td>2.666667</td>\n",
       "      <td>0.316667</td>\n",
       "      <td>0.416667</td>\n",
       "      <td>False</td>\n",
       "      <td>0.739617</td>\n",
       "      <td>0.164192</td>\n",
       "    </tr>\n",
       "    <tr>\n",
       "      <th>11691</th>\n",
       "      <td>ZrTa2ZnO8</td>\n",
       "      <td>[[Ta2O5, ZnO, ZrO2]]</td>\n",
       "      <td>1360.000000</td>\n",
       "      <td>(Zr, Ta, Zn, O)</td>\n",
       "      <td>4</td>\n",
       "      <td>0.697217</td>\n",
       "      <td>0.670979</td>\n",
       "      <td>0.666805</td>\n",
       "      <td>0.666673</td>\n",
       "      <td>0.666667</td>\n",
       "      <td>...</td>\n",
       "      <td>78.500000</td>\n",
       "      <td>88.666667</td>\n",
       "      <td>12.0</td>\n",
       "      <td>2.000000</td>\n",
       "      <td>2.666667</td>\n",
       "      <td>1.500000</td>\n",
       "      <td>2.333333</td>\n",
       "      <td>True</td>\n",
       "      <td>0.671436</td>\n",
       "      <td>0.136021</td>\n",
       "    </tr>\n",
       "    <tr>\n",
       "      <th>11692</th>\n",
       "      <td>La2Y0.32Zr1.68O6.84</td>\n",
       "      <td>[[ZrO2, La2O3, Y2O3]]</td>\n",
       "      <td>1650.000000</td>\n",
       "      <td>(La, Y, Zr, O)</td>\n",
       "      <td>4</td>\n",
       "      <td>0.676083</td>\n",
       "      <td>0.639283</td>\n",
       "      <td>0.631378</td>\n",
       "      <td>0.631018</td>\n",
       "      <td>0.630997</td>\n",
       "      <td>...</td>\n",
       "      <td>79.158672</td>\n",
       "      <td>84.753748</td>\n",
       "      <td>12.0</td>\n",
       "      <td>2.000000</td>\n",
       "      <td>2.523985</td>\n",
       "      <td>0.523985</td>\n",
       "      <td>0.000000</td>\n",
       "      <td>True</td>\n",
       "      <td>0.745613</td>\n",
       "      <td>0.166069</td>\n",
       "    </tr>\n",
       "    <tr>\n",
       "      <th>11693</th>\n",
       "      <td>BaTi2.5Mn2.5Fe7O19</td>\n",
       "      <td>[[TiO2, BaCO3, MnO2, Fe2O3]]</td>\n",
       "      <td>1100.000000</td>\n",
       "      <td>(Ba, Ti, Mn, Fe, O)</td>\n",
       "      <td>5</td>\n",
       "      <td>0.643097</td>\n",
       "      <td>0.604386</td>\n",
       "      <td>0.594563</td>\n",
       "      <td>0.593828</td>\n",
       "      <td>0.593753</td>\n",
       "      <td>...</td>\n",
       "      <td>96.484375</td>\n",
       "      <td>100.325195</td>\n",
       "      <td>12.0</td>\n",
       "      <td>2.000000</td>\n",
       "      <td>2.375000</td>\n",
       "      <td>1.859375</td>\n",
       "      <td>0.000000</td>\n",
       "      <td>True</td>\n",
       "      <td>0.803211</td>\n",
       "      <td>0.134356</td>\n",
       "    </tr>\n",
       "  </tbody>\n",
       "</table>\n",
       "<p>11694 rows × 149 columns</p>\n",
       "</div>"
      ],
      "text/plain": [
       "                     targets  \\\n",
       "0             Sr0.5Nd0.5CoO3   \n",
       "1                     NdCoO3   \n",
       "2             Sr0.4Pr0.6CoO3   \n",
       "3             Sr0.4Gd0.6CoO3   \n",
       "4      Li1.3Mn0.65Ni0.35O2.3   \n",
       "...                      ...   \n",
       "11689         Sm0.55Ce0.45O2   \n",
       "11690         Sm0.05Ce0.95O2   \n",
       "11691              ZrTa2ZnO8   \n",
       "11692    La2Y0.32Zr1.68O6.84   \n",
       "11693     BaTi2.5Mn2.5Fe7O19   \n",
       "\n",
       "                                              precursors  temperatures  \\\n",
       "0                                [[SrCO3, Nd2O3, Co3O4]]   1200.000000   \n",
       "1       [[Nd2O3, Co3O4], [Co2O3, Nd2O3], [Co2O3, Nd2O3]]   1200.000000   \n",
       "2      [[SrCO3, Pr6O11, Co2O3], [SrCO3, Pr6O11, Co3O4...   1250.000000   \n",
       "3      [[SrCO3, Co2O3, Gd2O3], [SrCO3, Gd2O3, Co3O4],...   1283.333333   \n",
       "4       [[MnO2, LiOH, Ni(NO3)2], [MnO2, LiOH, Ni(NO3)2]]    800.000000   \n",
       "...                                                  ...           ...   \n",
       "11689                                    [[CeO2, Sm2O3]]   1690.000000   \n",
       "11690                                    [[CeO2, Sm2O3]]   1690.000000   \n",
       "11691                               [[Ta2O5, ZnO, ZrO2]]   1360.000000   \n",
       "11692                              [[ZrO2, La2O3, Y2O3]]   1650.000000   \n",
       "11693                       [[TiO2, BaCO3, MnO2, Fe2O3]]   1100.000000   \n",
       "\n",
       "           composition_obj  0-norm    2-norm    3-norm    5-norm    7-norm  \\\n",
       "0          (Sr, Nd, Co, O)       4  0.648074  0.609120  0.600524  0.600040   \n",
       "1              (Nd, Co, O)       3  0.663325  0.614463  0.600984  0.600078   \n",
       "2          (Sr, Pr, Co, O)       4  0.648691  0.609335  0.600536  0.600040   \n",
       "3          (Sr, Gd, Co, O)       4  0.648691  0.609335  0.600536  0.600040   \n",
       "4          (Li, Mn, Ni, O)       4  0.596342  0.532311  0.505820  0.501316   \n",
       "...                    ...     ...       ...       ...       ...       ...   \n",
       "11689          (Sm, Ce, O)       3  0.707500  0.673744  0.666953  0.666681   \n",
       "11690          (Sm, Ce, O)       3  0.738241  0.689682  0.669860  0.667185   \n",
       "11691      (Zr, Ta, Zn, O)       4  0.697217  0.670979  0.666805  0.666673   \n",
       "11692       (La, Y, Zr, O)       4  0.676083  0.639283  0.631378  0.631018   \n",
       "11693  (Ba, Ti, Mn, Fe, O)       5  0.643097  0.604386  0.594563  0.593828   \n",
       "\n",
       "        10-norm  ...  MagpieData mean SpaceGroupNumber  \\\n",
       "0      0.600001  ...                         87.900000   \n",
       "1      0.600002  ...                         84.800000   \n",
       "2      0.600001  ...                         87.280000   \n",
       "3      0.600001  ...                         87.280000   \n",
       "4      0.500166  ...                        118.500000   \n",
       "...         ...  ...                               ...   \n",
       "11689  0.666667  ...                         67.533333   \n",
       "11690  0.666706  ...                         72.200000   \n",
       "11691  0.666667  ...                         78.500000   \n",
       "11692  0.630997  ...                         79.158672   \n",
       "11693  0.593753  ...                         96.484375   \n",
       "\n",
       "       MagpieData avg_dev SpaceGroupNumber  MagpieData mode SpaceGroupNumber  \\\n",
       "0                                91.080000                              12.0   \n",
       "1                                87.360000                              12.0   \n",
       "2                                90.336000                              12.0   \n",
       "3                                90.336000                              12.0   \n",
       "4                               106.500000                              12.0   \n",
       "...                                    ...                               ...   \n",
       "11689                            74.044444                              12.0   \n",
       "11690                            80.266667                              12.0   \n",
       "11691                            88.666667                              12.0   \n",
       "11692                            84.753748                              12.0   \n",
       "11693                           100.325195                              12.0   \n",
       "\n",
       "       avg s valence electrons  avg p valence electrons  \\\n",
       "0                     2.000000                 2.400000   \n",
       "1                     2.000000                 2.400000   \n",
       "2                     2.000000                 2.400000   \n",
       "3                     2.000000                 2.400000   \n",
       "4                     1.717391                 2.000000   \n",
       "...                        ...                      ...   \n",
       "11689                 2.000000                 2.666667   \n",
       "11690                 2.000000                 2.666667   \n",
       "11691                 2.000000                 2.666667   \n",
       "11692                 2.000000                 2.523985   \n",
       "11693                 2.000000                 2.375000   \n",
       "\n",
       "       avg d valence electrons  avg f valence electrons  compound possible  \\\n",
       "0                     1.400000                 0.400000              False   \n",
       "1                     1.400000                 0.800000               True   \n",
       "2                     1.400000                 0.360000              False   \n",
       "3                     1.520000                 0.840000              False   \n",
       "4                     1.315217                 0.000000               True   \n",
       "...                        ...                      ...                ...   \n",
       "11689                 0.150000                 1.250000              False   \n",
       "11690                 0.316667                 0.416667              False   \n",
       "11691                 1.500000                 2.333333               True   \n",
       "11692                 0.523985                 0.000000               True   \n",
       "11693                 1.859375                 0.000000               True   \n",
       "\n",
       "       max ionic char  avg ionic char  \n",
       "0            0.787757        0.152508  \n",
       "1            0.733532        0.147835  \n",
       "2            0.787757        0.151877  \n",
       "3            0.787757        0.149848  \n",
       "4            0.779730        0.176399  \n",
       "...               ...             ...  \n",
       "11689        0.739617        0.162497  \n",
       "11690        0.739617        0.164192  \n",
       "11691        0.671436        0.136021  \n",
       "11692        0.745613        0.166069  \n",
       "11693        0.803211        0.134356  \n",
       "\n",
       "[11694 rows x 149 columns]"
      ]
     },
     "execution_count": 44,
     "metadata": {},
     "output_type": "execute_result"
    }
   ],
   "source": [
    "df"
   ]
  },
  {
   "cell_type": "code",
   "execution_count": 45,
   "id": "0f06c834",
   "metadata": {},
   "outputs": [
    {
     "name": "stdout",
     "output_type": "stream",
     "text": [
      "Shape of X: (11694, 145)\n",
      "Shape of y: (11694,)\n"
     ]
    }
   ],
   "source": [
    "omit_columns = ['targets', 'precursors', 'temperatures', 'composition_obj']\n",
    "X_columns = list(set(list(df.columns)) - set(omit_columns))\n",
    "y_column = 'temperatures'\n",
    "X_df = df[X_columns]\n",
    "X_columns = list(X_df.columns)\n",
    "X = X_df.values\n",
    "y = df[y_column].values\n",
    "print(\"Shape of X: {}\".format(X.shape))\n",
    "print(\"Shape of y: {}\".format(y.shape))"
   ]
  },
  {
   "cell_type": "code",
   "execution_count": 50,
   "id": "ce786437",
   "metadata": {},
   "outputs": [
    {
     "data": {
      "text/plain": [
       "RandomForestRegressor()"
      ]
     },
     "execution_count": 50,
     "metadata": {},
     "output_type": "execute_result"
    }
   ],
   "source": []
  },
  {
   "cell_type": "code",
   "execution_count": 51,
   "id": "581177f8",
   "metadata": {},
   "outputs": [],
   "source": [
    "X_train, X_test, y_train, y_test, num_pts_train, num_pts_test = train_test_split(X, y, num_pts, test_size=0.10, shuffle=True)\n",
    "\n",
    "regr = RandomForestRegressor()\n",
    "regr.fit(X_train, y_train)\n",
    "\n",
    "y_pred = regr.predict(X_test)\n",
    "y_pred_train = regr.predict(X_train)\n",
    "\n",
    "train_mae = mean_absolute_error(y_train, y_pred_train)\n",
    "train_rmse = mean_squared_error(y_train, y_pred_train, squared=False)\n",
    "test_mae = mean_absolute_error(y_test, y_pred)\n",
    "test_rmse = mean_squared_error(y_test, y_pred, squared=False)\n",
    "regr_importances = regr.feature_importances_"
   ]
  },
  {
   "cell_type": "code",
   "execution_count": 52,
   "id": "40c55c62",
   "metadata": {},
   "outputs": [
    {
     "data": {
      "image/png": "[encoded data removed]",
      "text/plain": [
       "<Figure size 600x400 with 1 Axes>"
      ]
     },
     "metadata": {
      "needs_background": "light"
     },
     "output_type": "display_data"
    }
   ],
   "source": [
    "fig, ax = plt.subplots(dpi=100)\n",
    "ax.scatter(y_train, y_pred_train, alpha=0.5, label=\"Train\")\n",
    "ax.scatter(y_test, y_pred, alpha=0.5, label=\"Test\")\n",
    "ax.set_xlabel('Measured')\n",
    "ax.set_ylabel('Predicted')\n",
    "ax.legend()\n",
    "ax.plot([0, 2000], [0, 2000], \"k-\", lw=2)\n",
    "ax.set_xlim([0, 2000])\n",
    "ax.set_ylim([0, 2000])\n",
    "plt.show()"
   ]
  },
  {
   "cell_type": "code",
   "execution_count": 53,
   "id": "0d5f4b6c",
   "metadata": {},
   "outputs": [
    {
     "name": "stdout",
     "output_type": "stream",
     "text": [
      "Fit Statistics:\n",
      "Training Score: 0.9577750895833759\n",
      "Training MAE: 25.696435816600662\n",
      "Training RMSE: 52.8634652514012\n",
      "Testing Score: 0.966131443568734\n",
      "Testing MAE: 24.580414382392515\n",
      "Testing RMSE: 46.701134379416665\n"
     ]
    }
   ],
   "source": [
    "print(\"Fit Statistics:\")\n",
    "\n",
    "print(\"Training Score: {}\".format(regr.score(X_train, y_train)))\n",
    "print(\"Training MAE: {}\".format(train_mae))\n",
    "print(\"Training RMSE: {}\".format(train_rmse))\n",
    "print(\"Testing Score: {}\".format(regr.score(X_test, y_test)))\n",
    "print(\"Testing MAE: {}\".format(test_mae))\n",
    "print(\"Testing RMSE: {}\".format(test_rmse))"
   ]
  },
  {
   "cell_type": "code",
   "execution_count": 33,
   "id": "a03cf341",
   "metadata": {},
   "outputs": [
    {
     "data": {
      "text/plain": [
       "RandomForestRegressor()"
      ]
     },
     "execution_count": 33,
     "metadata": {},
     "output_type": "execute_result"
    }
   ],
   "source": [
    "# load model\n",
    "regr = joblib.load(\"rf_sinter_predict_no_imputation_no_precursors.joblib\")\n",
    "regr\n",
    "\n",
    "# # Save model\n",
    "# joblib.dump(regr, \"rf_sinter_predict_no_imputation_no_precursors.joblib\")"
   ]
  },
  {
   "cell_type": "code",
   "execution_count": 16,
   "id": "64c551ce",
   "metadata": {},
   "outputs": [],
   "source": [
    "inds = np.argsort(regr_importances)"
   ]
  },
  {
   "cell_type": "code",
   "execution_count": 17,
   "id": "12d9a75b",
   "metadata": {},
   "outputs": [
    {
     "name": "stdout",
     "output_type": "stream",
     "text": [
      "MagpieData mean NValence 0.08375075985843626\n",
      "MagpieData maximum NUnfilled 0.07987855713917122\n",
      "MagpieData mode NpValence 0.06120170539876639\n",
      "MagpieData minimum NValence 0.05572521708787155\n",
      "MagpieData minimum GSmagmom 0.051027315975326316\n",
      "MagpieData mode Number 0.04475005573787634\n",
      "MagpieData avg_dev MeltingT 0.042214418626956796\n",
      "MagpieData maximum Electronegativity 0.030793182360823998\n",
      "MagpieData mean MendeleevNumber 0.020288999821370324\n",
      "MagpieData range NdValence 0.017126348826284648\n",
      "MagpieData mean GSmagmom 0.016999478291898584\n",
      "MagpieData mean CovalentRadius 0.015947069954390394\n",
      "MagpieData minimum CovalentRadius 0.01575160441181901\n",
      "MagpieData avg_dev NValence 0.01544077810124128\n",
      "MagpieData minimum Row 0.015376338435750923\n",
      "MagpieData minimum NsValence 0.012838736289966355\n",
      "MagpieData mean NUnfilled 0.012594136182488891\n",
      "MagpieData range NsValence 0.012539859858259077\n",
      "MagpieData mode NpUnfilled 0.012081476435997902\n",
      "MagpieData mean NpUnfilled 0.010836029799398636\n",
      "MagpieData mode NsUnfilled 0.010485340011841829\n",
      "avg s valence electrons 0.010160792877592664\n",
      "MagpieData mean GSbandgap 0.010144187493071149\n",
      "MagpieData range Row 0.010023466802306919\n",
      "avg ionic char 0.009783637650795004\n",
      "MagpieData minimum NpUnfilled 0.009365496275532584\n",
      "MagpieData maximum NsValence 0.00917404050789294\n",
      "MagpieData minimum GSvolume_pa 0.00912205708349994\n",
      "MagpieData minimum NpValence 0.008859519960654334\n",
      "MagpieData mode NdUnfilled 0.008496137785865658\n",
      "MagpieData avg_dev MendeleevNumber 0.008439465895794753\n",
      "10-norm 0.008282701619106958\n",
      "MagpieData range NfUnfilled 0.008156254560470573\n",
      "MagpieData avg_dev CovalentRadius 0.008065518272577264\n",
      "MagpieData minimum Electronegativity 0.0074594522198216705\n",
      "MagpieData avg_dev NpValence 0.007206448822306925\n",
      "MagpieData avg_dev NfValence 0.007136739509087752\n",
      "MagpieData avg_dev Electronegativity 0.007011853952333341\n",
      "MagpieData range AtomicWeight 0.006968477889675675\n",
      "MagpieData maximum NdValence 0.006614991492679298\n",
      "MagpieData maximum MendeleevNumber 0.006568162366113628\n",
      "MagpieData mode CovalentRadius 0.00629687217575634\n",
      "MagpieData maximum NfUnfilled 0.005811665506429381\n",
      "avg f valence electrons 0.0057254624643828045\n",
      "MagpieData minimum SpaceGroupNumber 0.005719349183372846\n",
      "MagpieData avg_dev NsUnfilled 0.005679321675958345\n",
      "MagpieData mean Column 0.005656735684217487\n",
      "MagpieData range MeltingT 0.005590802425124679\n",
      "MagpieData mean AtomicWeight 0.005505913075555805\n",
      "MagpieData range NValence 0.005496549626385099\n",
      "MagpieData mean NsValence 0.005464507214740472\n",
      "MagpieData avg_dev Number 0.005264237140194004\n",
      "MagpieData maximum CovalentRadius 0.005194811912399355\n",
      "MagpieData maximum Number 0.005143222115728569\n",
      "0-norm 0.005071036792938176\n",
      "MagpieData range NpValence 0.005003290309043789\n",
      "MagpieData maximum NsUnfilled 0.00498232821923608\n",
      "MagpieData avg_dev NdValence 0.004948847161894113\n",
      "MagpieData minimum AtomicWeight 0.004590374580687725\n",
      "MagpieData mode NUnfilled 0.004529091830092327\n",
      "MagpieData range Electronegativity 0.004504846344890574\n",
      "MagpieData avg_dev GSmagmom 0.004353375449779578\n",
      "MagpieData mean Electronegativity 0.0042778421062293895\n",
      "MagpieData mean NdValence 0.003977799327970139\n",
      "MagpieData minimum NdValence 0.003837086992774776\n",
      "MagpieData mean NfValence 0.003634241234701831\n",
      "MagpieData maximum Row 0.003630704500047539\n",
      "MagpieData range GSvolume_pa 0.0035804607429516027\n",
      "MagpieData range NsUnfilled 0.003502158469319944\n",
      "MagpieData maximum NpValence 0.003092768646591819\n",
      "MagpieData range Column 0.002863326932862308\n",
      "MagpieData minimum NUnfilled 0.0027896819731462424\n",
      "MagpieData avg_dev Row 0.002741074131196377\n",
      "MagpieData range GSbandgap 0.00266262446337706\n",
      "MagpieData minimum Column 0.002656961855000544\n",
      "3-norm 0.0024463028939537557\n",
      "MagpieData minimum NdUnfilled 0.0024023517665149176\n",
      "MagpieData range CovalentRadius 0.0022700243180714865\n",
      "MagpieData mode NValence 0.0021873801058536506\n",
      "MagpieData mode Electronegativity 0.002182347241152321\n",
      "MagpieData avg_dev SpaceGroupNumber 0.0019720479125520645\n",
      "MagpieData minimum GSbandgap 0.0019401528603623095\n",
      "MagpieData maximum NfValence 0.0019026283010304113\n",
      "MagpieData minimum NfUnfilled 0.001559168012687205\n",
      "MagpieData mean SpaceGroupNumber 0.0015250583317485528\n",
      "MagpieData maximum SpaceGroupNumber 0.0015225223422045526\n",
      "MagpieData mean MeltingT 0.0015065433232075095\n",
      "MagpieData minimum MendeleevNumber 0.001465414147781812\n",
      "MagpieData avg_dev NsValence 0.0013356143521769152\n",
      "MagpieData range NpUnfilled 0.0013041801870115168\n",
      "MagpieData range Number 0.0012897993542582533\n",
      "MagpieData maximum AtomicWeight 0.0011424596770041725\n",
      "MagpieData avg_dev NfUnfilled 0.001121051716387267\n",
      "MagpieData mean Number 0.0010265539249632088\n",
      "MagpieData avg_dev GSvolume_pa 0.0009778983036930128\n",
      "MagpieData mode NfUnfilled 0.0008028730045309739\n",
      "MagpieData avg_dev Column 0.0007564217486914066\n",
      "MagpieData range SpaceGroupNumber 0.0006684486021050183\n",
      "MagpieData range NfValence 0.0006412278282056006\n",
      "MagpieData mode SpaceGroupNumber 0.0005975865955029838\n",
      "MagpieData mean GSvolume_pa 0.0005828112308937007\n",
      "MagpieData range MendeleevNumber 0.0004121564406247433\n",
      "MagpieData minimum MeltingT 0.0003584116401167222\n",
      "MagpieData mode NdValence 0.00033734321187636285\n",
      "MagpieData mode GSbandgap 0.00033101947183944734\n",
      "MagpieData minimum NsUnfilled 0.0003308637907172681\n",
      "MagpieData maximum MeltingT 0.0002814896233954928\n",
      "MagpieData minimum Number 0.00025109684666762866\n",
      "compound possible 0.00017627946363960774\n",
      "MagpieData maximum NdUnfilled 0.0001714463516626752\n",
      "avg d valence electrons 0.00016116435505342459\n",
      "MagpieData avg_dev NdUnfilled 0.00015348114692599813\n",
      "MagpieData maximum GSbandgap 0.00014657066288413726\n",
      "2-norm 0.0001433742778322182\n",
      "MagpieData maximum NpUnfilled 0.00012130401365665441\n",
      "MagpieData mode NfValence 0.00011257021295159969\n",
      "MagpieData range NUnfilled 0.00010481523414911459\n",
      "7-norm 8.78347815587134e-05\n",
      "MagpieData mode Column 8.49878800881911e-05\n",
      "MagpieData range GSmagmom 8.363611268235498e-05\n",
      "MagpieData mean NfUnfilled 7.84534605975277e-05\n",
      "MagpieData mode MeltingT 7.776079218332038e-05\n",
      "5-norm 7.336221589827245e-05\n",
      "max ionic char 4.56262527480144e-05\n",
      "avg p valence electrons 3.952372181608878e-05\n",
      "MagpieData avg_dev NpUnfilled 3.6740254912128424e-05\n",
      "MagpieData mode NsValence 3.566968092215904e-05\n",
      "MagpieData avg_dev NUnfilled 3.386799070058007e-05\n",
      "MagpieData mode Row 3.31023462770525e-05\n",
      "MagpieData maximum Column 3.05340960659732e-05\n",
      "MagpieData mean NpValence 2.0480006379675675e-05\n",
      "MagpieData mean Row 1.8738266816615733e-05\n",
      "MagpieData mode AtomicWeight 1.2023298495988379e-05\n",
      "MagpieData maximum GSmagmom 4.127106423370796e-06\n",
      "MagpieData mode GSmagmom 3.849337248116782e-06\n",
      "MagpieData range NdUnfilled 3.383553679606934e-06\n",
      "MagpieData maximum NValence 2.944211715494868e-06\n",
      "MagpieData mode MendeleevNumber 2.889631819714074e-06\n",
      "MagpieData avg_dev AtomicWeight 1.0545687061145138e-06\n",
      "MagpieData mean NdUnfilled 9.716976343729537e-07\n",
      "MagpieData mean NsUnfilled 0.0\n",
      "MagpieData avg_dev GSbandgap 0.0\n",
      "MagpieData maximum GSvolume_pa 0.0\n",
      "MagpieData mode GSvolume_pa 0.0\n",
      "MagpieData minimum NfValence 0.0\n"
     ]
    }
   ],
   "source": [
    "for i in inds[::-1]:\n",
    "    print(feature_labels[i], regr_importances[i])"
   ]
  },
  {
   "cell_type": "markdown",
   "id": "929788ad",
   "metadata": {},
   "source": [
    "# Check error as function of num. points"
   ]
  },
  {
   "cell_type": "code",
   "execution_count": 18,
   "id": "31d97603",
   "metadata": {},
   "outputs": [],
   "source": [
    "all_maes = []\n",
    "all_rmses = []\n",
    "all_r2 = []\n",
    "min_num_pts = [i for i in range(1, 6)]\n",
    "for i in min_num_pts:\n",
    "    X_test_subset = []\n",
    "    y_test_subset = []\n",
    "    for ind in range(len(num_pts_test)):\n",
    "        if num_pts_test[ind] >= i:\n",
    "            X_test_subset.append(X_test[ind])\n",
    "            y_test_subset.append(y_test[ind])\n",
    "    y_pred_subset = regr.predict(X_test_subset)\n",
    "    all_maes.append(mean_absolute_error(y_test_subset, y_pred_subset))\n",
    "    all_rmses.append(mean_squared_error(y_test_subset, y_pred_subset, squared=False))\n",
    "    all_r2.append(r2_score(y_test_subset, y_pred_subset))\n",
    "    "
   ]
  },
  {
   "cell_type": "code",
   "execution_count": 19,
   "id": "01a1ffb3",
   "metadata": {},
   "outputs": [
    {
     "data": {
      "text/plain": [
       "1     950\n",
       "2     141\n",
       "3      30\n",
       "4      18\n",
       "6       9\n",
       "5       7\n",
       "7       4\n",
       "12      2\n",
       "8       2\n",
       "28      1\n",
       "18      1\n",
       "16      1\n",
       "15      1\n",
       "11      1\n",
       "10      1\n",
       "9       1\n",
       "dtype: int64"
      ]
     },
     "execution_count": 19,
     "metadata": {},
     "output_type": "execute_result"
    }
   ],
   "source": [
    "pd.Series(num_pts_test).value_counts()"
   ]
  },
  {
   "cell_type": "code",
   "execution_count": 20,
   "id": "2a31b0fa",
   "metadata": {},
   "outputs": [
    {
     "data": {
      "image/png": "[encoded data removed]",
      "text/plain": [
       "<Figure size 432x288 with 1 Axes>"
      ]
     },
     "metadata": {
      "needs_background": "light"
     },
     "output_type": "display_data"
    }
   ],
   "source": [
    "fig, ax = plt.subplots()\n",
    "# plt.plot(num_pts, maes_2, marker='o')\n",
    "plt.plot(min_num_pts, all_maes, marker='o')\n",
    "ax.set_xlabel(\"Minimum number of literature data points\", fontsize=14)\n",
    "ax.set_ylabel(\"Mean Absolute Error ($^{\\circ}$C)\", fontsize=14)\n",
    "ax.set_xticks(min_num_pts)\n",
    "plt.xticks(fontsize=14)\n",
    "plt.yticks(fontsize=14)\n",
    "# ax.legend([\"Calcine\", \"Sinter\"])\n",
    "ax.legend([\"Sinter\"])\n",
    "fig.tight_layout()\n",
    "# fig.savefig(\"/home/jupyter/CJK/CVAE/ceder_imputed/all_targets/neurips_paper/figures/ss_mae_num_examples.png\", dpi=200)"
   ]
  },
  {
   "cell_type": "code",
   "execution_count": 21,
   "id": "04d9fcbd",
   "metadata": {},
   "outputs": [
    {
     "data": {
      "image/png": "[encoded data removed]",
      "text/plain": [
       "<Figure size 432x288 with 1 Axes>"
      ]
     },
     "metadata": {
      "needs_background": "light"
     },
     "output_type": "display_data"
    }
   ],
   "source": [
    "fig, ax = plt.subplots()\n",
    "# plt.plot(num_pts, maes_2, marker='o')\n",
    "plt.plot(min_num_pts, all_rmses, marker='o')\n",
    "ax.set_xlabel(\"Minimum number of literature data points\", fontsize=14)\n",
    "ax.set_ylabel(\"Root Mean Square Error ($^{\\circ}$C)\", fontsize=14)\n",
    "ax.set_xticks(min_num_pts)\n",
    "plt.xticks(fontsize=14)\n",
    "plt.yticks(fontsize=14)\n",
    "# ax.legend([\"Calcine\", \"Sinter\"])\n",
    "ax.legend([\"Sinter\"])\n",
    "fig.tight_layout()\n",
    "# fig.savefig(\"/home/jupyter/CJK/CVAE/ceder_imputed/all_targets/neurips_paper/figures/ss_mae_num_examples.png\", dpi=200)"
   ]
  },
  {
   "cell_type": "code",
   "execution_count": 22,
   "id": "a39147bd",
   "metadata": {},
   "outputs": [
    {
     "data": {
      "image/png": "[encoded data removed]",
      "text/plain": [
       "<Figure size 432x288 with 1 Axes>"
      ]
     },
     "metadata": {
      "needs_background": "light"
     },
     "output_type": "display_data"
    }
   ],
   "source": [
    "fig, ax = plt.subplots()\n",
    "# plt.plot(num_pts, r2s_2, marker='o')\n",
    "plt.plot(min_num_pts, all_r2, marker='o')\n",
    "ax.set_xlabel(\"Minimum number of literature data points\", fontsize=14)\n",
    "ax.set_ylabel(\"Coefficient of Determination ($R^{2}$)\", fontsize=14)\n",
    "ax.set_xticks(min_num_pts)\n",
    "plt.xticks(fontsize=14)\n",
    "plt.yticks(fontsize=14)\n",
    "# ax.legend([\"Calcine\", \"Sinter\"])\n",
    "ax.legend([\"Sinter\"])\n",
    "fig.tight_layout()\n",
    "# fig.savefig(\"/home/jupyter/CJK/CVAE/ceder_imputed/all_targets/neurips_paper/figures/ss_r2_num_examples.png\", dpi=200)"
   ]
  },
  {
   "cell_type": "code",
   "execution_count": 23,
   "id": "9377adda",
   "metadata": {},
   "outputs": [
    {
     "name": "stdout",
     "output_type": "stream",
     "text": [
      "49\n"
     ]
    },
    {
     "data": {
      "image/png": "[encoded data removed]",
      "text/plain": [
       "<Figure size 600x400 with 1 Axes>"
      ]
     },
     "metadata": {
      "needs_background": "light"
     },
     "output_type": "display_data"
    }
   ],
   "source": [
    "fig, ax = plt.subplots(dpi=100)\n",
    "idx = [x for x in range(len(num_pts_test)) if num_pts_test[x] >= 4]\n",
    "print(len(idx))\n",
    "to_plot_test, to_plot_pred = [], []\n",
    "for i in idx:\n",
    "    to_plot_test.append(y_test[i])\n",
    "    to_plot_pred.append(y_pred[i])\n",
    "ax.scatter(to_plot_test, to_plot_pred, alpha=0.5, label=\"Test\")\n",
    "ax.set_xlabel('Measured')\n",
    "ax.set_ylabel('Predicted')\n",
    "ax.legend()\n",
    "ax.plot([0, 2000], [0, 2000], \"k-\", lw=2)\n",
    "ax.set_xlim([0, 2000])\n",
    "ax.set_ylim([0, 2000])\n",
    "plt.show()"
   ]
  },
  {
   "cell_type": "code",
   "execution_count": null,
   "id": "e1b2ff37",
   "metadata": {},
   "outputs": [],
   "source": []
  }
 ],
 "metadata": {
  "interpreter": {
   "hash": "e6d2b32f475c48f219bb55df2a9784c10ed8d79dedcc9672ac1136e5c92900ae"
  },
  "kernelspec": {
   "display_name": "syn_gen",
   "language": "python",
   "name": "python3"
  },
  "language_info": {
   "codemirror_mode": {
    "name": "ipython",
    "version": 3
   },
   "file_extension": ".py",
   "mimetype": "text/x-python",
   "name": "python",
   "nbconvert_exporter": "python",
   "pygments_lexer": "ipython3",
   "version": "3.7.3"
  }
 },
 "nbformat": 4,
 "nbformat_minor": 5
}
